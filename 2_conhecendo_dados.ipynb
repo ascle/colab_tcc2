{
  "nbformat": 4,
  "nbformat_minor": 0,
  "metadata": {
    "colab": {
      "provenance": [],
      "collapsed_sections": [
        "zjaLI9_UG4q7",
        "uLyE0mBXHZb3",
        "akeg0kSiR09w",
        "F8kjRaQeSNg8",
        "OziAOXxn0cLw",
        "U1THhm4b0vMa",
        "Khd28BLr08VH",
        "9-j3B3Xe6jHH",
        "x9OM1zeI2Au6",
        "Sfvg0eom64Hk"
      ],
      "authorship_tag": "ABX9TyMYlSuI8XKJASzgUHOlPOC7",
      "include_colab_link": true
    },
    "kernelspec": {
      "name": "python3",
      "display_name": "Python 3"
    },
    "language_info": {
      "name": "python"
    }
  },
  "cells": [
    {
      "cell_type": "markdown",
      "metadata": {
        "id": "view-in-github",
        "colab_type": "text"
      },
      "source": [
        "<a href=\"https://colab.research.google.com/github/ascle/colab_tcc2/blob/dev/2_conhecendo_dados.ipynb\" target=\"_parent\"><img src=\"https://colab.research.google.com/assets/colab-badge.svg\" alt=\"Open In Colab\"/></a>"
      ]
    },
    {
      "cell_type": "markdown",
      "source": [
        "# <font color=green>1 - Conhecendo os dados</font>\n",
        "***"
      ],
      "metadata": {
        "id": "gOFqKci126Ro"
      }
    },
    {
      "cell_type": "markdown",
      "source": [
        "### Conectando no ambiente que será utilizado"
      ],
      "metadata": {
        "id": "gI6FhvTn81XA"
      }
    },
    {
      "cell_type": "markdown",
      "source": [
        "Importação através o upload do arquivo"
      ],
      "metadata": {
        "id": "ZPPuOgjkU_Qc"
      }
    },
    {
      "cell_type": "code",
      "source": [
        "#import pandas as pd\n",
        "#dados = pd.read_csv('dn.csv')\n",
        "#dados.head()"
      ],
      "metadata": {
        "id": "gkr5U49wDwY9"
      },
      "execution_count": null,
      "outputs": []
    },
    {
      "cell_type": "markdown",
      "source": [
        "Importação através do Google Drive"
      ],
      "metadata": {
        "id": "85nEbFjHVJTe"
      }
    },
    {
      "cell_type": "code",
      "source": [
        "from google.colab import drive\n",
        "from os import chdir\n",
        "\n",
        "import pandas as pd\n",
        "import numpy as np\n",
        "from pandas.api.types import is_numeric_dtype\n",
        "\n",
        "drive.mount('/content/drive', force_remount=True)\n",
        "chdir('/content/drive/MyDrive/UFS/tcc-2-ascle-ufs/bases/linkage_marco/')"
      ],
      "metadata": {
        "colab": {
          "base_uri": "https://localhost:8080/"
        },
        "id": "a2C69Hwq2nSk",
        "outputId": "c223e53f-611f-45c0-884f-c9f610a9aa6a"
      },
      "execution_count": 1,
      "outputs": [
        {
          "output_type": "stream",
          "name": "stdout",
          "text": [
            "Mounted at /content/drive\n"
          ]
        }
      ]
    },
    {
      "cell_type": "markdown",
      "source": [
        "Outras configurações"
      ],
      "metadata": {
        "id": "rmLwlJ0oT1bm"
      }
    },
    {
      "cell_type": "code",
      "source": [
        "!pip install ipython-autotime\n",
        "pd.set_option('display.max_columns', None)\n",
        "%load_ext autotime\n",
        "\n",
        "SEED = 7\n",
        "np.random.seed(SEED)"
      ],
      "metadata": {
        "id": "AZdg5JAFT3SI"
      },
      "execution_count": null,
      "outputs": []
    },
    {
      "cell_type": "markdown",
      "source": [
        "### Importando pandas e lendo o dataset do projeto\n",
        "\n",
        "https://pandas.pydata.org/"
      ],
      "metadata": {
        "id": "FgXFbg_NDmHJ"
      }
    },
    {
      "cell_type": "code",
      "source": [
        "dados = pd.read_csv('dn.csv')\n",
        "dados.sort_index(axis=1, inplace=True)\n",
        "dados.head()"
      ],
      "metadata": {
        "colab": {
          "base_uri": "https://localhost:8080/",
          "height": 244
        },
        "id": "s3hIhNYx4hrn",
        "outputId": "857d5b5b-c33d-4047-f260-e734d05cc952"
      },
      "execution_count": 3,
      "outputs": [
        {
          "output_type": "execute_result",
          "data": {
            "text/plain": [
              "    ANO  APGAR1  APGAR5 CODANOMAL  CONSPRENAT CONSULTAS      ESCMAE  \\\n",
              "0  2015     NaN     NaN       NaN         NaN  7_e_mais     Nenhuma   \n",
              "1  2015     NaN     NaN       NaN         NaN  de_4_a_6  4_a_7_anos   \n",
              "2  2016     NaN     NaN       NaN         NaN  7_e_mais  1_a_3_anos   \n",
              "3  2015     8.0     9.0       NaN         8.0  7_e_mais    Ignorado   \n",
              "4  2015     2.0     4.0       NaN         5.0  de_4_a_6     Nenhuma   \n",
              "\n",
              "         ESCMAE2010        ESCMAEAGR1 ESTCIVMAE         GESTACAO GRAVIDEZ  \\\n",
              "0               NaN               NaN    Casada  37_a_41_semanas    Unica   \n",
              "1               NaN               NaN    Casada  32_a_36_semanas    Unica   \n",
              "2               NaN               NaN    Casada  37_a_41_semanas    Unica   \n",
              "3          Ignorado          Ignorado  Ignorado  37_a_41_semanas    Unica   \n",
              "4  Sem_escolaridade  Sem_Escolaridade  Solteira  22_a_27_semanas    Unica   \n",
              "\n",
              "   IDADEMAE  IDADEPAI  IDADE_OBT IDANOMAL    LOCNASC OBT_NEONATAL    PARTO  \\\n",
              "0        37       NaN        NaN      Nao  Domicilio          Nao  Cesareo   \n",
              "1        24       NaN        NaN      Nao  Domicilio          Nao  Cesareo   \n",
              "2        30       NaN        NaN      Nao  Domicilio          Nao  Cesareo   \n",
              "3        20       NaN        NaN      Nao  Domicilio          Nao  Cesareo   \n",
              "4        28       NaN      327.0      Nao   Hospital          Nao  Cesareo   \n",
              "\n",
              "     PESO  QTDFILMORT  QTDFILVIVO  QTDGESTANT  QTDPARTCES  QTDPARTNOR  \\\n",
              "0  3000.0         0.0         7.0         NaN         NaN         NaN   \n",
              "1     NaN         0.0         4.0         NaN         NaN         NaN   \n",
              "2  2800.0         NaN         6.0         NaN         NaN         NaN   \n",
              "3  3500.0         0.0         2.0         2.0         0.0         2.0   \n",
              "4   820.0         1.0         2.0         3.0         NaN         3.0   \n",
              "\n",
              "   RACACORMAE  SEMAGESTAC  SEM_NOME  SERIESCMAE       SEXO STCESPARTO  \\\n",
              "0         NaN         NaN       781         NaN   Feminino        NaN   \n",
              "1         NaN         NaN    170214         NaN   Feminino        NaN   \n",
              "2         NaN         NaN    172507         NaN   Feminino        NaN   \n",
              "3         2.0        37.0    188964         NaN  Masculino        NaN   \n",
              "4         2.0        26.0    188965         NaN  Masculino        NaN   \n",
              "\n",
              "  STDNNOVA STTRABPART TPAPRESENT TPDOCRESP  TPFUNCRESP    TPMETESTIM  \\\n",
              "0      Nao        NaN        NaN       NaN         NaN           NaN   \n",
              "1      Nao        NaN        NaN       NaN         NaN           NaN   \n",
              "2      Nao        NaN        NaN       NaN         NaN           NaN   \n",
              "3      Sim        Nao   Ignorado       CPF      Medico           NaN   \n",
              "4      Sim        Nao   Cefalico     COREN  Enfermeiro  Exame_fisico   \n",
              "\n",
              "             TPNASCASSI  \n",
              "0                   NaN  \n",
              "1                   NaN  \n",
              "2                   NaN  \n",
              "3                Outros  \n",
              "4  Enfermeira/obstetriz  "
            ],
            "text/html": [
              "\n",
              "  <div id=\"df-787f166b-3056-4d45-9436-d039d7da7a41\" class=\"colab-df-container\">\n",
              "    <div>\n",
              "<style scoped>\n",
              "    .dataframe tbody tr th:only-of-type {\n",
              "        vertical-align: middle;\n",
              "    }\n",
              "\n",
              "    .dataframe tbody tr th {\n",
              "        vertical-align: top;\n",
              "    }\n",
              "\n",
              "    .dataframe thead th {\n",
              "        text-align: right;\n",
              "    }\n",
              "</style>\n",
              "<table border=\"1\" class=\"dataframe\">\n",
              "  <thead>\n",
              "    <tr style=\"text-align: right;\">\n",
              "      <th></th>\n",
              "      <th>ANO</th>\n",
              "      <th>APGAR1</th>\n",
              "      <th>APGAR5</th>\n",
              "      <th>CODANOMAL</th>\n",
              "      <th>CONSPRENAT</th>\n",
              "      <th>CONSULTAS</th>\n",
              "      <th>ESCMAE</th>\n",
              "      <th>ESCMAE2010</th>\n",
              "      <th>ESCMAEAGR1</th>\n",
              "      <th>ESTCIVMAE</th>\n",
              "      <th>GESTACAO</th>\n",
              "      <th>GRAVIDEZ</th>\n",
              "      <th>IDADEMAE</th>\n",
              "      <th>IDADEPAI</th>\n",
              "      <th>IDADE_OBT</th>\n",
              "      <th>IDANOMAL</th>\n",
              "      <th>LOCNASC</th>\n",
              "      <th>OBT_NEONATAL</th>\n",
              "      <th>PARTO</th>\n",
              "      <th>PESO</th>\n",
              "      <th>QTDFILMORT</th>\n",
              "      <th>QTDFILVIVO</th>\n",
              "      <th>QTDGESTANT</th>\n",
              "      <th>QTDPARTCES</th>\n",
              "      <th>QTDPARTNOR</th>\n",
              "      <th>RACACORMAE</th>\n",
              "      <th>SEMAGESTAC</th>\n",
              "      <th>SEM_NOME</th>\n",
              "      <th>SERIESCMAE</th>\n",
              "      <th>SEXO</th>\n",
              "      <th>STCESPARTO</th>\n",
              "      <th>STDNNOVA</th>\n",
              "      <th>STTRABPART</th>\n",
              "      <th>TPAPRESENT</th>\n",
              "      <th>TPDOCRESP</th>\n",
              "      <th>TPFUNCRESP</th>\n",
              "      <th>TPMETESTIM</th>\n",
              "      <th>TPNASCASSI</th>\n",
              "    </tr>\n",
              "  </thead>\n",
              "  <tbody>\n",
              "    <tr>\n",
              "      <th>0</th>\n",
              "      <td>2015</td>\n",
              "      <td>NaN</td>\n",
              "      <td>NaN</td>\n",
              "      <td>NaN</td>\n",
              "      <td>NaN</td>\n",
              "      <td>7_e_mais</td>\n",
              "      <td>Nenhuma</td>\n",
              "      <td>NaN</td>\n",
              "      <td>NaN</td>\n",
              "      <td>Casada</td>\n",
              "      <td>37_a_41_semanas</td>\n",
              "      <td>Unica</td>\n",
              "      <td>37</td>\n",
              "      <td>NaN</td>\n",
              "      <td>NaN</td>\n",
              "      <td>Nao</td>\n",
              "      <td>Domicilio</td>\n",
              "      <td>Nao</td>\n",
              "      <td>Cesareo</td>\n",
              "      <td>3000.0</td>\n",
              "      <td>0.0</td>\n",
              "      <td>7.0</td>\n",
              "      <td>NaN</td>\n",
              "      <td>NaN</td>\n",
              "      <td>NaN</td>\n",
              "      <td>NaN</td>\n",
              "      <td>NaN</td>\n",
              "      <td>781</td>\n",
              "      <td>NaN</td>\n",
              "      <td>Feminino</td>\n",
              "      <td>NaN</td>\n",
              "      <td>Nao</td>\n",
              "      <td>NaN</td>\n",
              "      <td>NaN</td>\n",
              "      <td>NaN</td>\n",
              "      <td>NaN</td>\n",
              "      <td>NaN</td>\n",
              "      <td>NaN</td>\n",
              "    </tr>\n",
              "    <tr>\n",
              "      <th>1</th>\n",
              "      <td>2015</td>\n",
              "      <td>NaN</td>\n",
              "      <td>NaN</td>\n",
              "      <td>NaN</td>\n",
              "      <td>NaN</td>\n",
              "      <td>de_4_a_6</td>\n",
              "      <td>4_a_7_anos</td>\n",
              "      <td>NaN</td>\n",
              "      <td>NaN</td>\n",
              "      <td>Casada</td>\n",
              "      <td>32_a_36_semanas</td>\n",
              "      <td>Unica</td>\n",
              "      <td>24</td>\n",
              "      <td>NaN</td>\n",
              "      <td>NaN</td>\n",
              "      <td>Nao</td>\n",
              "      <td>Domicilio</td>\n",
              "      <td>Nao</td>\n",
              "      <td>Cesareo</td>\n",
              "      <td>NaN</td>\n",
              "      <td>0.0</td>\n",
              "      <td>4.0</td>\n",
              "      <td>NaN</td>\n",
              "      <td>NaN</td>\n",
              "      <td>NaN</td>\n",
              "      <td>NaN</td>\n",
              "      <td>NaN</td>\n",
              "      <td>170214</td>\n",
              "      <td>NaN</td>\n",
              "      <td>Feminino</td>\n",
              "      <td>NaN</td>\n",
              "      <td>Nao</td>\n",
              "      <td>NaN</td>\n",
              "      <td>NaN</td>\n",
              "      <td>NaN</td>\n",
              "      <td>NaN</td>\n",
              "      <td>NaN</td>\n",
              "      <td>NaN</td>\n",
              "    </tr>\n",
              "    <tr>\n",
              "      <th>2</th>\n",
              "      <td>2016</td>\n",
              "      <td>NaN</td>\n",
              "      <td>NaN</td>\n",
              "      <td>NaN</td>\n",
              "      <td>NaN</td>\n",
              "      <td>7_e_mais</td>\n",
              "      <td>1_a_3_anos</td>\n",
              "      <td>NaN</td>\n",
              "      <td>NaN</td>\n",
              "      <td>Casada</td>\n",
              "      <td>37_a_41_semanas</td>\n",
              "      <td>Unica</td>\n",
              "      <td>30</td>\n",
              "      <td>NaN</td>\n",
              "      <td>NaN</td>\n",
              "      <td>Nao</td>\n",
              "      <td>Domicilio</td>\n",
              "      <td>Nao</td>\n",
              "      <td>Cesareo</td>\n",
              "      <td>2800.0</td>\n",
              "      <td>NaN</td>\n",
              "      <td>6.0</td>\n",
              "      <td>NaN</td>\n",
              "      <td>NaN</td>\n",
              "      <td>NaN</td>\n",
              "      <td>NaN</td>\n",
              "      <td>NaN</td>\n",
              "      <td>172507</td>\n",
              "      <td>NaN</td>\n",
              "      <td>Feminino</td>\n",
              "      <td>NaN</td>\n",
              "      <td>Nao</td>\n",
              "      <td>NaN</td>\n",
              "      <td>NaN</td>\n",
              "      <td>NaN</td>\n",
              "      <td>NaN</td>\n",
              "      <td>NaN</td>\n",
              "      <td>NaN</td>\n",
              "    </tr>\n",
              "    <tr>\n",
              "      <th>3</th>\n",
              "      <td>2015</td>\n",
              "      <td>8.0</td>\n",
              "      <td>9.0</td>\n",
              "      <td>NaN</td>\n",
              "      <td>8.0</td>\n",
              "      <td>7_e_mais</td>\n",
              "      <td>Ignorado</td>\n",
              "      <td>Ignorado</td>\n",
              "      <td>Ignorado</td>\n",
              "      <td>Ignorado</td>\n",
              "      <td>37_a_41_semanas</td>\n",
              "      <td>Unica</td>\n",
              "      <td>20</td>\n",
              "      <td>NaN</td>\n",
              "      <td>NaN</td>\n",
              "      <td>Nao</td>\n",
              "      <td>Domicilio</td>\n",
              "      <td>Nao</td>\n",
              "      <td>Cesareo</td>\n",
              "      <td>3500.0</td>\n",
              "      <td>0.0</td>\n",
              "      <td>2.0</td>\n",
              "      <td>2.0</td>\n",
              "      <td>0.0</td>\n",
              "      <td>2.0</td>\n",
              "      <td>2.0</td>\n",
              "      <td>37.0</td>\n",
              "      <td>188964</td>\n",
              "      <td>NaN</td>\n",
              "      <td>Masculino</td>\n",
              "      <td>NaN</td>\n",
              "      <td>Sim</td>\n",
              "      <td>Nao</td>\n",
              "      <td>Ignorado</td>\n",
              "      <td>CPF</td>\n",
              "      <td>Medico</td>\n",
              "      <td>NaN</td>\n",
              "      <td>Outros</td>\n",
              "    </tr>\n",
              "    <tr>\n",
              "      <th>4</th>\n",
              "      <td>2015</td>\n",
              "      <td>2.0</td>\n",
              "      <td>4.0</td>\n",
              "      <td>NaN</td>\n",
              "      <td>5.0</td>\n",
              "      <td>de_4_a_6</td>\n",
              "      <td>Nenhuma</td>\n",
              "      <td>Sem_escolaridade</td>\n",
              "      <td>Sem_Escolaridade</td>\n",
              "      <td>Solteira</td>\n",
              "      <td>22_a_27_semanas</td>\n",
              "      <td>Unica</td>\n",
              "      <td>28</td>\n",
              "      <td>NaN</td>\n",
              "      <td>327.0</td>\n",
              "      <td>Nao</td>\n",
              "      <td>Hospital</td>\n",
              "      <td>Nao</td>\n",
              "      <td>Cesareo</td>\n",
              "      <td>820.0</td>\n",
              "      <td>1.0</td>\n",
              "      <td>2.0</td>\n",
              "      <td>3.0</td>\n",
              "      <td>NaN</td>\n",
              "      <td>3.0</td>\n",
              "      <td>2.0</td>\n",
              "      <td>26.0</td>\n",
              "      <td>188965</td>\n",
              "      <td>NaN</td>\n",
              "      <td>Masculino</td>\n",
              "      <td>NaN</td>\n",
              "      <td>Sim</td>\n",
              "      <td>Nao</td>\n",
              "      <td>Cefalico</td>\n",
              "      <td>COREN</td>\n",
              "      <td>Enfermeiro</td>\n",
              "      <td>Exame_fisico</td>\n",
              "      <td>Enfermeira/obstetriz</td>\n",
              "    </tr>\n",
              "  </tbody>\n",
              "</table>\n",
              "</div>\n",
              "    <div class=\"colab-df-buttons\">\n",
              "\n",
              "  <div class=\"colab-df-container\">\n",
              "    <button class=\"colab-df-convert\" onclick=\"convertToInteractive('df-787f166b-3056-4d45-9436-d039d7da7a41')\"\n",
              "            title=\"Convert this dataframe to an interactive table.\"\n",
              "            style=\"display:none;\">\n",
              "\n",
              "  <svg xmlns=\"http://www.w3.org/2000/svg\" height=\"24px\" viewBox=\"0 -960 960 960\">\n",
              "    <path d=\"M120-120v-720h720v720H120Zm60-500h600v-160H180v160Zm220 220h160v-160H400v160Zm0 220h160v-160H400v160ZM180-400h160v-160H180v160Zm440 0h160v-160H620v160ZM180-180h160v-160H180v160Zm440 0h160v-160H620v160Z\"/>\n",
              "  </svg>\n",
              "    </button>\n",
              "\n",
              "  <style>\n",
              "    .colab-df-container {\n",
              "      display:flex;\n",
              "      gap: 12px;\n",
              "    }\n",
              "\n",
              "    .colab-df-convert {\n",
              "      background-color: #E8F0FE;\n",
              "      border: none;\n",
              "      border-radius: 50%;\n",
              "      cursor: pointer;\n",
              "      display: none;\n",
              "      fill: #1967D2;\n",
              "      height: 32px;\n",
              "      padding: 0 0 0 0;\n",
              "      width: 32px;\n",
              "    }\n",
              "\n",
              "    .colab-df-convert:hover {\n",
              "      background-color: #E2EBFA;\n",
              "      box-shadow: 0px 1px 2px rgba(60, 64, 67, 0.3), 0px 1px 3px 1px rgba(60, 64, 67, 0.15);\n",
              "      fill: #174EA6;\n",
              "    }\n",
              "\n",
              "    .colab-df-buttons div {\n",
              "      margin-bottom: 4px;\n",
              "    }\n",
              "\n",
              "    [theme=dark] .colab-df-convert {\n",
              "      background-color: #3B4455;\n",
              "      fill: #D2E3FC;\n",
              "    }\n",
              "\n",
              "    [theme=dark] .colab-df-convert:hover {\n",
              "      background-color: #434B5C;\n",
              "      box-shadow: 0px 1px 3px 1px rgba(0, 0, 0, 0.15);\n",
              "      filter: drop-shadow(0px 1px 2px rgba(0, 0, 0, 0.3));\n",
              "      fill: #FFFFFF;\n",
              "    }\n",
              "  </style>\n",
              "\n",
              "    <script>\n",
              "      const buttonEl =\n",
              "        document.querySelector('#df-787f166b-3056-4d45-9436-d039d7da7a41 button.colab-df-convert');\n",
              "      buttonEl.style.display =\n",
              "        google.colab.kernel.accessAllowed ? 'block' : 'none';\n",
              "\n",
              "      async function convertToInteractive(key) {\n",
              "        const element = document.querySelector('#df-787f166b-3056-4d45-9436-d039d7da7a41');\n",
              "        const dataTable =\n",
              "          await google.colab.kernel.invokeFunction('convertToInteractive',\n",
              "                                                    [key], {});\n",
              "        if (!dataTable) return;\n",
              "\n",
              "        const docLinkHtml = 'Like what you see? Visit the ' +\n",
              "          '<a target=\"_blank\" href=https://colab.research.google.com/notebooks/data_table.ipynb>data table notebook</a>'\n",
              "          + ' to learn more about interactive tables.';\n",
              "        element.innerHTML = '';\n",
              "        dataTable['output_type'] = 'display_data';\n",
              "        await google.colab.output.renderOutput(dataTable, element);\n",
              "        const docLink = document.createElement('div');\n",
              "        docLink.innerHTML = docLinkHtml;\n",
              "        element.appendChild(docLink);\n",
              "      }\n",
              "    </script>\n",
              "  </div>\n",
              "\n",
              "\n",
              "<div id=\"df-ba9c1cc6-d64d-47bb-8f2f-0789aad86057\">\n",
              "  <button class=\"colab-df-quickchart\" onclick=\"quickchart('df-ba9c1cc6-d64d-47bb-8f2f-0789aad86057')\"\n",
              "            title=\"Suggest charts.\"\n",
              "            style=\"display:none;\">\n",
              "\n",
              "<svg xmlns=\"http://www.w3.org/2000/svg\" height=\"24px\"viewBox=\"0 0 24 24\"\n",
              "     width=\"24px\">\n",
              "    <g>\n",
              "        <path d=\"M19 3H5c-1.1 0-2 .9-2 2v14c0 1.1.9 2 2 2h14c1.1 0 2-.9 2-2V5c0-1.1-.9-2-2-2zM9 17H7v-7h2v7zm4 0h-2V7h2v10zm4 0h-2v-4h2v4z\"/>\n",
              "    </g>\n",
              "</svg>\n",
              "  </button>\n",
              "\n",
              "<style>\n",
              "  .colab-df-quickchart {\n",
              "      --bg-color: #E8F0FE;\n",
              "      --fill-color: #1967D2;\n",
              "      --hover-bg-color: #E2EBFA;\n",
              "      --hover-fill-color: #174EA6;\n",
              "      --disabled-fill-color: #AAA;\n",
              "      --disabled-bg-color: #DDD;\n",
              "  }\n",
              "\n",
              "  [theme=dark] .colab-df-quickchart {\n",
              "      --bg-color: #3B4455;\n",
              "      --fill-color: #D2E3FC;\n",
              "      --hover-bg-color: #434B5C;\n",
              "      --hover-fill-color: #FFFFFF;\n",
              "      --disabled-bg-color: #3B4455;\n",
              "      --disabled-fill-color: #666;\n",
              "  }\n",
              "\n",
              "  .colab-df-quickchart {\n",
              "    background-color: var(--bg-color);\n",
              "    border: none;\n",
              "    border-radius: 50%;\n",
              "    cursor: pointer;\n",
              "    display: none;\n",
              "    fill: var(--fill-color);\n",
              "    height: 32px;\n",
              "    padding: 0;\n",
              "    width: 32px;\n",
              "  }\n",
              "\n",
              "  .colab-df-quickchart:hover {\n",
              "    background-color: var(--hover-bg-color);\n",
              "    box-shadow: 0 1px 2px rgba(60, 64, 67, 0.3), 0 1px 3px 1px rgba(60, 64, 67, 0.15);\n",
              "    fill: var(--button-hover-fill-color);\n",
              "  }\n",
              "\n",
              "  .colab-df-quickchart-complete:disabled,\n",
              "  .colab-df-quickchart-complete:disabled:hover {\n",
              "    background-color: var(--disabled-bg-color);\n",
              "    fill: var(--disabled-fill-color);\n",
              "    box-shadow: none;\n",
              "  }\n",
              "\n",
              "  .colab-df-spinner {\n",
              "    border: 2px solid var(--fill-color);\n",
              "    border-color: transparent;\n",
              "    border-bottom-color: var(--fill-color);\n",
              "    animation:\n",
              "      spin 1s steps(1) infinite;\n",
              "  }\n",
              "\n",
              "  @keyframes spin {\n",
              "    0% {\n",
              "      border-color: transparent;\n",
              "      border-bottom-color: var(--fill-color);\n",
              "      border-left-color: var(--fill-color);\n",
              "    }\n",
              "    20% {\n",
              "      border-color: transparent;\n",
              "      border-left-color: var(--fill-color);\n",
              "      border-top-color: var(--fill-color);\n",
              "    }\n",
              "    30% {\n",
              "      border-color: transparent;\n",
              "      border-left-color: var(--fill-color);\n",
              "      border-top-color: var(--fill-color);\n",
              "      border-right-color: var(--fill-color);\n",
              "    }\n",
              "    40% {\n",
              "      border-color: transparent;\n",
              "      border-right-color: var(--fill-color);\n",
              "      border-top-color: var(--fill-color);\n",
              "    }\n",
              "    60% {\n",
              "      border-color: transparent;\n",
              "      border-right-color: var(--fill-color);\n",
              "    }\n",
              "    80% {\n",
              "      border-color: transparent;\n",
              "      border-right-color: var(--fill-color);\n",
              "      border-bottom-color: var(--fill-color);\n",
              "    }\n",
              "    90% {\n",
              "      border-color: transparent;\n",
              "      border-bottom-color: var(--fill-color);\n",
              "    }\n",
              "  }\n",
              "</style>\n",
              "\n",
              "  <script>\n",
              "    async function quickchart(key) {\n",
              "      const quickchartButtonEl =\n",
              "        document.querySelector('#' + key + ' button');\n",
              "      quickchartButtonEl.disabled = true;  // To prevent multiple clicks.\n",
              "      quickchartButtonEl.classList.add('colab-df-spinner');\n",
              "      try {\n",
              "        const charts = await google.colab.kernel.invokeFunction(\n",
              "            'suggestCharts', [key], {});\n",
              "      } catch (error) {\n",
              "        console.error('Error during call to suggestCharts:', error);\n",
              "      }\n",
              "      quickchartButtonEl.classList.remove('colab-df-spinner');\n",
              "      quickchartButtonEl.classList.add('colab-df-quickchart-complete');\n",
              "    }\n",
              "    (() => {\n",
              "      let quickchartButtonEl =\n",
              "        document.querySelector('#df-ba9c1cc6-d64d-47bb-8f2f-0789aad86057 button');\n",
              "      quickchartButtonEl.style.display =\n",
              "        google.colab.kernel.accessAllowed ? 'block' : 'none';\n",
              "    })();\n",
              "  </script>\n",
              "</div>\n",
              "    </div>\n",
              "  </div>\n"
            ]
          },
          "metadata": {},
          "execution_count": 3
        },
        {
          "output_type": "stream",
          "name": "stdout",
          "text": [
            "time: 2.98 s (started: 2023-09-07 11:23:56 +00:00)\n"
          ]
        }
      ]
    },
    {
      "cell_type": "markdown",
      "source": [
        "## <font color=green>1.1 - Dataset do Projeto</font>\n",
        "***\n",
        "\n",
        "Adicionar texto falando sobre o dataset..."
      ],
      "metadata": {
        "id": "dr6KWs_I3K0s"
      }
    },
    {
      "cell_type": "markdown",
      "source": [
        "### Fonte dos Dados\n",
        "\n",
        "Base de dados fornecida pelo Professor Marco..."
      ],
      "metadata": {
        "id": "3V573nSh3lYx"
      }
    },
    {
      "cell_type": "markdown",
      "source": [
        "### Informações gerais sobre a base de dados"
      ],
      "metadata": {
        "id": "NJZJ-jdlRS49"
      }
    },
    {
      "cell_type": "code",
      "source": [
        "print('A base de dados apresenta {} registros  e {} variáveis'.format(dados.shape[0], dados.shape[1]))"
      ],
      "metadata": {
        "colab": {
          "base_uri": "https://localhost:8080/"
        },
        "id": "SyLxXeZxRA8i",
        "outputId": "34c85e01-5851-4160-d6da-0d747ae150aa"
      },
      "execution_count": 4,
      "outputs": [
        {
          "output_type": "stream",
          "name": "stdout",
          "text": [
            "A base de dados apresenta 199772 registros  e 38 variáveis\n",
            "time: 771 µs (started: 2023-09-07 11:24:07 +00:00)\n"
          ]
        }
      ]
    },
    {
      "cell_type": "code",
      "source": [
        "tipos_de_dados = pd.DataFrame(dados.dtypes, columns=['Tipos de dados'])\n",
        "tipos_de_dados.columns.name = 'Variável'\n",
        "\n",
        "# Possui Nan\n",
        "tipos_de_dados['ddd'] = tipos_de_dados.index\n",
        "\n",
        "# Tipo de variável\n",
        "tipos_de_dados['Tipo de variavel'] = tipos_de_dados.apply(\n",
        "    lambda row: 'Categórico' if row['Tipos de dados'] == 'object' else 'Numérico',\n",
        "    axis=1)\n",
        "\n",
        "tipos_de_dados['% Null'] = tipos_de_dados.apply(lambda row: round(dados[row.ddd].isnull().sum()/dados.shape[0]*100, 2), axis=1)\n",
        "#tipos_de_dados['Possui Nan'] = tipos_de_dados.apply(lambda row: 'Sim' if dados[row.ddd].isnull().values.any() else 'Não', axis=1)\n",
        "\n",
        "# Intervalo de Valores\n",
        "tipos_de_dados['Intervalo de Valores'] = tipos_de_dados.apply(lambda row: sorted(dados[row.ddd].unique()) if is_numeric_dtype(dados[row.ddd].dtype) else dados[row.ddd].unique(), axis=1)\n",
        "tipos_de_dados.drop(columns=['ddd'], inplace=True)\n",
        "\n",
        "\n",
        "\n",
        "\n",
        "tipos_de_dados"
      ],
      "metadata": {
        "colab": {
          "base_uri": "https://localhost:8080/",
          "height": 708
        },
        "id": "KEZ5xIOcRddH",
        "outputId": "d1c66167-d44a-42ed-c2f6-234959d91b99"
      },
      "execution_count": 15,
      "outputs": [
        {
          "output_type": "execute_result",
          "data": {
            "text/plain": [
              "Variável     Tipos de dados Tipo de variavel  % Null  \\\n",
              "ANO                   int64         Numérico    0.00   \n",
              "APGAR1              float64         Numérico    2.32   \n",
              "APGAR5              float64         Numérico    2.26   \n",
              "CODANOMAL            object       Categórico   98.79   \n",
              "CONSPRENAT          float64         Numérico    0.74   \n",
              "CONSULTAS            object       Categórico    0.00   \n",
              "ESCMAE               object       Categórico    0.32   \n",
              "ESCMAE2010           object       Categórico    0.34   \n",
              "ESCMAEAGR1           object       Categórico    0.34   \n",
              "ESTCIVMAE            object       Categórico    0.39   \n",
              "GESTACAO             object       Categórico    0.89   \n",
              "GRAVIDEZ             object       Categórico    0.02   \n",
              "IDADEMAE              int64         Numérico    0.00   \n",
              "IDADEPAI            float64         Numérico   84.28   \n",
              "IDADE_OBT           float64         Numérico   98.46   \n",
              "IDANOMAL             object       Categórico    0.57   \n",
              "LOCNASC              object       Categórico    0.00   \n",
              "OBT_NEONATAL         object       Categórico    0.00   \n",
              "PARTO                object       Categórico    0.02   \n",
              "PESO                float64         Numérico    0.02   \n",
              "QTDFILMORT          float64         Numérico   20.44   \n",
              "QTDFILVIVO          float64         Numérico   11.44   \n",
              "QTDGESTANT          float64         Numérico   10.24   \n",
              "QTDPARTCES          float64         Numérico   20.91   \n",
              "QTDPARTNOR          float64         Numérico   13.47   \n",
              "RACACORMAE          float64         Numérico    1.42   \n",
              "SEMAGESTAC          float64         Numérico    0.91   \n",
              "SEM_NOME              int64         Numérico    0.00   \n",
              "SERIESCMAE          float64         Numérico   26.02   \n",
              "SEXO                 object       Categórico    0.00   \n",
              "STCESPARTO           object       Categórico   57.12   \n",
              "STDNNOVA             object       Categórico    0.00   \n",
              "STTRABPART           object       Categórico    0.52   \n",
              "TPAPRESENT           object       Categórico    0.13   \n",
              "TPDOCRESP            object       Categórico    0.02   \n",
              "TPFUNCRESP           object       Categórico    0.05   \n",
              "TPMETESTIM           object       Categórico   25.58   \n",
              "TPNASCASSI           object       Categórico    0.10   \n",
              "\n",
              "Variável                                   Intervalo de Valores  \n",
              "ANO                        [2015, 2016, 2017, 2018, 2019, 2020]  \n",
              "APGAR1        [nan, 0.0, 1.0, 2.0, 3.0, 4.0, 5.0, 6.0, 7.0, ...  \n",
              "APGAR5        [nan, 0.0, 1.0, 2.0, 3.0, 4.0, 5.0, 6.0, 7.0, ...  \n",
              "CODANOMAL     [nan, Q709, Q564, Q690, Q668, Q792Q793, Q699, ...  \n",
              "CONSPRENAT    [nan, 0.0, 1.0, 2.0, 3.0, 4.0, 5.0, 6.0, 7.0, ...  \n",
              "CONSULTAS     [7_e_mais, de_4_a_6, de_1_a_3, Nenhuma, Ignorado]  \n",
              "ESCMAE        [Nenhuma, 4_a_7_anos, 1_a_3_anos, Ignorado, 8_...  \n",
              "ESCMAE2010    [nan, Ignorado, Sem_escolaridade, Fundamental_...  \n",
              "ESCMAEAGR1    [nan, Ignorado, Sem_Escolaridade, Fundamental_...  \n",
              "ESTCIVMAE     [Casada, Ignorado, Solteira, Uniao_consensual_...  \n",
              "GESTACAO      [37_a_41_semanas, 32_a_36_semanas, 22_a_27_sem...  \n",
              "GRAVIDEZ           [Unica, Dupla, nan, Tripla_e_mais, Ignorado]  \n",
              "IDADEMAE      [11, 12, 13, 14, 15, 16, 17, 18, 19, 20, 21, 2...  \n",
              "IDADEPAI      [nan, 13.0, 14.0, 15.0, 16.0, 17.0, 18.0, 19.0...  \n",
              "IDADE_OBT     [nan, 0.0, 1.0, 2.0, 3.0, 4.0, 5.0, 6.0, 7.0, ...  \n",
              "IDANOMAL                              [Nao, nan, Ignorado, Sim]  \n",
              "LOCNASC       [Domicilio, Hospital, Outro_Estab_Saude, Outro...  \n",
              "OBT_NEONATAL                                         [Nao, Sim]  \n",
              "PARTO                                   [Cesareo, Vaginal, nan]  \n",
              "PESO          [100.0, 170.0, 188.0, 204.0, 230.0, 314.0, 334...  \n",
              "QTDFILMORT    [0.0, nan, 1.0, 2.0, 3.0, 4.0, 5.0, 6.0, 7.0, ...  \n",
              "QTDFILVIVO    [0.0, 1.0, 2.0, 3.0, 4.0, 6.0, 7.0, nan, 5.0, ...  \n",
              "QTDGESTANT    [nan, 0.0, 1.0, 2.0, 3.0, 4.0, 5.0, 6.0, 7.0, ...  \n",
              "QTDPARTCES    [nan, 0.0, 1.0, 2.0, 3.0, 4.0, 5.0, 6.0, 7.0, ...  \n",
              "QTDPARTNOR    [nan, 0.0, 1.0, 2.0, 3.0, 4.0, 5.0, 6.0, 7.0, ...  \n",
              "RACACORMAE                  [nan, 1.0, 2.0, 3.0, 4.0, 5.0, 9.0]  \n",
              "SEMAGESTAC    [nan, 19.0, 20.0, 21.0, 22.0, 23.0, 24.0, 25.0...  \n",
              "SEM_NOME      [781, 170214, 172507, 188964, 188965, 188966, ...  \n",
              "SERIESCMAE    [nan, 0.0, 1.0, 2.0, 3.0, 4.0, 5.0, 6.0, 7.0, ...  \n",
              "SEXO             [Feminino, Masculino, Ignorado,_nao_informado]  \n",
              "STCESPARTO             [nan, Nao, Nao_se_aplica, Sim, Ignorado]  \n",
              "STDNNOVA                                             [Nao, Sim]  \n",
              "STTRABPART                            [nan, Nao, Sim, Ignorado]  \n",
              "TPAPRESENT    [nan, Ignorado, Cefalico, Pelvica_ou_podalica,...  \n",
              "TPDOCRESP                   [nan, CPF, COREN, 0, CNES, CRM, RG]  \n",
              "TPFUNCRESP    [nan, Medico, Enfermeiro, Outros, Funcionario_...  \n",
              "TPMETESTIM          [nan, Exame_fisico, Ignorado, Outro_metodo]  \n",
              "TPNASCASSI    [nan, Outros, Enfermeira/obstetriz, Medico, Ig...  "
            ],
            "text/html": [
              "\n",
              "  <div id=\"df-1ffb94dd-3f93-4311-b2b7-17cd854723e2\" class=\"colab-df-container\">\n",
              "    <div>\n",
              "<style scoped>\n",
              "    .dataframe tbody tr th:only-of-type {\n",
              "        vertical-align: middle;\n",
              "    }\n",
              "\n",
              "    .dataframe tbody tr th {\n",
              "        vertical-align: top;\n",
              "    }\n",
              "\n",
              "    .dataframe thead th {\n",
              "        text-align: right;\n",
              "    }\n",
              "</style>\n",
              "<table border=\"1\" class=\"dataframe\">\n",
              "  <thead>\n",
              "    <tr style=\"text-align: right;\">\n",
              "      <th>Variável</th>\n",
              "      <th>Tipos de dados</th>\n",
              "      <th>Tipo de variavel</th>\n",
              "      <th>% Null</th>\n",
              "      <th>Intervalo de Valores</th>\n",
              "    </tr>\n",
              "  </thead>\n",
              "  <tbody>\n",
              "    <tr>\n",
              "      <th>ANO</th>\n",
              "      <td>int64</td>\n",
              "      <td>Numérico</td>\n",
              "      <td>0.00</td>\n",
              "      <td>[2015, 2016, 2017, 2018, 2019, 2020]</td>\n",
              "    </tr>\n",
              "    <tr>\n",
              "      <th>APGAR1</th>\n",
              "      <td>float64</td>\n",
              "      <td>Numérico</td>\n",
              "      <td>2.32</td>\n",
              "      <td>[nan, 0.0, 1.0, 2.0, 3.0, 4.0, 5.0, 6.0, 7.0, ...</td>\n",
              "    </tr>\n",
              "    <tr>\n",
              "      <th>APGAR5</th>\n",
              "      <td>float64</td>\n",
              "      <td>Numérico</td>\n",
              "      <td>2.26</td>\n",
              "      <td>[nan, 0.0, 1.0, 2.0, 3.0, 4.0, 5.0, 6.0, 7.0, ...</td>\n",
              "    </tr>\n",
              "    <tr>\n",
              "      <th>CODANOMAL</th>\n",
              "      <td>object</td>\n",
              "      <td>Categórico</td>\n",
              "      <td>98.79</td>\n",
              "      <td>[nan, Q709, Q564, Q690, Q668, Q792Q793, Q699, ...</td>\n",
              "    </tr>\n",
              "    <tr>\n",
              "      <th>CONSPRENAT</th>\n",
              "      <td>float64</td>\n",
              "      <td>Numérico</td>\n",
              "      <td>0.74</td>\n",
              "      <td>[nan, 0.0, 1.0, 2.0, 3.0, 4.0, 5.0, 6.0, 7.0, ...</td>\n",
              "    </tr>\n",
              "    <tr>\n",
              "      <th>CONSULTAS</th>\n",
              "      <td>object</td>\n",
              "      <td>Categórico</td>\n",
              "      <td>0.00</td>\n",
              "      <td>[7_e_mais, de_4_a_6, de_1_a_3, Nenhuma, Ignorado]</td>\n",
              "    </tr>\n",
              "    <tr>\n",
              "      <th>ESCMAE</th>\n",
              "      <td>object</td>\n",
              "      <td>Categórico</td>\n",
              "      <td>0.32</td>\n",
              "      <td>[Nenhuma, 4_a_7_anos, 1_a_3_anos, Ignorado, 8_...</td>\n",
              "    </tr>\n",
              "    <tr>\n",
              "      <th>ESCMAE2010</th>\n",
              "      <td>object</td>\n",
              "      <td>Categórico</td>\n",
              "      <td>0.34</td>\n",
              "      <td>[nan, Ignorado, Sem_escolaridade, Fundamental_...</td>\n",
              "    </tr>\n",
              "    <tr>\n",
              "      <th>ESCMAEAGR1</th>\n",
              "      <td>object</td>\n",
              "      <td>Categórico</td>\n",
              "      <td>0.34</td>\n",
              "      <td>[nan, Ignorado, Sem_Escolaridade, Fundamental_...</td>\n",
              "    </tr>\n",
              "    <tr>\n",
              "      <th>ESTCIVMAE</th>\n",
              "      <td>object</td>\n",
              "      <td>Categórico</td>\n",
              "      <td>0.39</td>\n",
              "      <td>[Casada, Ignorado, Solteira, Uniao_consensual_...</td>\n",
              "    </tr>\n",
              "    <tr>\n",
              "      <th>GESTACAO</th>\n",
              "      <td>object</td>\n",
              "      <td>Categórico</td>\n",
              "      <td>0.89</td>\n",
              "      <td>[37_a_41_semanas, 32_a_36_semanas, 22_a_27_sem...</td>\n",
              "    </tr>\n",
              "    <tr>\n",
              "      <th>GRAVIDEZ</th>\n",
              "      <td>object</td>\n",
              "      <td>Categórico</td>\n",
              "      <td>0.02</td>\n",
              "      <td>[Unica, Dupla, nan, Tripla_e_mais, Ignorado]</td>\n",
              "    </tr>\n",
              "    <tr>\n",
              "      <th>IDADEMAE</th>\n",
              "      <td>int64</td>\n",
              "      <td>Numérico</td>\n",
              "      <td>0.00</td>\n",
              "      <td>[11, 12, 13, 14, 15, 16, 17, 18, 19, 20, 21, 2...</td>\n",
              "    </tr>\n",
              "    <tr>\n",
              "      <th>IDADEPAI</th>\n",
              "      <td>float64</td>\n",
              "      <td>Numérico</td>\n",
              "      <td>84.28</td>\n",
              "      <td>[nan, 13.0, 14.0, 15.0, 16.0, 17.0, 18.0, 19.0...</td>\n",
              "    </tr>\n",
              "    <tr>\n",
              "      <th>IDADE_OBT</th>\n",
              "      <td>float64</td>\n",
              "      <td>Numérico</td>\n",
              "      <td>98.46</td>\n",
              "      <td>[nan, 0.0, 1.0, 2.0, 3.0, 4.0, 5.0, 6.0, 7.0, ...</td>\n",
              "    </tr>\n",
              "    <tr>\n",
              "      <th>IDANOMAL</th>\n",
              "      <td>object</td>\n",
              "      <td>Categórico</td>\n",
              "      <td>0.57</td>\n",
              "      <td>[Nao, nan, Ignorado, Sim]</td>\n",
              "    </tr>\n",
              "    <tr>\n",
              "      <th>LOCNASC</th>\n",
              "      <td>object</td>\n",
              "      <td>Categórico</td>\n",
              "      <td>0.00</td>\n",
              "      <td>[Domicilio, Hospital, Outro_Estab_Saude, Outro...</td>\n",
              "    </tr>\n",
              "    <tr>\n",
              "      <th>OBT_NEONATAL</th>\n",
              "      <td>object</td>\n",
              "      <td>Categórico</td>\n",
              "      <td>0.00</td>\n",
              "      <td>[Nao, Sim]</td>\n",
              "    </tr>\n",
              "    <tr>\n",
              "      <th>PARTO</th>\n",
              "      <td>object</td>\n",
              "      <td>Categórico</td>\n",
              "      <td>0.02</td>\n",
              "      <td>[Cesareo, Vaginal, nan]</td>\n",
              "    </tr>\n",
              "    <tr>\n",
              "      <th>PESO</th>\n",
              "      <td>float64</td>\n",
              "      <td>Numérico</td>\n",
              "      <td>0.02</td>\n",
              "      <td>[100.0, 170.0, 188.0, 204.0, 230.0, 314.0, 334...</td>\n",
              "    </tr>\n",
              "    <tr>\n",
              "      <th>QTDFILMORT</th>\n",
              "      <td>float64</td>\n",
              "      <td>Numérico</td>\n",
              "      <td>20.44</td>\n",
              "      <td>[0.0, nan, 1.0, 2.0, 3.0, 4.0, 5.0, 6.0, 7.0, ...</td>\n",
              "    </tr>\n",
              "    <tr>\n",
              "      <th>QTDFILVIVO</th>\n",
              "      <td>float64</td>\n",
              "      <td>Numérico</td>\n",
              "      <td>11.44</td>\n",
              "      <td>[0.0, 1.0, 2.0, 3.0, 4.0, 6.0, 7.0, nan, 5.0, ...</td>\n",
              "    </tr>\n",
              "    <tr>\n",
              "      <th>QTDGESTANT</th>\n",
              "      <td>float64</td>\n",
              "      <td>Numérico</td>\n",
              "      <td>10.24</td>\n",
              "      <td>[nan, 0.0, 1.0, 2.0, 3.0, 4.0, 5.0, 6.0, 7.0, ...</td>\n",
              "    </tr>\n",
              "    <tr>\n",
              "      <th>QTDPARTCES</th>\n",
              "      <td>float64</td>\n",
              "      <td>Numérico</td>\n",
              "      <td>20.91</td>\n",
              "      <td>[nan, 0.0, 1.0, 2.0, 3.0, 4.0, 5.0, 6.0, 7.0, ...</td>\n",
              "    </tr>\n",
              "    <tr>\n",
              "      <th>QTDPARTNOR</th>\n",
              "      <td>float64</td>\n",
              "      <td>Numérico</td>\n",
              "      <td>13.47</td>\n",
              "      <td>[nan, 0.0, 1.0, 2.0, 3.0, 4.0, 5.0, 6.0, 7.0, ...</td>\n",
              "    </tr>\n",
              "    <tr>\n",
              "      <th>RACACORMAE</th>\n",
              "      <td>float64</td>\n",
              "      <td>Numérico</td>\n",
              "      <td>1.42</td>\n",
              "      <td>[nan, 1.0, 2.0, 3.0, 4.0, 5.0, 9.0]</td>\n",
              "    </tr>\n",
              "    <tr>\n",
              "      <th>SEMAGESTAC</th>\n",
              "      <td>float64</td>\n",
              "      <td>Numérico</td>\n",
              "      <td>0.91</td>\n",
              "      <td>[nan, 19.0, 20.0, 21.0, 22.0, 23.0, 24.0, 25.0...</td>\n",
              "    </tr>\n",
              "    <tr>\n",
              "      <th>SEM_NOME</th>\n",
              "      <td>int64</td>\n",
              "      <td>Numérico</td>\n",
              "      <td>0.00</td>\n",
              "      <td>[781, 170214, 172507, 188964, 188965, 188966, ...</td>\n",
              "    </tr>\n",
              "    <tr>\n",
              "      <th>SERIESCMAE</th>\n",
              "      <td>float64</td>\n",
              "      <td>Numérico</td>\n",
              "      <td>26.02</td>\n",
              "      <td>[nan, 0.0, 1.0, 2.0, 3.0, 4.0, 5.0, 6.0, 7.0, ...</td>\n",
              "    </tr>\n",
              "    <tr>\n",
              "      <th>SEXO</th>\n",
              "      <td>object</td>\n",
              "      <td>Categórico</td>\n",
              "      <td>0.00</td>\n",
              "      <td>[Feminino, Masculino, Ignorado,_nao_informado]</td>\n",
              "    </tr>\n",
              "    <tr>\n",
              "      <th>STCESPARTO</th>\n",
              "      <td>object</td>\n",
              "      <td>Categórico</td>\n",
              "      <td>57.12</td>\n",
              "      <td>[nan, Nao, Nao_se_aplica, Sim, Ignorado]</td>\n",
              "    </tr>\n",
              "    <tr>\n",
              "      <th>STDNNOVA</th>\n",
              "      <td>object</td>\n",
              "      <td>Categórico</td>\n",
              "      <td>0.00</td>\n",
              "      <td>[Nao, Sim]</td>\n",
              "    </tr>\n",
              "    <tr>\n",
              "      <th>STTRABPART</th>\n",
              "      <td>object</td>\n",
              "      <td>Categórico</td>\n",
              "      <td>0.52</td>\n",
              "      <td>[nan, Nao, Sim, Ignorado]</td>\n",
              "    </tr>\n",
              "    <tr>\n",
              "      <th>TPAPRESENT</th>\n",
              "      <td>object</td>\n",
              "      <td>Categórico</td>\n",
              "      <td>0.13</td>\n",
              "      <td>[nan, Ignorado, Cefalico, Pelvica_ou_podalica,...</td>\n",
              "    </tr>\n",
              "    <tr>\n",
              "      <th>TPDOCRESP</th>\n",
              "      <td>object</td>\n",
              "      <td>Categórico</td>\n",
              "      <td>0.02</td>\n",
              "      <td>[nan, CPF, COREN, 0, CNES, CRM, RG]</td>\n",
              "    </tr>\n",
              "    <tr>\n",
              "      <th>TPFUNCRESP</th>\n",
              "      <td>object</td>\n",
              "      <td>Categórico</td>\n",
              "      <td>0.05</td>\n",
              "      <td>[nan, Medico, Enfermeiro, Outros, Funcionario_...</td>\n",
              "    </tr>\n",
              "    <tr>\n",
              "      <th>TPMETESTIM</th>\n",
              "      <td>object</td>\n",
              "      <td>Categórico</td>\n",
              "      <td>25.58</td>\n",
              "      <td>[nan, Exame_fisico, Ignorado, Outro_metodo]</td>\n",
              "    </tr>\n",
              "    <tr>\n",
              "      <th>TPNASCASSI</th>\n",
              "      <td>object</td>\n",
              "      <td>Categórico</td>\n",
              "      <td>0.10</td>\n",
              "      <td>[nan, Outros, Enfermeira/obstetriz, Medico, Ig...</td>\n",
              "    </tr>\n",
              "  </tbody>\n",
              "</table>\n",
              "</div>\n",
              "    <div class=\"colab-df-buttons\">\n",
              "\n",
              "  <div class=\"colab-df-container\">\n",
              "    <button class=\"colab-df-convert\" onclick=\"convertToInteractive('df-1ffb94dd-3f93-4311-b2b7-17cd854723e2')\"\n",
              "            title=\"Convert this dataframe to an interactive table.\"\n",
              "            style=\"display:none;\">\n",
              "\n",
              "  <svg xmlns=\"http://www.w3.org/2000/svg\" height=\"24px\" viewBox=\"0 -960 960 960\">\n",
              "    <path d=\"M120-120v-720h720v720H120Zm60-500h600v-160H180v160Zm220 220h160v-160H400v160Zm0 220h160v-160H400v160ZM180-400h160v-160H180v160Zm440 0h160v-160H620v160ZM180-180h160v-160H180v160Zm440 0h160v-160H620v160Z\"/>\n",
              "  </svg>\n",
              "    </button>\n",
              "\n",
              "  <style>\n",
              "    .colab-df-container {\n",
              "      display:flex;\n",
              "      gap: 12px;\n",
              "    }\n",
              "\n",
              "    .colab-df-convert {\n",
              "      background-color: #E8F0FE;\n",
              "      border: none;\n",
              "      border-radius: 50%;\n",
              "      cursor: pointer;\n",
              "      display: none;\n",
              "      fill: #1967D2;\n",
              "      height: 32px;\n",
              "      padding: 0 0 0 0;\n",
              "      width: 32px;\n",
              "    }\n",
              "\n",
              "    .colab-df-convert:hover {\n",
              "      background-color: #E2EBFA;\n",
              "      box-shadow: 0px 1px 2px rgba(60, 64, 67, 0.3), 0px 1px 3px 1px rgba(60, 64, 67, 0.15);\n",
              "      fill: #174EA6;\n",
              "    }\n",
              "\n",
              "    .colab-df-buttons div {\n",
              "      margin-bottom: 4px;\n",
              "    }\n",
              "\n",
              "    [theme=dark] .colab-df-convert {\n",
              "      background-color: #3B4455;\n",
              "      fill: #D2E3FC;\n",
              "    }\n",
              "\n",
              "    [theme=dark] .colab-df-convert:hover {\n",
              "      background-color: #434B5C;\n",
              "      box-shadow: 0px 1px 3px 1px rgba(0, 0, 0, 0.15);\n",
              "      filter: drop-shadow(0px 1px 2px rgba(0, 0, 0, 0.3));\n",
              "      fill: #FFFFFF;\n",
              "    }\n",
              "  </style>\n",
              "\n",
              "    <script>\n",
              "      const buttonEl =\n",
              "        document.querySelector('#df-1ffb94dd-3f93-4311-b2b7-17cd854723e2 button.colab-df-convert');\n",
              "      buttonEl.style.display =\n",
              "        google.colab.kernel.accessAllowed ? 'block' : 'none';\n",
              "\n",
              "      async function convertToInteractive(key) {\n",
              "        const element = document.querySelector('#df-1ffb94dd-3f93-4311-b2b7-17cd854723e2');\n",
              "        const dataTable =\n",
              "          await google.colab.kernel.invokeFunction('convertToInteractive',\n",
              "                                                    [key], {});\n",
              "        if (!dataTable) return;\n",
              "\n",
              "        const docLinkHtml = 'Like what you see? Visit the ' +\n",
              "          '<a target=\"_blank\" href=https://colab.research.google.com/notebooks/data_table.ipynb>data table notebook</a>'\n",
              "          + ' to learn more about interactive tables.';\n",
              "        element.innerHTML = '';\n",
              "        dataTable['output_type'] = 'display_data';\n",
              "        await google.colab.output.renderOutput(dataTable, element);\n",
              "        const docLink = document.createElement('div');\n",
              "        docLink.innerHTML = docLinkHtml;\n",
              "        element.appendChild(docLink);\n",
              "      }\n",
              "    </script>\n",
              "  </div>\n",
              "\n",
              "\n",
              "<div id=\"df-a55e3262-338a-4183-91b2-4a5df6031c5f\">\n",
              "  <button class=\"colab-df-quickchart\" onclick=\"quickchart('df-a55e3262-338a-4183-91b2-4a5df6031c5f')\"\n",
              "            title=\"Suggest charts.\"\n",
              "            style=\"display:none;\">\n",
              "\n",
              "<svg xmlns=\"http://www.w3.org/2000/svg\" height=\"24px\"viewBox=\"0 0 24 24\"\n",
              "     width=\"24px\">\n",
              "    <g>\n",
              "        <path d=\"M19 3H5c-1.1 0-2 .9-2 2v14c0 1.1.9 2 2 2h14c1.1 0 2-.9 2-2V5c0-1.1-.9-2-2-2zM9 17H7v-7h2v7zm4 0h-2V7h2v10zm4 0h-2v-4h2v4z\"/>\n",
              "    </g>\n",
              "</svg>\n",
              "  </button>\n",
              "\n",
              "<style>\n",
              "  .colab-df-quickchart {\n",
              "      --bg-color: #E8F0FE;\n",
              "      --fill-color: #1967D2;\n",
              "      --hover-bg-color: #E2EBFA;\n",
              "      --hover-fill-color: #174EA6;\n",
              "      --disabled-fill-color: #AAA;\n",
              "      --disabled-bg-color: #DDD;\n",
              "  }\n",
              "\n",
              "  [theme=dark] .colab-df-quickchart {\n",
              "      --bg-color: #3B4455;\n",
              "      --fill-color: #D2E3FC;\n",
              "      --hover-bg-color: #434B5C;\n",
              "      --hover-fill-color: #FFFFFF;\n",
              "      --disabled-bg-color: #3B4455;\n",
              "      --disabled-fill-color: #666;\n",
              "  }\n",
              "\n",
              "  .colab-df-quickchart {\n",
              "    background-color: var(--bg-color);\n",
              "    border: none;\n",
              "    border-radius: 50%;\n",
              "    cursor: pointer;\n",
              "    display: none;\n",
              "    fill: var(--fill-color);\n",
              "    height: 32px;\n",
              "    padding: 0;\n",
              "    width: 32px;\n",
              "  }\n",
              "\n",
              "  .colab-df-quickchart:hover {\n",
              "    background-color: var(--hover-bg-color);\n",
              "    box-shadow: 0 1px 2px rgba(60, 64, 67, 0.3), 0 1px 3px 1px rgba(60, 64, 67, 0.15);\n",
              "    fill: var(--button-hover-fill-color);\n",
              "  }\n",
              "\n",
              "  .colab-df-quickchart-complete:disabled,\n",
              "  .colab-df-quickchart-complete:disabled:hover {\n",
              "    background-color: var(--disabled-bg-color);\n",
              "    fill: var(--disabled-fill-color);\n",
              "    box-shadow: none;\n",
              "  }\n",
              "\n",
              "  .colab-df-spinner {\n",
              "    border: 2px solid var(--fill-color);\n",
              "    border-color: transparent;\n",
              "    border-bottom-color: var(--fill-color);\n",
              "    animation:\n",
              "      spin 1s steps(1) infinite;\n",
              "  }\n",
              "\n",
              "  @keyframes spin {\n",
              "    0% {\n",
              "      border-color: transparent;\n",
              "      border-bottom-color: var(--fill-color);\n",
              "      border-left-color: var(--fill-color);\n",
              "    }\n",
              "    20% {\n",
              "      border-color: transparent;\n",
              "      border-left-color: var(--fill-color);\n",
              "      border-top-color: var(--fill-color);\n",
              "    }\n",
              "    30% {\n",
              "      border-color: transparent;\n",
              "      border-left-color: var(--fill-color);\n",
              "      border-top-color: var(--fill-color);\n",
              "      border-right-color: var(--fill-color);\n",
              "    }\n",
              "    40% {\n",
              "      border-color: transparent;\n",
              "      border-right-color: var(--fill-color);\n",
              "      border-top-color: var(--fill-color);\n",
              "    }\n",
              "    60% {\n",
              "      border-color: transparent;\n",
              "      border-right-color: var(--fill-color);\n",
              "    }\n",
              "    80% {\n",
              "      border-color: transparent;\n",
              "      border-right-color: var(--fill-color);\n",
              "      border-bottom-color: var(--fill-color);\n",
              "    }\n",
              "    90% {\n",
              "      border-color: transparent;\n",
              "      border-bottom-color: var(--fill-color);\n",
              "    }\n",
              "  }\n",
              "</style>\n",
              "\n",
              "  <script>\n",
              "    async function quickchart(key) {\n",
              "      const quickchartButtonEl =\n",
              "        document.querySelector('#' + key + ' button');\n",
              "      quickchartButtonEl.disabled = true;  // To prevent multiple clicks.\n",
              "      quickchartButtonEl.classList.add('colab-df-spinner');\n",
              "      try {\n",
              "        const charts = await google.colab.kernel.invokeFunction(\n",
              "            'suggestCharts', [key], {});\n",
              "      } catch (error) {\n",
              "        console.error('Error during call to suggestCharts:', error);\n",
              "      }\n",
              "      quickchartButtonEl.classList.remove('colab-df-spinner');\n",
              "      quickchartButtonEl.classList.add('colab-df-quickchart-complete');\n",
              "    }\n",
              "    (() => {\n",
              "      let quickchartButtonEl =\n",
              "        document.querySelector('#df-a55e3262-338a-4183-91b2-4a5df6031c5f button');\n",
              "      quickchartButtonEl.style.display =\n",
              "        google.colab.kernel.accessAllowed ? 'block' : 'none';\n",
              "    })();\n",
              "  </script>\n",
              "</div>\n",
              "    </div>\n",
              "  </div>\n"
            ]
          },
          "metadata": {},
          "execution_count": 15
        },
        {
          "output_type": "stream",
          "name": "stdout",
          "text": [
            "time: 550 ms (started: 2023-09-07 11:40:37 +00:00)\n"
          ]
        }
      ]
    },
    {
      "cell_type": "markdown",
      "source": [
        "## <font color=green> 1.2 - Variáveis utilizadas</font>\n",
        "***\n",
        "\n",
        "Serão analisadas as variáveis relacionadas à mãe, a gestação e ao recém-nascido a saber:"
      ],
      "metadata": {
        "id": "8WlcckNhC8rT"
      }
    },
    {
      "cell_type": "markdown",
      "source": [
        "### 1) Ano do registro\n",
        "\n"
      ],
      "metadata": {
        "id": "_5wcONwGGmKI"
      }
    },
    {
      "cell_type": "markdown",
      "source": [
        "> <b>Tipo de variável</b>: Qualitativa ordinal.<br>\n",
        "\n",
        "> <b>Nome do campo</b>: <font color=blue>ANO</font>.<br>\n",
        "> <b>Descrição do campo</b>: ano de coleta do registro.<br>\n",
        "> <b>Tipo do campo</b>: int64.<br>\n",
        "> <b>Possui valores nulos</b>: Não.<br>\n",
        "> <b>Intervalo de valores</b>: 2015, 2016, 2017, 2018, 2019, 2020<br>\n"
      ],
      "metadata": {
        "id": "4qr_ceKIPP2w"
      }
    },
    {
      "cell_type": "code",
      "source": [
        "print(dados['ANO'].dtype)\n",
        "print(dados['ANO'].isnull().values.any())\n",
        "print('ANO {}'.format(sorted(dados['ANO'].unique())))"
      ],
      "metadata": {
        "colab": {
          "base_uri": "https://localhost:8080/"
        },
        "id": "Julk1ilAGtEi",
        "outputId": "6c1da699-c17e-47c8-ee46-0532b1190aef"
      },
      "execution_count": null,
      "outputs": [
        {
          "output_type": "stream",
          "name": "stdout",
          "text": [
            "int64\n",
            "False\n",
            "ANO [2015, 2016, 2017, 2018, 2019, 2020]\n",
            "time: 4.57 ms (started: 2023-09-04 17:51:31 +00:00)\n"
          ]
        }
      ]
    },
    {
      "cell_type": "markdown",
      "source": [
        "### 2) Anomalia detectada"
      ],
      "metadata": {
        "id": "pOCGLAHpINTE"
      }
    },
    {
      "cell_type": "markdown",
      "source": [
        "> <b>Base de origem</b>: SINASC.<br>\n",
        "> <b>Tipo dos variável</b>: Qualitativa nominal.<br>\n",
        "\n",
        "> <b>Nome da campo</b>: <font color=blue>CODANOMAL</font>.<br>\n",
        "> <b>Descrição do campo</b>: Código da anomalia (CID-10).<br>\n",
        "> <b>Tipo do campo</b>: object.<br>\n",
        "> <b>Possui valores nulos</b>: Sim.<br>\n",
        "> <b>Percentual de valores nulos</b>: 98,78%.<br>\n",
        "> <b>Intervalo de valores</b>: .<br>\n",
        "\n"
      ],
      "metadata": {
        "id": "qpeeK9nDPX8M"
      }
    },
    {
      "cell_type": "code",
      "source": [
        "print(dados['CODANOMAL'].dtype)\n",
        "print(dados['CODANOMAL'].isnull().values.any())\n",
        "print('CODANOMAL {}'.format(dados['CODANOMAL'].unique()))"
      ],
      "metadata": {
        "id": "pL0hwPq6ITVk",
        "outputId": "263a03c7-b5d1-446b-a487-4157d34747d6",
        "colab": {
          "base_uri": "https://localhost:8080/"
        }
      },
      "execution_count": null,
      "outputs": [
        {
          "output_type": "stream",
          "name": "stdout",
          "text": [
            "object\n",
            "True\n",
            "CODANOMAL [nan 'Q709' 'Q564' 'Q690' 'Q668' 'Q792Q793' 'Q699' 'Q339' 'Q300'\n",
            " 'Q659Q668' 'Q909' 'Q270' 'Q549' 'Q049Q379Q718' 'Q723Q740' 'Q540' 'Q929'\n",
            " 'Q749' 'Q380' 'Q02X' 'Q793' 'Q359Q894' 'Q333' 'D180' 'Q758' 'Q669' 'Q359'\n",
            " 'Q369' 'Q764' 'Q173' 'Q359Q665Q870' 'Q741' 'Q681' 'Q548Q641Q793' 'Q795'\n",
            " 'Q040' 'Q189' 'Q759' 'Q799' 'Q379' 'Q719' 'Q059Q668' 'Q743' 'Q039Q359'\n",
            " 'Q210' 'Q054' 'Q729' 'Q691' 'Q000' 'Q336Q613' 'Q019Q040Q309' 'Q709Q719'\n",
            " 'Q268' 'Q039Q059Q668' 'Q160' 'Q175' 'Q660' 'Q659' 'Q665' 'Q664' 'Q701'\n",
            " 'Q753' 'Q390' 'Q170Q270' 'Q057' 'Q438' 'Q385' 'Q313' 'Q523'\n",
            " 'Q019Q039Q564Q699Q793' 'Q674' 'Q120Q749Q753' 'Q336' 'Q359Q743'\n",
            " 'Q249Q749Q769' 'Q539' 'Q048Q059' 'Q668Q749' 'Q019' 'Q769' 'Q792' 'Q899'\n",
            " 'Q059Q742' 'Q170' 'Q790Q913' 'Q833' 'Q356' 'Q794' 'Q661' 'Q158Q359Q699'\n",
            " 'Q897' 'Q043Q049' 'Q039' 'Q878' 'Q663' 'Q386' 'Q763' 'Q713' 'Q213'\n",
            " 'Q359Q380' 'Q02XQ759' 'Q059' 'Q742' 'Q722' 'Q182Q668Q752' 'Q668Q870'\n",
            " 'Q174Q681Q682Q752' 'Q620' 'Q666' 'Q039Q753' 'Q019Q564Q792Q897'\n",
            " 'Q658Q681Q741' 'Q069' 'Q174' 'Q723' 'Q165' 'Q336Q423Q532Q681'\n",
            " 'Q549Q556Q668' 'Q103Q174Q709Q719Q729' 'Q019Q359Q564Q668Q898' 'Q02XQ909'\n",
            " 'Q174Q719Q729Q759' 'Q103Q120Q170Q899' 'Q02XQ899' 'Q602' 'Q738' 'Q901'\n",
            " 'Q749Q812' 'Q820' 'Q601Q699' 'Q02XQ668' 'Q668Q758' 'Q429' 'Q539Q742Q764'\n",
            " 'Q02XQ039' 'Q019Q742' 'Q373' 'Q825' 'Q613' 'Q103Q174Q188Q668'\n",
            " 'Q02XQ668Q748' 'Q103Q383' 'Q02XQ690' 'Q174Q270Q742' 'Q02XQ668Q718' 'Q692'\n",
            " 'Q179Q690' 'Q849' 'Q731' 'Q039Q539Q549Q666Q740' 'Q02XQ748' 'Q774' 'Q249'\n",
            " 'Q02XQ539' 'Q188' 'Q682' 'Q02XQ270' 'Q189Q668Q758Q917' 'Q02XQ048' 'Q527'\n",
            " 'Q249Q658Q668' 'Q059Q210Q668' 'Q02XQ059' 'Q423' 'Q539Q742' 'Q183'\n",
            " 'Q249Q391Q549' 'Q103Q158Q174' 'Q02XQ188Q359Q668' 'Q02XQ539Q742'\n",
            " 'Q249Q909' 'Q02XQ043Q668' 'Q039Q043Q668Q740' 'Q031' 'Q179Q423Q549'\n",
            " 'Q359Q539Q668' 'Q351' 'Q378' 'Q02XQ031' 'Q539Q620' 'Q02XQ549Q742'\n",
            " 'Q390Q564Q794' 'Q039Q564Q740Q742Q753' 'Q02XQ758' 'Q459' 'Q790' 'Q359Q369'\n",
            " 'Q359Q360' 'Q170Q626' 'Q174Q668Q748Q753' 'Q894' 'Q606' 'Q158Q160Q308'\n",
            " 'Q000Q248Q359Q369' 'Q531' 'Q559' 'Q870' 'Q174Q752' 'Q039Q059' 'Q530Q758'\n",
            " 'Q174Q188' 'Q188Q668Q681' 'Q759Q833' 'Q103' 'Q360' 'Q206' 'Q700'\n",
            " 'Q664Q909' 'Q564Q989' 'Q549Q552Q556Q564' 'Q02XQ539Q549' 'Q02XQ174' 'Q748'\n",
            " 'Q539Q668Q740Q742' 'Q103Q752' 'Q000Q158' 'Q530' 'Q039Q249' 'Q351Q753'\n",
            " 'Q552Q685' 'Q369Q752' 'Q381Q699Q709' 'Q669Q681' 'Q336Q792' 'Q678Q764'\n",
            " 'Q423Q668Q794' 'Q752' 'Q174Q719' 'Q059Q549Q668' 'Q070Q174' 'Q369Q668'\n",
            " 'Q685' 'Q179' 'Q039Q174Q183Q749Q752' 'Q270Q668Q709Q716' 'Q549Q709' 'Q050'\n",
            " 'Q718' 'Q188Q917' 'Q556' 'Q423Q620' 'Q059Q174Q668' 'Q447' 'Q450' 'Q161'\n",
            " 'Q248' 'Q02XQ668Q743' 'Q234Q699' 'Q174Q794' 'Q189Q385' 'Q681Q740'\n",
            " 'Q668Q792' 'Q702Q723' 'Q670' 'Q529' 'Q070' 'Q221' 'Q053' 'Q550' 'Q898'\n",
            " 'Q059Q682' 'Q103Q174Q674' 'Q174Q183Q188Q668' 'Q688' 'Q700Q702' 'Q532'\n",
            " 'Q699Q709' 'Q188Q729Q899' 'Q809' 'Q771' 'Q703' 'Q188Q668' 'Q069Q664'\n",
            " 'Q548' 'Q039Q054' 'Q690Q703' 'Q249Q668' 'Q158Q423Q668Q700Q703' 'Q672'\n",
            " 'Q558' 'Q179Q379Q699' 'Q379Q690' 'Q289' 'Q667' 'Q048' 'Q042Q249' 'Q049'\n",
            " 'Q651' 'Q010' 'Q382' 'Q174Q738Q758' 'Q189Q668' 'Q660Q710Q720' 'Q174Q728'\n",
            " 'Q791' 'Q778' 'Q550Q668' 'Q174Q672' 'Q359Q549' 'Q423Q564Q742Q897'\n",
            " 'Q103Q174Q308' 'Q359Q564Q753' 'Q666Q740' 'Q018' 'Q690Q692Q700Q702' 'Q201'\n",
            " 'Q249Q899' 'Q902' 'Q120Q359Q369Q690Q740' 'Q039Q668Q699Q799' 'Q212'\n",
            " 'Q059Q336Q668Q792' 'Q174Q674' 'Q059Q792' 'Q172' 'Q039Q759' 'Q549Q558'\n",
            " 'Q059Q658Q668' 'Q174Q189Q902' 'Q353' 'Q374' 'Q730' 'Q564Q897' 'Q678'\n",
            " 'Q690Q692' 'Q110Q112Q564Q752' 'Q150Q174Q183Q308Q359'\n",
            " 'Q040Q174Q379Q564Q713' 'Q031Q249Q308Q681' 'Q251' 'Q174Q386Q759'\n",
            " 'Q039Q059Q120Q549' 'Q103Q174Q740Q913' 'Q913' 'Q178' 'Q381' 'Q359Q668'\n",
            " 'Q174Q742' 'Q02XQ249Q301Q359' 'Q528' 'Q019Q02X' 'Q380Q385' 'Q727' 'Q640'\n",
            " 'Q670Q752' 'Q559Q899' 'Q423Q564' 'Q174Q559Q668' 'Q174Q189Q308' 'Q174Q711'\n",
            " 'Q170Q829' 'Q170Q690' 'Q359Q750' 'Q552' 'Q059Q660' 'Q234Q248' 'Q174Q308'\n",
            " 'Q039Q321Q423Q549Q552' 'Q158Q174Q308' 'Q668Q723Q738' 'Q183Q308Q738Q759'\n",
            " 'Q179Q530' 'Q702Q718' 'Q401' 'Q359Q663' 'Q652' 'Q740' 'Q524' 'Q549Q681'\n",
            " 'Q846' 'Q204Q249' 'Q560' 'Q748Q809' 'Q179Q359' 'Q174Q758' 'Q174Q189Q752'\n",
            " 'Q169' 'Q360Q699Q792' 'Q183Q613' 'Q189Q359' 'Q174Q336Q668Q740' 'Q189Q738'\n",
            " 'Q042Q301Q359Q371Q668' 'Q917' 'Q103Q174Q674Q752' 'Q661Q728Q749'\n",
            " 'Q172Q178' 'Q189Q373Q668Q681' 'Q189Q740Q742Q769' 'Q019Q183Q423'\n",
            " 'Q012Q160Q189Q532Q674' 'Q668Q793' 'Q272Q336Q606' 'Q02XQ158Q301' 'Q638'\n",
            " 'Q042Q699Q870' 'Q532Q668' 'Q308Q359Q369' 'Q558Q690' 'Q189Q690Q897'\n",
            " 'Q174Q308Q382Q909' 'Q039Q539' 'Q549Q838' 'Q601' 'Q423Q902' 'Q668Q759'\n",
            " 'Q270Q423Q539Q600Q615' 'Q174Q308Q681' 'Q038' 'Q359Q709' 'Q103Q308Q909'\n",
            " 'Q780' 'Q669Q690' 'Q070Q174Q674' 'Q174Q308Q758' 'Q174Q178Q380' 'Q765'\n",
            " 'Q380Q699' 'Q174Q740' 'Q042Q369' 'Q174Q188Q674Q909' 'Q103Q174Q188Q752'\n",
            " 'Q012Q619Q668Q678Q729' 'Q270Q359Q369' 'Q647Q792' 'Q709Q713Q723'\n",
            " 'Q059Q564Q647Q792Q793' 'Q039Q059Q248Q458Q668' 'Q039Q356Q681Q740'\n",
            " 'Q000Q048' 'Q170Q178' 'Q713Q719' 'Q012' 'Q059Q336Q359Q423Q564'\n",
            " 'Q174Q674Q681' 'Q359Q369Q690Q699' 'Q039Q668Q753' 'Q174Q301' 'Q605' 'Q818'\n",
            " 'Q549Q552' 'Q623' 'Q02XQ078' 'Q103Q713Q848' 'Q249Q379Q792' 'Q658'\n",
            " 'Q103Q174Q564Q709' 'Q039Q189Q539Q549' 'Q188Q709' 'Q713Q718Q723' 'Q321'\n",
            " 'Q019Q178Q308' 'Q059Q069Q308Q562Q716' 'Q668Q674Q898' 'Q668Q898'\n",
            " 'Q161Q172' 'Q638Q699Q758' 'Q174Q564Q699' 'Q039Q170' 'Q249Q792' 'Q159'\n",
            " 'Q301Q379Q672Q743' 'Q174Q188Q768' 'Q665Q704' 'Q101Q709' 'Q188Q383Q793'\n",
            " 'Q158' 'Q188Q359' 'Q359Q674' 'Q541' 'Q668Q843' 'Q249Q422'\n",
            " 'Q174Q188Q674Q752Q828' 'Q423Q641Q649Q668' 'Q620Q795' 'Q678Q719Q729Q770'\n",
            " 'Q225' 'Q668Q719Q729' 'Q244' 'Q103Q674' 'Q690Q699' 'Q103Q174Q558Q752Q828'\n",
            " 'Q161Q165' 'Q375' 'Q174Q369' 'Q02XQ112Q308' 'Q042Q564Q639Q999' 'Q043'\n",
            " 'Q702' 'Q103Q174Q183' 'Q048Q532Q668Q798' 'Q174Q668'\n",
            " 'Q068Q435Q668Q749Q778' 'Q439' 'Q699Q719Q729Q753Q792' 'Q369Q729'\n",
            " 'Q174Q663Q665' 'Q174Q189Q758' 'Q660Q909' 'Q435' 'Q755' 'Q421'\n",
            " 'Q112Q172Q359Q369Q532' 'Q774Q969' 'Q174Q559Q690Q692Q752'\n",
            " 'Q439Q539Q668Q792' 'Q369Q549' 'Q059Q699' 'Q059Q558Q668' 'Q668Q753'\n",
            " 'Q000Q111Q423Q564Q639' 'Q539Q549Q668Q674Q719' 'Q664Q870' 'Q560Q898'\n",
            " 'Q680' 'Q249Q390' 'Q161Q174Q556Q668Q759' 'Q112Q174Q748Q758' 'Q386Q760'\n",
            " 'Q668Q741Q820' 'Q611Q678Q728' 'Q668Q712Q713' 'Q183Q564Q668Q740Q759'\n",
            " 'Q165Q369Q423' 'Q436' 'Q753Q793' 'Q043Q753' 'Q564Q641' 'Q212Q251' 'Q371'\n",
            " 'Q872' 'Q674Q752' 'Q160Q161Q690' 'Q019Q359Q759' 'Q690Q709' 'Q02XQ560'\n",
            " 'Q372' 'Q174Q668Q740' 'Q336Q719Q729Q771' 'Q666Q668' 'Q681Q713Q753Q792'\n",
            " 'Q248Q308Q458Q792Q795' 'Q174Q249Q359Q369Q564' 'Q336Q423Q532Q549Q668'\n",
            " 'Q549Q792' 'Q039Q174Q338Q564Q668' 'Q423Q549Q666Q701Q792'\n",
            " 'Q174Q249Q359Q728Q752' 'Q042Q048Q111Q303Q602' 'Q539Q549Q564'\n",
            " 'Q02XQ059Q174' 'Q768' 'Q831' 'Q02XQ681' 'Q278Q564Q668' 'Q713Q716'\n",
            " 'Q02XQ749' 'Q203']\n",
            "time: 15.6 ms (started: 2023-09-04 17:51:31 +00:00)\n"
          ]
        }
      ]
    },
    {
      "cell_type": "code",
      "source": [
        "print('Quantidade NaN: {}'.format(dados['CODANOMAL'].isnull().sum()))\n",
        "print('Percentual NaN: {}'.format(round(dados['CODANOMAL'].isnull().sum()/dados.shape[0]*100, 2)))"
      ],
      "metadata": {
        "colab": {
          "base_uri": "https://localhost:8080/"
        },
        "id": "lEtFp4qr5IEi",
        "outputId": "39fec5f8-0959-49ce-9138-ebe0ea817405"
      },
      "execution_count": 11,
      "outputs": [
        {
          "output_type": "stream",
          "name": "stdout",
          "text": [
            "Quantidade NaN: 197349\n",
            "Percentual NaN: 98.79\n",
            "time: 115 ms (started: 2023-09-07 11:29:06 +00:00)\n"
          ]
        }
      ]
    },
    {
      "cell_type": "markdown",
      "source": [
        "### 3) Apgar no primeiro minuto"
      ],
      "metadata": {
        "id": "zjaLI9_UG4q7"
      }
    },
    {
      "cell_type": "markdown",
      "source": [
        "A escala de Apgar foi proposta em 1953 pela médica Virgínia Apgar, inicialmente sendo uma rápida análise clínica do recém-nascido. Após mudanças, a escala tornou-se um padrão de avaliação do bebê, sendo a soma de cinco sinais, determinados nos primeiros um e cinco minutos de vida da criança. É uma avaliação feita na sala de parto e a pontuação é anotada na Caderneta da Criança.\n",
        "\n",
        "Os sinais são avaliados e, para cada um, é aplicada uma nota que varia de zero, nota que indica a ausência do sinal, e dois, nota que indica a plena existência desse sinal. Os sinais avaliados são: força muscular, frequência de batimentos do coração, reflexo, respiração e cor. A somatória desses sinais gera uma nota que varia de 0 a 10.\n",
        "\n",
        "O Apgar é afetado pela idade gestacional, pelo uso de medicações pela gestante, por condições neurológicas do recém-nascido e por possíveis manobras de intervenção cardiorrespiratória que ele demande.\n",
        "\n",
        "**Referência:**\n",
        "\n",
        "https://www.medicina.ufmg.br/observaped/escala-de-apgar/"
      ],
      "metadata": {
        "id": "KxkS4c1an5Vf"
      }
    },
    {
      "cell_type": "markdown",
      "source": [
        "> <b>Base de origem</b>: SINASC.<br>\n",
        "> <b>Tipo de variável</b>: Quantitativa discreta.<br>\n",
        "\n",
        "> <b>Nome da campo</b>: <font color=blue>APGAR1</font>.<br>\n",
        "> <b>Descrição do campo</b>: Apgar no 1º minuto 00 a a10.<br>\n",
        "> <b>Tipo da campo</b>: float64.<br>\n",
        "> <b>Possui valores nulos</b>: Sim.<br>\n",
        "> <b>Percentual de valores nulos</b>: 2,31%.<br>\n",
        "> <b>Intervalo de valores</b>: nan, 0.0, 1.0, 2.0, 3.0, 4.0, 5.0, 6.0, 7.0, 8.0, 9.0, 10.0, 99.0.<br>\n",
        "\n"
      ],
      "metadata": {
        "id": "M52cUe4IPb0q"
      }
    },
    {
      "cell_type": "code",
      "source": [
        "print(dados['APGAR1'].dtype)\n",
        "print(dados['APGAR1'].isnull().values.any())\n",
        "print('APGAR1 {}'.format(sorted(dados['APGAR1'].unique())))"
      ],
      "metadata": {
        "colab": {
          "base_uri": "https://localhost:8080/"
        },
        "id": "RQFpx59mG9Rq",
        "outputId": "c0b995e4-05dd-45e0-f67b-f4222288cd09"
      },
      "execution_count": null,
      "outputs": [
        {
          "output_type": "stream",
          "name": "stdout",
          "text": [
            "float64\n",
            "True\n",
            "APGAR1 [nan, 0.0, 1.0, 2.0, 3.0, 4.0, 5.0, 6.0, 7.0, 8.0, 9.0, 10.0, 99.0]\n",
            "time: 5.07 ms (started: 2023-09-04 17:51:32 +00:00)\n"
          ]
        }
      ]
    },
    {
      "cell_type": "code",
      "source": [
        "print('Quantidade NaN: {}'.format(dados['APGAR1'].isnull().sum()))\n",
        "print('Percentual NaN: {}'.format(dados['APGAR1'].isnull().sum()/dados.shape[0]*100))"
      ],
      "metadata": {
        "colab": {
          "base_uri": "https://localhost:8080/"
        },
        "id": "8TfoKP005LYi",
        "outputId": "09cc4192-ef8c-475c-ac88-54e3fd3e365c"
      },
      "execution_count": null,
      "outputs": [
        {
          "output_type": "stream",
          "name": "stdout",
          "text": [
            "Quantidade NaN: 4630\n",
            "Percentual NaN: 2.3176421120076887\n",
            "time: 2.28 ms (started: 2023-09-04 17:51:32 +00:00)\n"
          ]
        }
      ]
    },
    {
      "cell_type": "markdown",
      "source": [
        "### 4) Apgar no quinto minuto"
      ],
      "metadata": {
        "id": "uLyE0mBXHZb3"
      }
    },
    {
      "cell_type": "markdown",
      "source": [
        "> <b>Base de origem</b>: SINASC.<br>\n",
        "> <b>Tipo de variável</b>: Quantitativo discretos.<br>\n",
        "\n",
        "> <b>Nome do campo</b>: <font color=blue>APGAR5</font>.<br>\n",
        "> <b>Descrição do campo</b>: Apgar no 5º minuto 00 a 10.<br>\n",
        "> <b>Tipo do campo</b>: float64.<br>\n",
        "> <b>Possui valores nulos</b>: Sim.<br>\n",
        "> <b>Intervalo de valores</b>: nan, 0.0, 1.0, 2.0, 3.0, 4.0, 5.0, 6.0, 7.0, 8.0, 9.0, 10.0, 99.0.<br>\n"
      ],
      "metadata": {
        "id": "v7CDYY0lP4vy"
      }
    },
    {
      "cell_type": "code",
      "source": [
        "print(dados['APGAR5'].dtype)\n",
        "print(dados['APGAR5'].isna().unique())\n",
        "print('APGAR5 {}'.format(sorted(dados['APGAR5'].unique())))"
      ],
      "metadata": {
        "colab": {
          "base_uri": "https://localhost:8080/"
        },
        "id": "9rpDGgX2HcOu",
        "outputId": "bc11b901-57fd-4ad7-f105-a68ac881978c"
      },
      "execution_count": null,
      "outputs": [
        {
          "output_type": "stream",
          "name": "stdout",
          "text": [
            "float64\n",
            "[ True False]\n",
            "APGAR5 [nan, 0.0, 1.0, 2.0, 3.0, 4.0, 5.0, 6.0, 7.0, 8.0, 9.0, 10.0, 99.0]\n",
            "time: 10.5 ms (started: 2023-09-04 17:51:32 +00:00)\n"
          ]
        }
      ]
    },
    {
      "cell_type": "code",
      "source": [
        "print('Quantidade NaN: {}'.format(dados['APGAR5'].isnull().sum()))\n",
        "print('Percentual NaN: {}'.format(dados['APGAR5'].isnull().sum()/dados.shape[0]*100))"
      ],
      "metadata": {
        "colab": {
          "base_uri": "https://localhost:8080/"
        },
        "id": "HU1jfHSf5Moy",
        "outputId": "6afc5abe-3558-4403-a9ea-175255400021"
      },
      "execution_count": null,
      "outputs": [
        {
          "output_type": "stream",
          "name": "stdout",
          "text": [
            "Quantidade NaN: 4510\n",
            "Percentual NaN: 2.2575736339426946\n",
            "time: 4.4 ms (started: 2023-09-04 17:51:32 +00:00)\n"
          ]
        }
      ]
    },
    {
      "cell_type": "markdown",
      "source": [
        "### 5) Escolaridade da mãe"
      ],
      "metadata": {
        "id": "HTkElvkaHoU4"
      }
    },
    {
      "cell_type": "markdown",
      "source": [
        "\n",
        "> <b>Base de origem</b>: SIM e SINASC.<br>\n",
        "> <b>Tipo de variável</b>: Qualitativo ordinal.<br>\n",
        "\n",
        "> <b>Nome do campo</b>: <font color=blue>SERIESCMAE</font>.<br>\n",
        "> <b>Descrição do campo</b>: Última série escolar concluída pela mãe. (Números de 1 a 8).<br>\n",
        "> <b>Tipo do campo</b>: float64.<br>\n",
        "> <b>Possui valores Nulos</b>: Sim.<br>\n",
        "> <b>Intervalo de valores</b>: nan, 0.0, 1.0, 2.0, 3.0, 4.0, 5.0, 6.0, 7.0, 8.0.<br>\n",
        "\n",
        "\n",
        "> <b>Nome do campo</b>: <font color=blue>ESCMAE</font>.<br>\n",
        "> <b>Descrição do campo</b>: Escolaridade da mãe em anos. (1 – Nenhuma; 2 – de 1 a 3 anos; 3 – de 4 a 7 anos; 4 – de 8 a 11 anos; 5 – 12 anos e mais; 9 – Ignorado).<br>\n",
        "> <b>Tipo do campo</b>: object.<br>\n",
        "> <b>Possui valores Nulos</b>: Sim.<br>\n",
        "> <b>Intervalo de valores</b>: 'Nenhuma' '4_a_7_anos' '1_a_3_anos' 'Ignorado' '8_a_11_anos' '12_e_mais'\n",
        " nan '0'.<br>\n",
        "\n",
        "> <b>Nome do campo</b>: <font color=blue>ESCMAE2010</font>.<br>\n",
        "> <b>Descrição do campo</b>: Escolaridade 2010. Nível da última série concluída pela mãe. (0 – Sem escolaridade; 1 – Fundamental I (1ª a 4ª série); 2 – Fundamental II (5ª a 8ª série); 3 – Médio (antigo 2º Grau); 4 – Superior incompleto; 5 – Superior completo; 9 – Ignorado).<br>\n",
        "> <b>Tipo do campo</b>: object.<br>\n",
        "> <b>Possui valores Nulos</b>: Sim.<br>\n",
        "> <b>Intervalo de valores</b>: nan 'Ignorado' 'Sem_escolaridade' 'Fundamental_II_(5a_a_8a_serie)'\n",
        " 'Fundamental_I_(1a_a_4a_serie)' 'Medio_(antigo_2o_Grau)'\n",
        " 'Superior_incompleto' 'Superior_completo'.<br>\n",
        "\n",
        "> <b>Nome do campo</b>: <font color=blue>ESCMAEAGR1</font>.<br>\n",
        "> <b>Descrição do campo</b>: Escolaridade da mãe agregada (formulário a partir de 2010).<br>\n",
        "> <b>Tipo do campo</b>: object.<br>\n",
        "> <b>Possui valores Nulos</b>: Sim.<br>\n",
        "> <b>Intervalo de valores</b>: nan 'Ignorado' 'Sem_Escolaridade'\n",
        " 'Fundamental_II_Incompleto_ou_Inespecifico' 'Fundamental_I_Incompleto'\n",
        " 'Ensinomedio_Incompleto_ou_Inespecifico' 'Fundamental_II_Completo'\n",
        " 'Fundamental_I_Incompleto_ou_Inespecifico' 'Ensino_Medio_Completo'\n",
        " 'Fundamental_II_Incompleto' 'Superior_Incompleto'\n",
        " 'Fundamental_I_Completo' 'Ensino_Medio_Incompleto' 'Superior_Completo'.<br>"
      ],
      "metadata": {
        "id": "Dnif7NXlP-Tq"
      }
    },
    {
      "cell_type": "code",
      "source": [
        "print(dados['SERIESCMAE'].isna().unique())\n",
        "print(dados['SERIESCMAE'].dtype)\n",
        "print('SERIESCMAE {}'.format(sorted(dados['SERIESCMAE'].unique())))\n",
        "print()\n",
        "print(dados['ESCMAE'].isna().unique())\n",
        "print(dados['ESCMAE'].dtype)\n",
        "print('ESCMAE {}'.format(dados['ESCMAE'].unique()))\n",
        "print()\n",
        "print(dados['ESCMAE2010'].isna().unique())\n",
        "print(dados['ESCMAE2010'].dtype)\n",
        "print('ESCMAE2010 {}'.format(dados['ESCMAE2010'].unique()))\n",
        "print()\n",
        "print(dados['ESCMAEAGR1'].isna().unique())\n",
        "print(dados['ESCMAEAGR1'].dtype)\n",
        "print('ESCMAEAGR1 {}'.format(dados['ESCMAEAGR1'].unique()))"
      ],
      "metadata": {
        "colab": {
          "base_uri": "https://localhost:8080/"
        },
        "id": "e05vCsXr9yRr",
        "outputId": "eac753d4-5ed7-4c80-b500-ee7ec9234199"
      },
      "execution_count": null,
      "outputs": [
        {
          "output_type": "stream",
          "name": "stdout",
          "text": [
            "[ True False]\n",
            "float64\n",
            "SERIESCMAE [nan, 0.0, 1.0, 2.0, 3.0, 4.0, 5.0, 6.0, 7.0, 8.0]\n",
            "\n",
            "[False  True]\n",
            "object\n",
            "ESCMAE ['Nenhuma' '4_a_7_anos' '1_a_3_anos' 'Ignorado' '8_a_11_anos' '12_e_mais'\n",
            " nan '0']\n",
            "\n",
            "[ True False]\n",
            "object\n",
            "ESCMAE2010 [nan 'Ignorado' 'Sem_escolaridade' 'Fundamental_II_(5a_a_8a_serie)'\n",
            " 'Fundamental_I_(1a_a_4a_serie)' 'Medio_(antigo_2o_Grau)'\n",
            " 'Superior_incompleto' 'Superior_completo']\n",
            "\n",
            "[ True False]\n",
            "object\n",
            "ESCMAEAGR1 [nan 'Ignorado' 'Sem_Escolaridade'\n",
            " 'Fundamental_II_Incompleto_ou_Inespecifico' 'Fundamental_I_Incompleto'\n",
            " 'Ensinomedio_Incompleto_ou_Inespecifico' 'Fundamental_II_Completo'\n",
            " 'Fundamental_I_Incompleto_ou_Inespecifico' 'Ensino_Medio_Completo'\n",
            " 'Fundamental_II_Incompleto' 'Superior_Incompleto'\n",
            " 'Fundamental_I_Completo' 'Ensino_Medio_Incompleto' 'Superior_Completo']\n",
            "time: 58.4 ms (started: 2023-09-04 17:51:32 +00:00)\n"
          ]
        }
      ]
    },
    {
      "cell_type": "markdown",
      "source": [
        "### 6) Idade da mãe"
      ],
      "metadata": {
        "id": "akeg0kSiR09w"
      }
    },
    {
      "cell_type": "markdown",
      "source": [
        "> <b>Base de origem</b>: SIM.<br>\n",
        "> <b>Tipo de variável</b>: Quantitativa discreta.<br>\n",
        "\n",
        "> <b>Nome do campo</b>: <font color=blue>IDADEMAE</font>.<br>\n",
        "> <b>Descrição do campo</b>: Números.<br>\n",
        "> <b>Tipo do campo</b>: int64.<br>\n",
        "> <b>Possui valores Nulos</b>: Não.<br>\n",
        "> <b>Intervalo de valores</b>: Entre 11 e 60.<br>\n"
      ],
      "metadata": {
        "id": "iS74F5cMWGk9"
      }
    },
    {
      "cell_type": "code",
      "source": [
        "print(dados['IDADEMAE'].isna().unique())\n",
        "print(dados['IDADEMAE'].dtype)\n",
        "print('Entre %d e %s' %(dados['IDADEMAE'].min(), dados['IDADEMAE'].max()))\n",
        "print('IDADEMAE {}'.format(sorted(dados['IDADEMAE'].unique())))"
      ],
      "metadata": {
        "colab": {
          "base_uri": "https://localhost:8080/"
        },
        "id": "xuAF-F_UR4Me",
        "outputId": "edac567e-ffba-40e5-f4b3-4d6d88717f5f"
      },
      "execution_count": null,
      "outputs": [
        {
          "output_type": "stream",
          "name": "stdout",
          "text": [
            "[False]\n",
            "int64\n",
            "Entre 11 e 60\n",
            "IDADEMAE [11, 12, 13, 14, 15, 16, 17, 18, 19, 20, 21, 22, 23, 24, 25, 26, 27, 28, 29, 30, 31, 32, 33, 34, 35, 36, 37, 38, 39, 40, 41, 42, 43, 44, 45, 46, 47, 48, 49, 50, 51, 52, 53, 56, 58, 59, 60]\n",
            "time: 7.62 ms (started: 2023-09-04 17:51:32 +00:00)\n"
          ]
        }
      ]
    },
    {
      "cell_type": "markdown",
      "source": [
        "### 7) Idade do pai"
      ],
      "metadata": {
        "id": "F8kjRaQeSNg8"
      }
    },
    {
      "cell_type": "markdown",
      "source": [
        "> <b>Base de origem</b>: SINASC.<br>\n",
        "> <b>Tipo de variável</b>: Quantitativa discreta.<br>\n",
        "\n",
        "> <b>Nome do campo</b>: <font color=blue>IDADEPAI</font>.<br>\n",
        "> <b>Descrição do campo</b>: Números.<br>\n",
        "> <b>Tipo do campo</b>: float64.<br>\n",
        "> <b>Possui valores Nulos</b>: Sim.<br>\n",
        "> <b>Intervalo de valores</b>: 13 e 91.0.<br>\n"
      ],
      "metadata": {
        "id": "dDDTpk1vbLgH"
      }
    },
    {
      "cell_type": "code",
      "source": [
        "print(dados['IDADEPAI'].isna().unique())\n",
        "print(dados['IDADEPAI'].dtype)\n",
        "print('Entre %d e %s' %(dados['IDADEPAI'].min(), dados['IDADEPAI'].max()))\n",
        "print('IDADEPAI {}'.format(sorted(dados['IDADEPAI'].unique())))"
      ],
      "metadata": {
        "colab": {
          "base_uri": "https://localhost:8080/"
        },
        "id": "cPaCQJxrSPwp",
        "outputId": "434c4371-7a21-42fc-d8e2-a976b848d4ee"
      },
      "execution_count": null,
      "outputs": [
        {
          "output_type": "stream",
          "name": "stdout",
          "text": [
            "[ True False]\n",
            "float64\n",
            "Entre 13 e 91.0\n",
            "IDADEPAI [nan, 13.0, 14.0, 15.0, 16.0, 17.0, 18.0, 19.0, 20.0, 21.0, 22.0, 23.0, 24.0, 25.0, 26.0, 27.0, 28.0, 29.0, 30.0, 31.0, 32.0, 33.0, 34.0, 35.0, 36.0, 37.0, 38.0, 39.0, 40.0, 41.0, 42.0, 43.0, 44.0, 45.0, 46.0, 47.0, 48.0, 49.0, 50.0, 51.0, 52.0, 53.0, 54.0, 55.0, 56.0, 57.0, 58.0, 59.0, 60.0, 61.0, 62.0, 63.0, 64.0, 65.0, 66.0, 67.0, 68.0, 69.0, 70.0, 71.0, 72.0, 73.0, 74.0, 75.0, 76.0, 78.0, 82.0, 87.0, 88.0, 90.0, 91.0]\n",
            "time: 8.76 ms (started: 2023-09-04 17:51:32 +00:00)\n"
          ]
        }
      ]
    },
    {
      "cell_type": "code",
      "source": [
        "print('Quantidade NaN: {}'.format(dados['IDADEPAI'].isnull().sum()))\n",
        "print('Percentual NaN: {}'.format(dados['IDADEPAI'].isnull().sum()/dados.shape[0]*100))"
      ],
      "metadata": {
        "colab": {
          "base_uri": "https://localhost:8080/"
        },
        "id": "XLuZyKLg5UbC",
        "outputId": "998737f1-6f1b-44b4-eb5f-9de4e13b726b"
      },
      "execution_count": null,
      "outputs": [
        {
          "output_type": "stream",
          "name": "stdout",
          "text": [
            "Quantidade NaN: 168377\n",
            "Percentual NaN: 84.28458442624593\n",
            "time: 2.76 ms (started: 2023-09-04 17:51:32 +00:00)\n"
          ]
        }
      ]
    },
    {
      "cell_type": "markdown",
      "source": [
        "### 8) Local de nascimento"
      ],
      "metadata": {
        "id": "1UWkZtTl6Qv3"
      }
    },
    {
      "cell_type": "markdown",
      "source": [
        "> <b>Base de origem</b>: SINASC.<br>\n",
        "> <b>Tipo de variável</b>: Qualitativo nominal.<br>\n",
        "\n",
        "> <b>Nome do campo</b>: <font color=blue>LOCNASC</font>.<br>\n",
        "> <b>Descrição do campo</b>: Local de nascimento: 1 – Hospital; 2 – Outros estabelecimentos de saúde; 3 –\n",
        "Domicílio; 4 – Outros; 5- Aldeia Indígena..<br>\n",
        "> <b>Tipo do campo</b>: object.<br>\n",
        "> <b>Possui valores Nulos</b>: Não.<br>\n",
        "> <b>Intervalo de valores</b>: 'Domicilio', 'Hospital', 'Ignorado', 'Outro_Estab_Saude', 'Outros'.<br>\n"
      ],
      "metadata": {
        "id": "en17Ny3AV6Jm"
      }
    },
    {
      "cell_type": "code",
      "source": [
        "print(dados['LOCNASC'].isna().unique())\n",
        "print(dados['LOCNASC'].dtype)\n",
        "print('LOCNASC {}'.format(sorted(dados['LOCNASC'].unique())))"
      ],
      "metadata": {
        "colab": {
          "base_uri": "https://localhost:8080/"
        },
        "id": "QrdobNH46VKP",
        "outputId": "4fdc6173-26dc-4408-926a-050f00f08baa"
      },
      "execution_count": null,
      "outputs": [
        {
          "output_type": "stream",
          "name": "stdout",
          "text": [
            "[False]\n",
            "object\n",
            "LOCNASC ['Domicilio', 'Hospital', 'Ignorado', 'Outro_Estab_Saude', 'Outros']\n",
            "time: 19.3 ms (started: 2023-09-04 17:51:32 +00:00)\n"
          ]
        }
      ]
    },
    {
      "cell_type": "markdown",
      "source": [
        "### 9) Número de filhos vivos"
      ],
      "metadata": {
        "id": "mjTQLcnT0K4W"
      }
    },
    {
      "cell_type": "markdown",
      "source": [
        "> <b>Base de origem</b>: SIM e SINASC.<br>\n",
        "> <b>Tipo de variável</b>: Quantitativo discreto.<br>\n",
        "\n",
        "> <b>Nome do campo</b>: <font color=blue>QTDFILVIVO</font>.<br>\n",
        "> <b>Descrição do campo</b>: Número de filhos vivos. (Número; 9 - igonorado).<br>\n",
        "> <b>Tipo do campo</b>: float64.<br>\n",
        "> <b>Possui valores Nulos</b>: Sim.<br>\n",
        "> <b>Intervalo de valores</b>: Entre 0 e 20.0.<br>\n"
      ],
      "metadata": {
        "id": "UACyBs40bDSi"
      }
    },
    {
      "cell_type": "code",
      "source": [
        "print('Quantidade NaN: {}'.format(dados['QTDFILVIVO'].isnull().sum()))\n",
        "print('Percentual NaN: {}'.format(dados['QTDFILVIVO'].isnull().sum()/dados.shape[0]*100))"
      ],
      "metadata": {
        "colab": {
          "base_uri": "https://localhost:8080/"
        },
        "id": "7VXbqY3u5asK",
        "outputId": "8f923338-e4c0-4430-ebca-ae323c99cec5"
      },
      "execution_count": null,
      "outputs": [
        {
          "output_type": "stream",
          "name": "stdout",
          "text": [
            "Quantidade NaN: 22847\n",
            "Percentual NaN: 11.436537652924333\n",
            "time: 2.37 ms (started: 2023-09-04 17:51:32 +00:00)\n"
          ]
        }
      ]
    },
    {
      "cell_type": "markdown",
      "source": [
        "### 10) Número de consultas pré-natal"
      ],
      "metadata": {
        "id": "NRzAxRjmTzu_"
      }
    },
    {
      "cell_type": "markdown",
      "source": [
        "> <b>Base de origem</b>: SINASC.<br>\n",
        "\n",
        "> <b>Nome do campo</b>: <font color=blue>CONSULTAS</font>.<br>\n",
        "> <b>Descrição do campo</b>: Número de consultas de pré‐natal. Valores: 1– Nenhuma; 2– de 1 a 3; 3– de 4 a 6;\n",
        "4– 7 e mais; 9– Ignorado..<br>\n",
        "> <b>Tipo de variável</b>: Qualitativa ordinal.<br>\n",
        "> <b>Tipo do campo</b>: object.<br>\n",
        "> <b>Possui valores Nulos</b>: Sim (Ignorado).<br>\n",
        "> <b>Intervalo de valores</b>: '7_e_mais' 'de_4_a_6' 'de_1_a_3' 'Nenhuma' 'Ignorado'.<br>\n",
        "\n",
        "\n",
        "> <b>Nome do campo</b>: <font color=blue>CONSPRENAT</font>.<br>\n",
        "> <b>Tipo de variável</b>: Quantitativo discreto.<br>\n",
        "> <b>Descrição do campo</b>: Número de consultas pré‐natal.<br>\n",
        "> <b>Tipo do campo</b>: float64.<br>\n",
        "> <b>Possui valores Nulos</b>: Sim.<br>\n",
        "> <b>Intervalo de valores</b>: Entre 0 e 99.0.<br>\n",
        ">"
      ],
      "metadata": {
        "id": "-JjbbSTnZAqY"
      }
    },
    {
      "cell_type": "code",
      "source": [
        "print(dados['CONSULTAS'].isna().unique())\n",
        "print(dados['CONSULTAS'].dtype)\n",
        "print('CONSULTAS {}'.format(sorted(dados['CONSULTAS'].unique())))\n",
        "print()\n",
        "print(dados['CONSPRENAT'].isna().unique())\n",
        "print(dados['CONSPRENAT'].dtype)\n",
        "print('Entre %d e %s' %(dados['CONSPRENAT'].min(), dados['CONSPRENAT'].max()))\n",
        "print('CONSPRENAT {}'.format(sorted(dados['CONSPRENAT'].unique())))"
      ],
      "metadata": {
        "colab": {
          "base_uri": "https://localhost:8080/"
        },
        "id": "ImpDKZ2Y0Mm0",
        "outputId": "3295cae1-093b-4880-f5ab-35fb537fe688"
      },
      "execution_count": null,
      "outputs": [
        {
          "output_type": "stream",
          "name": "stdout",
          "text": [
            "[False]\n",
            "object\n",
            "CONSULTAS ['7_e_mais', 'Ignorado', 'Nenhuma', 'de_1_a_3', 'de_4_a_6']\n",
            "\n",
            "[ True False]\n",
            "float64\n",
            "Entre 0 e 99.0\n",
            "CONSPRENAT [nan, 0.0, 1.0, 2.0, 3.0, 4.0, 5.0, 6.0, 7.0, 8.0, 9.0, 10.0, 11.0, 12.0, 13.0, 14.0, 15.0, 16.0, 17.0, 18.0, 19.0, 20.0, 21.0, 22.0, 23.0, 24.0, 25.0, 27.0, 30.0, 33.0, 34.0, 35.0, 36.0, 37.0, 38.0, 39.0, 40.0, 41.0, 45.0, 47.0, 70.0, 71.0, 99.0]\n",
            "time: 29.1 ms (started: 2023-09-04 17:51:32 +00:00)\n"
          ]
        }
      ]
    },
    {
      "cell_type": "code",
      "source": [
        "print('Quantidade NaN: {}'.format(dados['QTDFILVIVO'].isnull().sum()))\n",
        "print('Percentual NaN: {}'.format(dados['QTDFILVIVO'].isnull().sum()/dados.shape[0]*100))"
      ],
      "metadata": {
        "id": "J38LAWh85dWF",
        "outputId": "9c88843f-6593-424e-9fa6-addad966df2b",
        "colab": {
          "base_uri": "https://localhost:8080/"
        }
      },
      "execution_count": null,
      "outputs": [
        {
          "output_type": "stream",
          "name": "stdout",
          "text": [
            "Quantidade NaN: 22847\n",
            "Percentual NaN: 11.436537652924333\n",
            "time: 2.79 ms (started: 2023-09-04 17:51:32 +00:00)\n"
          ]
        }
      ]
    },
    {
      "cell_type": "markdown",
      "source": [
        "### 11) Número de gestações anteriores"
      ],
      "metadata": {
        "id": "OziAOXxn0cLw"
      }
    },
    {
      "cell_type": "markdown",
      "source": [
        "> <b>Base de origem</b>: SINASC.<br>\n",
        "\n",
        "> <b>Nome do campo</b>: <font color=blue>QTDGESTANT</font>.<br>\n",
        "> <b>Tipo de variável</b>: Quantitativa discreta.<br>\n",
        "> <b>Descrição do campo</b>: Número de gestações anteriores.<br>\n",
        "> <b>Tipo do campo</b>: float64.<br>\n",
        "> <b>Possui valores Nulos</b>: Sim.<br>\n",
        "> <b>Intervalo de valores</b>: Entre 0 e 42.0.<br>\n",
        "> <b>Tipo de dados</b>: .<br>"
      ],
      "metadata": {
        "id": "i989Q-VPbvQB"
      }
    },
    {
      "cell_type": "code",
      "source": [
        "print(dados['QTDGESTANT'].isna().unique())\n",
        "print(dados['QTDGESTANT'].dtype)\n",
        "print('Entre %d e %s' %(dados['QTDGESTANT'].min(), dados['QTDGESTANT'].max()))\n",
        "print('QTDGESTANT {}'.format(sorted(dados['QTDGESTANT'].unique())))"
      ],
      "metadata": {
        "colab": {
          "base_uri": "https://localhost:8080/"
        },
        "id": "GEVGRmrN0dcP",
        "outputId": "8fbfca5d-4025-4ce2-b6c3-a08c06c11cba"
      },
      "execution_count": null,
      "outputs": [
        {
          "output_type": "stream",
          "name": "stdout",
          "text": [
            "[ True False]\n",
            "float64\n",
            "Entre 0 e 42.0\n",
            "QTDGESTANT [nan, 0.0, 1.0, 2.0, 3.0, 4.0, 5.0, 6.0, 7.0, 8.0, 9.0, 10.0, 11.0, 12.0, 13.0, 14.0, 15.0, 16.0, 17.0, 19.0, 20.0, 21.0, 30.0, 39.0, 42.0]\n",
            "time: 9.69 ms (started: 2023-09-04 17:51:32 +00:00)\n"
          ]
        }
      ]
    },
    {
      "cell_type": "code",
      "source": [
        "print('Quantidade NaN: {}'.format(dados['QTDFILVIVO'].isnull().sum()))\n",
        "print('Percentual NaN: {}'.format(dados['QTDFILVIVO'].isnull().sum()/dados.shape[0]*100))"
      ],
      "metadata": {
        "id": "DFlntP2E5fT5",
        "outputId": "75d4ce67-5b6c-468a-8018-5e55647bb62b",
        "colab": {
          "base_uri": "https://localhost:8080/"
        }
      },
      "execution_count": null,
      "outputs": [
        {
          "output_type": "stream",
          "name": "stdout",
          "text": [
            "Quantidade NaN: 22847\n",
            "Percentual NaN: 11.436537652924333\n",
            "time: 2.86 ms (started: 2023-09-04 17:51:32 +00:00)\n"
          ]
        }
      ]
    },
    {
      "cell_type": "markdown",
      "source": [
        "### 12) Número de partos cesáreos"
      ],
      "metadata": {
        "id": "U1THhm4b0vMa"
      }
    },
    {
      "cell_type": "markdown",
      "source": [
        "> <b>Base de origem</b>: SINASC.<br>\n",
        "> <b>Tipo de variável</b>: Quantitativo discreto.<br>\n",
        "\n",
        "> <b>Nome do campo</b>: <font color=blue>QTDPARTCES</font>.<br>\n",
        "> <b>Descrição do campo</b>: Número de partos cesáreos.<br>\n",
        "> <b>Tipo do campo</b>: float64.<br>\n",
        "> <b>Possui valores Nulos</b>: Sim.<br>\n",
        "> <b>Percentual de valores nulos</b>: 20,9%.<br>\n",
        "> <b>Intervalo de valores</b>: Entre 0 e 21.0.<br>\n"
      ],
      "metadata": {
        "id": "wZvXmllBgHkr"
      }
    },
    {
      "cell_type": "code",
      "source": [
        "print(dados['QTDPARTCES'].isna().unique())\n",
        "print(dados['QTDPARTCES'].dtype)\n",
        "print('Entre %d e %s' %(dados['QTDPARTCES'].min(), dados['QTDPARTCES'].max()))\n",
        "print('QTDPARTCES {}'.format(sorted(dados['QTDPARTCES'].unique())))"
      ],
      "metadata": {
        "colab": {
          "base_uri": "https://localhost:8080/"
        },
        "id": "9zFLyyIV0ywT",
        "outputId": "27edacbd-006e-4fae-90c1-883e92c0c8fa"
      },
      "execution_count": null,
      "outputs": [
        {
          "output_type": "stream",
          "name": "stdout",
          "text": [
            "[ True False]\n",
            "float64\n",
            "Entre 0 e 21.0\n",
            "QTDPARTCES [nan, 0.0, 1.0, 2.0, 3.0, 4.0, 5.0, 6.0, 7.0, 8.0, 10.0, 11.0, 14.0, 20.0, 21.0]\n",
            "time: 10.5 ms (started: 2023-09-04 17:51:32 +00:00)\n"
          ]
        }
      ]
    },
    {
      "cell_type": "code",
      "source": [
        "print('Quantidade NaN: {}'.format(dados['QTDPARTCES'].isnull().sum()))\n",
        "print('Percentual NaN: {}'.format(dados['QTDPARTCES'].isnull().sum()/dados.shape[0]*100))"
      ],
      "metadata": {
        "colab": {
          "base_uri": "https://localhost:8080/"
        },
        "id": "vhZGKHZpK6eq",
        "outputId": "d0e7759c-1843-4c11-bf75-1928f5eb02ae"
      },
      "execution_count": null,
      "outputs": [
        {
          "output_type": "stream",
          "name": "stdout",
          "text": [
            "Quantidade NaN: 41772\n",
            "Percentual NaN: 20.909837214424442\n",
            "time: 4.31 ms (started: 2023-09-04 17:51:32 +00:00)\n"
          ]
        }
      ]
    },
    {
      "cell_type": "markdown",
      "source": [
        "### 13) Número de partos vaginais"
      ],
      "metadata": {
        "id": "Khd28BLr08VH"
      }
    },
    {
      "cell_type": "markdown",
      "source": [
        "> <b>Base de origem</b>: SINASC.<br>\n",
        "> <b>Tipo de variável</b>: Quantitativo discreto.<br>\n",
        "\n",
        "> <b>Nome do campo</b>: <font color=blue>QTDPARTNOR</font>.<br>\n",
        "> <b>Descrição do campo</b>: Número de partos vaginais.<br>\n",
        "> <b>Tipo do campo</b>: float64.<br>\n",
        "> <b>Possui valores Nulos</b>: Sim.<br>\n",
        "> <b>Intervalo de valores</b>: Entre 0 e 60.0.<br>\n",
        "\n"
      ],
      "metadata": {
        "id": "bARGkby4gU4x"
      }
    },
    {
      "cell_type": "code",
      "source": [
        "print(dados['QTDPARTNOR'].isna().unique())\n",
        "print(dados['QTDPARTNOR'].dtype)\n",
        "print('Entre %d e %s' %(dados['QTDPARTNOR'].min(), dados['QTDPARTNOR'].max()))\n",
        "print('QTDPARTNOR {}'.format(sorted(dados['QTDPARTNOR'].unique())))"
      ],
      "metadata": {
        "colab": {
          "base_uri": "https://localhost:8080/"
        },
        "id": "3u_fwBSc0-V6",
        "outputId": "7d049759-ce9d-41ed-c046-b2543f08bdda"
      },
      "execution_count": null,
      "outputs": [
        {
          "output_type": "stream",
          "name": "stdout",
          "text": [
            "[ True False]\n",
            "float64\n",
            "Entre 0 e 60.0\n",
            "QTDPARTNOR [nan, 0.0, 1.0, 2.0, 3.0, 4.0, 5.0, 6.0, 7.0, 8.0, 9.0, 10.0, 11.0, 12.0, 13.0, 14.0, 15.0, 16.0, 17.0, 19.0, 20.0, 21.0, 22.0, 25.0, 30.0, 33.0, 36.0, 38.0, 39.0, 47.0, 60.0]\n",
            "time: 12.4 ms (started: 2023-09-04 17:51:32 +00:00)\n"
          ]
        }
      ]
    },
    {
      "cell_type": "code",
      "source": [
        "print('Quantidade NaN: {}'.format(dados['QTDPARTNOR'].isnull().sum()))\n",
        "print('Percentual NaN: {}'.format(dados['QTDPARTNOR'].isnull().sum()/dados.shape[0]*100))"
      ],
      "metadata": {
        "colab": {
          "base_uri": "https://localhost:8080/"
        },
        "id": "a0sQ5uPmMqPa",
        "outputId": "b498b19c-5163-4d7c-9641-bfd28edd9237"
      },
      "execution_count": null,
      "outputs": [
        {
          "output_type": "stream",
          "name": "stdout",
          "text": [
            "Quantidade NaN: 26905\n",
            "Percentual NaN: 13.467853352822218\n",
            "time: 2.22 ms (started: 2023-09-04 17:51:32 +00:00)\n"
          ]
        }
      ]
    },
    {
      "cell_type": "markdown",
      "source": [
        "### 14) Número de perdas fetais e abortos"
      ],
      "metadata": {
        "id": "9-j3B3Xe6jHH"
      }
    },
    {
      "cell_type": "markdown",
      "source": [
        "> <b>Base de origem</b>: SINASC.<br>\n",
        "> <b>Tipo de dados</b>: Quantitativo discreto.<br>\n",
        "\n",
        "> <b>Nome do campo</b>: <font color=blue>QTDFILMORT</font>.<br>\n",
        "> <b>Descrição do campo</b>: Número de perdas fetais e abortos.<br>\n",
        "> <b>Tipo do campo</b>: float64.<br>\n",
        "> <b>Possui valores Nulos</b>: Sim.<br>\n",
        "> <b>Intervalo de valores</b>: Entre 0 e 20.0.<br>\n",
        "\n"
      ],
      "metadata": {
        "id": "_AiFWc8CX3oH"
      }
    },
    {
      "cell_type": "code",
      "source": [
        "print(dados['QTDFILMORT'].isna().unique())\n",
        "print(dados['QTDFILMORT'].dtype)\n",
        "print('Entre %d e %s' %(dados['QTDFILMORT'].min(), dados['QTDFILMORT'].max()))\n",
        "print('QTDFILMORT {}'.format(sorted(dados['QTDFILMORT'].unique())))"
      ],
      "metadata": {
        "colab": {
          "base_uri": "https://localhost:8080/"
        },
        "id": "NO5rg8SjmSA7",
        "outputId": "6c2354c9-02f6-47c9-c739-b5518e89ac4c"
      },
      "execution_count": null,
      "outputs": [
        {
          "output_type": "stream",
          "name": "stdout",
          "text": [
            "[False  True]\n",
            "float64\n",
            "Entre 0 e 20.0\n",
            "QTDFILMORT [0.0, nan, 1.0, 2.0, 3.0, 4.0, 5.0, 6.0, 7.0, 8.0, 9.0, 10.0, 11.0, 12.0, 13.0, 14.0, 20.0]\n",
            "time: 14.8 ms (started: 2023-09-04 17:51:32 +00:00)\n"
          ]
        }
      ]
    },
    {
      "cell_type": "markdown",
      "source": [
        "### 15) Óbito Neo Natal"
      ],
      "metadata": {
        "id": "0cuQPiAM8l_-"
      }
    },
    {
      "cell_type": "markdown",
      "source": [
        "> <b>Base de origem</b>: ?<br>\n",
        "> <b>Tipo de dados</b>: Qualitativo nominal.<br>\n",
        "\n",
        "> <b>Nome do campo</b>: <font color=blue>OBT_NEONATAL</font>.<br>\n",
        "> <b>Descrição do campo</b>: .<br>\n",
        "> <b>Tipo do campo</b>: object.<br>\n",
        "> <b>Possui valores Nulos</b>: Não.<br>\n",
        "> <b>Intervalo de valores</b>: 'Nao', 'Sim'.<br>\n"
      ],
      "metadata": {
        "id": "XS7yhyoPhalq"
      }
    },
    {
      "cell_type": "code",
      "source": [
        "print(dados['OBT_NEONATAL'].isna().unique())\n",
        "print(dados['OBT_NEONATAL'].dtype)\n",
        "print('OBT_NEONATAL {}'.format(sorted(dados['OBT_NEONATAL'].unique())))"
      ],
      "metadata": {
        "colab": {
          "base_uri": "https://localhost:8080/"
        },
        "id": "YrbMXBQf8pTo",
        "outputId": "2eb40a61-9694-447e-fc97-944d0f5a8c06"
      },
      "execution_count": null,
      "outputs": [
        {
          "output_type": "stream",
          "name": "stdout",
          "text": [
            "[False]\n",
            "object\n",
            "OBT_NEONATAL ['Nao', 'Sim']\n",
            "time: 32.2 ms (started: 2023-09-04 17:51:32 +00:00)\n"
          ]
        }
      ]
    },
    {
      "cell_type": "markdown",
      "source": [
        "### 16) Número de semanas de gestação"
      ],
      "metadata": {
        "id": "y2BSjBoh1TS1"
      }
    },
    {
      "cell_type": "markdown",
      "source": [
        "> <b>Base de origem</b>: SIM e SINASC.<br>\n",
        "\n",
        "> <b>Nome do campo</b>: <font color=blue>GESTACAO</font>.<br>\n",
        "> <b>Descrição do campo</b>: Faixas de semanas de gestação (1 - Menos de 22 semanas; 2 - 22 a 27 semanas; 3 - 28 a 31 semanas; 4 - 32 a 36 semanas; 5 - 37 a 41 semanas; 6 - 42 e + semanas)+.<br>\n",
        "> <b>Tipo do campo</b>: object.<br>\n",
        "> <b>Possui valores Nulos</b>: Sim.<br>\n",
        "> <b>Intervalo de valores</b>: '37_a_41_semanas' '32_a_36_semanas' '22_a_27_semanas' nan '42_semanas_e_mais' 'Ignorado' '28_a_31_semanas' 'Menos_de_22_semanas'.<br>\n",
        "> <b>Tipo de dados</b>: .<br>\n",
        "\n",
        "> <b>Nome do campo</b>: <font color=blue>SEMAGESTAC</font>.<br>\n",
        "> <b>Descrição do campo</b>: Semanas de gestação com dois algarismos. (Números com dois algarismos; 9- igonorado).<br>\n",
        "> <b>Tipo do campo</b>: float64.<br>\n",
        "> <b>Possui valores Nulos</b>: Sim.<br>\n",
        "> <b>Intervalo de valores</b>: Entre 19 e 45.0.<br>\n",
        "> <b>Tipo de dados</b>: .<br>"
      ],
      "metadata": {
        "id": "hP6VKNPQguCY"
      }
    },
    {
      "cell_type": "code",
      "source": [
        "print(dados['GESTACAO'].isna().unique())\n",
        "print(dados['GESTACAO'].dtype)\n",
        "print('GESTACAO {}'.format(dados['GESTACAO'].unique()))\n",
        "print()\n",
        "print(dados['SEMAGESTAC'].isna().unique())\n",
        "print(dados['SEMAGESTAC'].dtype)\n",
        "print('Entre %d e %s' %(dados['SEMAGESTAC'].min(), dados['SEMAGESTAC'].max()))\n",
        "print('SEMAGESTAC {}'.format(sorted(dados['SEMAGESTAC'].unique())))"
      ],
      "metadata": {
        "id": "V59GfAzo1ZSA",
        "colab": {
          "base_uri": "https://localhost:8080/"
        },
        "outputId": "bdfab22f-c0a3-47da-8975-29fec4de819c"
      },
      "execution_count": null,
      "outputs": [
        {
          "output_type": "stream",
          "name": "stdout",
          "text": [
            "[False  True]\n",
            "object\n",
            "GESTACAO ['37_a_41_semanas' '32_a_36_semanas' '22_a_27_semanas' nan\n",
            " '42_semanas_e_mais' 'Ignorado' '28_a_31_semanas' 'Menos_de_22_semanas']\n",
            "\n",
            "[ True False]\n",
            "float64\n",
            "Entre 19 e 45.0\n",
            "SEMAGESTAC [nan, 19.0, 20.0, 21.0, 22.0, 23.0, 24.0, 25.0, 26.0, 27.0, 28.0, 29.0, 30.0, 31.0, 32.0, 33.0, 34.0, 35.0, 36.0, 37.0, 38.0, 39.0, 40.0, 41.0, 42.0, 43.0, 44.0, 45.0]\n",
            "time: 29 ms (started: 2023-09-04 17:51:32 +00:00)\n"
          ]
        }
      ]
    },
    {
      "cell_type": "markdown",
      "source": [
        "### 17) Peso ao nascer em gramas"
      ],
      "metadata": {
        "id": "x9OM1zeI2Au6"
      }
    },
    {
      "cell_type": "markdown",
      "source": [
        "> <b>Base de origem</b>: SIM e SINASC.<br>\n",
        "> <b>Tipo de dados</b>: Quantitativo discreta.<br>\n",
        "\n",
        "> <b>Nome do campo</b>: <font color=blue>PESO (PESONASC)</font>.<br>\n",
        "> <b>Descrição do campo</b>: Peso ao nascer, em gramas.<br>\n",
        "> <b>Tipo do campo</b>: float64.<br>\n",
        "> <b>Possui valores Nulos</b>: Sim.<br>\n",
        "> <b>Intervalo de valores</b>: Entre 100 e 6180.0.<br>\n",
        "\n"
      ],
      "metadata": {
        "id": "X9m-PKNMhxmd"
      }
    },
    {
      "cell_type": "code",
      "source": [
        "print(dados['PESO'].isna().unique())\n",
        "print(dados['PESO'].dtype)\n",
        "print('Entre %d e %s' %(dados['PESO'].min(), dados['PESO'].max()))\n",
        "print('PESO {}'.format(sorted(dados['PESO'].unique())))"
      ],
      "metadata": {
        "colab": {
          "base_uri": "https://localhost:8080/"
        },
        "id": "GHt8WUdU2B65",
        "outputId": "7a0e5d99-26a2-4795-9e4f-5eb4021e6d2a"
      },
      "execution_count": null,
      "outputs": [
        {
          "output_type": "stream",
          "name": "stdout",
          "text": [
            "[False  True]\n",
            "float64\n",
            "Entre 100 e 6180.0\n",
            "PESO [100.0, 170.0, 188.0, 204.0, 230.0, 314.0, 334.0, 415.0, 430.0, 432.0, 534.0, 560.0, 588.0, 600.0, 614.0, 615.0, 670.0, 760.0, 850.0, 890.0, 918.0, 980.0, 995.0, 1000.0, 1038.0, 1072.0, 1075.0, 1126.0, 1150.0, 1152.0, 1160.0, 1210.0, 1290.0, 1334.0, 1356.0, 1400.0, 1445.0, 1450.0, 1460.0, 1472.0, 1474.0, 1500.0, 1502.0, 1512.0, 1520.0, 1548.0, 1570.0, 1572.0, 1575.0, 1600.0, 1605.0, 1610.0, 1630.0, 1634.0, 1678.0, 1690.0, 1700.0, 1736.0, 1745.0, 1755.0, 1760.0, 1785.0, 1790.0, 1800.0, 1810.0, 1826.0, 1830.0, 1850.0, 1870.0, 1875.0, 1885.0, 1890.0, 1900.0, 1910.0, 1944.0, 1950.0, 1955.0, 1960.0, 1974.0, 1975.0, 1985.0, 1992.0, 1994.0, 1996.0, 2010.0, 2015.0, 2020.0, 2030.0, 2040.0, 2045.0, 2060.0, 2065.0, 2070.0, 2074.0, 2080.0, 2085.0, 2090.0, 2130.0, 2135.0, 2140.0, 2145.0, 2150.0, 2154.0, 2160.0, 2165.0, 2172.0, 2180.0, 2186.0, 2190.0, 2194.0, 2195.0, 2210.0, 2215.0, 2218.0, 2222.0, 2225.0, 2236.0, 2238.0, 2242.0, 2245.0, 2250.0, 2255.0, 2260.0, 2265.0, 2270.0, 2274.0, 2280.0, 2300.0, 2315.0, 2320.0, 2325.0, 2330.0, 2335.0, 2338.0, 2340.0, 2345.0, 2350.0, 2358.0, 2360.0, 2365.0, 2370.0, 2374.0, 2380.0, 2385.0, 2390.0, 2392.0, 2400.0, 2405.0, 2410.0, 2414.0, 2415.0, 2420.0, 2430.0, 2432.0, 2435.0, 2440.0, 2442.0, 2445.0, 2455.0, 2460.0, 2464.0, 2465.0, 2468.0, 2470.0, 2474.0, 2475.0, 2480.0, 2485.0, 2488.0, 2490.0, 2495.0, 2505.0, 2510.0, 2515.0, 2516.0, 2520.0, 2525.0, 2530.0, 2535.0, 2536.0, 2538.0, 2540.0, 2545.0, 2554.0, 2555.0, 2560.0, 2565.0, 2570.0, 2585.0, 2590.0, 2595.0, 2600.0, 2602.0, 2604.0, 2605.0, 2606.0, 2610.0, 2615.0, 2620.0, 2624.0, 2625.0, 2630.0, 2634.0, 2635.0, 2640.0, 2644.0, 2645.0, 2646.0, 2650.0, 2654.0, 2656.0, 2660.0, 2665.0, 2666.0, 2672.0, 2674.0, 2675.0, 2676.0, 2680.0, 2685.0, 2690.0, 2692.0, 2695.0, 2696.0, 2705.0, 2708.0, 2710.0, 2714.0, 2715.0, 2716.0, 2718.0, 2720.0, 2725.0, 2732.0, 2735.0, 2742.0, 2745.0, 2748.0, 2750.0, 2755.0, 2756.0, 2765.0, 2766.0, 2770.0, 2775.0, 2778.0, 2784.0, 2785.0, 2788.0, 2790.0, 2795.0, 2805.0, 2812.0, 2815.0, 2816.0, 2818.0, 2824.0, 2825.0, 2826.0, 2830.0, 2832.0, 2835.0, 2836.0, 2840.0, 2845.0, 2852.0, 2860.0, 2862.0, 2865.0, 2866.0, 2870.0, 2874.0, 2875.0, 2878.0, 2880.0, 2885.0, 2889.0, 2890.0, 2894.0, 2895.0, 2896.0, 2905.0, 2906.0, 2910.0, 2915.0, 2916.0, 2918.0, 2920.0, 2922.0, 2924.0, 2925.0, 2926.0, 2930.0, 2934.0, 2935.0, 2936.0, 2938.0, 2940.0, 2942.0, 2943.0, 2944.0, 2945.0, 2950.0, 2954.0, 2955.0, 2956.0, 2958.0, 2960.0, 2965.0, 2968.0, 2970.0, 2972.0, 2974.0, 2975.0, 2978.0, 2979.0, 2980.0, 2984.0, 2985.0, 2988.0, 2992.0, 2995.0, 2996.0, 3000.0, nan, 104.0, 134.0, 142.0, 150.0, 155.0, 165.0, 174.0, 180.0, 182.0, 190.0, 196.0, 200.0, 202.0, 208.0, 210.0, 214.0, 215.0, 225.0, 226.0, 235.0, 240.0, 242.0, 243.0, 245.0, 246.0, 250.0, 251.0, 255.0, 256.0, 259.0, 260.0, 262.0, 264.0, 265.0, 266.0, 268.0, 270.0, 272.0, 275.0, 277.0, 278.0, 280.0, 288.0, 290.0, 292.0, 295.0, 296.0, 300.0, 302.0, 303.0, 304.0, 305.0, 306.0, 308.0, 309.0, 310.0, 315.0, 316.0, 318.0, 322.0, 325.0, 326.0, 330.0, 335.0, 336.0, 337.0, 338.0, 339.0, 340.0, 342.0, 343.0, 344.0, 346.0, 347.0, 348.0, 350.0, 354.0, 355.0, 357.0, 358.0, 360.0, 362.0, 364.0, 365.0, 368.0, 370.0, 371.0, 372.0, 375.0, 377.0, 378.0, 380.0, 381.0, 384.0, 385.0, 386.0, 390.0, 392.0, 393.0, 394.0, 395.0, 396.0, 398.0, 400.0, 402.0, 405.0, 408.0, 410.0, 411.0, 416.0, 420.0, 422.0, 425.0, 426.0, 428.0, 434.0, 435.0, 436.0, 440.0, 445.0, 448.0, 450.0, 454.0, 455.0, 458.0, 459.0, 460.0, 462.0, 463.0, 464.0, 465.0, 466.0, 467.0, 468.0, 470.0, 472.0, 474.0, 475.0, 476.0, 480.0, 482.0, 484.0, 485.0, 490.0, 492.0, 495.0, 496.0, 498.0, 500.0, 504.0, 505.0, 506.0, 508.0, 509.0, 510.0, 512.0, 515.0, 516.0, 518.0, 520.0, 526.0, 528.0, 530.0, 532.0, 535.0, 536.0, 537.0, 540.0, 542.0, 543.0, 544.0, 545.0, 546.0, 548.0, 549.0, 550.0, 554.0, 555.0, 556.0, 562.0, 564.0, 565.0, 566.0, 570.0, 572.0, 574.0, 575.0, 576.0, 578.0, 580.0, 582.0, 584.0, 585.0, 586.0, 590.0, 592.0, 594.0, 595.0, 598.0, 602.0, 603.0, 604.0, 605.0, 606.0, 608.0, 610.0, 612.0, 616.0, 618.0, 620.0, 622.0, 624.0, 625.0, 626.0, 630.0, 634.0, 635.0, 636.0, 638.0, 640.0, 642.0, 644.0, 645.0, 646.0, 647.0, 648.0, 650.0, 652.0, 654.0, 655.0, 656.0, 658.0, 660.0, 664.0, 665.0, 672.0, 675.0, 676.0, 678.0, 680.0, 682.0, 684.0, 685.0, 687.0, 688.0, 690.0, 692.0, 694.0, 695.0, 696.0, 698.0, 700.0, 702.0, 704.0, 705.0, 708.0, 710.0, 715.0, 718.0, 720.0, 724.0, 725.0, 726.0, 728.0, 730.0, 732.0, 735.0, 738.0, 740.0, 741.0, 742.0, 745.0, 746.0, 748.0, 749.0, 750.0, 752.0, 753.0, 754.0, 755.0, 756.0, 762.0, 765.0, 768.0, 769.0, 770.0, 772.0, 774.0, 775.0, 776.0, 778.0, 780.0, 781.0, 784.0, 785.0, 786.0, 788.0, 790.0, 792.0, 794.0, 795.0, 796.0, 798.0, 800.0, 804.0, 805.0, 806.0, 808.0, 810.0, 815.0, 816.0, 818.0, 820.0, 822.0, 823.0, 824.0, 825.0, 826.0, 828.0, 830.0, 831.0, 834.0, 835.0, 836.0, 838.0, 840.0, 842.0, 844.0, 845.0, 846.0, 848.0, 852.0, 854.0, 855.0, 856.0, 858.0, 860.0, 861.0, 862.0, 864.0, 865.0, 866.0, 867.0, 870.0, 872.0, 874.0, 875.0, 876.0, 878.0, 880.0, 882.0, 884.0, 885.0, 886.0, 888.0, 891.0, 892.0, 894.0, 895.0, 896.0, 898.0, 900.0, 903.0, 904.0, 905.0, 906.0, 908.0, 910.0, 912.0, 914.0, 915.0, 920.0, 925.0, 926.0, 927.0, 930.0, 934.0, 935.0, 936.0, 937.0, 938.0, 940.0, 942.0, 944.0, 946.0, 948.0, 950.0, 951.0, 955.0, 956.0, 957.0, 960.0, 964.0, 965.0, 966.0, 968.0, 970.0, 972.0, 974.0, 975.0, 976.0, 978.0, 982.0, 984.0, 985.0, 986.0, 987.0, 988.0, 990.0, 992.0, 993.0, 994.0, 996.0, 1002.0, 1004.0, 1005.0, 1006.0, 1007.0, 1010.0, 1012.0, 1014.0, 1015.0, 1016.0, 1017.0, 1018.0, 1020.0, 1023.0, 1025.0, 1026.0, 1028.0, 1029.0, 1030.0, 1032.0, 1034.0, 1035.0, 1036.0, 1040.0, 1042.0, 1044.0, 1045.0, 1046.0, 1050.0, 1052.0, 1054.0, 1055.0, 1059.0, 1060.0, 1062.0, 1064.0, 1065.0, 1066.0, 1068.0, 1070.0, 1076.0, 1078.0, 1080.0, 1082.0, 1085.0, 1086.0, 1088.0, 1089.0, 1090.0, 1092.0, 1094.0, 1095.0, 1096.0, 1098.0, 1100.0, 1101.0, 1105.0, 1106.0, 1108.0, 1109.0, 1110.0, 1112.0, 1114.0, 1115.0, 1116.0, 1118.0, 1119.0, 1120.0, 1121.0, 1122.0, 1124.0, 1125.0, 1128.0, 1130.0, 1134.0, 1135.0, 1136.0, 1138.0, 1140.0, 1143.0, 1144.0, 1145.0, 1146.0, 1148.0, 1154.0, 1155.0, 1156.0, 1158.0, 1161.0, 1162.0, 1164.0, 1165.0, 1166.0, 1167.0, 1168.0, 1170.0, 1172.0, 1174.0, 1175.0, 1176.0, 1178.0, 1180.0, 1182.0, 1184.0, 1185.0, 1186.0, 1188.0, 1190.0, 1191.0, 1192.0, 1194.0, 1195.0, 1196.0, 1198.0, 1200.0, 1202.0, 1203.0, 1204.0, 1205.0, 1206.0, 1208.0, 1212.0, 1214.0, 1215.0, 1216.0, 1217.0, 1218.0, 1220.0, 1222.0, 1224.0, 1225.0, 1226.0, 1227.0, 1228.0, 1230.0, 1232.0, 1233.0, 1234.0, 1235.0, 1236.0, 1238.0, 1240.0, 1242.0, 1244.0, 1245.0, 1246.0, 1248.0, 1250.0, 1252.0, 1254.0, 1255.0, 1256.0, 1257.0, 1258.0, 1260.0, 1262.0, 1264.0, 1265.0, 1266.0, 1268.0, 1270.0, 1272.0, 1274.0, 1275.0, 1276.0, 1278.0, 1280.0, 1282.0, 1284.0, 1285.0, 1286.0, 1287.0, 1288.0, 1292.0, 1294.0, 1295.0, 1296.0, 1298.0, 1300.0, 1302.0, 1303.0, 1304.0, 1305.0, 1306.0, 1308.0, 1310.0, 1312.0, 1314.0, 1315.0, 1316.0, 1317.0, 1318.0, 1320.0, 1322.0, 1324.0, 1325.0, 1326.0, 1328.0, 1329.0, 1330.0, 1332.0, 1335.0, 1336.0, 1338.0, 1340.0, 1342.0, 1344.0, 1345.0, 1346.0, 1347.0, 1350.0, 1352.0, 1354.0, 1355.0, 1358.0, 1359.0, 1360.0, 1362.0, 1364.0, 1365.0, 1366.0, 1368.0, 1369.0, 1370.0, 1372.0, 1374.0, 1375.0, 1376.0, 1378.0, 1380.0, 1382.0, 1383.0, 1384.0, 1385.0, 1386.0, 1388.0, 1390.0, 1392.0, 1394.0, 1395.0, 1396.0, 1398.0, 1402.0, 1404.0, 1405.0, 1406.0, 1407.0, 1408.0, 1410.0, 1412.0, 1414.0, 1415.0, 1416.0, 1418.0, 1419.0, 1420.0, 1422.0, 1424.0, 1425.0, 1426.0, 1428.0, 1430.0, 1431.0, 1432.0, 1434.0, 1435.0, 1436.0, 1437.0, 1438.0, 1440.0, 1442.0, 1444.0, 1446.0, 1448.0, 1452.0, 1454.0, 1455.0, 1456.0, 1458.0, 1462.0, 1464.0, 1465.0, 1466.0, 1468.0, 1470.0, 1475.0, 1476.0, 1478.0, 1479.0, 1480.0, 1482.0, 1484.0, 1485.0, 1486.0, 1488.0, 1490.0, 1491.0, 1492.0, 1493.0, 1494.0, 1495.0, 1496.0, 1498.0, 1503.0, 1504.0, 1505.0, 1506.0, 1508.0, 1509.0, 1510.0, 1514.0, 1515.0, 1516.0, 1518.0, 1522.0, 1524.0, 1525.0, 1526.0, 1528.0, 1530.0, 1532.0, 1533.0, 1534.0, 1535.0, 1536.0, 1538.0, 1539.0, 1540.0, 1542.0, 1544.0, 1545.0, 1546.0, 1550.0, 1552.0, 1554.0, 1555.0, 1556.0, 1557.0, 1558.0, 1560.0, 1562.0, 1564.0, 1565.0, 1566.0, 1568.0, 1574.0, 1578.0, 1580.0, 1582.0, 1584.0, 1585.0, 1586.0, 1588.0, 1590.0, 1592.0, 1594.0, 1595.0, 1596.0, 1598.0, 1602.0, 1604.0, 1606.0, 1608.0, 1611.0, 1612.0, 1614.0, 1615.0, 1616.0, 1617.0, 1618.0, 1620.0, 1621.0, 1622.0, 1623.0, 1624.0, 1625.0, 1626.0, 1627.0, 1632.0, 1633.0, 1635.0, 1636.0, 1638.0, 1639.0, 1640.0, 1642.0, 1644.0, 1645.0, 1646.0, 1647.0, 1648.0, 1650.0, 1652.0, 1653.0, 1654.0, 1655.0, 1656.0, 1658.0, 1659.0, 1660.0, 1662.0, 1664.0, 1665.0, 1666.0, 1668.0, 1670.0, 1671.0, 1672.0, 1674.0, 1675.0, 1676.0, 1680.0, 1682.0, 1683.0, 1684.0, 1685.0, 1686.0, 1688.0, 1689.0, 1692.0, 1694.0, 1695.0, 1696.0, 1698.0, 1699.0, 1701.0, 1702.0, 1704.0, 1705.0, 1706.0, 1707.0, 1708.0, 1710.0, 1712.0, 1713.0, 1714.0, 1715.0, 1716.0, 1718.0, 1719.0, 1720.0, 1722.0, 1724.0, 1725.0, 1726.0, 1728.0, 1730.0, 1731.0, 1732.0, 1734.0, 1735.0, 1738.0, 1740.0, 1742.0, 1744.0, 1746.0, 1748.0, 1750.0, 1752.0, 1754.0, 1756.0, 1758.0, 1762.0, 1764.0, 1765.0, 1766.0, 1767.0, 1768.0, 1770.0, 1772.0, 1774.0, 1775.0, 1776.0, 1778.0, 1779.0, 1780.0, 1782.0, 1783.0, 1784.0, 1786.0, 1788.0, 1791.0, 1792.0, 1794.0, 1795.0, 1796.0, 1797.0, 1798.0, 1802.0, 1803.0, 1804.0, 1805.0, 1806.0, 1808.0, 1809.0, 1812.0, 1814.0, 1815.0, 1816.0, 1818.0, 1820.0, 1822.0, 1824.0, 1825.0, 1827.0, 1828.0, 1832.0, 1833.0, 1834.0, 1835.0, 1836.0, 1838.0, 1840.0, 1842.0, 1844.0, 1845.0, 1846.0, 1848.0, 1852.0, 1854.0, 1855.0, 1856.0, 1858.0, 1860.0, 1862.0, 1863.0, 1864.0, 1865.0, 1866.0, 1868.0, 1869.0, 1872.0, 1873.0, 1874.0, 1876.0, 1878.0, 1879.0, 1880.0, 1881.0, 1882.0, 1884.0, 1886.0, 1887.0, 1888.0, 1892.0, 1893.0, 1894.0, 1895.0, 1896.0, 1898.0, 1899.0, 1902.0, 1904.0, 1905.0, 1906.0, 1908.0, 1912.0, 1914.0, 1915.0, 1916.0, 1917.0, 1918.0, 1920.0, 1922.0, 1923.0, 1924.0, 1925.0, 1926.0, 1928.0, 1929.0, 1930.0, 1932.0, 1934.0, 1935.0, 1936.0, 1937.0, 1938.0, 1940.0, 1941.0, 1942.0, 1945.0, 1946.0, 1947.0, 1948.0, 1952.0, 1953.0, 1954.0, 1956.0, 1958.0, 1959.0, 1962.0, 1964.0, 1965.0, 1966.0, 1968.0, 1970.0, 1971.0, 1972.0, 1976.0, 1977.0, 1978.0, 1979.0, 1980.0, 1982.0, 1984.0, 1986.0, 1988.0, 1989.0, 1990.0, 1993.0, 1995.0, 1998.0, 1999.0, 2000.0, 2001.0, 2002.0, 2004.0, 2005.0, 2006.0, 2007.0, 2008.0, 2012.0, 2013.0, 2014.0, 2016.0, 2017.0, 2018.0, 2019.0, 2022.0, 2024.0, 2025.0, 2026.0, 2028.0, 2031.0, 2032.0, 2034.0, 2035.0, 2036.0, 2037.0, 2038.0, 2039.0, 2042.0, 2043.0, 2044.0, 2046.0, 2048.0, 2049.0, 2050.0, 2052.0, 2054.0, 2055.0, 2056.0, 2057.0, 2058.0, 2061.0, 2062.0, 2064.0, 2066.0, 2068.0, 2072.0, 2075.0, 2076.0, 2077.0, 2078.0, 2079.0, 2082.0, 2084.0, 2086.0, 2088.0, 2091.0, 2092.0, 2094.0, 2095.0, 2096.0, 2098.0, 2100.0, 2102.0, 2103.0, 2104.0, 2105.0, 2106.0, 2108.0, 2109.0, 2110.0, 2112.0, 2114.0, 2115.0, 2116.0, 2118.0, 2120.0, 2121.0, 2122.0, 2124.0, 2125.0, 2126.0, 2127.0, 2128.0, 2132.0, 2133.0, 2134.0, 2136.0, 2137.0, 2138.0, 2139.0, 2142.0, 2144.0, 2146.0, 2148.0, 2151.0, 2152.0, 2153.0, 2155.0, 2156.0, 2158.0, 2162.0, 2164.0, 2166.0, 2168.0, 2169.0, 2170.0, 2173.0, 2174.0, 2175.0, 2176.0, 2178.0, 2181.0, 2182.0, 2184.0, 2185.0, 2187.0, 2188.0, 2189.0, 2192.0, 2193.0, 2196.0, 2197.0, 2198.0, 2199.0, 2200.0, 2201.0, 2202.0, 2203.0, 2204.0, 2205.0, 2206.0, 2208.0, 2209.0, 2212.0, 2213.0, 2214.0, 2216.0, 2217.0, 2220.0, 2223.0, 2224.0, 2226.0, 2228.0, 2229.0, 2230.0, 2232.0, 2234.0, 2235.0, 2240.0, 2241.0, 2244.0, 2246.0, 2247.0, 2248.0, 2249.0, 2252.0, 2254.0, 2256.0, 2258.0, 2262.0, 2264.0, 2266.0, 2268.0, 2271.0, 2272.0, 2273.0, 2275.0, 2276.0, 2277.0, 2278.0, 2282.0, 2283.0, 2284.0, 2285.0, 2286.0, 2287.0, 2288.0, 2289.0, 2290.0, 2291.0, 2292.0, 2294.0, 2295.0, 2296.0, 2297.0, 2298.0, 2302.0, 2304.0, 2305.0, 2306.0, 2307.0, 2308.0, 2309.0, 2310.0, 2312.0, 2313.0, 2314.0, 2316.0, 2317.0, 2318.0, 2319.0, 2321.0, 2322.0, 2324.0, 2326.0, 2328.0, 2331.0, 2332.0, 2333.0, 2334.0, 2336.0, 2342.0, 2343.0, 2344.0, 2346.0, 2347.0, 2348.0, 2349.0, 2352.0, 2353.0, 2354.0, 2355.0, 2356.0, 2361.0, 2362.0, 2364.0, 2366.0, 2367.0, 2368.0, 2372.0, 2373.0, 2375.0, 2376.0, 2378.0, 2379.0, 2382.0, 2384.0, 2386.0, 2388.0, 2389.0, 2391.0, 2393.0, 2394.0, 2395.0, 2396.0, 2397.0, 2398.0, 2402.0, 2403.0, 2404.0, 2406.0, 2407.0, 2408.0, 2412.0, 2413.0, 2416.0, 2418.0, 2421.0, 2422.0, 2423.0, 2424.0, 2425.0, 2426.0, 2427.0, 2428.0, 2433.0, 2434.0, 2436.0, 2438.0, 2439.0, 2444.0, 2446.0, 2448.0, 2450.0, 2451.0, 2452.0, 2454.0, 2456.0, 2457.0, 2458.0, 2462.0, 2463.0, 2466.0, 2469.0, 2471.0, 2472.0, 2476.0, 2477.0, 2478.0, 2481.0, 2482.0, 2484.0, 2486.0, 2487.0, 2489.0, 2492.0, 2493.0, 2494.0, 2496.0, 2497.0, 2498.0, 2500.0, 2502.0, 2503.0, 2504.0, 2506.0, 2508.0, 2511.0, 2512.0, 2514.0, 2517.0, 2518.0, 2522.0, 2523.0, 2524.0, 2526.0, 2528.0, 2529.0, 2532.0, 2534.0, 2542.0, 2544.0, 2546.0, 2547.0, 2548.0, 2550.0, 2552.0, 2556.0, 2558.0, 2561.0, 2562.0, 2563.0, 2564.0, 2566.0, 2568.0, 2571.0, 2572.0, 2573.0, 2574.0, 2575.0, 2576.0, 2577.0, 2578.0, 2579.0, 2580.0, 2581.0, 2582.0, 2583.0, 2584.0, 2586.0, 2588.0, 2589.0, 2592.0, 2593.0, 2594.0, 2596.0, 2598.0, 2601.0, 2603.0, 2607.0, 2608.0, 2612.0, 2613.0, 2614.0, 2616.0, 2617.0, 2618.0, 2619.0, 2622.0, 2626.0, 2628.0, 2632.0, 2633.0, 2636.0, 2637.0, 2638.0, 2642.0, 2643.0, 2648.0, 2649.0, 2652.0, 2653.0, 2655.0, 2658.0, 2661.0, 2662.0, 2664.0, 2667.0, 2668.0, 2670.0, 2673.0, 2678.0, 2679.0, 2681.0, 2682.0, 2684.0, 2686.0, 2688.0, 2689.0, 2691.0, 2694.0, 2697.0, 2698.0, 2700.0, 2702.0, 2703.0, 2704.0, 2706.0, 2709.0, 2712.0, 2721.0, 2722.0, 2723.0, 2724.0, 2726.0, 2727.0, 2728.0, 2729.0, 2730.0, 2731.0, 2733.0, 2734.0, 2736.0, 2737.0, 2738.0, 2739.0, 2740.0, 2744.0, 2746.0, 2747.0, 2751.0, 2752.0, 2754.0, 2757.0, 2758.0, 2759.0, 2760.0, 2762.0, 2763.0, 2764.0, 2768.0, 2769.0, 2772.0, 2773.0, 2774.0, 2776.0, 2777.0, 2780.0, 2781.0, 2782.0, 2783.0, 2786.0, 2787.0, 2792.0, 2793.0, 2794.0, 2796.0, 2798.0, 2799.0, 2800.0, 2802.0, 2803.0, 2804.0, 2806.0, 2808.0, 2809.0, 2810.0, 2811.0, 2814.0, 2817.0, 2819.0, 2820.0, 2822.0, 2823.0, 2828.0, 2831.0, 2833.0, 2834.0, 2837.0, 2838.0, 2839.0, 2841.0, 2842.0, 2844.0, 2846.0, 2847.0, 2848.0, 2849.0, 2850.0, 2851.0, 2853.0, 2854.0, 2855.0, 2856.0, 2858.0, 2859.0, 2864.0, 2868.0, 2871.0, 2872.0, 2876.0, 2877.0, 2879.0, 2882.0, 2883.0, 2884.0, 2886.0, 2888.0, 2892.0, 2893.0, 2897.0, 2898.0, 2899.0, 2900.0, 2901.0, 2902.0, 2904.0, 2907.0, 2908.0, 2912.0, 2913.0, 2914.0, 2917.0, 2919.0, 2928.0, 2929.0, 2931.0, 2932.0, 2933.0, 2937.0, 2939.0, 2946.0, 2948.0, 2949.0, 2952.0, 2959.0, 2961.0, 2962.0, 2963.0, 2964.0, 2966.0, 2967.0, 2969.0, 2971.0, 2973.0, 2976.0, 2982.0, 2983.0, 2986.0, 2990.0, 2991.0, 2993.0, 2994.0, 2997.0, 2998.0, 2999.0, 3002.0, 3003.0, 3004.0, 3005.0, 3006.0, 3007.0, 3008.0, 3009.0, 3010.0, 3012.0, 3014.0, 3015.0, 3016.0, 3017.0, 3018.0, 3019.0, 3020.0, 3021.0, 3022.0, 3023.0, 3024.0, 3025.0, 3026.0, 3027.0, 3028.0, 3030.0, 3032.0, 3033.0, 3034.0, 3035.0, 3036.0, 3038.0, 3039.0, 3040.0, 3041.0, 3042.0, 3043.0, 3044.0, 3045.0, 3046.0, 3047.0, 3048.0, 3049.0, 3050.0, 3051.0, 3052.0, 3054.0, 3055.0, 3056.0, 3057.0, 3058.0, 3060.0, 3061.0, 3062.0, 3063.0, 3064.0, 3065.0, 3066.0, 3067.0, 3068.0, 3069.0, 3070.0, 3072.0, 3073.0, 3074.0, 3075.0, 3076.0, 3077.0, 3078.0, 3080.0, 3081.0, 3082.0, 3083.0, 3084.0, 3085.0, 3086.0, 3087.0, 3088.0, 3089.0, 3090.0, 3091.0, 3092.0, 3093.0, 3094.0, 3095.0, 3096.0, 3097.0, 3098.0, 3099.0, 3100.0, 3101.0, 3102.0, 3104.0, 3105.0, 3106.0, 3108.0, 3109.0, 3110.0, 3111.0, 3112.0, 3114.0, 3115.0, 3116.0, 3117.0, 3118.0, 3120.0, 3121.0, 3122.0, 3123.0, 3124.0, 3125.0, 3126.0, 3128.0, 3129.0, 3130.0, 3131.0, 3132.0, 3133.0, 3134.0, 3135.0, 3136.0, 3138.0, 3139.0, 3140.0, 3141.0, 3142.0, 3143.0, 3144.0, 3145.0, 3146.0, 3147.0, 3148.0, 3149.0, 3150.0, 3151.0, 3152.0, 3153.0, 3154.0, 3155.0, 3156.0, 3158.0, 3159.0, 3160.0, 3161.0, 3162.0, 3163.0, 3164.0, 3165.0, 3166.0, 3167.0, 3168.0, 3169.0, 3170.0, 3171.0, 3172.0, 3174.0, 3175.0, 3176.0, 3177.0, 3178.0, 3179.0, 3180.0, 3182.0, 3183.0, 3184.0, 3185.0, 3186.0, 3187.0, 3188.0, 3189.0, 3190.0, 3192.0, 3193.0, 3194.0, 3195.0, 3196.0, 3197.0, 3198.0, 3200.0, 3201.0, 3202.0, 3204.0, 3205.0, 3206.0, 3207.0, 3208.0, 3209.0, 3210.0, 3212.0, 3213.0, 3214.0, 3215.0, 3216.0, 3217.0, 3218.0, 3219.0, 3220.0, 3221.0, 3222.0, 3223.0, 3224.0, 3225.0, 3226.0, 3227.0, 3228.0, 3230.0, 3231.0, 3232.0, 3234.0, 3235.0, 3236.0, 3237.0, 3238.0, 3239.0, 3240.0, 3241.0, 3242.0, 3243.0, 3244.0, 3245.0, 3246.0, 3248.0, 3249.0, 3250.0, 3252.0, 3253.0, 3254.0, 3255.0, 3256.0, 3257.0, 3258.0, 3259.0, 3260.0, 3261.0, 3262.0, 3263.0, 3264.0, 3265.0, 3266.0, 3267.0, 3268.0, 3269.0, 3270.0, 3271.0, 3272.0, 3273.0, 3274.0, 3275.0, 3276.0, 3277.0, 3278.0, 3279.0, 3280.0, 3281.0, 3282.0, 3284.0, 3285.0, 3286.0, 3288.0, 3289.0, 3290.0, 3291.0, 3292.0, 3293.0, 3294.0, 3295.0, 3296.0, 3297.0, 3298.0, 3300.0, 3302.0, 3303.0, 3304.0, 3305.0, 3306.0, 3307.0, 3308.0, 3309.0, 3310.0, 3312.0, 3314.0, 3315.0, 3316.0, 3318.0, 3319.0, 3320.0, 3321.0, 3322.0, 3323.0, 3324.0, 3325.0, 3326.0, 3327.0, 3328.0, 3329.0, 3330.0, 3332.0, 3333.0, 3334.0, 3335.0, 3336.0, 3338.0, 3339.0, 3340.0, 3341.0, 3342.0, 3343.0, 3344.0, 3345.0, 3346.0, 3348.0, 3349.0, 3350.0, 3351.0, 3352.0, 3354.0, 3355.0, 3356.0, 3357.0, 3358.0, 3360.0, 3362.0, 3363.0, 3364.0, 3365.0, 3366.0, 3368.0, 3369.0, 3370.0, 3371.0, 3372.0, 3373.0, 3374.0, 3375.0, 3376.0, 3378.0, 3379.0, 3380.0, 3381.0, 3382.0, 3384.0, 3385.0, 3386.0, 3387.0, 3388.0, 3389.0, 3390.0, 3392.0, 3393.0, 3394.0, 3395.0, 3396.0, 3397.0, 3398.0, 3399.0, 3400.0, 3402.0, 3404.0, 3405.0, 3406.0, 3407.0, 3408.0, 3409.0, 3410.0, 3411.0, 3412.0, 3414.0, 3415.0, 3416.0, 3417.0, 3418.0, 3420.0, 3422.0, 3423.0, 3424.0, 3425.0, 3426.0, 3428.0, 3429.0, 3430.0, 3431.0, 3432.0, 3433.0, 3434.0, 3435.0, 3436.0, 3437.0, 3438.0, 3440.0, 3441.0, 3442.0, 3443.0, 3444.0, 3445.0, 3446.0, 3447.0, 3448.0, 3449.0, 3450.0, 3452.0, 3453.0, 3454.0, 3455.0, 3456.0, 3458.0, 3459.0, 3460.0, 3462.0, 3463.0, 3464.0, 3465.0, 3466.0, 3468.0, 3469.0, 3470.0, 3471.0, 3472.0, 3473.0, 3474.0, 3475.0, 3476.0, 3477.0, 3478.0, 3480.0, 3482.0, 3483.0, 3484.0, 3485.0, 3486.0, 3488.0, 3489.0, 3490.0, 3492.0, 3494.0, 3495.0, 3496.0, 3498.0, 3499.0, 3500.0, 3501.0, 3502.0, 3503.0, 3504.0, 3505.0, 3506.0, 3507.0, 3508.0, 3509.0, 3510.0, 3512.0, 3513.0, 3514.0, 3515.0, 3516.0, 3517.0, 3518.0, 3519.0, 3520.0, 3521.0, 3522.0, 3524.0, 3525.0, 3526.0, 3528.0, 3530.0, 3531.0, 3532.0, 3533.0, 3534.0, 3535.0, 3536.0, 3537.0, 3538.0, 3540.0, 3542.0, 3543.0, 3544.0, 3545.0, 3546.0, 3548.0, 3549.0, 3550.0, 3551.0, 3552.0, 3554.0, 3555.0, 3556.0, 3558.0, 3559.0, 3560.0, 3561.0, 3562.0, 3563.0, 3564.0, 3565.0, 3566.0, 3567.0, 3568.0, 3569.0, 3570.0, 3572.0, 3573.0, 3574.0, 3575.0, 3576.0, 3577.0, 3578.0, 3579.0, 3580.0, 3582.0, 3583.0, 3584.0, 3585.0, 3586.0, 3587.0, 3588.0, 3590.0, 3591.0, 3592.0, 3593.0, 3594.0, 3595.0, 3596.0, 3597.0, 3598.0, 3599.0, 3600.0, 3602.0, 3603.0, 3604.0, 3605.0, 3606.0, 3608.0, 3609.0, 3610.0, 3612.0, 3614.0, 3615.0, 3616.0, 3618.0, 3620.0, 3621.0, 3622.0, 3623.0, 3624.0, 3625.0, 3626.0, 3627.0, 3628.0, 3630.0, 3631.0, 3632.0, 3633.0, 3634.0, 3635.0, 3636.0, 3637.0, 3638.0, 3640.0, 3641.0, 3642.0, 3643.0, 3644.0, 3645.0, 3646.0, 3648.0, 3649.0, 3650.0, 3651.0, 3652.0, 3654.0, 3655.0, 3656.0, 3657.0, 3658.0, 3659.0, 3660.0, 3661.0, 3662.0, 3664.0, 3665.0, 3666.0, 3667.0, 3668.0, 3669.0, 3670.0, 3671.0, 3672.0, 3673.0, 3674.0, 3675.0, 3676.0, 3678.0, 3680.0, 3681.0, 3682.0, 3683.0, 3684.0, 3685.0, 3686.0, 3687.0, 3688.0, 3690.0, 3692.0, 3693.0, 3694.0, 3695.0, 3696.0, 3698.0, 3699.0, 3700.0, 3702.0, 3703.0, 3704.0, 3705.0, 3706.0, 3707.0, 3708.0, 3709.0, 3710.0, 3711.0, 3712.0, 3713.0, 3714.0, 3715.0, 3716.0, 3717.0, 3718.0, 3720.0, 3722.0, 3723.0, 3724.0, 3725.0, 3726.0, 3727.0, 3728.0, 3729.0, 3730.0, 3732.0, 3734.0, 3735.0, 3736.0, 3737.0, 3738.0, 3739.0, 3740.0, 3741.0, 3742.0, 3743.0, 3744.0, 3745.0, 3746.0, 3747.0, 3748.0, 3750.0, 3751.0, 3752.0, 3753.0, 3754.0, 3755.0, 3756.0, 3757.0, 3758.0, 3759.0, 3760.0, 3762.0, 3764.0, 3765.0, 3766.0, 3768.0, 3769.0, 3770.0, 3771.0, 3772.0, 3774.0, 3775.0, 3776.0, 3777.0, 3778.0, 3780.0, 3781.0, 3782.0, 3783.0, 3784.0, 3785.0, 3786.0, 3788.0, 3789.0, 3790.0, 3792.0, 3794.0, 3795.0, 3796.0, 3798.0, 3799.0, 3800.0, 3801.0, 3802.0, 3804.0, 3805.0, 3806.0, 3807.0, 3808.0, 3810.0, 3812.0, 3813.0, 3814.0, 3815.0, 3816.0, 3818.0, 3819.0, 3820.0, 3822.0, 3824.0, 3825.0, 3826.0, 3828.0, 3830.0, 3831.0, 3832.0, 3834.0, 3835.0, 3836.0, 3838.0, 3840.0, 3842.0, 3843.0, 3844.0, 3845.0, 3846.0, 3848.0, 3849.0, 3850.0, 3852.0, 3853.0, 3854.0, 3855.0, 3856.0, 3857.0, 3858.0, 3860.0, 3861.0, 3862.0, 3864.0, 3865.0, 3866.0, 3867.0, 3868.0, 3870.0, 3872.0, 3873.0, 3874.0, 3875.0, 3876.0, 3877.0, 3878.0, 3879.0, 3880.0, 3882.0, 3884.0, 3885.0, 3886.0, 3887.0, 3888.0, 3890.0, 3891.0, 3892.0, 3894.0, 3895.0, 3896.0, 3897.0, 3898.0, 3900.0, 3901.0, 3902.0, 3903.0, 3904.0, 3905.0, 3906.0, 3908.0, 3909.0, 3910.0, 3912.0, 3914.0, 3915.0, 3916.0, 3918.0, 3920.0, 3921.0, 3922.0, 3924.0, 3925.0, 3926.0, 3927.0, 3928.0, 3929.0, 3930.0, 3932.0, 3933.0, 3934.0, 3935.0, 3936.0, 3938.0, 3939.0, 3940.0, 3942.0, 3943.0, 3944.0, 3945.0, 3946.0, 3948.0, 3950.0, 3951.0, 3952.0, 3954.0, 3955.0, 3956.0, 3958.0, 3960.0, 3962.0, 3963.0, 3964.0, 3965.0, 3966.0, 3968.0, 3969.0, 3970.0, 3972.0, 3974.0, 3975.0, 3976.0, 3978.0, 3980.0, 3981.0, 3982.0, 3984.0, 3985.0, 3986.0, 3987.0, 3988.0, 3989.0, 3990.0, 3992.0, 3994.0, 3995.0, 3996.0, 3998.0, 3999.0, 4000.0, 4002.0, 4004.0, 4005.0, 4006.0, 4008.0, 4009.0, 4010.0, 4011.0, 4012.0, 4014.0, 4015.0, 4016.0, 4017.0, 4018.0, 4020.0, 4022.0, 4023.0, 4024.0, 4025.0, 4026.0, 4028.0, 4029.0, 4030.0, 4032.0, 4034.0, 4035.0, 4036.0, 4038.0, 4040.0, 4041.0, 4042.0, 4044.0, 4045.0, 4046.0, 4048.0, 4050.0, 4052.0, 4053.0, 4054.0, 4055.0, 4056.0, 4058.0, 4059.0, 4060.0, 4061.0, 4062.0, 4063.0, 4064.0, 4065.0, 4066.0, 4067.0, 4068.0, 4070.0, 4072.0, 4074.0, 4075.0, 4076.0, 4078.0, 4080.0, 4082.0, 4083.0, 4084.0, 4085.0, 4086.0, 4088.0, 4089.0, 4090.0, 4092.0, 4094.0, 4095.0, 4096.0, 4098.0, 4100.0, 4101.0, 4102.0, 4104.0, 4105.0, 4106.0, 4108.0, 4110.0, 4111.0, 4112.0, 4113.0, 4114.0, 4115.0, 4116.0, 4117.0, 4118.0, 4120.0, 4122.0, 4124.0, 4125.0, 4126.0, 4128.0, 4129.0, 4130.0, 4131.0, 4132.0, 4134.0, 4135.0, 4136.0, 4137.0, 4138.0, 4140.0, 4142.0, 4143.0, 4144.0, 4145.0, 4146.0, 4148.0, 4149.0, 4150.0, 4152.0, 4154.0, 4155.0, 4156.0, 4158.0, 4160.0, 4161.0, 4162.0, 4164.0, 4165.0, 4166.0, 4168.0, 4170.0, 4172.0, 4174.0, 4175.0, 4176.0, 4178.0, 4179.0, 4180.0, 4182.0, 4184.0, 4185.0, 4186.0, 4188.0, 4190.0, 4191.0, 4192.0, 4193.0, 4194.0, 4195.0, 4196.0, 4198.0, 4200.0, 4202.0, 4203.0, 4204.0, 4205.0, 4206.0, 4208.0, 4210.0, 4212.0, 4214.0, 4215.0, 4216.0, 4218.0, 4219.0, 4220.0, 4221.0, 4222.0, 4224.0, 4225.0, 4226.0, 4228.0, 4230.0, 4232.0, 4234.0, 4235.0, 4236.0, 4238.0, 4240.0, 4242.0, 4243.0, 4244.0, 4245.0, 4246.0, 4248.0, 4250.0, 4251.0, 4252.0, 4254.0, 4255.0, 4256.0, 4257.0, 4258.0, 4260.0, 4262.0, 4263.0, 4264.0, 4265.0, 4266.0, 4268.0, 4270.0, 4272.0, 4274.0, 4275.0, 4276.0, 4278.0, 4280.0, 4282.0, 4284.0, 4285.0, 4286.0, 4287.0, 4288.0, 4290.0, 4292.0, 4293.0, 4294.0, 4295.0, 4296.0, 4298.0, 4300.0, 4302.0, 4303.0, 4304.0, 4305.0, 4306.0, 4308.0, 4310.0, 4311.0, 4312.0, 4314.0, 4315.0, 4316.0, 4318.0, 4320.0, 4322.0, 4324.0, 4325.0, 4326.0, 4327.0, 4328.0, 4330.0, 4332.0, 4333.0, 4334.0, 4335.0, 4336.0, 4338.0, 4340.0, 4342.0, 4344.0, 4345.0, 4346.0, 4348.0, 4350.0, 4352.0, 4353.0, 4354.0, 4355.0, 4356.0, 4358.0, 4359.0, 4360.0, 4362.0, 4364.0, 4365.0, 4366.0, 4368.0, 4370.0, 4372.0, 4373.0, 4374.0, 4375.0, 4376.0, 4377.0, 4378.0, 4380.0, 4382.0, 4383.0, 4384.0, 4385.0, 4386.0, 4388.0, 4389.0, 4390.0, 4392.0, 4394.0, 4395.0, 4396.0, 4398.0, 4400.0, 4402.0, 4403.0, 4404.0, 4405.0, 4406.0, 4407.0, 4408.0, 4410.0, 4412.0, 4414.0, 4415.0, 4416.0, 4418.0, 4419.0, 4420.0, 4424.0, 4425.0, 4426.0, 4428.0, 4430.0, 4431.0, 4432.0, 4434.0, 4435.0, 4436.0, 4437.0, 4438.0, 4440.0, 4442.0, 4444.0, 4445.0, 4446.0, 4448.0, 4450.0, 4452.0, 4454.0, 4455.0, 4456.0, 4458.0, 4460.0, 4462.0, 4464.0, 4465.0, 4466.0, 4468.0, 4470.0, 4472.0, 4473.0, 4474.0, 4475.0, 4476.0, 4478.0, 4479.0, 4480.0, 4482.0, 4484.0, 4485.0, 4486.0, 4488.0, 4490.0, 4491.0, 4492.0, 4494.0, 4495.0, 4496.0, 4497.0, 4498.0, 4500.0, 4503.0, 4504.0, 4505.0, 4506.0, 4508.0, 4510.0, 4512.0, 4514.0, 4515.0, 4516.0, 4518.0, 4520.0, 4521.0, 4522.0, 4524.0, 4525.0, 4526.0, 4528.0, 4530.0, 4532.0, 4534.0, 4535.0, 4536.0, 4538.0, 4540.0, 4542.0, 4545.0, 4546.0, 4548.0, 4550.0, 4552.0, 4554.0, 4555.0, 4556.0, 4557.0, 4558.0, 4560.0, 4565.0, 4566.0, 4568.0, 4569.0, 4570.0, 4572.0, 4574.0, 4575.0, 4576.0, 4578.0, 4580.0, 4581.0, 4582.0, 4584.0, 4585.0, 4586.0, 4588.0, 4590.0, 4592.0, 4594.0, 4595.0, 4596.0, 4598.0, 4600.0, 4604.0, 4605.0, 4606.0, 4608.0, 4610.0, 4614.0, 4615.0, 4616.0, 4618.0, 4620.0, 4622.0, 4625.0, 4626.0, 4628.0, 4630.0, 4632.0, 4634.0, 4635.0, 4636.0, 4638.0, 4640.0, 4642.0, 4643.0, 4644.0, 4645.0, 4646.0, 4650.0, 4654.0, 4655.0, 4658.0, 4660.0, 4662.0, 4664.0, 4665.0, 4666.0, 4667.0, 4668.0, 4670.0, 4671.0, 4674.0, 4675.0, 4678.0, 4680.0, 4682.0, 4684.0, 4685.0, 4686.0, 4690.0, 4694.0, 4695.0, 4698.0, 4700.0, 4702.0, 4704.0, 4705.0, 4707.0, 4708.0, 4710.0, 4714.0, 4715.0, 4716.0, 4718.0, 4720.0, 4722.0, 4725.0, 4726.0, 4728.0, 4730.0, 4734.0, 4735.0, 4737.0, 4738.0, 4740.0, 4743.0, 4745.0, 4746.0, 4750.0, 4752.0, 4754.0, 4755.0, 4758.0, 4760.0, 4764.0, 4765.0, 4766.0, 4770.0, 4772.0, 4775.0, 4776.0, 4778.0, 4780.0, 4782.0, 4785.0, 4786.0, 4790.0, 4792.0, 4795.0, 4798.0, 4800.0, 4805.0, 4809.0, 4810.0, 4812.0, 4814.0, 4815.0, 4818.0, 4820.0, 4822.0, 4824.0, 4825.0, 4826.0, 4830.0, 4834.0, 4835.0, 4838.0, 4840.0, 4842.0, 4845.0, 4850.0, 4855.0, 4860.0, 4862.0, 4865.0, 4866.0, 4868.0, 4870.0, 4874.0, 4875.0, 4876.0, 4880.0, 4882.0, 4885.0, 4886.0, 4888.0, 4890.0, 4894.0, 4895.0, 4896.0, 4900.0, 4902.0, 4905.0, 4908.0, 4910.0, 4912.0, 4915.0, 4916.0, 4920.0, 4922.0, 4925.0, 4930.0, 4935.0, 4940.0, 4944.0, 4945.0, 4948.0, 4950.0, 4952.0, 4954.0, 4956.0, 4958.0, 4960.0, 4964.0, 4965.0, 4970.0, 4975.0, 4980.0, 4982.0, 4985.0, 4986.0, 4989.0, 4990.0, 4995.0, 4996.0, 4998.0, 5000.0, 5005.0, 5010.0, 5012.0, 5015.0, 5020.0, 5022.0, 5025.0, 5030.0, 5035.0, 5038.0, 5040.0, 5043.0, 5044.0, 5045.0, 5048.0, 5050.0, 5055.0, 5060.0, 5061.0, 5062.0, 5064.0, 5065.0, 5068.0, 5070.0, 5072.0, 5076.0, 5080.0, 5085.0, 5090.0, 5095.0, 5096.0, 5100.0, 5104.0, 5105.0, 5110.0, 5112.0, 5115.0, 5116.0, 5120.0, 5121.0, 5125.0, 5126.0, 5130.0, 5135.0, 5138.0, 5140.0, 5144.0, 5145.0, 5150.0, 5155.0, 5158.0, 5160.0, 5166.0, 5170.0, 5178.0, 5180.0, 5182.0, 5185.0, 5190.0, 5195.0, 5200.0, 5205.0, 5210.0, 5215.0, 5220.0, 5225.0, 5230.0, 5235.0, 5240.0, 5245.0, 5247.0, 5250.0, 5260.0, 5265.0, 5270.0, 5280.0, 5286.0, 5290.0, 5292.0, 5295.0, 5300.0, 5310.0, 5315.0, 5320.0, 5324.0, 5328.0, 5330.0, 5344.0, 5350.0, 5355.0, 5360.0, 5364.0, 5365.0, 5370.0, 5375.0, 5398.0, 5406.0, 5415.0, 5420.0, 5425.0, 5430.0, 5440.0, 5442.0, 5450.0, 5462.0, 5476.0, 5486.0, 5490.0, 5500.0, 5502.0, 5505.0, 5510.0, 5520.0, 5523.0, 5538.0, 5540.0, 5570.0, 5576.0, 5580.0, 5588.0, 5595.0, 5600.0, 5625.0, 5630.0, 5645.0, 5660.0, 5670.0, 5680.0, 5718.0, 5720.0, 5740.0, 5750.0, 5780.0, 5802.0, 5834.0, 5840.0, 5859.0, 5888.0, 6027.0, 6180.0]\n",
            "time: 9.71 ms (started: 2023-09-04 17:51:32 +00:00)\n"
          ]
        }
      ]
    },
    {
      "cell_type": "markdown",
      "source": [
        "### 18) Sexo do recém-nascido"
      ],
      "metadata": {
        "id": "SwyFm15_2QnJ"
      }
    },
    {
      "cell_type": "markdown",
      "source": [
        "> <b>Base de origem</b>: SIM e SINASC.<br>\n",
        "> <b>Tipo de dados</b>: Qualitativo nominal.<br>\n",
        "\n",
        "> <b>Nome do campo</b>: <font color=blue>SEXO</font>.<br>\n",
        "> <b>Descrição do campo</b>: Sexo: 1- M – Masculino; 2- F – Feminino; 0- I – ignorado.<br>\n",
        "> <b>Tipo do campo</b>: object.<br>\n",
        "> <b>Possui valores Nulos</b>: Não.<br>\n",
        "> <b>Intervalo de valores</b>: 'Feminino' 'Masculino' 'Ignorado,_nao_informado'.<br>\n"
      ],
      "metadata": {
        "id": "zROBPjSRitIK"
      }
    },
    {
      "cell_type": "code",
      "source": [
        "print(dados['SEXO'].isna().unique())\n",
        "print(dados['SEXO'].dtype)\n",
        "print('SEXO {}'.format(dados['SEXO'].unique()))"
      ],
      "metadata": {
        "colab": {
          "base_uri": "https://localhost:8080/"
        },
        "id": "1M6VBt6f2R5r",
        "outputId": "a8e4597b-3ee6-44ac-9128-45d7f601be83"
      },
      "execution_count": null,
      "outputs": [
        {
          "output_type": "stream",
          "name": "stdout",
          "text": [
            "[False]\n",
            "object\n",
            "SEXO ['Feminino' 'Masculino' 'Ignorado,_nao_informado']\n",
            "time: 24.5 ms (started: 2023-09-04 17:51:32 +00:00)\n"
          ]
        }
      ]
    },
    {
      "cell_type": "markdown",
      "source": [
        "### 19) Situação conjugal da mãe"
      ],
      "metadata": {
        "id": "qHQR18y32fMk"
      }
    },
    {
      "cell_type": "markdown",
      "source": [
        "> <b>Base de origem</b>: SINASC.<br>\n",
        "> <b>Tipo de dados</b>: Qualitativo nominal.<br>\n",
        "\n",
        "> <b>Nome do campo</b>: <font color=blue>ESTCIVMAE</font>.<br>\n",
        "> <b>Descrição do campo</b>: Situação conjugal da mãe: 1– Solteira; 2– Casada; 3– Viúva; 4–\n",
        "Separada judicialmente/divorciada; 5– União estável; 9– Ignorada.<br>\n",
        "> <b>Tipo do campo</b>: object.<br>\n",
        "> <b>Possui valores Nulos</b>: Sim.<br>\n",
        "> <b>Intervalo de valores</b>: 'Casada' 'Ignorado' 'Solteira' 'Uniao_consensual_(versoes_anteriores)' nan 'Separado_judicialmente/Divorciado' 'Viuva'.<br>\n"
      ],
      "metadata": {
        "id": "80wutGy6jFGt"
      }
    },
    {
      "cell_type": "code",
      "source": [
        "print(dados['ESTCIVMAE'].isna().unique())\n",
        "print(dados['ESTCIVMAE'].dtype)\n",
        "print('ESTCIVMAE {}'.format(dados['ESTCIVMAE'].unique()))"
      ],
      "metadata": {
        "colab": {
          "base_uri": "https://localhost:8080/"
        },
        "id": "Yybs6WGk2gt_",
        "outputId": "570768cd-e0e8-45b2-84d5-b2dbccd0b1d4"
      },
      "execution_count": null,
      "outputs": [
        {
          "output_type": "stream",
          "name": "stdout",
          "text": [
            "[False  True]\n",
            "object\n",
            "ESTCIVMAE ['Casada' 'Ignorado' 'Solteira' 'Uniao_consensual_(versoes_anteriores)'\n",
            " nan 'Separado_judicialmente/Divorciado' 'Viuva']\n",
            "time: 20.4 ms (started: 2023-09-04 17:51:32 +00:00)\n"
          ]
        }
      ]
    },
    {
      "cell_type": "markdown",
      "source": [
        "### 20) Tipo de apresentação do RN"
      ],
      "metadata": {
        "id": "_HxCZeNF6uoJ"
      }
    },
    {
      "cell_type": "markdown",
      "source": [
        "> <b>Base de origem</b>: SINASC.<br>\n",
        "> <b>Tipo de variável</b>: Qualitativo nominal.<br>\n",
        "\n",
        "> <b>Nome do campo</b>: <font color=blue>TPAPRESENT</font>.<br>\n",
        "> <b>Descrição do campo</b>: Tipo de apresentação do RN. Valores: 1– Cefálico; 2– Pélvica ou podálica; 3–Transversa; 9– Ignorado..<br>\n",
        "> <b>Tipo do campo</b>: object.<br>\n",
        "> <b>Possui valores Nulos</b>: Sim.<br>\n",
        "> <b>Intervalo de valores</b>: nan 'Ignorado' 'Cefalico' Pelvica_ou_podalica' 'Transversa'.<br>\n"
      ],
      "metadata": {
        "id": "QlLs59NbcFs9"
      }
    },
    {
      "cell_type": "code",
      "source": [
        "print(dados['TPAPRESENT'].isna().unique())\n",
        "print(dados['TPAPRESENT'].dtype)\n",
        "print('TPAPRESENT {}'.format(dados['TPAPRESENT'].unique()))"
      ],
      "metadata": {
        "colab": {
          "base_uri": "https://localhost:8080/"
        },
        "id": "DNCdXSWPoTR4",
        "outputId": "edd4393f-6ba3-403a-c3bd-177970697d56"
      },
      "execution_count": null,
      "outputs": [
        {
          "output_type": "stream",
          "name": "stdout",
          "text": [
            "[ True False]\n",
            "object\n",
            "TPAPRESENT [nan 'Ignorado' 'Cefalico' 'Pelvica_ou_podalica' 'Transversa']\n",
            "time: 18.3 ms (started: 2023-09-04 17:51:32 +00:00)\n"
          ]
        }
      ]
    },
    {
      "cell_type": "markdown",
      "source": [
        "### 21) Tipo de gravidez"
      ],
      "metadata": {
        "id": "j0oMcwJW2trG"
      }
    },
    {
      "cell_type": "markdown",
      "source": [
        "> <b>Base de origem</b>: SIM e SINASC.<br>\n",
        "> <b>Tipo de variável</b>: Qualitativo ordinal.<br>\n",
        "\n",
        "> <b>Nome do campo</b>: <font color=blue>GRAVIDEZ (TIPOGRAV)</font>.<br>\n",
        "> <b>Descrição do campo</b>: Tipo de gravidez. (1 – única; 2 – dupla; 3 – tripla e mais; 9 – ignorada).<br>\n",
        "> <b>Tipo do campo</b>: object.<br>\n",
        "> <b>Possui valores Nulos</b>: Sim.<br>\n",
        "> <b>Intervalo de valores</b>: 'Unica' 'Dupla' nan 'Tripla_e_mais' 'Ignorado'.<br>\n",
        "\n"
      ],
      "metadata": {
        "id": "yUGnrDOyjmcP"
      }
    },
    {
      "cell_type": "code",
      "source": [
        "print(dados['GRAVIDEZ'].isnull().sum())\n",
        "print(dados['GRAVIDEZ'].dtype)\n",
        "print('GRAVIDEZ {}'.format(dados['GRAVIDEZ'].unique()))"
      ],
      "metadata": {
        "colab": {
          "base_uri": "https://localhost:8080/"
        },
        "id": "Kknsz7Fk2yC4",
        "outputId": "c0fe598d-f5b8-4178-9f5e-e40da195ca4a"
      },
      "execution_count": null,
      "outputs": [
        {
          "output_type": "stream",
          "name": "stdout",
          "text": [
            "35\n",
            "object\n",
            "GRAVIDEZ ['Unica' 'Dupla' nan 'Tripla_e_mais' 'Ignorado']\n",
            "time: 17.8 ms (started: 2023-09-04 17:51:32 +00:00)\n"
          ]
        }
      ]
    },
    {
      "cell_type": "markdown",
      "source": [
        "### 22) Tipo de partos"
      ],
      "metadata": {
        "id": "ULXvxrYt23_I"
      }
    },
    {
      "cell_type": "markdown",
      "source": [
        "> <b>Base de origem</b>: SIM e SINASC.<br>\n",
        "> <b>Tipo de variável</b>: Qualitativo nominal.<br>\n",
        "\n",
        "> <b>Nome do campo</b>: <font color=blue>PARTO (TIPOPARTO)</font>.<br>\n",
        "> <b>Descrição do campo</b>: Tipo de parto. (1 – vaginal; 2 – cesáreo; 9 – ignorado).<br>\n",
        "> <b>Tipo do campo</b>: object.<br>\n",
        "> <b>Possui valores Nulos</b>: Sim.<br>\n",
        "> <b>Intervalo de valores</b>: 'Cesareo' 'Vaginal' nan.<br>\n"
      ],
      "metadata": {
        "id": "a-aDA0rykfU3"
      }
    },
    {
      "cell_type": "code",
      "source": [
        "print(dados['PARTO'].isna().unique())\n",
        "print(dados['PARTO'].dtype)\n",
        "print('PARTO {}'.format(dados['PARTO'].unique()))"
      ],
      "metadata": {
        "colab": {
          "base_uri": "https://localhost:8080/"
        },
        "id": "sSWeKkRM27kS",
        "outputId": "b7baccc0-0a05-423f-ea47-0f210e788ea5"
      },
      "execution_count": null,
      "outputs": [
        {
          "output_type": "stream",
          "name": "stdout",
          "text": [
            "[False  True]\n",
            "object\n",
            "PARTO ['Cesareo' 'Vaginal' nan]\n",
            "time: 24.1 ms (started: 2023-09-04 17:51:32 +00:00)\n"
          ]
        }
      ]
    },
    {
      "cell_type": "markdown",
      "source": [
        "### 23) Tipo de raça e cor da mãe"
      ],
      "metadata": {
        "id": "ghuxgCgs3Dkc"
      }
    },
    {
      "cell_type": "markdown",
      "source": [
        "> <b>Base de origem</b>: SINASC.<br>\n",
        "> <b>Tipo de dados</b>: Qualitativo nominal.<br>\n",
        "\n",
        "> <b>Nome do campo</b>: <font color=blue>RACACORMAE</font>.<br>\n",
        "> <b>Descrição do campo</b>: Tipo de raça e cor da mãe: 1– Branca; 2– Preta; 3– Amarela; 4– Parda; 5– Indígena.<br>\n",
        "> <b>Tipo do campo</b>: float64.<br>\n",
        "> <b>Possui valores Nulos</b>: Sim.<br>\n",
        "> <b>Intervalo de valores</b>: Entre 1 e 9.0.<br>\n"
      ],
      "metadata": {
        "id": "WugiRXmgloDD"
      }
    },
    {
      "cell_type": "code",
      "source": [
        "print(dados['RACACORMAE'].isna().unique())\n",
        "print(dados['RACACORMAE'].dtype)\n",
        "print('Entre %d e %s' %(dados['RACACORMAE'].min(), dados['RACACORMAE'].max()))\n",
        "print('RACACORMAE {}'.format(dados['RACACORMAE'].unique()))"
      ],
      "metadata": {
        "colab": {
          "base_uri": "https://localhost:8080/"
        },
        "id": "OoTtVSuL3EyH",
        "outputId": "d0e54812-1075-4e2b-fce0-4b8f4b4a2684"
      },
      "execution_count": null,
      "outputs": [
        {
          "output_type": "stream",
          "name": "stdout",
          "text": [
            "[ True False]\n",
            "float64\n",
            "Entre 1 e 9.0\n",
            "RACACORMAE [nan  2.  4.  9.  1.  3.  5.]\n",
            "time: 8.55 ms (started: 2023-09-04 17:51:32 +00:00)\n"
          ]
        }
      ]
    },
    {
      "cell_type": "markdown",
      "source": [
        "## <font color=green>1.3 - Variáveis não utilizadas</font>\n",
        "***"
      ],
      "metadata": {
        "id": "Sfvg0eom64Hk"
      }
    },
    {
      "cell_type": "code",
      "source": [
        "for col in dados.drop(columns=['ANO', 'CODANOMAL', 'APGAR1', 'APGAR5',\n",
        "                               'ESCMAE', 'ESCMAE2010', 'ESCMAEAGR1', 'SERIESCMAE',\n",
        "                               'IDADEMAE','IDADEPAI', 'LOCNASC', 'CONSULTAS', 'CONSPRENAT',\n",
        "                               'QTDFILVIVO', 'QTDGESTANT',  'QTDPARTCES', 'QTDPARTNOR',\n",
        "                               'GESTACAO', 'SEMAGESTAC', 'PESO', 'SEXO',\n",
        "                               'ESTCIVMAE', 'GRAVIDEZ', 'PARTO', 'RACACORMAE', 'OBT_NEONATAL',\n",
        "                               'QTDFILMORT', 'TPAPRESENT']):\n",
        "  print(col)\n",
        "  print(dados[col].unique())\n",
        "  print()"
      ],
      "metadata": {
        "colab": {
          "base_uri": "https://localhost:8080/"
        },
        "id": "6b7FmQHK6gaV",
        "outputId": "914fef4f-8f17-4cbb-f72b-c09f258ae7ad"
      },
      "execution_count": null,
      "outputs": [
        {
          "output_type": "stream",
          "name": "stdout",
          "text": [
            "IDADE_OBT\n",
            "[ nan 327. 102.   1.  15.  14. 161.   0.  43.   2.   6.  29.   4.  11.\n",
            " 176.  45.   3.   7.  40. 259. 103. 139.   9. 153. 105.  25.  42. 171.\n",
            "  61.  17.   5. 177.  13.  77.  10.  35.  36. 306.  18.   8.  51.  49.\n",
            " 118.  44.  27.  20.  47.  21.  50.  68.  41. 320.  52.  58.  32.  67.\n",
            " 202. 322. 243.  30.  71.  26.  16. 169. 135.  24. 111.  39.  37.  75.\n",
            "  65. 116. 281.  38.  74.  60. 149.  23. 217. 254. 238.  22. 150.  56.\n",
            "  28.  87. 332. 145.  72. 198. 166.  79. 270. 355.  82.  55. 147.  12.\n",
            " 222. 131.  95. 141.  73. 286. 296. 212. 140.  53. 235.  78.  92. 278.\n",
            " 255. 120. 181.  83. 130.  63. 129. 293. 123. 201.  34.  89. 172.  19.\n",
            " 394. 121.  80. 186. 117. 125.  59.  48. 173. 256. 100. 209.  31. 107.\n",
            " 218.  64. 113. 189. 338. 290.  81. 311. 158. 341. 144. 308.  57. 331.\n",
            " 266. 249. 192. 204. 114. 197. 237. 324.  99. 537.  93. 104.  86. 349.\n",
            " 326. 277.  33.  97. 305.  90.  84. 199.  62. 221. 190. 160. 138.  96.\n",
            " 359.  76. 119. 115. 297. 269. 146. 133. 312. 316. 194. 318. 126. 128.\n",
            " 223. 272. 282.  46. 257. 168. 213. 319. 136. 216.  66. 110. 289. 302.\n",
            " 362. 283. 182. 350. 300. 232. 142. 206. 170. 231.  70. 285.  54. 162.\n",
            " 252. 246. 233. 248. 260. 219. 307. 346. 288. 214. 220. 275. 203. 183.\n",
            " 234. 187. 287. 251.  88. 242. 148. 227. 315. 258.  69. 276. 132. 151.\n",
            " 157. 265. 303. 195. 321. 334. 244. 154. 345. 108. 325. 224. 163. 185.\n",
            " 342. 156. 164. 365. 208. 112. 193. 109. 205. 236.]\n",
            "\n",
            "IDANOMAL\n",
            "['Nao' nan 'Ignorado' 'Sim']\n",
            "\n",
            "SEM_NOME\n",
            "[   781 170214 172507 ... 533436 533440 533487]\n",
            "\n",
            "STCESPARTO\n",
            "[nan 'Nao' 'Nao_se_aplica' 'Sim' 'Ignorado']\n",
            "\n",
            "STDNNOVA\n",
            "['Nao' 'Sim']\n",
            "\n",
            "STTRABPART\n",
            "[nan 'Nao' 'Sim' 'Ignorado']\n",
            "\n",
            "TPDOCRESP\n",
            "[nan 'CPF' 'COREN' '0' 'CNES' 'CRM' 'RG']\n",
            "\n",
            "TPFUNCRESP\n",
            "[nan 'Medico' 'Enfermeiro' 'Outros' 'Funcionario_do_cartorio' 'Parteira']\n",
            "\n",
            "TPMETESTIM\n",
            "[nan 'Exame_fisico' 'Ignorado' 'Outro_metodo']\n",
            "\n",
            "TPNASCASSI\n",
            "[nan 'Outros' 'Enfermeira/obstetriz' 'Medico' 'Ignorado' 'Parteira']\n",
            "\n",
            "time: 83.7 ms (started: 2023-09-04 17:51:32 +00:00)\n"
          ]
        }
      ]
    },
    {
      "cell_type": "code",
      "source": [],
      "metadata": {
        "id": "DlJt9pY7qisV",
        "outputId": "6ceb311d-8d34-4b04-8b9c-a2473302324d",
        "colab": {
          "base_uri": "https://localhost:8080/"
        }
      },
      "execution_count": null,
      "outputs": [
        {
          "output_type": "stream",
          "name": "stdout",
          "text": [
            "time: 94.2 ms (started: 2023-09-04 17:51:32 +00:00)\n"
          ]
        }
      ]
    }
  ]
}