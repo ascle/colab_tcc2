{
  "nbformat": 4,
  "nbformat_minor": 0,
  "metadata": {
    "colab": {
      "provenance": [],
      "collapsed_sections": [
        "gI6FhvTn81XA",
        "FgXFbg_NDmHJ",
        "pOCGLAHpINTE",
        "eEIAZDpmXVva",
        "YiZLzBFsk30s",
        "cwL2XS6Xk9q0",
        "uLyE0mBXHZb3",
        "v7CDYY0lP4vy",
        "wlSKNuFWBx3M",
        "HTkElvkaHoU4"
      ],
      "authorship_tag": "ABX9TyOurX0OMtVJDfe4T6xnk23M",
      "include_colab_link": true
    },
    "kernelspec": {
      "name": "python3",
      "display_name": "Python 3"
    },
    "language_info": {
      "name": "python"
    }
  },
  "cells": [
    {
      "cell_type": "markdown",
      "metadata": {
        "id": "view-in-github",
        "colab_type": "text"
      },
      "source": [
        "<a href=\"https://colab.research.google.com/github/ascle/colab_tcc2/blob/dev/3_limpeza-tratamento_dos_dados.ipynb\" target=\"_parent\"><img src=\"https://colab.research.google.com/assets/colab-badge.svg\" alt=\"Open In Colab\"/></a>"
      ]
    },
    {
      "cell_type": "markdown",
      "source": [
        "# <font color=green>2 - Transformando os dados</font>\n",
        "***"
      ],
      "metadata": {
        "id": "gOFqKci126Ro"
      }
    },
    {
      "cell_type": "markdown",
      "source": [
        "**As transformações dos dados podem ser separadas em 4 grupos:**\n",
        "\n",
        "\n",
        "\n",
        "*   Construtiva: adiciona ou copia dados;\n",
        "*   Destrutiva: dados são substituídos ou deletados;\n",
        "*   Estética: formatam a estrutura dos dados (datas, hora, endereço, etc…)\n",
        "*   Estrutural: ocorre entre as colunas: renomeação, combinação e movimentação de colunas na tabela.\n",
        "\n",
        "\n",
        "\n",
        "\n"
      ],
      "metadata": {
        "id": "9eQLhzq8f7wE"
      }
    },
    {
      "cell_type": "markdown",
      "source": [
        "**Tipos de dados NaN**\n",
        "\n",
        "Dados NaN são literalmente dados não preenchidos.\n",
        "\n",
        "\n",
        "É muito importante, a partir do entendimento dos processos e regras de negócio, compreender a causa do surgimento destes dados NaN, pois esse entendimento é muito necessário para decidir como tratar esses dados da forma mais adequada possível.\n",
        "\n",
        "\n",
        "Para incrementar nossa compreenssão sobre os dados NaN, formalmente podemos dividir os dados NaN em três grupos:\n",
        "\n",
        "* Missing Completely at Random (MCAR): A probabilidade de uma instância estar ausente não depende nem de valores conhecidos e nem do próprio valor ausente. Isso entra no exemplo de valores ausentes na coluna RG por descuido do responsável pela coluna que simplesmente não registrou o dado e não pelo fato da pessoa não ter RG.\n",
        "\n",
        "* Missing at Random (MAR): A probabilidade de uma instância estar ausente pode depender de valores conhecidos, mas não do próprio valor ausente. Por exemplo, esse caso entraria na situação do dado ser NaN na coluna Nome_do_Conjuge pelo fato da pessoa ter a informação ‘solteiro’ na coluna de Estado_Civil.\n",
        "\n",
        "* Not Missing at Random (NMAR): A probabilidade de uma instância estar ausente pode depender do valor da própria variável. Podemos citar como exemplo o caso de uma coluna de notas de alunos de uma prova possuir dados NaN devido a alunos que zeraram a prova ou faltaram a prova final (também levando a uma nota 0)."
      ],
      "metadata": {
        "id": "Gszu76-Al__l"
      }
    },
    {
      "cell_type": "markdown",
      "source": [
        "**Referência:**\n",
        "\n",
        "https://medium.com/data-hackers/tratamento-e-transforma%C3%A7%C3%A3o-de-dados-nan-uma-vis%C3%A3o-geral-e-pr%C3%A1tica-54efa9fc7a98"
      ],
      "metadata": {
        "id": "ylp6KSHAmaRA"
      }
    },
    {
      "cell_type": "markdown",
      "source": [
        "### Conectando no ambiente que será utilizado"
      ],
      "metadata": {
        "id": "gI6FhvTn81XA"
      }
    },
    {
      "cell_type": "markdown",
      "source": [
        "Importação através o upload do arquivo"
      ],
      "metadata": {
        "id": "C6JodiMya4kU"
      }
    },
    {
      "cell_type": "code",
      "source": [
        "# Importação quando for feito o upload do arquivo\n",
        "\n",
        "#import pandas as pd\n",
        "#dados = pd.read_csv('dn.csv')\n",
        "#dados.head()"
      ],
      "metadata": {
        "id": "gkr5U49wDwY9"
      },
      "execution_count": null,
      "outputs": []
    },
    {
      "cell_type": "markdown",
      "source": [
        "Importação através do Google Drive"
      ],
      "metadata": {
        "id": "zVgABY6zbEas"
      }
    },
    {
      "cell_type": "code",
      "source": [
        "# Importando do Drive\n",
        "\n",
        "from google.colab import drive\n",
        "from os import chdir\n",
        "\n",
        "drive.mount('/content/drive', force_remount=True)\n",
        "chdir('/content/drive/MyDrive/UFS/tcc-2-ascle-ufs/bases/linkage_marco/')"
      ],
      "metadata": {
        "colab": {
          "base_uri": "https://localhost:8080/"
        },
        "id": "a2C69Hwq2nSk",
        "outputId": "578ba173-1152-40d4-e782-5cd61bde2f88"
      },
      "execution_count": null,
      "outputs": [
        {
          "output_type": "stream",
          "name": "stdout",
          "text": [
            "Mounted at /content/drive\n"
          ]
        }
      ]
    },
    {
      "cell_type": "markdown",
      "source": [
        "### Importando pandas e lendo o dataset do projeto\n",
        "\n",
        "https://pandas.pydata.org/"
      ],
      "metadata": {
        "id": "FgXFbg_NDmHJ"
      }
    },
    {
      "cell_type": "code",
      "source": [
        "import pandas as pd\n",
        "import numpy as np\n",
        "from random import randrange\n",
        "\n",
        "dados = pd.read_csv('dn.csv')\n",
        "dados.sort_index(axis=1, inplace=True)\n",
        "dados.head()"
      ],
      "metadata": {
        "colab": {
          "base_uri": "https://localhost:8080/",
          "height": 344
        },
        "id": "s3hIhNYx4hrn",
        "outputId": "125dac36-1c2c-4283-c807-3681f18d4dd5"
      },
      "execution_count": null,
      "outputs": [
        {
          "output_type": "execute_result",
          "data": {
            "text/plain": [
              "    ANO  APGAR1  APGAR5 CODANOMAL  CONSPRENAT CONSULTAS      ESCMAE  \\\n",
              "0  2015     NaN     NaN       NaN         NaN  7_e_mais     Nenhuma   \n",
              "1  2015     NaN     NaN       NaN         NaN  de_4_a_6  4_a_7_anos   \n",
              "2  2016     NaN     NaN       NaN         NaN  7_e_mais  1_a_3_anos   \n",
              "3  2015     8.0     9.0       NaN         8.0  7_e_mais    Ignorado   \n",
              "4  2015     2.0     4.0       NaN         5.0  de_4_a_6     Nenhuma   \n",
              "\n",
              "         ESCMAE2010        ESCMAEAGR1 ESTCIVMAE  ... SERIESCMAE       SEXO  \\\n",
              "0               NaN               NaN    Casada  ...        NaN   Feminino   \n",
              "1               NaN               NaN    Casada  ...        NaN   Feminino   \n",
              "2               NaN               NaN    Casada  ...        NaN   Feminino   \n",
              "3          Ignorado          Ignorado  Ignorado  ...        NaN  Masculino   \n",
              "4  Sem_escolaridade  Sem_Escolaridade  Solteira  ...        NaN  Masculino   \n",
              "\n",
              "   STCESPARTO  STDNNOVA  STTRABPART TPAPRESENT TPDOCRESP  TPFUNCRESP  \\\n",
              "0         NaN       Nao         NaN        NaN       NaN         NaN   \n",
              "1         NaN       Nao         NaN        NaN       NaN         NaN   \n",
              "2         NaN       Nao         NaN        NaN       NaN         NaN   \n",
              "3         NaN       Sim         Nao   Ignorado       CPF      Medico   \n",
              "4         NaN       Sim         Nao   Cefalico     COREN  Enfermeiro   \n",
              "\n",
              "     TPMETESTIM            TPNASCASSI  \n",
              "0           NaN                   NaN  \n",
              "1           NaN                   NaN  \n",
              "2           NaN                   NaN  \n",
              "3           NaN                Outros  \n",
              "4  Exame_fisico  Enfermeira/obstetriz  \n",
              "\n",
              "[5 rows x 38 columns]"
            ],
            "text/html": [
              "\n",
              "\n",
              "  <div id=\"df-83a603ba-898f-4146-8ca1-f0bc7b87a6dc\">\n",
              "    <div class=\"colab-df-container\">\n",
              "      <div>\n",
              "<style scoped>\n",
              "    .dataframe tbody tr th:only-of-type {\n",
              "        vertical-align: middle;\n",
              "    }\n",
              "\n",
              "    .dataframe tbody tr th {\n",
              "        vertical-align: top;\n",
              "    }\n",
              "\n",
              "    .dataframe thead th {\n",
              "        text-align: right;\n",
              "    }\n",
              "</style>\n",
              "<table border=\"1\" class=\"dataframe\">\n",
              "  <thead>\n",
              "    <tr style=\"text-align: right;\">\n",
              "      <th></th>\n",
              "      <th>ANO</th>\n",
              "      <th>APGAR1</th>\n",
              "      <th>APGAR5</th>\n",
              "      <th>CODANOMAL</th>\n",
              "      <th>CONSPRENAT</th>\n",
              "      <th>CONSULTAS</th>\n",
              "      <th>ESCMAE</th>\n",
              "      <th>ESCMAE2010</th>\n",
              "      <th>ESCMAEAGR1</th>\n",
              "      <th>ESTCIVMAE</th>\n",
              "      <th>...</th>\n",
              "      <th>SERIESCMAE</th>\n",
              "      <th>SEXO</th>\n",
              "      <th>STCESPARTO</th>\n",
              "      <th>STDNNOVA</th>\n",
              "      <th>STTRABPART</th>\n",
              "      <th>TPAPRESENT</th>\n",
              "      <th>TPDOCRESP</th>\n",
              "      <th>TPFUNCRESP</th>\n",
              "      <th>TPMETESTIM</th>\n",
              "      <th>TPNASCASSI</th>\n",
              "    </tr>\n",
              "  </thead>\n",
              "  <tbody>\n",
              "    <tr>\n",
              "      <th>0</th>\n",
              "      <td>2015</td>\n",
              "      <td>NaN</td>\n",
              "      <td>NaN</td>\n",
              "      <td>NaN</td>\n",
              "      <td>NaN</td>\n",
              "      <td>7_e_mais</td>\n",
              "      <td>Nenhuma</td>\n",
              "      <td>NaN</td>\n",
              "      <td>NaN</td>\n",
              "      <td>Casada</td>\n",
              "      <td>...</td>\n",
              "      <td>NaN</td>\n",
              "      <td>Feminino</td>\n",
              "      <td>NaN</td>\n",
              "      <td>Nao</td>\n",
              "      <td>NaN</td>\n",
              "      <td>NaN</td>\n",
              "      <td>NaN</td>\n",
              "      <td>NaN</td>\n",
              "      <td>NaN</td>\n",
              "      <td>NaN</td>\n",
              "    </tr>\n",
              "    <tr>\n",
              "      <th>1</th>\n",
              "      <td>2015</td>\n",
              "      <td>NaN</td>\n",
              "      <td>NaN</td>\n",
              "      <td>NaN</td>\n",
              "      <td>NaN</td>\n",
              "      <td>de_4_a_6</td>\n",
              "      <td>4_a_7_anos</td>\n",
              "      <td>NaN</td>\n",
              "      <td>NaN</td>\n",
              "      <td>Casada</td>\n",
              "      <td>...</td>\n",
              "      <td>NaN</td>\n",
              "      <td>Feminino</td>\n",
              "      <td>NaN</td>\n",
              "      <td>Nao</td>\n",
              "      <td>NaN</td>\n",
              "      <td>NaN</td>\n",
              "      <td>NaN</td>\n",
              "      <td>NaN</td>\n",
              "      <td>NaN</td>\n",
              "      <td>NaN</td>\n",
              "    </tr>\n",
              "    <tr>\n",
              "      <th>2</th>\n",
              "      <td>2016</td>\n",
              "      <td>NaN</td>\n",
              "      <td>NaN</td>\n",
              "      <td>NaN</td>\n",
              "      <td>NaN</td>\n",
              "      <td>7_e_mais</td>\n",
              "      <td>1_a_3_anos</td>\n",
              "      <td>NaN</td>\n",
              "      <td>NaN</td>\n",
              "      <td>Casada</td>\n",
              "      <td>...</td>\n",
              "      <td>NaN</td>\n",
              "      <td>Feminino</td>\n",
              "      <td>NaN</td>\n",
              "      <td>Nao</td>\n",
              "      <td>NaN</td>\n",
              "      <td>NaN</td>\n",
              "      <td>NaN</td>\n",
              "      <td>NaN</td>\n",
              "      <td>NaN</td>\n",
              "      <td>NaN</td>\n",
              "    </tr>\n",
              "    <tr>\n",
              "      <th>3</th>\n",
              "      <td>2015</td>\n",
              "      <td>8.0</td>\n",
              "      <td>9.0</td>\n",
              "      <td>NaN</td>\n",
              "      <td>8.0</td>\n",
              "      <td>7_e_mais</td>\n",
              "      <td>Ignorado</td>\n",
              "      <td>Ignorado</td>\n",
              "      <td>Ignorado</td>\n",
              "      <td>Ignorado</td>\n",
              "      <td>...</td>\n",
              "      <td>NaN</td>\n",
              "      <td>Masculino</td>\n",
              "      <td>NaN</td>\n",
              "      <td>Sim</td>\n",
              "      <td>Nao</td>\n",
              "      <td>Ignorado</td>\n",
              "      <td>CPF</td>\n",
              "      <td>Medico</td>\n",
              "      <td>NaN</td>\n",
              "      <td>Outros</td>\n",
              "    </tr>\n",
              "    <tr>\n",
              "      <th>4</th>\n",
              "      <td>2015</td>\n",
              "      <td>2.0</td>\n",
              "      <td>4.0</td>\n",
              "      <td>NaN</td>\n",
              "      <td>5.0</td>\n",
              "      <td>de_4_a_6</td>\n",
              "      <td>Nenhuma</td>\n",
              "      <td>Sem_escolaridade</td>\n",
              "      <td>Sem_Escolaridade</td>\n",
              "      <td>Solteira</td>\n",
              "      <td>...</td>\n",
              "      <td>NaN</td>\n",
              "      <td>Masculino</td>\n",
              "      <td>NaN</td>\n",
              "      <td>Sim</td>\n",
              "      <td>Nao</td>\n",
              "      <td>Cefalico</td>\n",
              "      <td>COREN</td>\n",
              "      <td>Enfermeiro</td>\n",
              "      <td>Exame_fisico</td>\n",
              "      <td>Enfermeira/obstetriz</td>\n",
              "    </tr>\n",
              "  </tbody>\n",
              "</table>\n",
              "<p>5 rows × 38 columns</p>\n",
              "</div>\n",
              "      <button class=\"colab-df-convert\" onclick=\"convertToInteractive('df-83a603ba-898f-4146-8ca1-f0bc7b87a6dc')\"\n",
              "              title=\"Convert this dataframe to an interactive table.\"\n",
              "              style=\"display:none;\">\n",
              "\n",
              "  <svg xmlns=\"http://www.w3.org/2000/svg\" height=\"24px\"viewBox=\"0 0 24 24\"\n",
              "       width=\"24px\">\n",
              "    <path d=\"M0 0h24v24H0V0z\" fill=\"none\"/>\n",
              "    <path d=\"M18.56 5.44l.94 2.06.94-2.06 2.06-.94-2.06-.94-.94-2.06-.94 2.06-2.06.94zm-11 1L8.5 8.5l.94-2.06 2.06-.94-2.06-.94L8.5 2.5l-.94 2.06-2.06.94zm10 10l.94 2.06.94-2.06 2.06-.94-2.06-.94-.94-2.06-.94 2.06-2.06.94z\"/><path d=\"M17.41 7.96l-1.37-1.37c-.4-.4-.92-.59-1.43-.59-.52 0-1.04.2-1.43.59L10.3 9.45l-7.72 7.72c-.78.78-.78 2.05 0 2.83L4 21.41c.39.39.9.59 1.41.59.51 0 1.02-.2 1.41-.59l7.78-7.78 2.81-2.81c.8-.78.8-2.07 0-2.86zM5.41 20L4 18.59l7.72-7.72 1.47 1.35L5.41 20z\"/>\n",
              "  </svg>\n",
              "      </button>\n",
              "\n",
              "\n",
              "\n",
              "    <div id=\"df-7e777a5e-89a2-4bd8-888c-3b5f4155a9bd\">\n",
              "      <button class=\"colab-df-quickchart\" onclick=\"quickchart('df-7e777a5e-89a2-4bd8-888c-3b5f4155a9bd')\"\n",
              "              title=\"Suggest charts.\"\n",
              "              style=\"display:none;\">\n",
              "\n",
              "<svg xmlns=\"http://www.w3.org/2000/svg\" height=\"24px\"viewBox=\"0 0 24 24\"\n",
              "     width=\"24px\">\n",
              "    <g>\n",
              "        <path d=\"M19 3H5c-1.1 0-2 .9-2 2v14c0 1.1.9 2 2 2h14c1.1 0 2-.9 2-2V5c0-1.1-.9-2-2-2zM9 17H7v-7h2v7zm4 0h-2V7h2v10zm4 0h-2v-4h2v4z\"/>\n",
              "    </g>\n",
              "</svg>\n",
              "      </button>\n",
              "    </div>\n",
              "\n",
              "<style>\n",
              "  .colab-df-quickchart {\n",
              "    background-color: #E8F0FE;\n",
              "    border: none;\n",
              "    border-radius: 50%;\n",
              "    cursor: pointer;\n",
              "    display: none;\n",
              "    fill: #1967D2;\n",
              "    height: 32px;\n",
              "    padding: 0 0 0 0;\n",
              "    width: 32px;\n",
              "  }\n",
              "\n",
              "  .colab-df-quickchart:hover {\n",
              "    background-color: #E2EBFA;\n",
              "    box-shadow: 0px 1px 2px rgba(60, 64, 67, 0.3), 0px 1px 3px 1px rgba(60, 64, 67, 0.15);\n",
              "    fill: #174EA6;\n",
              "  }\n",
              "\n",
              "  [theme=dark] .colab-df-quickchart {\n",
              "    background-color: #3B4455;\n",
              "    fill: #D2E3FC;\n",
              "  }\n",
              "\n",
              "  [theme=dark] .colab-df-quickchart:hover {\n",
              "    background-color: #434B5C;\n",
              "    box-shadow: 0px 1px 3px 1px rgba(0, 0, 0, 0.15);\n",
              "    filter: drop-shadow(0px 1px 2px rgba(0, 0, 0, 0.3));\n",
              "    fill: #FFFFFF;\n",
              "  }\n",
              "</style>\n",
              "\n",
              "    <script>\n",
              "      async function quickchart(key) {\n",
              "        const containerElement = document.querySelector('#' + key);\n",
              "        const charts = await google.colab.kernel.invokeFunction(\n",
              "            'suggestCharts', [key], {});\n",
              "      }\n",
              "    </script>\n",
              "\n",
              "      <script>\n",
              "\n",
              "function displayQuickchartButton(domScope) {\n",
              "  let quickchartButtonEl =\n",
              "    domScope.querySelector('#df-7e777a5e-89a2-4bd8-888c-3b5f4155a9bd button.colab-df-quickchart');\n",
              "  quickchartButtonEl.style.display =\n",
              "    google.colab.kernel.accessAllowed ? 'block' : 'none';\n",
              "}\n",
              "\n",
              "        displayQuickchartButton(document);\n",
              "      </script>\n",
              "      <style>\n",
              "    .colab-df-container {\n",
              "      display:flex;\n",
              "      flex-wrap:wrap;\n",
              "      gap: 12px;\n",
              "    }\n",
              "\n",
              "    .colab-df-convert {\n",
              "      background-color: #E8F0FE;\n",
              "      border: none;\n",
              "      border-radius: 50%;\n",
              "      cursor: pointer;\n",
              "      display: none;\n",
              "      fill: #1967D2;\n",
              "      height: 32px;\n",
              "      padding: 0 0 0 0;\n",
              "      width: 32px;\n",
              "    }\n",
              "\n",
              "    .colab-df-convert:hover {\n",
              "      background-color: #E2EBFA;\n",
              "      box-shadow: 0px 1px 2px rgba(60, 64, 67, 0.3), 0px 1px 3px 1px rgba(60, 64, 67, 0.15);\n",
              "      fill: #174EA6;\n",
              "    }\n",
              "\n",
              "    [theme=dark] .colab-df-convert {\n",
              "      background-color: #3B4455;\n",
              "      fill: #D2E3FC;\n",
              "    }\n",
              "\n",
              "    [theme=dark] .colab-df-convert:hover {\n",
              "      background-color: #434B5C;\n",
              "      box-shadow: 0px 1px 3px 1px rgba(0, 0, 0, 0.15);\n",
              "      filter: drop-shadow(0px 1px 2px rgba(0, 0, 0, 0.3));\n",
              "      fill: #FFFFFF;\n",
              "    }\n",
              "  </style>\n",
              "\n",
              "      <script>\n",
              "        const buttonEl =\n",
              "          document.querySelector('#df-83a603ba-898f-4146-8ca1-f0bc7b87a6dc button.colab-df-convert');\n",
              "        buttonEl.style.display =\n",
              "          google.colab.kernel.accessAllowed ? 'block' : 'none';\n",
              "\n",
              "        async function convertToInteractive(key) {\n",
              "          const element = document.querySelector('#df-83a603ba-898f-4146-8ca1-f0bc7b87a6dc');\n",
              "          const dataTable =\n",
              "            await google.colab.kernel.invokeFunction('convertToInteractive',\n",
              "                                                     [key], {});\n",
              "          if (!dataTable) return;\n",
              "\n",
              "          const docLinkHtml = 'Like what you see? Visit the ' +\n",
              "            '<a target=\"_blank\" href=https://colab.research.google.com/notebooks/data_table.ipynb>data table notebook</a>'\n",
              "            + ' to learn more about interactive tables.';\n",
              "          element.innerHTML = '';\n",
              "          dataTable['output_type'] = 'display_data';\n",
              "          await google.colab.output.renderOutput(dataTable, element);\n",
              "          const docLink = document.createElement('div');\n",
              "          docLink.innerHTML = docLinkHtml;\n",
              "          element.appendChild(docLink);\n",
              "        }\n",
              "      </script>\n",
              "    </div>\n",
              "  </div>\n"
            ]
          },
          "metadata": {},
          "execution_count": 3
        }
      ]
    },
    {
      "cell_type": "markdown",
      "source": [
        "## <font color=green> 2.1 - Variáveis</font>\n",
        "***\n"
      ],
      "metadata": {
        "id": "8WlcckNhC8rT"
      }
    },
    {
      "cell_type": "markdown",
      "source": [
        "### 2) Anomalia detectada"
      ],
      "metadata": {
        "id": "pOCGLAHpINTE"
      }
    },
    {
      "cell_type": "markdown",
      "source": [
        "##### Criando o campo <font color=blue>CODANOMAL_QTD</font> com a quantidade de anomalias"
      ],
      "metadata": {
        "id": "eEIAZDpmXVva"
      }
    },
    {
      "cell_type": "code",
      "source": [
        "dados['CODANOMAL'].value_counts(dropna=False)"
      ],
      "metadata": {
        "colab": {
          "base_uri": "https://localhost:8080/"
        },
        "id": "Boy9m0TJGf1T",
        "outputId": "eb72d154-27c9-463b-baf4-4ca543fa5871"
      },
      "execution_count": null,
      "outputs": [
        {
          "output_type": "execute_result",
          "data": {
            "text/plain": [
              "NaN                     197349\n",
              "Q699                       258\n",
              "Q668                       172\n",
              "Q690                       150\n",
              "Q549                       138\n",
              "                         ...  \n",
              "Q158Q423Q668Q700Q703         1\n",
              "Q249Q668                     1\n",
              "Q690Q703                     1\n",
              "Q039Q054                     1\n",
              "Q203                         1\n",
              "Name: CODANOMAL, Length: 558, dtype: int64"
            ]
          },
          "metadata": {},
          "execution_count": 4
        }
      ]
    },
    {
      "cell_type": "code",
      "source": [
        "dados['CODANOMAL_QTD'] = dados['CODANOMAL']\n",
        "dados.drop(columns=['CODANOMAL'], inplace=True)\n",
        "dados['CODANOMAL_QTD'] = dados['CODANOMAL_QTD'].apply(lambda x: x.count('Q') if (x != None and type(x) != float) else None)\n",
        "#dados['CODANOMAL_QTD'].value_counts(dropna=False)"
      ],
      "metadata": {
        "id": "yfcQbo8OOldY"
      },
      "execution_count": null,
      "outputs": []
    },
    {
      "cell_type": "code",
      "source": [
        "# Verificando os 0's\n",
        "selecao = (dados['CODANOMAL_QTD'] == 0)\n",
        "print(dados[selecao].CODANOMAL_QTD)\n",
        "dados['CODANOMAL_QTD'] = dados['CODANOMAL_QTD'].apply(lambda x: 1 if (x == 0) else x)\n",
        "#print(dados['CODANOMAL_QTD'].value_counts(dropna=False))"
      ],
      "metadata": {
        "colab": {
          "base_uri": "https://localhost:8080/"
        },
        "id": "imAyk-odWb5n",
        "outputId": "27528f42-2451-48a5-b7aa-8f5457f98bd9"
      },
      "execution_count": null,
      "outputs": [
        {
          "output_type": "stream",
          "name": "stdout",
          "text": [
            "2733     0.0\n",
            "6536     0.0\n",
            "42671    0.0\n",
            "Name: CODANOMAL_QTD, dtype: float64\n"
          ]
        }
      ]
    },
    {
      "cell_type": "code",
      "source": [
        "dados['CODANOMAL_QTD'].fillna(0, inplace=True)\n",
        "print(dados['CODANOMAL_QTD'].value_counts(dropna=False))"
      ],
      "metadata": {
        "colab": {
          "base_uri": "https://localhost:8080/"
        },
        "id": "Y4iH2mGsXK2P",
        "outputId": "898b74b7-a07f-491e-cde0-7341236c996f"
      },
      "execution_count": null,
      "outputs": [
        {
          "output_type": "stream",
          "name": "stdout",
          "text": [
            "0.0    197349\n",
            "1.0      2012\n",
            "2.0       238\n",
            "3.0        92\n",
            "4.0        45\n",
            "5.0        36\n",
            "Name: CODANOMAL_QTD, dtype: int64\n"
          ]
        }
      ]
    },
    {
      "cell_type": "markdown",
      "source": [
        "### 3 - Apgar no primeiro minuto"
      ],
      "metadata": {
        "id": "YiZLzBFsk30s"
      }
    },
    {
      "cell_type": "markdown",
      "source": [
        "##### Removendo os registros com valores > 10"
      ],
      "metadata": {
        "id": "cwL2XS6Xk9q0"
      }
    },
    {
      "cell_type": "code",
      "source": [
        "selecao = dados['APGAR1'] > 10\n",
        "dados.drop(dados[selecao].index, inplace=True)"
      ],
      "metadata": {
        "id": "RQFpx59mG9Rq"
      },
      "execution_count": null,
      "outputs": []
    },
    {
      "cell_type": "markdown",
      "source": [
        "##### Tratando dados NaN"
      ],
      "metadata": {
        "id": "wDvqjImxvLvc"
      }
    },
    {
      "cell_type": "code",
      "source": [
        "print('Quantidade NaN: {}'.format(dados['APGAR1'].isnull().sum()))\n",
        "print('Percentual NaN: {}'.format(dados['APGAR1'].isnull().sum()/dados.shape[0]*100))\n",
        "dados.dropna(subset=['APGAR1'], inplace=True, axis=0)"
      ],
      "metadata": {
        "colab": {
          "base_uri": "https://localhost:8080/"
        },
        "id": "h9BxyFXFvVpe",
        "outputId": "54c50577-0354-42cd-b981-63bd517c5604"
      },
      "execution_count": null,
      "outputs": [
        {
          "output_type": "stream",
          "name": "stdout",
          "text": [
            "Quantidade NaN: 4630\n",
            "Percentual NaN: 2.317665315112379\n"
          ]
        }
      ]
    },
    {
      "cell_type": "code",
      "source": [
        "dados['APGAR1'].value_counts(dropna=False)"
      ],
      "metadata": {
        "colab": {
          "base_uri": "https://localhost:8080/"
        },
        "id": "lS4cCZFf_lGE",
        "outputId": "5e788834-a966-4fa7-c4d5-f0f394c6a6d0"
      },
      "execution_count": null,
      "outputs": [
        {
          "output_type": "execute_result",
          "data": {
            "text/plain": [
              "9.0     127207\n",
              "8.0      39821\n",
              "7.0       8673\n",
              "10.0      6271\n",
              "6.0       4638\n",
              "5.0       3245\n",
              "4.0       1997\n",
              "3.0       1452\n",
              "2.0        904\n",
              "1.0        737\n",
              "0.0        195\n",
              "Name: APGAR1, dtype: int64"
            ]
          },
          "metadata": {},
          "execution_count": 10
        }
      ]
    },
    {
      "cell_type": "markdown",
      "source": [
        "### 4 - Apgar no quinto minuto"
      ],
      "metadata": {
        "id": "uLyE0mBXHZb3"
      }
    },
    {
      "cell_type": "markdown",
      "source": [
        "##### Removendo os registros com valores > 10\n"
      ],
      "metadata": {
        "id": "v7CDYY0lP4vy"
      }
    },
    {
      "cell_type": "code",
      "source": [
        "selecao = dados['APGAR5'] > 10\n",
        "dados.drop(dados[selecao].index, inplace=True)"
      ],
      "metadata": {
        "id": "9rpDGgX2HcOu"
      },
      "execution_count": null,
      "outputs": []
    },
    {
      "cell_type": "markdown",
      "source": [
        "##### Tratando NaN"
      ],
      "metadata": {
        "id": "wlSKNuFWBx3M"
      }
    },
    {
      "cell_type": "code",
      "source": [
        "print('Quantidade NaN: {}'.format(dados['APGAR5'].isnull().sum()))\n",
        "print('Percentual NaN: {}'.format(dados['APGAR5'].isnull().sum()/dados.shape[0]*100))\n",
        "dados.dropna(subset=['APGAR5'], inplace=True, axis=0)\n",
        "dados['APGAR5'].value_counts(dropna=False)"
      ],
      "metadata": {
        "colab": {
          "base_uri": "https://localhost:8080/"
        },
        "id": "GSU_GO_wBv19",
        "outputId": "343d2254-9ae5-4ffa-ec32-c90b36acfb20"
      },
      "execution_count": null,
      "outputs": [
        {
          "output_type": "stream",
          "name": "stdout",
          "text": [
            "Quantidade NaN: 81\n",
            "Percentual NaN: 0.041508660448908476\n"
          ]
        },
        {
          "output_type": "execute_result",
          "data": {
            "text/plain": [
              "10.0    126863\n",
              "9.0      54265\n",
              "8.0       9237\n",
              "7.0       2475\n",
              "6.0        775\n",
              "5.0        443\n",
              "1.0        421\n",
              "4.0        211\n",
              "3.0        140\n",
              "2.0        132\n",
              "0.0         97\n",
              "Name: APGAR5, dtype: int64"
            ]
          },
          "metadata": {},
          "execution_count": 12
        }
      ]
    },
    {
      "cell_type": "markdown",
      "source": [
        "### 5 - Escolaridade da mãe"
      ],
      "metadata": {
        "id": "HTkElvkaHoU4"
      }
    },
    {
      "cell_type": "markdown",
      "source": [
        "##### Criação do campo <font color=blue>ESCMAEETL<font>"
      ],
      "metadata": {
        "id": "5yXkXwpOO3tG"
      }
    },
    {
      "cell_type": "markdown",
      "source": [
        "*Este novo campo irá unificar os dados dos demais campos referentes a escolaridade da mãe.*"
      ],
      "metadata": {
        "id": "UDp1MzaPmRuw"
      }
    },
    {
      "cell_type": "markdown",
      "source": [
        "Tratando SERIESCMAE"
      ],
      "metadata": {
        "id": "q_bjVVvKm9CO"
      }
    },
    {
      "cell_type": "code",
      "source": [
        "seriesmae = {\n",
        "    0: 'Sem_Escolaridade',\n",
        "    1: 'Fundamental_1',\n",
        "    2: 'Fundamental_1',\n",
        "    3: 'Fundamental_1',\n",
        "    4: 'Fundamental_1',\n",
        "    5: 'Fundamental_2',\n",
        "    6: 'Fundamental_2',\n",
        "    7: 'Fundamental_2',\n",
        "    8: 'Fundamental_2',\n",
        "}\n",
        "dados['SERIESCMAE'] = dados['SERIESCMAE'].map(seriesmae)\n",
        "print(dados['SERIESCMAE'].value_counts(dropna=False))"
      ],
      "metadata": {
        "id": "e05vCsXr9yRr",
        "colab": {
          "base_uri": "https://localhost:8080/"
        },
        "outputId": "36b9d99a-52a9-4ffa-ef74-fe9b9e8dadf6"
      },
      "execution_count": null,
      "outputs": [
        {
          "output_type": "stream",
          "name": "stdout",
          "text": [
            "Fundamental_1       85288\n",
            "Fundamental_2       58696\n",
            "NaN                 51060\n",
            "Sem_Escolaridade       15\n",
            "Name: SERIESCMAE, dtype: int64\n"
          ]
        }
      ]
    },
    {
      "cell_type": "markdown",
      "source": [
        "Tratando ESCMAE"
      ],
      "metadata": {
        "id": "XY__coMXnOhS"
      }
    },
    {
      "cell_type": "code",
      "source": [
        "escmae = {\n",
        "    'Ignorado': 'Ignorado',\n",
        "    '0': 'Ignorado',\n",
        "    'Nenhuma': 'Sem_Escolaridade',\n",
        "    '1_a_3_anos': 'Fundamental_1',\n",
        "    '4_a_7_anos': 'Fundamental_2',\n",
        "    '8_a_11_anos': 'Medio',\n",
        "    '12_e_mais': 'Superior'\n",
        "}\n",
        "dados['ESCMAE'] = dados['ESCMAE'].map(escmae)\n",
        "print(dados['ESCMAE'].value_counts(dropna=False))"
      ],
      "metadata": {
        "id": "6W_hPQ6Kprno",
        "colab": {
          "base_uri": "https://localhost:8080/"
        },
        "outputId": "59bb6dc8-6653-400f-c37f-6f5aef80a821"
      },
      "execution_count": null,
      "outputs": [
        {
          "output_type": "stream",
          "name": "stdout",
          "text": [
            "Medio               105308\n",
            "Fundamental_2        49835\n",
            "Superior             29392\n",
            "Fundamental_1         8626\n",
            "Sem_Escolaridade      1168\n",
            "NaN                    611\n",
            "Ignorado               119\n",
            "Name: ESCMAE, dtype: int64\n"
          ]
        }
      ]
    },
    {
      "cell_type": "markdown",
      "source": [
        "Tratando ESCMAEAGR1"
      ],
      "metadata": {
        "id": "YOGC9DKInYio"
      }
    },
    {
      "cell_type": "code",
      "source": [
        "escmaeagr1 = {\n",
        "    'Ignorado': 'Ignorado',\n",
        "    'Sem_Escolaridade': 'Sem_Escolaridade',\n",
        "    'Fundamental_I_Incompleto_ou_Inespecifico': 'Fundamental_1',\n",
        "    'Fundamental_I_Incompleto': 'Fundamental_1',\n",
        "    'Fundamental_I_Completo': 'Fundamental_1',\n",
        "    'Fundamental_II_Incompleto_ou_Inespecifico': 'Fundamental_2',\n",
        "    'Fundamental_II_Incompleto': 'Fundamental_2',\n",
        "    'Fundamental_II_Completo': 'Fundamental_2',\n",
        "    'Ensinomedio_Incompleto_ou_Inespecifico': 'Medio',\n",
        "    'Ensino_Medio_Incompleto': 'Medio',\n",
        "    'Ensino_Medio_Completo': 'Medio',\n",
        "    'Superior_Incompleto': 'Superior',\n",
        "    'Superior_Completo': 'Superior'\n",
        "}\n",
        "dados['ESCMAEAGR1'] = dados['ESCMAEAGR1'].map(escmaeagr1)\n",
        "print(dados['ESCMAEAGR1'].value_counts(dropna=False))"
      ],
      "metadata": {
        "id": "svshEyBsrTWS",
        "colab": {
          "base_uri": "https://localhost:8080/"
        },
        "outputId": "65d92067-4bfb-4991-f761-b972053a69d1"
      },
      "execution_count": null,
      "outputs": [
        {
          "output_type": "stream",
          "name": "stdout",
          "text": [
            "Medio               85762\n",
            "Fundamental_2       61892\n",
            "Superior            29387\n",
            "Fundamental_1       16095\n",
            "Sem_Escolaridade     1168\n",
            "NaN                   647\n",
            "Ignorado              108\n",
            "Name: ESCMAEAGR1, dtype: int64\n"
          ]
        }
      ]
    },
    {
      "cell_type": "markdown",
      "source": [
        "Tratando ESCMAE2010"
      ],
      "metadata": {
        "id": "qZI_ZtGJnjQH"
      }
    },
    {
      "cell_type": "code",
      "source": [
        "escmae2010 = {\n",
        "    'Ignorado': 'Ignorado',\n",
        "    'Sem_escolaridade': 'Sem_Escolaridade',\n",
        "    'Fundamental_I_(1a_a_4a_serie)': 'Fundamental_1',\n",
        "    'Fundamental_II_(5a_a_8a_serie)': 'Fundamental_2',\n",
        "    'Ensinomedio_Incompleto_ou_Inespecifico': 'Medio',\n",
        "    'Medio_(antigo_2o_Grau)': 'Medio',\n",
        "    'Superior_incompleto': 'Superior',\n",
        "    'Superior_completo': 'Superior'\n",
        "}\n",
        "dados['ESCMAE2010'] = dados['ESCMAE2010'].map(escmae2010)\n",
        "print(dados['ESCMAE2010'].value_counts(dropna=False))"
      ],
      "metadata": {
        "id": "YB-Z3WM4tmSD",
        "colab": {
          "base_uri": "https://localhost:8080/"
        },
        "outputId": "985050f8-992d-4ec2-db56-61c1b8baa6f2"
      },
      "execution_count": null,
      "outputs": [
        {
          "output_type": "stream",
          "name": "stdout",
          "text": [
            "Medio               85762\n",
            "Fundamental_2       61892\n",
            "Superior            29387\n",
            "Fundamental_1       16095\n",
            "Sem_Escolaridade     1168\n",
            "NaN                   647\n",
            "Ignorado              108\n",
            "Name: ESCMAE2010, dtype: int64\n"
          ]
        }
      ]
    },
    {
      "cell_type": "markdown",
      "source": [
        "##### Criação do campo <font color=blue>ESCMAEETL<font>"
      ],
      "metadata": {
        "id": "6N6QPtznoGAI"
      }
    },
    {
      "cell_type": "code",
      "source": [
        "dados['ESCMAEETL'] = np.nan\n",
        "dados['ESCMAEETL'] = dados['ESCMAEAGR1']\n",
        "dados['ESCMAEETL'].fillna(dados['ESCMAE2010'], inplace=True)\n",
        "dados['ESCMAEETL'].fillna(dados['ESCMAE'], inplace=True)\n",
        "dados['ESCMAEETL'].fillna(dados['SERIESCMAE'], inplace=True)\n",
        "dados.drop(columns=['ESCMAEAGR1', 'ESCMAE2010', 'ESCMAE', 'SERIESCMAE'], inplace=True)\n",
        "print(dados['ESCMAEETL'].value_counts(dropna=False))"
      ],
      "metadata": {
        "id": "dX2f_Fa2vAAk",
        "colab": {
          "base_uri": "https://localhost:8080/"
        },
        "outputId": "7fccd834-4280-452c-af82-2a2bc4d4271d"
      },
      "execution_count": null,
      "outputs": [
        {
          "output_type": "stream",
          "name": "stdout",
          "text": [
            "Medio               85777\n",
            "Fundamental_2       61895\n",
            "Superior            29392\n",
            "Fundamental_1       16097\n",
            "Sem_Escolaridade     1168\n",
            "NaN                   611\n",
            "Ignorado              119\n",
            "Name: ESCMAEETL, dtype: int64\n"
          ]
        }
      ]
    },
    {
      "cell_type": "markdown",
      "source": [
        "##### Tratando Null e ignorado"
      ],
      "metadata": {
        "id": "U61pCUgmDOeb"
      }
    },
    {
      "cell_type": "code",
      "source": [
        "dados['ESCMAEETL'].replace('Ignorado', None, inplace=True)\n",
        "print('Quantidade NaN: {}'.format(dados['ESCMAEETL'].isnull().sum()))\n",
        "print('Percentual NaN: {}'.format(dados['ESCMAEETL'].isnull().sum()/dados.shape[0]*100))\n",
        "dados.dropna(subset=['ESCMAEETL'], inplace=True, axis=0)\n",
        "print(dados['ESCMAEETL'].value_counts(dropna=False))"
      ],
      "metadata": {
        "colab": {
          "base_uri": "https://localhost:8080/"
        },
        "id": "nmK-xFSdDN0F",
        "outputId": "e54377fd-bd4e-478d-d23d-48ae9d517ce7"
      },
      "execution_count": null,
      "outputs": [
        {
          "output_type": "stream",
          "name": "stdout",
          "text": [
            "Quantidade NaN: 730\n",
            "Percentual NaN: 0.3742457410322005\n",
            "Medio               85777\n",
            "Fundamental_2       61895\n",
            "Superior            29392\n",
            "Fundamental_1       16097\n",
            "Sem_Escolaridade     1168\n",
            "Name: ESCMAEETL, dtype: int64\n"
          ]
        }
      ]
    },
    {
      "cell_type": "markdown",
      "source": [
        "##### Campo referente <font color=blue>ESCMAEETL_VALOR<font>"
      ],
      "metadata": {
        "id": "tijoEm54lwTY"
      }
    },
    {
      "cell_type": "code",
      "source": [
        "dados['ESCMAEETL_VALOR'] = dados['ESCMAEETL']\n",
        "dados['ESCMAEETL_VALOR'].replace('Sem_Escolaridade', 1, inplace=True)\n",
        "dados['ESCMAEETL_VALOR'].replace('Fundamental_1', 4, inplace=True)\n",
        "dados['ESCMAEETL_VALOR'].replace('Fundamental_2', 8, inplace=True)\n",
        "dados['ESCMAEETL_VALOR'].replace('Medio', 11, inplace=True)\n",
        "dados['ESCMAEETL_VALOR'].replace('Superior', 15, inplace=True)"
      ],
      "metadata": {
        "id": "s567ceFBmAgy"
      },
      "execution_count": null,
      "outputs": []
    },
    {
      "cell_type": "code",
      "source": [
        "dados.ESCMAEETL_VALOR.isnull().sum()"
      ],
      "metadata": {
        "colab": {
          "base_uri": "https://localhost:8080/"
        },
        "id": "T-iiZGrq7IUL",
        "outputId": "6c2d6051-e9ac-47ea-a9e1-8e6dab4d4c00"
      },
      "execution_count": null,
      "outputs": [
        {
          "output_type": "execute_result",
          "data": {
            "text/plain": [
              "0"
            ]
          },
          "metadata": {},
          "execution_count": 20
        }
      ]
    },
    {
      "cell_type": "code",
      "source": [
        "# Removido devido a Tabela 4\n",
        "# Pdf 30\n",
        "# Na página 35 diz que é importante\n",
        "dados.drop(columns=['ESCMAEETL'], inplace=True)"
      ],
      "metadata": {
        "id": "RQZHyIaaPchM"
      },
      "execution_count": null,
      "outputs": []
    },
    {
      "cell_type": "markdown",
      "source": [
        "### <font color=red>6 - Idade da mãe</font>"
      ],
      "metadata": {
        "id": "KWIv83g4Oh31"
      }
    },
    {
      "cell_type": "markdown",
      "source": [
        "Removido devido Tabela 1."
      ],
      "metadata": {
        "id": "YXbSiBe2O3Re"
      }
    },
    {
      "cell_type": "code",
      "source": [
        "# pdf 27\n",
        "dados.drop(columns=['IDADEMAE'], inplace = True)"
      ],
      "metadata": {
        "id": "DJxWE7J0Olw0"
      },
      "execution_count": null,
      "outputs": []
    },
    {
      "cell_type": "markdown",
      "source": [
        "###<font color=red>7) Idade do pai</font>"
      ],
      "metadata": {
        "id": "28gqeaVhTfwC"
      }
    },
    {
      "cell_type": "code",
      "source": [
        "# Removido devido Tabela 6\n",
        "# pdf 33\n",
        "dados.drop(columns=['IDADEPAI'], inplace = True)"
      ],
      "metadata": {
        "id": "EuBFbVu0TjTb"
      },
      "execution_count": null,
      "outputs": []
    },
    {
      "cell_type": "markdown",
      "source": [
        "### 8- Local de nascimento"
      ],
      "metadata": {
        "id": "37jcX7D98bs2"
      }
    },
    {
      "cell_type": "code",
      "source": [
        "dados['LOCNASC'].replace('Ignorado', None, inplace=True)\n",
        "dados.dropna(subset=['LOCNASC'], inplace=True)\n",
        "dados['LOCNASC_DOMICILIO'] = dados['LOCNASC'].apply(lambda x: 1 if (x != None and str(x).__eq__('Domicilio')) else 0)\n",
        "dados['LOCNASC_HOSPITAL'] = dados['LOCNASC'].apply(lambda x: 1 if (x != None and str(x).__eq__('Hospital')) else 0)\n",
        "dados['LOCNASC_ESTAB_SAUDE'] = dados['LOCNASC'].apply(lambda x: 1 if (x != None and str(x).__eq__('Outro_Estab_Saude')) else 0)\n",
        "dados['LOCNASC_OUTROS'] = dados['LOCNASC'].apply(lambda x: 1 if (x != None and str(x).__eq__('Outros')) else 0)\n",
        "dados.drop(columns=['LOCNASC'], inplace=True)"
      ],
      "metadata": {
        "id": "QanCutV78cHV"
      },
      "execution_count": null,
      "outputs": []
    },
    {
      "cell_type": "markdown",
      "source": [
        "### 9) Número de filhos vivos"
      ],
      "metadata": {
        "id": "3B_-VnhWaDVu"
      }
    },
    {
      "cell_type": "code",
      "source": [
        "#print(dados['QTDFILVIVO'].value_counts(dropna=False))\n",
        "print('Quantidade NaN: {}'.format(dados['QTDFILVIVO'].isnull().sum()))\n",
        "print('Percentual NaN: {}'.format(dados['QTDFILVIVO'].isnull().sum()/dados.shape[0]*100))\n",
        "#dados['QTDFILVIVO'] = dados['QTDFILVIVO'].apply(lambda x: x if (x != None) else randrange(2))\n",
        "#print(dados['QTDFILVIVO'].value_counts(dropna=False))\n",
        "dados.drop(columns=['QTDFILVIVO'], inplace=True)"
      ],
      "metadata": {
        "colab": {
          "base_uri": "https://localhost:8080/"
        },
        "id": "3OUhY5zYaJkG",
        "outputId": "3a7a9a05-3fa1-4aa7-bc9b-abeeb480843f"
      },
      "execution_count": null,
      "outputs": [
        {
          "output_type": "stream",
          "name": "stdout",
          "text": [
            "Quantidade NaN: 21931\n",
            "Percentual NaN: 11.285674588063358\n"
          ]
        }
      ]
    },
    {
      "cell_type": "markdown",
      "source": [
        "###10) Número de consultas pré-natal"
      ],
      "metadata": {
        "id": "x1kf_yBbKF8F"
      }
    },
    {
      "cell_type": "markdown",
      "source": [
        "##### Merge e remoção da coluna <font color=blue>CONSULTAS</font>"
      ],
      "metadata": {
        "id": "lKjQEm4xoz8X"
      }
    },
    {
      "cell_type": "code",
      "source": [
        "dados['CONSPRENAT'].fillna(dados['CONSULTAS'], inplace=True)\n",
        "dados['CONSPRENAT'].replace('Nenhuma', 0, inplace=True)\n",
        "dados['CONSPRENAT'].replace('de_4_a_6', 5, inplace=True)\n",
        "\n",
        "dados['CONSPRENAT'].replace('Ignorado', None, inplace=True)\n",
        "dados['CONSPRENAT'].replace('7_e_mais', None, inplace=True)\n",
        "dados.dropna(subset=['CONSPRENAT'], inplace=True)\n",
        "\n",
        "dados.drop(columns=['CONSULTAS'], inplace=True)\n",
        "print(dados['CONSPRENAT'].value_counts(dropna=False))\n"
      ],
      "metadata": {
        "id": "GfHg420RKHcD",
        "colab": {
          "base_uri": "https://localhost:8080/"
        },
        "outputId": "922b1c6e-fe60-48f9-d4ea-8b9345b578b3"
      },
      "execution_count": null,
      "outputs": [
        {
          "output_type": "stream",
          "name": "stdout",
          "text": [
            "8.0     28024\n",
            "7.0     27607\n",
            "6.0     26639\n",
            "10.0    21014\n",
            "9.0     20131\n",
            "5.0     19839\n",
            "4.0     14277\n",
            "3.0      9094\n",
            "12.0     6149\n",
            "11.0     5981\n",
            "2.0      5261\n",
            "1.0      2440\n",
            "13.0     2090\n",
            "14.0     1722\n",
            "0.0      1601\n",
            "15.0     1346\n",
            "99.0      357\n",
            "16.0      227\n",
            "20.0      128\n",
            "18.0      116\n",
            "17.0      106\n",
            "39.0       35\n",
            "19.0       29\n",
            "38.0       20\n",
            "40.0       15\n",
            "21.0        9\n",
            "41.0        8\n",
            "25.0        8\n",
            "37.0        5\n",
            "30.0        4\n",
            "36.0        4\n",
            "33.0        4\n",
            "22.0        2\n",
            "35.0        2\n",
            "27.0        1\n",
            "71.0        1\n",
            "23.0        1\n",
            "24.0        1\n",
            "70.0        1\n",
            "47.0        1\n",
            "45.0        1\n",
            "Name: CONSPRENAT, dtype: int64\n"
          ]
        }
      ]
    },
    {
      "cell_type": "markdown",
      "source": [
        "### <font color=red>11) Gestações anteriores </font>"
      ],
      "metadata": {
        "id": "yx3c11HjTC7k"
      }
    },
    {
      "cell_type": "code",
      "source": [
        "# Removido devido a Tabela 6\n",
        "# Pdf 33\n",
        "dados.drop(columns=['QTDGESTANT'], inplace = True)"
      ],
      "metadata": {
        "id": "X09quAKhTGtX"
      },
      "execution_count": null,
      "outputs": []
    },
    {
      "cell_type": "markdown",
      "source": [
        "###<font color=red>14) Número de perdas fetais e abortos</font>"
      ],
      "metadata": {
        "id": "mqAcFMusYSMY"
      }
    },
    {
      "cell_type": "code",
      "source": [
        "print('Quantidade NaN: {}'.format(dados['QTDFILMORT'].isnull().sum()))\n",
        "print('Percentual NaN: {}'.format(dados['QTDFILMORT'].isnull().sum()/dados.shape[0]*100))\n",
        "dados['QTDFILMORT'].fillna(0, inplace = True)\n",
        "dados['QTDFILMORT'].value_counts(dropna=False)\n"
      ],
      "metadata": {
        "colab": {
          "base_uri": "https://localhost:8080/"
        },
        "id": "Z3Z0GsIZYkVV",
        "outputId": "64e276a9-eb21-4f73-8800-03befb30a38d"
      },
      "execution_count": null,
      "outputs": [
        {
          "output_type": "stream",
          "name": "stdout",
          "text": [
            "Quantidade NaN: 38876\n",
            "Percentual NaN: 20.008131713166684\n"
          ]
        },
        {
          "output_type": "execute_result",
          "data": {
            "text/plain": [
              "0.0     156016\n",
              "1.0      30088\n",
              "2.0       6199\n",
              "3.0       1401\n",
              "4.0        358\n",
              "5.0        126\n",
              "6.0         62\n",
              "7.0         19\n",
              "8.0         15\n",
              "9.0          7\n",
              "11.0         3\n",
              "14.0         3\n",
              "10.0         2\n",
              "20.0         1\n",
              "12.0         1\n",
              "Name: QTDFILMORT, dtype: int64"
            ]
          },
          "metadata": {},
          "execution_count": 28
        }
      ]
    },
    {
      "cell_type": "markdown",
      "source": [
        "#### <font color=red>7 - Número de semanas de gestação</font>"
      ],
      "metadata": {
        "id": "y2BSjBoh1TS1"
      }
    },
    {
      "cell_type": "code",
      "source": [
        "print('Quantidade NaN em GESTACAO: {}'.format(dados['GESTACAO'].isnull().sum()))\n",
        "print('Percentual NaN em GESTACAO: {}'.format(dados['GESTACAO'].isnull().sum()/dados.shape[0]*100))\n",
        "\n",
        "print('Quantidade NaN em SEMAGESTAC: {}'.format(dados['SEMAGESTAC'].isnull().sum()))\n",
        "print('Percentual NaN em SEMAGESTAC: {}'.format(dados['SEMAGESTAC'].isnull().sum()/dados.shape[0]*100))"
      ],
      "metadata": {
        "colab": {
          "base_uri": "https://localhost:8080/"
        },
        "id": "-cf_nqZ-t3Ec",
        "outputId": "4ea20065-e9a9-4452-d956-61c9eed3da8d"
      },
      "execution_count": null,
      "outputs": [
        {
          "output_type": "stream",
          "name": "stdout",
          "text": [
            "Quantidade NaN em GESTACAO: 1518\n",
            "Percentual NaN em GESTACAO: 0.7812620624700851\n",
            "Quantidade NaN em SEMAGESTAC: 1520\n",
            "Percentual NaN em SEMAGESTAC: 0.7822913932506781\n"
          ]
        }
      ]
    },
    {
      "cell_type": "code",
      "source": [
        "print(dados['GESTACAO'].value_counts(dropna=False))\n",
        "print()\n",
        "print(dados['SEMAGESTAC'].value_counts(dropna=False))"
      ],
      "metadata": {
        "id": "V59GfAzo1ZSA",
        "colab": {
          "base_uri": "https://localhost:8080/"
        },
        "outputId": "c90a5e4c-8a40-42c6-bc1c-f04cfef86c00"
      },
      "execution_count": null,
      "outputs": [
        {
          "output_type": "stream",
          "name": "stdout",
          "text": [
            "37_a_41_semanas        169770\n",
            "32_a_36_semanas         16527\n",
            "42_semanas_e_mais        4029\n",
            "NaN                      1518\n",
            "28_a_31_semanas          1480\n",
            "22_a_27_semanas           796\n",
            "Menos_de_22_semanas       180\n",
            "Ignorado                    1\n",
            "Name: GESTACAO, dtype: int64\n",
            "\n",
            "39.0    66312\n",
            "40.0    43732\n",
            "38.0    30958\n",
            "41.0    14593\n",
            "37.0    14175\n",
            "36.0     7098\n",
            "35.0     4564\n",
            "42.0     2627\n",
            "34.0     2318\n",
            "33.0     1596\n",
            "NaN      1520\n",
            "32.0      950\n",
            "43.0      795\n",
            "31.0      615\n",
            "44.0      408\n",
            "30.0      318\n",
            "29.0      278\n",
            "28.0      269\n",
            "27.0      201\n",
            "45.0      199\n",
            "26.0      167\n",
            "25.0      133\n",
            "24.0      108\n",
            "23.0       94\n",
            "22.0       93\n",
            "21.0       63\n",
            "20.0       59\n",
            "19.0       58\n",
            "Name: SEMAGESTAC, dtype: int64\n"
          ]
        }
      ]
    },
    {
      "cell_type": "code",
      "source": [
        "dados.drop(columns=['GESTACAO'], inplace=True)\n",
        "dados.dropna(subset=['SEMAGESTAC'], inplace=True)"
      ],
      "metadata": {
        "id": "XmrzcUlOJWtz"
      },
      "execution_count": null,
      "outputs": []
    },
    {
      "cell_type": "markdown",
      "source": [
        "### 12) Número de partos cesáreos"
      ],
      "metadata": {
        "id": "FMwlL762MQma"
      }
    },
    {
      "cell_type": "code",
      "source": [
        "#dados.drop(columns=['QTDPARTCES'], inplace=True)"
      ],
      "metadata": {
        "id": "PjXKZ69EMWs6"
      },
      "execution_count": null,
      "outputs": []
    },
    {
      "cell_type": "markdown",
      "source": [
        "### 13) Número de partos vaginais"
      ],
      "metadata": {
        "id": "QwE-JjvqN8wb"
      }
    },
    {
      "cell_type": "code",
      "source": [
        "dados.drop(columns=['QTDPARTNOR'], inplace=True)"
      ],
      "metadata": {
        "id": "wBISg4cfN98y"
      },
      "execution_count": null,
      "outputs": []
    },
    {
      "cell_type": "markdown",
      "source": [
        "### <font color=blue>15 - Óbito Neo Natal </font>"
      ],
      "metadata": {
        "id": "0cuQPiAM8l_-"
      }
    },
    {
      "cell_type": "markdown",
      "source": [
        "##### Convertendo Sim/Nao para 1/0"
      ],
      "metadata": {
        "id": "0gcZfO1e4Q5c"
      }
    },
    {
      "cell_type": "code",
      "source": [
        "dados['OBT_NEONATAL'].replace('Sim', 1, inplace=True)\n",
        "dados['OBT_NEONATAL'].replace('Nao', 0, inplace=True)\n",
        "\n",
        "dados['OBT_NEONATAL'].value_counts(dropna=False)"
      ],
      "metadata": {
        "id": "YrbMXBQf8pTo",
        "colab": {
          "base_uri": "https://localhost:8080/"
        },
        "outputId": "cc70a79b-a14a-4c27-8ce9-245e20b7bc51"
      },
      "execution_count": null,
      "outputs": [
        {
          "output_type": "execute_result",
          "data": {
            "text/plain": [
              "0    191356\n",
              "1      1425\n",
              "Name: OBT_NEONATAL, dtype: int64"
            ]
          },
          "metadata": {},
          "execution_count": 34
        }
      ]
    },
    {
      "cell_type": "markdown",
      "source": [
        "### 18 - Sexo do recém-nascido"
      ],
      "metadata": {
        "id": "SwyFm15_2QnJ"
      }
    },
    {
      "cell_type": "markdown",
      "source": [
        "##### Setando None para os valores não informado"
      ],
      "metadata": {
        "id": "zROBPjSRitIK"
      }
    },
    {
      "cell_type": "code",
      "source": [
        "dados['SEXO'].replace('Ignorado,_nao_informado', None, inplace=True)\n",
        "dados['SEXO_MASC'] = dados['SEXO'].apply(lambda x: 1 if (x != None and str(x).__eq__('Masculino')) else 0)\n",
        "dados['SEXO_FEM'] = dados['SEXO'].apply(lambda x: 1 if (x != None and str(x).__eq__('Feminino')) else 0)\n",
        "dados.dropna(subset=['SEXO'], inplace=True)\n",
        "dados.drop(columns=['SEXO'], inplace=True)"
      ],
      "metadata": {
        "id": "1M6VBt6f2R5r"
      },
      "execution_count": null,
      "outputs": []
    },
    {
      "cell_type": "markdown",
      "source": [
        "### 19) Situação conjugal da mãe"
      ],
      "metadata": {
        "id": "3E_mZJ9V4-PC"
      }
    },
    {
      "cell_type": "code",
      "source": [
        "#dados['ESTCIVMAE'].replace('Ignorado', None, inplace=True)\n",
        "#dados['ESTCIVMAE_CASADA'] = dados['ESTCIVMAE'].apply(lambda x: 1 if (x != None and str(x).__eq__('Casada')) else 0)\n",
        "#dados['ESTCIVMAE_SOLTEIRA'] = dados['ESTCIVMAE'].apply(lambda x: 1 if (x != None and str(x).__eq__('Solteira')) else 0)\n",
        "#dados['ESTCIVMAE_UNIAO'] = dados['ESTCIVMAE'].apply(lambda x: 1 if (x != None and str(x).__eq__('Uniao_consensual_(versoes_anteriores)')) else 0)\n",
        "#dados['ESTCIVMAE_DIVORCIADA'] = dados['ESTCIVMAE'].apply(lambda x: 1 if (x != None and str(x).__eq__('Separado_judicialmente/Divorciado')) else 0)\n",
        "#dados['ESTCIVMAE_VIUVA'] = dados['ESTCIVMAE'].apply(lambda x: 1 if (x != None and str(x).__eq__('Viuva')) else 0)\n",
        "\n",
        "dados['ESTCIVMAE_COMPANHEIRO'] = dados['ESTCIVMAE'].apply(lambda x: 1 if (x != None and (str(x).__eq__('Casada') or str(x).__eq__('Uniao_consensual_(versoes_anteriores)'))) else (None if (x == None) else 0))\n",
        "#dados['ESTCIVMAE_COMPANHEIRO'] = dados['ESTCIVMAE'].apply(lambda x: None if (x == None) else x)\n",
        "dados.drop(columns=['ESTCIVMAE'], inplace = True)"
      ],
      "metadata": {
        "id": "MEkcJlUW5Ehh"
      },
      "execution_count": null,
      "outputs": []
    },
    {
      "cell_type": "code",
      "source": [
        "print('Quantidade NaN: {}'.format(dados['ESTCIVMAE_COMPANHEIRO'].isnull().sum()))\n",
        "print('Percentual NaN: {}'.format((dados['ESTCIVMAE_COMPANHEIRO'].isnull().sum()/dados.shape[0])*100))"
      ],
      "metadata": {
        "colab": {
          "base_uri": "https://localhost:8080/"
        },
        "id": "Dqdb34SMxMx6",
        "outputId": "308d6b3e-e849-4ea2-f272-2d5628ed7df2"
      },
      "execution_count": null,
      "outputs": [
        {
          "output_type": "stream",
          "name": "stdout",
          "text": [
            "Quantidade NaN: 0\n",
            "Percentual NaN: 0.0\n"
          ]
        }
      ]
    },
    {
      "cell_type": "code",
      "source": [
        "dados.dropna(subset=['ESTCIVMAE_COMPANHEIRO'], inplace = True)"
      ],
      "metadata": {
        "id": "F1qmlIlYxvLi"
      },
      "execution_count": null,
      "outputs": []
    },
    {
      "cell_type": "code",
      "source": [
        "dados['ESTCIVMAE_COMPANHEIRO']"
      ],
      "metadata": {
        "id": "FdjOVeaAcZwa",
        "outputId": "9fa4b824-c2df-46bb-f320-73a21f40a37d",
        "colab": {
          "base_uri": "https://localhost:8080/"
        }
      },
      "execution_count": null,
      "outputs": [
        {
          "output_type": "execute_result",
          "data": {
            "text/plain": [
              "4         0\n",
              "6         1\n",
              "7         1\n",
              "9         0\n",
              "10        0\n",
              "         ..\n",
              "199767    1\n",
              "199768    1\n",
              "199769    0\n",
              "199770    1\n",
              "199771    0\n",
              "Name: ESTCIVMAE_COMPANHEIRO, Length: 192484, dtype: int64"
            ]
          },
          "metadata": {},
          "execution_count": 48
        }
      ]
    },
    {
      "cell_type": "markdown",
      "source": [
        "### 20) Tipo de apresentação do RN"
      ],
      "metadata": {
        "id": "jL4szZdBqqDN"
      }
    },
    {
      "cell_type": "code",
      "source": [
        "dados['TPAPRESENT'].replace('Ignorado', None, inplace=True)\n",
        "dados.dropna(subset=['TPAPRESENT'], inplace=True)\n",
        "dados['TPAPRESENT_CEFALICO'] = dados['TPAPRESENT'].apply(lambda x: 1 if (x != None and str(x).__eq__('Cefalico')) else 0)\n",
        "dados['TPAPRESENT_PELVICO'] = dados['TPAPRESENT'].apply(lambda x: 1 if (x != None and str(x).__eq__('Pelvica_ou_podalica')) else 0)\n",
        "dados['TPAPRESENT_TRANSVERSA'] = dados['TPAPRESENT'].apply(lambda x: 1 if (x != None and str(x).__eq__('Transversa')) else 0)\n",
        "dados.drop(columns=['TPAPRESENT'], inplace=True)"
      ],
      "metadata": {
        "id": "24zzwewnqyuR"
      },
      "execution_count": null,
      "outputs": []
    },
    {
      "cell_type": "markdown",
      "source": [
        "### 21) Tipo gravidez"
      ],
      "metadata": {
        "id": "Ik6e9FnCrU3K"
      }
    },
    {
      "cell_type": "code",
      "source": [
        "dados['GRAVIDEZ'].replace('Ignorado', None, inplace=True)\n",
        "dados.dropna(subset=['GRAVIDEZ'], inplace = True)\n",
        "dados['GRAVIDEZ_VALOR'] = dados['GRAVIDEZ']\n",
        "dados['GRAVIDEZ_VALOR'].replace('Unica', 1, inplace=True)\n",
        "dados['GRAVIDEZ_VALOR'].replace('Dupla', 2, inplace=True)\n",
        "dados['GRAVIDEZ_VALOR'].replace('Tripla_e_mais', 3, inplace=True)\n",
        "dados.drop(columns=['GRAVIDEZ'], inplace=True)"
      ],
      "metadata": {
        "id": "4hmpeuFDrh7c"
      },
      "execution_count": null,
      "outputs": []
    },
    {
      "cell_type": "markdown",
      "source": [
        "### 22) Tipo de partos"
      ],
      "metadata": {
        "id": "GH4BnloeLxym"
      }
    },
    {
      "cell_type": "code",
      "source": [
        "dados.dropna(subset=['PARTO'], inplace=True)\n",
        "dados['PARTO_CESAREO'] = dados['PARTO'].apply(lambda x: 1 if (x != None and str(x).__eq__('Cesareo')) else 0)\n",
        "dados['PARTO_VAGINALL'] = dados['PARTO'].apply(lambda x: 1 if (x != None and str(x).__eq__('Vaginal')) else 0)\n",
        "dados.drop(columns=['PARTO'], inplace=True)"
      ],
      "metadata": {
        "id": "ef1tRhVYL2UG"
      },
      "execution_count": null,
      "outputs": []
    },
    {
      "cell_type": "markdown",
      "source": [
        "### 23) Tipo de raça e cor da mãe"
      ],
      "metadata": {
        "id": "UhxXi9t1bQbi"
      }
    },
    {
      "cell_type": "code",
      "source": [
        "dados.drop(columns=['RACACORMAE'], inplace = True)\n",
        "#dados['RACACORMAE_BRANCA'] = dados['RACACORMAE'].apply(lambda x: 1 if (x != None and x == 1) else 0)\n",
        "#dados['RACACORMAE_PRETA'] = dados['RACACORMAE'].apply(lambda x: 1 if (x != None and x == 2) else 0)\n",
        "#dados['RACACORMAE_AMARELA'] = dados['RACACORMAE'].apply(lambda x: 1 if (x != None and x == 3) else 0)\n",
        "#dados['RACACORMAE_PARDA'] = dados['RACACORMAE'].apply(lambda x: 1 if (x != None and x == 4) else 0)\n",
        "#dados['RACACORMAE_INDIGENA'] = dados['RACACORMAE'].apply(lambda x: 1 if (x != None and x == 5) else 0)"
      ],
      "metadata": {
        "id": "eQzNfe4XbUdh"
      },
      "execution_count": null,
      "outputs": []
    },
    {
      "cell_type": "markdown",
      "source": [
        "### Removendo coluna não utilizadas"
      ],
      "metadata": {
        "id": "cah-oydPmkt-"
      }
    },
    {
      "cell_type": "code",
      "source": [
        "dados.drop(columns=['IDADE_OBT', 'IDANOMAL', 'SEM_NOME', 'STCESPARTO', 'STDNNOVA',\n",
        "                    'STTRABPART', 'TPDOCRESP', 'TPFUNCRESP', 'TPMETESTIM', 'TPNASCASSI'], inplace=True)"
      ],
      "metadata": {
        "id": "UwhvoW6RupVy"
      },
      "execution_count": null,
      "outputs": []
    },
    {
      "cell_type": "code",
      "source": [
        "dados"
      ],
      "metadata": {
        "id": "hcT-msyRwtcL",
        "colab": {
          "base_uri": "https://localhost:8080/",
          "height": 488
        },
        "outputId": "8c016447-1dd0-4447-dc3f-5fdd1f168f27"
      },
      "execution_count": null,
      "outputs": [
        {
          "output_type": "execute_result",
          "data": {
            "text/plain": [
              "         ANO  APGAR1  APGAR5 CONSPRENAT  OBT_NEONATAL    PESO  QTDFILMORT  \\\n",
              "4       2015     2.0     4.0        5.0             0   820.0         1.0   \n",
              "6       2015     9.0    10.0        8.0             0  4200.0         1.0   \n",
              "7       2015     7.0     8.0       10.0             0  3700.0         0.0   \n",
              "9       2015     7.0     8.0        7.0             0  3550.0         1.0   \n",
              "10      2015     9.0    10.0        3.0             0  3800.0         0.0   \n",
              "...      ...     ...     ...        ...           ...     ...         ...   \n",
              "199767  2020     9.0    10.0        7.0             0  3020.0         0.0   \n",
              "199768  2020     9.0     9.0        6.0             0  2900.0         0.0   \n",
              "199769  2020     9.0     9.0        6.0             0  2975.0         0.0   \n",
              "199770  2020     9.0     9.0       12.0             0  3390.0         0.0   \n",
              "199771  2020     6.0     8.0        7.0             0  2900.0         0.0   \n",
              "\n",
              "        QTDPARTCES  SEMAGESTAC  CODANOMAL_QTD  ...  LOCNASC_OUTROS  SEXO_MASC  \\\n",
              "4              NaN        26.0            0.0  ...               0          1   \n",
              "6              NaN        39.0            0.0  ...               0          1   \n",
              "7              0.0        40.0            0.0  ...               0          0   \n",
              "9              0.0        37.0            0.0  ...               0          1   \n",
              "10             NaN        39.0            0.0  ...               0          0   \n",
              "...            ...         ...            ...  ...             ...        ...   \n",
              "199767         0.0        41.0            1.0  ...               0          0   \n",
              "199768         0.0        40.0            0.0  ...               0          1   \n",
              "199769         0.0        41.0            0.0  ...               1          0   \n",
              "199770         0.0        43.0            0.0  ...               0          0   \n",
              "199771         0.0        39.0            1.0  ...               0          1   \n",
              "\n",
              "        SEXO_FEM  ESTCIVMAE_COMPANHEIRO  TPAPRESENT_CEFALICO  \\\n",
              "4              0                      0                    1   \n",
              "6              0                      1                    1   \n",
              "7              1                      1                    1   \n",
              "9              0                      0                    1   \n",
              "10             1                      0                    1   \n",
              "...          ...                    ...                  ...   \n",
              "199767         1                      1                    1   \n",
              "199768         0                      1                    1   \n",
              "199769         1                      0                    1   \n",
              "199770         1                      1                    1   \n",
              "199771         0                      0                    1   \n",
              "\n",
              "        TPAPRESENT_PELVICO  TPAPRESENT_TRANSVERSA  GRAVIDEZ_VALOR  \\\n",
              "4                        0                      0               1   \n",
              "6                        0                      0               1   \n",
              "7                        0                      0               1   \n",
              "9                        0                      0               1   \n",
              "10                       0                      0               1   \n",
              "...                    ...                    ...             ...   \n",
              "199767                   0                      0               1   \n",
              "199768                   0                      0               1   \n",
              "199769                   0                      0               1   \n",
              "199770                   0                      0               1   \n",
              "199771                   0                      0               1   \n",
              "\n",
              "        PARTO_CESAREO  PARTO_VAGINALL  \n",
              "4                   1               0  \n",
              "6                   1               0  \n",
              "7                   0               1  \n",
              "9                   0               1  \n",
              "10                  1               0  \n",
              "...               ...             ...  \n",
              "199767              1               0  \n",
              "199768              1               0  \n",
              "199769              1               0  \n",
              "199770              1               0  \n",
              "199771              0               1  \n",
              "\n",
              "[192484 rows x 24 columns]"
            ],
            "text/html": [
              "\n",
              "\n",
              "  <div id=\"df-a56d9cae-5076-43e7-ab20-46d36982ccfa\">\n",
              "    <div class=\"colab-df-container\">\n",
              "      <div>\n",
              "<style scoped>\n",
              "    .dataframe tbody tr th:only-of-type {\n",
              "        vertical-align: middle;\n",
              "    }\n",
              "\n",
              "    .dataframe tbody tr th {\n",
              "        vertical-align: top;\n",
              "    }\n",
              "\n",
              "    .dataframe thead th {\n",
              "        text-align: right;\n",
              "    }\n",
              "</style>\n",
              "<table border=\"1\" class=\"dataframe\">\n",
              "  <thead>\n",
              "    <tr style=\"text-align: right;\">\n",
              "      <th></th>\n",
              "      <th>ANO</th>\n",
              "      <th>APGAR1</th>\n",
              "      <th>APGAR5</th>\n",
              "      <th>CONSPRENAT</th>\n",
              "      <th>OBT_NEONATAL</th>\n",
              "      <th>PESO</th>\n",
              "      <th>QTDFILMORT</th>\n",
              "      <th>QTDPARTCES</th>\n",
              "      <th>SEMAGESTAC</th>\n",
              "      <th>CODANOMAL_QTD</th>\n",
              "      <th>...</th>\n",
              "      <th>LOCNASC_OUTROS</th>\n",
              "      <th>SEXO_MASC</th>\n",
              "      <th>SEXO_FEM</th>\n",
              "      <th>ESTCIVMAE_COMPANHEIRO</th>\n",
              "      <th>TPAPRESENT_CEFALICO</th>\n",
              "      <th>TPAPRESENT_PELVICO</th>\n",
              "      <th>TPAPRESENT_TRANSVERSA</th>\n",
              "      <th>GRAVIDEZ_VALOR</th>\n",
              "      <th>PARTO_CESAREO</th>\n",
              "      <th>PARTO_VAGINALL</th>\n",
              "    </tr>\n",
              "  </thead>\n",
              "  <tbody>\n",
              "    <tr>\n",
              "      <th>4</th>\n",
              "      <td>2015</td>\n",
              "      <td>2.0</td>\n",
              "      <td>4.0</td>\n",
              "      <td>5.0</td>\n",
              "      <td>0</td>\n",
              "      <td>820.0</td>\n",
              "      <td>1.0</td>\n",
              "      <td>NaN</td>\n",
              "      <td>26.0</td>\n",
              "      <td>0.0</td>\n",
              "      <td>...</td>\n",
              "      <td>0</td>\n",
              "      <td>1</td>\n",
              "      <td>0</td>\n",
              "      <td>0</td>\n",
              "      <td>1</td>\n",
              "      <td>0</td>\n",
              "      <td>0</td>\n",
              "      <td>1</td>\n",
              "      <td>1</td>\n",
              "      <td>0</td>\n",
              "    </tr>\n",
              "    <tr>\n",
              "      <th>6</th>\n",
              "      <td>2015</td>\n",
              "      <td>9.0</td>\n",
              "      <td>10.0</td>\n",
              "      <td>8.0</td>\n",
              "      <td>0</td>\n",
              "      <td>4200.0</td>\n",
              "      <td>1.0</td>\n",
              "      <td>NaN</td>\n",
              "      <td>39.0</td>\n",
              "      <td>0.0</td>\n",
              "      <td>...</td>\n",
              "      <td>0</td>\n",
              "      <td>1</td>\n",
              "      <td>0</td>\n",
              "      <td>1</td>\n",
              "      <td>1</td>\n",
              "      <td>0</td>\n",
              "      <td>0</td>\n",
              "      <td>1</td>\n",
              "      <td>1</td>\n",
              "      <td>0</td>\n",
              "    </tr>\n",
              "    <tr>\n",
              "      <th>7</th>\n",
              "      <td>2015</td>\n",
              "      <td>7.0</td>\n",
              "      <td>8.0</td>\n",
              "      <td>10.0</td>\n",
              "      <td>0</td>\n",
              "      <td>3700.0</td>\n",
              "      <td>0.0</td>\n",
              "      <td>0.0</td>\n",
              "      <td>40.0</td>\n",
              "      <td>0.0</td>\n",
              "      <td>...</td>\n",
              "      <td>0</td>\n",
              "      <td>0</td>\n",
              "      <td>1</td>\n",
              "      <td>1</td>\n",
              "      <td>1</td>\n",
              "      <td>0</td>\n",
              "      <td>0</td>\n",
              "      <td>1</td>\n",
              "      <td>0</td>\n",
              "      <td>1</td>\n",
              "    </tr>\n",
              "    <tr>\n",
              "      <th>9</th>\n",
              "      <td>2015</td>\n",
              "      <td>7.0</td>\n",
              "      <td>8.0</td>\n",
              "      <td>7.0</td>\n",
              "      <td>0</td>\n",
              "      <td>3550.0</td>\n",
              "      <td>1.0</td>\n",
              "      <td>0.0</td>\n",
              "      <td>37.0</td>\n",
              "      <td>0.0</td>\n",
              "      <td>...</td>\n",
              "      <td>0</td>\n",
              "      <td>1</td>\n",
              "      <td>0</td>\n",
              "      <td>0</td>\n",
              "      <td>1</td>\n",
              "      <td>0</td>\n",
              "      <td>0</td>\n",
              "      <td>1</td>\n",
              "      <td>0</td>\n",
              "      <td>1</td>\n",
              "    </tr>\n",
              "    <tr>\n",
              "      <th>10</th>\n",
              "      <td>2015</td>\n",
              "      <td>9.0</td>\n",
              "      <td>10.0</td>\n",
              "      <td>3.0</td>\n",
              "      <td>0</td>\n",
              "      <td>3800.0</td>\n",
              "      <td>0.0</td>\n",
              "      <td>NaN</td>\n",
              "      <td>39.0</td>\n",
              "      <td>0.0</td>\n",
              "      <td>...</td>\n",
              "      <td>0</td>\n",
              "      <td>0</td>\n",
              "      <td>1</td>\n",
              "      <td>0</td>\n",
              "      <td>1</td>\n",
              "      <td>0</td>\n",
              "      <td>0</td>\n",
              "      <td>1</td>\n",
              "      <td>1</td>\n",
              "      <td>0</td>\n",
              "    </tr>\n",
              "    <tr>\n",
              "      <th>...</th>\n",
              "      <td>...</td>\n",
              "      <td>...</td>\n",
              "      <td>...</td>\n",
              "      <td>...</td>\n",
              "      <td>...</td>\n",
              "      <td>...</td>\n",
              "      <td>...</td>\n",
              "      <td>...</td>\n",
              "      <td>...</td>\n",
              "      <td>...</td>\n",
              "      <td>...</td>\n",
              "      <td>...</td>\n",
              "      <td>...</td>\n",
              "      <td>...</td>\n",
              "      <td>...</td>\n",
              "      <td>...</td>\n",
              "      <td>...</td>\n",
              "      <td>...</td>\n",
              "      <td>...</td>\n",
              "      <td>...</td>\n",
              "      <td>...</td>\n",
              "    </tr>\n",
              "    <tr>\n",
              "      <th>199767</th>\n",
              "      <td>2020</td>\n",
              "      <td>9.0</td>\n",
              "      <td>10.0</td>\n",
              "      <td>7.0</td>\n",
              "      <td>0</td>\n",
              "      <td>3020.0</td>\n",
              "      <td>0.0</td>\n",
              "      <td>0.0</td>\n",
              "      <td>41.0</td>\n",
              "      <td>1.0</td>\n",
              "      <td>...</td>\n",
              "      <td>0</td>\n",
              "      <td>0</td>\n",
              "      <td>1</td>\n",
              "      <td>1</td>\n",
              "      <td>1</td>\n",
              "      <td>0</td>\n",
              "      <td>0</td>\n",
              "      <td>1</td>\n",
              "      <td>1</td>\n",
              "      <td>0</td>\n",
              "    </tr>\n",
              "    <tr>\n",
              "      <th>199768</th>\n",
              "      <td>2020</td>\n",
              "      <td>9.0</td>\n",
              "      <td>9.0</td>\n",
              "      <td>6.0</td>\n",
              "      <td>0</td>\n",
              "      <td>2900.0</td>\n",
              "      <td>0.0</td>\n",
              "      <td>0.0</td>\n",
              "      <td>40.0</td>\n",
              "      <td>0.0</td>\n",
              "      <td>...</td>\n",
              "      <td>0</td>\n",
              "      <td>1</td>\n",
              "      <td>0</td>\n",
              "      <td>1</td>\n",
              "      <td>1</td>\n",
              "      <td>0</td>\n",
              "      <td>0</td>\n",
              "      <td>1</td>\n",
              "      <td>1</td>\n",
              "      <td>0</td>\n",
              "    </tr>\n",
              "    <tr>\n",
              "      <th>199769</th>\n",
              "      <td>2020</td>\n",
              "      <td>9.0</td>\n",
              "      <td>9.0</td>\n",
              "      <td>6.0</td>\n",
              "      <td>0</td>\n",
              "      <td>2975.0</td>\n",
              "      <td>0.0</td>\n",
              "      <td>0.0</td>\n",
              "      <td>41.0</td>\n",
              "      <td>0.0</td>\n",
              "      <td>...</td>\n",
              "      <td>1</td>\n",
              "      <td>0</td>\n",
              "      <td>1</td>\n",
              "      <td>0</td>\n",
              "      <td>1</td>\n",
              "      <td>0</td>\n",
              "      <td>0</td>\n",
              "      <td>1</td>\n",
              "      <td>1</td>\n",
              "      <td>0</td>\n",
              "    </tr>\n",
              "    <tr>\n",
              "      <th>199770</th>\n",
              "      <td>2020</td>\n",
              "      <td>9.0</td>\n",
              "      <td>9.0</td>\n",
              "      <td>12.0</td>\n",
              "      <td>0</td>\n",
              "      <td>3390.0</td>\n",
              "      <td>0.0</td>\n",
              "      <td>0.0</td>\n",
              "      <td>43.0</td>\n",
              "      <td>0.0</td>\n",
              "      <td>...</td>\n",
              "      <td>0</td>\n",
              "      <td>0</td>\n",
              "      <td>1</td>\n",
              "      <td>1</td>\n",
              "      <td>1</td>\n",
              "      <td>0</td>\n",
              "      <td>0</td>\n",
              "      <td>1</td>\n",
              "      <td>1</td>\n",
              "      <td>0</td>\n",
              "    </tr>\n",
              "    <tr>\n",
              "      <th>199771</th>\n",
              "      <td>2020</td>\n",
              "      <td>6.0</td>\n",
              "      <td>8.0</td>\n",
              "      <td>7.0</td>\n",
              "      <td>0</td>\n",
              "      <td>2900.0</td>\n",
              "      <td>0.0</td>\n",
              "      <td>0.0</td>\n",
              "      <td>39.0</td>\n",
              "      <td>1.0</td>\n",
              "      <td>...</td>\n",
              "      <td>0</td>\n",
              "      <td>1</td>\n",
              "      <td>0</td>\n",
              "      <td>0</td>\n",
              "      <td>1</td>\n",
              "      <td>0</td>\n",
              "      <td>0</td>\n",
              "      <td>1</td>\n",
              "      <td>0</td>\n",
              "      <td>1</td>\n",
              "    </tr>\n",
              "  </tbody>\n",
              "</table>\n",
              "<p>192484 rows × 24 columns</p>\n",
              "</div>\n",
              "      <button class=\"colab-df-convert\" onclick=\"convertToInteractive('df-a56d9cae-5076-43e7-ab20-46d36982ccfa')\"\n",
              "              title=\"Convert this dataframe to an interactive table.\"\n",
              "              style=\"display:none;\">\n",
              "\n",
              "  <svg xmlns=\"http://www.w3.org/2000/svg\" height=\"24px\"viewBox=\"0 0 24 24\"\n",
              "       width=\"24px\">\n",
              "    <path d=\"M0 0h24v24H0V0z\" fill=\"none\"/>\n",
              "    <path d=\"M18.56 5.44l.94 2.06.94-2.06 2.06-.94-2.06-.94-.94-2.06-.94 2.06-2.06.94zm-11 1L8.5 8.5l.94-2.06 2.06-.94-2.06-.94L8.5 2.5l-.94 2.06-2.06.94zm10 10l.94 2.06.94-2.06 2.06-.94-2.06-.94-.94-2.06-.94 2.06-2.06.94z\"/><path d=\"M17.41 7.96l-1.37-1.37c-.4-.4-.92-.59-1.43-.59-.52 0-1.04.2-1.43.59L10.3 9.45l-7.72 7.72c-.78.78-.78 2.05 0 2.83L4 21.41c.39.39.9.59 1.41.59.51 0 1.02-.2 1.41-.59l7.78-7.78 2.81-2.81c.8-.78.8-2.07 0-2.86zM5.41 20L4 18.59l7.72-7.72 1.47 1.35L5.41 20z\"/>\n",
              "  </svg>\n",
              "      </button>\n",
              "\n",
              "\n",
              "\n",
              "    <div id=\"df-11e8283b-35de-4b6b-8248-ec4c1ccbb341\">\n",
              "      <button class=\"colab-df-quickchart\" onclick=\"quickchart('df-11e8283b-35de-4b6b-8248-ec4c1ccbb341')\"\n",
              "              title=\"Suggest charts.\"\n",
              "              style=\"display:none;\">\n",
              "\n",
              "<svg xmlns=\"http://www.w3.org/2000/svg\" height=\"24px\"viewBox=\"0 0 24 24\"\n",
              "     width=\"24px\">\n",
              "    <g>\n",
              "        <path d=\"M19 3H5c-1.1 0-2 .9-2 2v14c0 1.1.9 2 2 2h14c1.1 0 2-.9 2-2V5c0-1.1-.9-2-2-2zM9 17H7v-7h2v7zm4 0h-2V7h2v10zm4 0h-2v-4h2v4z\"/>\n",
              "    </g>\n",
              "</svg>\n",
              "      </button>\n",
              "    </div>\n",
              "\n",
              "<style>\n",
              "  .colab-df-quickchart {\n",
              "    background-color: #E8F0FE;\n",
              "    border: none;\n",
              "    border-radius: 50%;\n",
              "    cursor: pointer;\n",
              "    display: none;\n",
              "    fill: #1967D2;\n",
              "    height: 32px;\n",
              "    padding: 0 0 0 0;\n",
              "    width: 32px;\n",
              "  }\n",
              "\n",
              "  .colab-df-quickchart:hover {\n",
              "    background-color: #E2EBFA;\n",
              "    box-shadow: 0px 1px 2px rgba(60, 64, 67, 0.3), 0px 1px 3px 1px rgba(60, 64, 67, 0.15);\n",
              "    fill: #174EA6;\n",
              "  }\n",
              "\n",
              "  [theme=dark] .colab-df-quickchart {\n",
              "    background-color: #3B4455;\n",
              "    fill: #D2E3FC;\n",
              "  }\n",
              "\n",
              "  [theme=dark] .colab-df-quickchart:hover {\n",
              "    background-color: #434B5C;\n",
              "    box-shadow: 0px 1px 3px 1px rgba(0, 0, 0, 0.15);\n",
              "    filter: drop-shadow(0px 1px 2px rgba(0, 0, 0, 0.3));\n",
              "    fill: #FFFFFF;\n",
              "  }\n",
              "</style>\n",
              "\n",
              "    <script>\n",
              "      async function quickchart(key) {\n",
              "        const containerElement = document.querySelector('#' + key);\n",
              "        const charts = await google.colab.kernel.invokeFunction(\n",
              "            'suggestCharts', [key], {});\n",
              "      }\n",
              "    </script>\n",
              "\n",
              "      <script>\n",
              "\n",
              "function displayQuickchartButton(domScope) {\n",
              "  let quickchartButtonEl =\n",
              "    domScope.querySelector('#df-11e8283b-35de-4b6b-8248-ec4c1ccbb341 button.colab-df-quickchart');\n",
              "  quickchartButtonEl.style.display =\n",
              "    google.colab.kernel.accessAllowed ? 'block' : 'none';\n",
              "}\n",
              "\n",
              "        displayQuickchartButton(document);\n",
              "      </script>\n",
              "      <style>\n",
              "    .colab-df-container {\n",
              "      display:flex;\n",
              "      flex-wrap:wrap;\n",
              "      gap: 12px;\n",
              "    }\n",
              "\n",
              "    .colab-df-convert {\n",
              "      background-color: #E8F0FE;\n",
              "      border: none;\n",
              "      border-radius: 50%;\n",
              "      cursor: pointer;\n",
              "      display: none;\n",
              "      fill: #1967D2;\n",
              "      height: 32px;\n",
              "      padding: 0 0 0 0;\n",
              "      width: 32px;\n",
              "    }\n",
              "\n",
              "    .colab-df-convert:hover {\n",
              "      background-color: #E2EBFA;\n",
              "      box-shadow: 0px 1px 2px rgba(60, 64, 67, 0.3), 0px 1px 3px 1px rgba(60, 64, 67, 0.15);\n",
              "      fill: #174EA6;\n",
              "    }\n",
              "\n",
              "    [theme=dark] .colab-df-convert {\n",
              "      background-color: #3B4455;\n",
              "      fill: #D2E3FC;\n",
              "    }\n",
              "\n",
              "    [theme=dark] .colab-df-convert:hover {\n",
              "      background-color: #434B5C;\n",
              "      box-shadow: 0px 1px 3px 1px rgba(0, 0, 0, 0.15);\n",
              "      filter: drop-shadow(0px 1px 2px rgba(0, 0, 0, 0.3));\n",
              "      fill: #FFFFFF;\n",
              "    }\n",
              "  </style>\n",
              "\n",
              "      <script>\n",
              "        const buttonEl =\n",
              "          document.querySelector('#df-a56d9cae-5076-43e7-ab20-46d36982ccfa button.colab-df-convert');\n",
              "        buttonEl.style.display =\n",
              "          google.colab.kernel.accessAllowed ? 'block' : 'none';\n",
              "\n",
              "        async function convertToInteractive(key) {\n",
              "          const element = document.querySelector('#df-a56d9cae-5076-43e7-ab20-46d36982ccfa');\n",
              "          const dataTable =\n",
              "            await google.colab.kernel.invokeFunction('convertToInteractive',\n",
              "                                                     [key], {});\n",
              "          if (!dataTable) return;\n",
              "\n",
              "          const docLinkHtml = 'Like what you see? Visit the ' +\n",
              "            '<a target=\"_blank\" href=https://colab.research.google.com/notebooks/data_table.ipynb>data table notebook</a>'\n",
              "            + ' to learn more about interactive tables.';\n",
              "          element.innerHTML = '';\n",
              "          dataTable['output_type'] = 'display_data';\n",
              "          await google.colab.output.renderOutput(dataTable, element);\n",
              "          const docLink = document.createElement('div');\n",
              "          docLink.innerHTML = docLinkHtml;\n",
              "          element.appendChild(docLink);\n",
              "        }\n",
              "      </script>\n",
              "    </div>\n",
              "  </div>\n"
            ]
          },
          "metadata": {},
          "execution_count": 44
        }
      ]
    },
    {
      "cell_type": "markdown",
      "source": [
        "### Salvando novo dataset"
      ],
      "metadata": {
        "id": "clOYiQX_polD"
      }
    },
    {
      "cell_type": "code",
      "source": [
        "dados.shape"
      ],
      "metadata": {
        "colab": {
          "base_uri": "https://localhost:8080/"
        },
        "id": "d7SEjaA3ySLU",
        "outputId": "d46515ef-a4ef-4058-c571-4892cf26cef0"
      },
      "execution_count": null,
      "outputs": [
        {
          "output_type": "execute_result",
          "data": {
            "text/plain": [
              "(192484, 24)"
            ]
          },
          "metadata": {},
          "execution_count": 45
        }
      ]
    },
    {
      "cell_type": "code",
      "source": [
        "dados.isnull().sum()"
      ],
      "metadata": {
        "colab": {
          "base_uri": "https://localhost:8080/"
        },
        "id": "u4Ql5DHCKn-b",
        "outputId": "660307dd-8926-45cc-a1f1-f9a5840c0f55"
      },
      "execution_count": null,
      "outputs": [
        {
          "output_type": "execute_result",
          "data": {
            "text/plain": [
              "ANO                          0\n",
              "APGAR1                       0\n",
              "APGAR5                       0\n",
              "CONSPRENAT                   0\n",
              "OBT_NEONATAL                 0\n",
              "PESO                         0\n",
              "QTDFILMORT                   0\n",
              "QTDPARTCES               38994\n",
              "SEMAGESTAC                   0\n",
              "CODANOMAL_QTD                0\n",
              "ESCMAEETL_VALOR              0\n",
              "LOCNASC_DOMICILIO            0\n",
              "LOCNASC_HOSPITAL             0\n",
              "LOCNASC_ESTAB_SAUDE          0\n",
              "LOCNASC_OUTROS               0\n",
              "SEXO_MASC                    0\n",
              "SEXO_FEM                     0\n",
              "ESTCIVMAE_COMPANHEIRO        0\n",
              "TPAPRESENT_CEFALICO          0\n",
              "TPAPRESENT_PELVICO           0\n",
              "TPAPRESENT_TRANSVERSA        0\n",
              "GRAVIDEZ_VALOR               0\n",
              "PARTO_CESAREO                0\n",
              "PARTO_VAGINALL               0\n",
              "dtype: int64"
            ]
          },
          "metadata": {},
          "execution_count": 46
        }
      ]
    },
    {
      "cell_type": "code",
      "source": [
        "dados.to_csv(\"dn_etl.csv\", sep=';', index=False)"
      ],
      "metadata": {
        "id": "6rOpgSjMpsaN"
      },
      "execution_count": null,
      "outputs": []
    }
  ]
}
