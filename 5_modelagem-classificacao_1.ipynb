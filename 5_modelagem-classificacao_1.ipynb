{
  "nbformat": 4,
  "nbformat_minor": 0,
  "metadata": {
    "colab": {
      "provenance": [],
      "authorship_tag": "ABX9TyNIlb4TJbTmIsoNyXWZ0qEz",
      "include_colab_link": true
    },
    "kernelspec": {
      "name": "python3",
      "display_name": "Python 3"
    },
    "language_info": {
      "name": "python"
    }
  },
  "cells": [
    {
      "cell_type": "markdown",
      "metadata": {
        "id": "view-in-github",
        "colab_type": "text"
      },
      "source": [
        "<a href=\"https://colab.research.google.com/github/ascle/colab_tcc2/blob/dev/5_modelagem-classificacao_1.ipynb\" target=\"_parent\"><img src=\"https://colab.research.google.com/assets/colab-badge.svg\" alt=\"Open In Colab\"/></a>"
      ]
    },
    {
      "cell_type": "markdown",
      "source": [
        "### Importando bibliotecas<hr style='border: 2px solid red;'>\n"
      ],
      "metadata": {
        "id": "Boq31Ihrg5nH"
      }
    },
    {
      "cell_type": "code",
      "execution_count": 1,
      "metadata": {
        "id": "7o0jRmhPCoHv"
      },
      "outputs": [],
      "source": [
        "import pandas as pd\n",
        "import seaborn as sns\n",
        "import numpy as np\n",
        "import matplotlib.pyplot as plt"
      ]
    },
    {
      "cell_type": "code",
      "source": [
        "from sklearn.metrics import accuracy_score\n",
        "from sklearn.metrics import precision_score\n",
        "from sklearn.metrics import recall_score\n",
        "from sklearn.metrics import f1_score"
      ],
      "metadata": {
        "id": "8V7FisT76riq"
      },
      "execution_count": 2,
      "outputs": []
    },
    {
      "cell_type": "markdown",
      "source": [
        "### Outras configurações<hr style='border: 2px solid red;'>\n",
        "\n"
      ],
      "metadata": {
        "id": "AkBgwd0UhFrw"
      }
    },
    {
      "cell_type": "code",
      "source": [
        "!pip install ipython-autotime\n",
        "pd.set_option('display.max_columns', None)\n",
        "%load_ext autotime\n",
        "\n",
        "SEED = 7\n",
        "np.random.seed(SEED)"
      ],
      "metadata": {
        "id": "0XUeMvn3g0MM",
        "colab": {
          "base_uri": "https://localhost:8080/"
        },
        "outputId": "085d0cd5-9228-4f4c-f90b-e13548eb84ce"
      },
      "execution_count": 3,
      "outputs": [
        {
          "output_type": "stream",
          "name": "stdout",
          "text": [
            "Collecting ipython-autotime\n",
            "  Downloading ipython_autotime-0.3.1-py2.py3-none-any.whl (6.8 kB)\n",
            "Requirement already satisfied: ipython in /usr/local/lib/python3.10/dist-packages (from ipython-autotime) (7.34.0)\n",
            "Requirement already satisfied: setuptools>=18.5 in /usr/local/lib/python3.10/dist-packages (from ipython->ipython-autotime) (67.7.2)\n",
            "Collecting jedi>=0.16 (from ipython->ipython-autotime)\n",
            "  Downloading jedi-0.19.0-py2.py3-none-any.whl (1.6 MB)\n",
            "\u001b[2K     \u001b[90m━━━━━━━━━━━━━━━━━━━━━━━━━━━━━━━━━━━━━━━━\u001b[0m \u001b[32m1.6/1.6 MB\u001b[0m \u001b[31m8.6 MB/s\u001b[0m eta \u001b[36m0:00:00\u001b[0m\n",
            "\u001b[?25hRequirement already satisfied: decorator in /usr/local/lib/python3.10/dist-packages (from ipython->ipython-autotime) (4.4.2)\n",
            "Requirement already satisfied: pickleshare in /usr/local/lib/python3.10/dist-packages (from ipython->ipython-autotime) (0.7.5)\n",
            "Requirement already satisfied: traitlets>=4.2 in /usr/local/lib/python3.10/dist-packages (from ipython->ipython-autotime) (5.7.1)\n",
            "Requirement already satisfied: prompt-toolkit!=3.0.0,!=3.0.1,<3.1.0,>=2.0.0 in /usr/local/lib/python3.10/dist-packages (from ipython->ipython-autotime) (3.0.39)\n",
            "Requirement already satisfied: pygments in /usr/local/lib/python3.10/dist-packages (from ipython->ipython-autotime) (2.16.1)\n",
            "Requirement already satisfied: backcall in /usr/local/lib/python3.10/dist-packages (from ipython->ipython-autotime) (0.2.0)\n",
            "Requirement already satisfied: matplotlib-inline in /usr/local/lib/python3.10/dist-packages (from ipython->ipython-autotime) (0.1.6)\n",
            "Requirement already satisfied: pexpect>4.3 in /usr/local/lib/python3.10/dist-packages (from ipython->ipython-autotime) (4.8.0)\n",
            "Requirement already satisfied: parso<0.9.0,>=0.8.3 in /usr/local/lib/python3.10/dist-packages (from jedi>=0.16->ipython->ipython-autotime) (0.8.3)\n",
            "Requirement already satisfied: ptyprocess>=0.5 in /usr/local/lib/python3.10/dist-packages (from pexpect>4.3->ipython->ipython-autotime) (0.7.0)\n",
            "Requirement already satisfied: wcwidth in /usr/local/lib/python3.10/dist-packages (from prompt-toolkit!=3.0.0,!=3.0.1,<3.1.0,>=2.0.0->ipython->ipython-autotime) (0.2.6)\n",
            "Installing collected packages: jedi, ipython-autotime\n",
            "Successfully installed ipython-autotime-0.3.1 jedi-0.19.0\n",
            "time: 703 µs (started: 2023-08-25 18:30:44 +00:00)\n"
          ]
        }
      ]
    },
    {
      "cell_type": "markdown",
      "source": [
        "### Conectando no ambiente que será utilizado<hr style='border: 2px solid red;'>\n"
      ],
      "metadata": {
        "id": "I5BaqyiBg-iC"
      }
    },
    {
      "cell_type": "code",
      "source": [
        "# Importando do Drive\n",
        "from google.colab import drive\n",
        "from os import chdir\n",
        "\n",
        "drive.mount('/content/drive', force_remount=True)\n",
        "chdir('/content/drive/MyDrive/UFS/tcc-2-ascle-ufs/bases/linkage_marco/')"
      ],
      "metadata": {
        "id": "2naC-Ovegurr",
        "colab": {
          "base_uri": "https://localhost:8080/"
        },
        "outputId": "b0d2d5e7-24af-42a8-b0f8-891746403c1e"
      },
      "execution_count": 4,
      "outputs": [
        {
          "output_type": "stream",
          "name": "stdout",
          "text": [
            "Mounted at /content/drive\n",
            "time: 21.6 s (started: 2023-08-25 18:30:44 +00:00)\n"
          ]
        }
      ]
    },
    {
      "cell_type": "markdown",
      "source": [
        "#### Leitura dos dados"
      ],
      "metadata": {
        "id": "cDpmZ-c7hCYk"
      }
    },
    {
      "cell_type": "code",
      "source": [
        "data_raw = pd.read_csv('dn_etl.csv', sep=';', low_memory=False)\n",
        "data_raw.sort_index(axis=1, inplace=True)"
      ],
      "metadata": {
        "id": "oVt8pUk4Ct1p",
        "colab": {
          "base_uri": "https://localhost:8080/"
        },
        "outputId": "594dce01-a193-4c4e-87d8-b3ecf5922dc2"
      },
      "execution_count": 5,
      "outputs": [
        {
          "output_type": "stream",
          "name": "stdout",
          "text": [
            "time: 1.74 s (started: 2023-08-25 18:31:06 +00:00)\n"
          ]
        }
      ]
    },
    {
      "cell_type": "code",
      "source": [
        "data_raw.shape"
      ],
      "metadata": {
        "id": "oe54YoxZhYM-",
        "colab": {
          "base_uri": "https://localhost:8080/"
        },
        "outputId": "3979e51e-710b-43e7-b37f-08bf16bc10cb"
      },
      "execution_count": 6,
      "outputs": [
        {
          "output_type": "execute_result",
          "data": {
            "text/plain": [
              "(190020, 24)"
            ]
          },
          "metadata": {},
          "execution_count": 6
        },
        {
          "output_type": "stream",
          "name": "stdout",
          "text": [
            "time: 6.25 ms (started: 2023-08-25 18:31:08 +00:00)\n"
          ]
        }
      ]
    },
    {
      "cell_type": "code",
      "source": [
        "data_raw.head()"
      ],
      "metadata": {
        "colab": {
          "base_uri": "https://localhost:8080/",
          "height": 244
        },
        "id": "Hy59bsliXbl3",
        "outputId": "1dc79be6-c5f2-4243-d0b3-c5e796d7aec3"
      },
      "execution_count": 7,
      "outputs": [
        {
          "output_type": "execute_result",
          "data": {
            "text/plain": [
              "    ANO  APGAR1  APGAR5  CODANOMAL_QTD  CONSPRENAT  ESCMAEETL_VALOR  \\\n",
              "0  2015     2.0     4.0            0.0         5.0                1   \n",
              "1  2015     9.0    10.0            0.0         8.0                4   \n",
              "2  2015     7.0     8.0            0.0        10.0               11   \n",
              "3  2015     7.0     8.0            0.0         7.0                4   \n",
              "4  2015     9.0    10.0            0.0         3.0               11   \n",
              "\n",
              "   ESTCIVMAE_COMPANHEIRO  GRAVIDEZ_VALOR  LOCNASC_DOMICILIO  \\\n",
              "0                      0               1                  0   \n",
              "1                      1               1                  0   \n",
              "2                      1               1                  0   \n",
              "3                      0               1                  0   \n",
              "4                      0               1                  0   \n",
              "\n",
              "   LOCNASC_ESTAB_SAUDE  LOCNASC_HOSPITAL  LOCNASC_OUTROS  OBT_NEONATAL  \\\n",
              "0                    0                 1               0             0   \n",
              "1                    0                 1               0             0   \n",
              "2                    0                 1               0             0   \n",
              "3                    0                 1               0             0   \n",
              "4                    0                 1               0             0   \n",
              "\n",
              "   PARTO_CESAREO  PARTO_VAGINALL    PESO  QTDFILMORT  QTDPARTCES  SEMAGESTAC  \\\n",
              "0              1               0   820.0         1.0         NaN        26.0   \n",
              "1              1               0  4200.0         1.0         NaN        39.0   \n",
              "2              0               1  3700.0         0.0         0.0        40.0   \n",
              "3              0               1  3550.0         1.0         0.0        37.0   \n",
              "4              1               0  3800.0         0.0         NaN        39.0   \n",
              "\n",
              "   SEXO_FEM  SEXO_MASC  TPAPRESENT_CEFALICO  TPAPRESENT_PELVICO  \\\n",
              "0         0          1                    1                   0   \n",
              "1         0          1                    1                   0   \n",
              "2         1          0                    1                   0   \n",
              "3         0          1                    1                   0   \n",
              "4         1          0                    1                   0   \n",
              "\n",
              "   TPAPRESENT_TRANSVERSA  \n",
              "0                      0  \n",
              "1                      0  \n",
              "2                      0  \n",
              "3                      0  \n",
              "4                      0  "
            ],
            "text/html": [
              "\n",
              "  <div id=\"df-3dc0ff92-b2a2-46aa-90a1-4bd23444f07d\" class=\"colab-df-container\">\n",
              "    <div>\n",
              "<style scoped>\n",
              "    .dataframe tbody tr th:only-of-type {\n",
              "        vertical-align: middle;\n",
              "    }\n",
              "\n",
              "    .dataframe tbody tr th {\n",
              "        vertical-align: top;\n",
              "    }\n",
              "\n",
              "    .dataframe thead th {\n",
              "        text-align: right;\n",
              "    }\n",
              "</style>\n",
              "<table border=\"1\" class=\"dataframe\">\n",
              "  <thead>\n",
              "    <tr style=\"text-align: right;\">\n",
              "      <th></th>\n",
              "      <th>ANO</th>\n",
              "      <th>APGAR1</th>\n",
              "      <th>APGAR5</th>\n",
              "      <th>CODANOMAL_QTD</th>\n",
              "      <th>CONSPRENAT</th>\n",
              "      <th>ESCMAEETL_VALOR</th>\n",
              "      <th>ESTCIVMAE_COMPANHEIRO</th>\n",
              "      <th>GRAVIDEZ_VALOR</th>\n",
              "      <th>LOCNASC_DOMICILIO</th>\n",
              "      <th>LOCNASC_ESTAB_SAUDE</th>\n",
              "      <th>LOCNASC_HOSPITAL</th>\n",
              "      <th>LOCNASC_OUTROS</th>\n",
              "      <th>OBT_NEONATAL</th>\n",
              "      <th>PARTO_CESAREO</th>\n",
              "      <th>PARTO_VAGINALL</th>\n",
              "      <th>PESO</th>\n",
              "      <th>QTDFILMORT</th>\n",
              "      <th>QTDPARTCES</th>\n",
              "      <th>SEMAGESTAC</th>\n",
              "      <th>SEXO_FEM</th>\n",
              "      <th>SEXO_MASC</th>\n",
              "      <th>TPAPRESENT_CEFALICO</th>\n",
              "      <th>TPAPRESENT_PELVICO</th>\n",
              "      <th>TPAPRESENT_TRANSVERSA</th>\n",
              "    </tr>\n",
              "  </thead>\n",
              "  <tbody>\n",
              "    <tr>\n",
              "      <th>0</th>\n",
              "      <td>2015</td>\n",
              "      <td>2.0</td>\n",
              "      <td>4.0</td>\n",
              "      <td>0.0</td>\n",
              "      <td>5.0</td>\n",
              "      <td>1</td>\n",
              "      <td>0</td>\n",
              "      <td>1</td>\n",
              "      <td>0</td>\n",
              "      <td>0</td>\n",
              "      <td>1</td>\n",
              "      <td>0</td>\n",
              "      <td>0</td>\n",
              "      <td>1</td>\n",
              "      <td>0</td>\n",
              "      <td>820.0</td>\n",
              "      <td>1.0</td>\n",
              "      <td>NaN</td>\n",
              "      <td>26.0</td>\n",
              "      <td>0</td>\n",
              "      <td>1</td>\n",
              "      <td>1</td>\n",
              "      <td>0</td>\n",
              "      <td>0</td>\n",
              "    </tr>\n",
              "    <tr>\n",
              "      <th>1</th>\n",
              "      <td>2015</td>\n",
              "      <td>9.0</td>\n",
              "      <td>10.0</td>\n",
              "      <td>0.0</td>\n",
              "      <td>8.0</td>\n",
              "      <td>4</td>\n",
              "      <td>1</td>\n",
              "      <td>1</td>\n",
              "      <td>0</td>\n",
              "      <td>0</td>\n",
              "      <td>1</td>\n",
              "      <td>0</td>\n",
              "      <td>0</td>\n",
              "      <td>1</td>\n",
              "      <td>0</td>\n",
              "      <td>4200.0</td>\n",
              "      <td>1.0</td>\n",
              "      <td>NaN</td>\n",
              "      <td>39.0</td>\n",
              "      <td>0</td>\n",
              "      <td>1</td>\n",
              "      <td>1</td>\n",
              "      <td>0</td>\n",
              "      <td>0</td>\n",
              "    </tr>\n",
              "    <tr>\n",
              "      <th>2</th>\n",
              "      <td>2015</td>\n",
              "      <td>7.0</td>\n",
              "      <td>8.0</td>\n",
              "      <td>0.0</td>\n",
              "      <td>10.0</td>\n",
              "      <td>11</td>\n",
              "      <td>1</td>\n",
              "      <td>1</td>\n",
              "      <td>0</td>\n",
              "      <td>0</td>\n",
              "      <td>1</td>\n",
              "      <td>0</td>\n",
              "      <td>0</td>\n",
              "      <td>0</td>\n",
              "      <td>1</td>\n",
              "      <td>3700.0</td>\n",
              "      <td>0.0</td>\n",
              "      <td>0.0</td>\n",
              "      <td>40.0</td>\n",
              "      <td>1</td>\n",
              "      <td>0</td>\n",
              "      <td>1</td>\n",
              "      <td>0</td>\n",
              "      <td>0</td>\n",
              "    </tr>\n",
              "    <tr>\n",
              "      <th>3</th>\n",
              "      <td>2015</td>\n",
              "      <td>7.0</td>\n",
              "      <td>8.0</td>\n",
              "      <td>0.0</td>\n",
              "      <td>7.0</td>\n",
              "      <td>4</td>\n",
              "      <td>0</td>\n",
              "      <td>1</td>\n",
              "      <td>0</td>\n",
              "      <td>0</td>\n",
              "      <td>1</td>\n",
              "      <td>0</td>\n",
              "      <td>0</td>\n",
              "      <td>0</td>\n",
              "      <td>1</td>\n",
              "      <td>3550.0</td>\n",
              "      <td>1.0</td>\n",
              "      <td>0.0</td>\n",
              "      <td>37.0</td>\n",
              "      <td>0</td>\n",
              "      <td>1</td>\n",
              "      <td>1</td>\n",
              "      <td>0</td>\n",
              "      <td>0</td>\n",
              "    </tr>\n",
              "    <tr>\n",
              "      <th>4</th>\n",
              "      <td>2015</td>\n",
              "      <td>9.0</td>\n",
              "      <td>10.0</td>\n",
              "      <td>0.0</td>\n",
              "      <td>3.0</td>\n",
              "      <td>11</td>\n",
              "      <td>0</td>\n",
              "      <td>1</td>\n",
              "      <td>0</td>\n",
              "      <td>0</td>\n",
              "      <td>1</td>\n",
              "      <td>0</td>\n",
              "      <td>0</td>\n",
              "      <td>1</td>\n",
              "      <td>0</td>\n",
              "      <td>3800.0</td>\n",
              "      <td>0.0</td>\n",
              "      <td>NaN</td>\n",
              "      <td>39.0</td>\n",
              "      <td>1</td>\n",
              "      <td>0</td>\n",
              "      <td>1</td>\n",
              "      <td>0</td>\n",
              "      <td>0</td>\n",
              "    </tr>\n",
              "  </tbody>\n",
              "</table>\n",
              "</div>\n",
              "    <div class=\"colab-df-buttons\">\n",
              "\n",
              "  <div class=\"colab-df-container\">\n",
              "    <button class=\"colab-df-convert\" onclick=\"convertToInteractive('df-3dc0ff92-b2a2-46aa-90a1-4bd23444f07d')\"\n",
              "            title=\"Convert this dataframe to an interactive table.\"\n",
              "            style=\"display:none;\">\n",
              "\n",
              "  <svg xmlns=\"http://www.w3.org/2000/svg\" height=\"24px\" viewBox=\"0 -960 960 960\">\n",
              "    <path d=\"M120-120v-720h720v720H120Zm60-500h600v-160H180v160Zm220 220h160v-160H400v160Zm0 220h160v-160H400v160ZM180-400h160v-160H180v160Zm440 0h160v-160H620v160ZM180-180h160v-160H180v160Zm440 0h160v-160H620v160Z\"/>\n",
              "  </svg>\n",
              "    </button>\n",
              "\n",
              "  <style>\n",
              "    .colab-df-container {\n",
              "      display:flex;\n",
              "      gap: 12px;\n",
              "    }\n",
              "\n",
              "    .colab-df-convert {\n",
              "      background-color: #E8F0FE;\n",
              "      border: none;\n",
              "      border-radius: 50%;\n",
              "      cursor: pointer;\n",
              "      display: none;\n",
              "      fill: #1967D2;\n",
              "      height: 32px;\n",
              "      padding: 0 0 0 0;\n",
              "      width: 32px;\n",
              "    }\n",
              "\n",
              "    .colab-df-convert:hover {\n",
              "      background-color: #E2EBFA;\n",
              "      box-shadow: 0px 1px 2px rgba(60, 64, 67, 0.3), 0px 1px 3px 1px rgba(60, 64, 67, 0.15);\n",
              "      fill: #174EA6;\n",
              "    }\n",
              "\n",
              "    .colab-df-buttons div {\n",
              "      margin-bottom: 4px;\n",
              "    }\n",
              "\n",
              "    [theme=dark] .colab-df-convert {\n",
              "      background-color: #3B4455;\n",
              "      fill: #D2E3FC;\n",
              "    }\n",
              "\n",
              "    [theme=dark] .colab-df-convert:hover {\n",
              "      background-color: #434B5C;\n",
              "      box-shadow: 0px 1px 3px 1px rgba(0, 0, 0, 0.15);\n",
              "      filter: drop-shadow(0px 1px 2px rgba(0, 0, 0, 0.3));\n",
              "      fill: #FFFFFF;\n",
              "    }\n",
              "  </style>\n",
              "\n",
              "    <script>\n",
              "      const buttonEl =\n",
              "        document.querySelector('#df-3dc0ff92-b2a2-46aa-90a1-4bd23444f07d button.colab-df-convert');\n",
              "      buttonEl.style.display =\n",
              "        google.colab.kernel.accessAllowed ? 'block' : 'none';\n",
              "\n",
              "      async function convertToInteractive(key) {\n",
              "        const element = document.querySelector('#df-3dc0ff92-b2a2-46aa-90a1-4bd23444f07d');\n",
              "        const dataTable =\n",
              "          await google.colab.kernel.invokeFunction('convertToInteractive',\n",
              "                                                    [key], {});\n",
              "        if (!dataTable) return;\n",
              "\n",
              "        const docLinkHtml = 'Like what you see? Visit the ' +\n",
              "          '<a target=\"_blank\" href=https://colab.research.google.com/notebooks/data_table.ipynb>data table notebook</a>'\n",
              "          + ' to learn more about interactive tables.';\n",
              "        element.innerHTML = '';\n",
              "        dataTable['output_type'] = 'display_data';\n",
              "        await google.colab.output.renderOutput(dataTable, element);\n",
              "        const docLink = document.createElement('div');\n",
              "        docLink.innerHTML = docLinkHtml;\n",
              "        element.appendChild(docLink);\n",
              "      }\n",
              "    </script>\n",
              "  </div>\n",
              "\n",
              "\n",
              "<div id=\"df-2ccc44bf-da19-402d-b3c4-c18c0c2fad72\">\n",
              "  <button class=\"colab-df-quickchart\" onclick=\"quickchart('df-2ccc44bf-da19-402d-b3c4-c18c0c2fad72')\"\n",
              "            title=\"Suggest charts.\"\n",
              "            style=\"display:none;\">\n",
              "\n",
              "<svg xmlns=\"http://www.w3.org/2000/svg\" height=\"24px\"viewBox=\"0 0 24 24\"\n",
              "     width=\"24px\">\n",
              "    <g>\n",
              "        <path d=\"M19 3H5c-1.1 0-2 .9-2 2v14c0 1.1.9 2 2 2h14c1.1 0 2-.9 2-2V5c0-1.1-.9-2-2-2zM9 17H7v-7h2v7zm4 0h-2V7h2v10zm4 0h-2v-4h2v4z\"/>\n",
              "    </g>\n",
              "</svg>\n",
              "  </button>\n",
              "\n",
              "<style>\n",
              "  .colab-df-quickchart {\n",
              "    background-color: #E8F0FE;\n",
              "    border: none;\n",
              "    border-radius: 50%;\n",
              "    cursor: pointer;\n",
              "    display: none;\n",
              "    fill: #1967D2;\n",
              "    height: 32px;\n",
              "    padding: 0 0 0 0;\n",
              "    width: 32px;\n",
              "  }\n",
              "\n",
              "  .colab-df-quickchart:hover {\n",
              "    background-color: #E2EBFA;\n",
              "    box-shadow: 0px 1px 2px rgba(60, 64, 67, 0.3), 0px 1px 3px 1px rgba(60, 64, 67, 0.15);\n",
              "    fill: #174EA6;\n",
              "  }\n",
              "\n",
              "  [theme=dark] .colab-df-quickchart {\n",
              "    background-color: #3B4455;\n",
              "    fill: #D2E3FC;\n",
              "  }\n",
              "\n",
              "  [theme=dark] .colab-df-quickchart:hover {\n",
              "    background-color: #434B5C;\n",
              "    box-shadow: 0px 1px 3px 1px rgba(0, 0, 0, 0.15);\n",
              "    filter: drop-shadow(0px 1px 2px rgba(0, 0, 0, 0.3));\n",
              "    fill: #FFFFFF;\n",
              "  }\n",
              "</style>\n",
              "\n",
              "  <script>\n",
              "    async function quickchart(key) {\n",
              "      const charts = await google.colab.kernel.invokeFunction(\n",
              "          'suggestCharts', [key], {});\n",
              "    }\n",
              "    (() => {\n",
              "      let quickchartButtonEl =\n",
              "        document.querySelector('#df-2ccc44bf-da19-402d-b3c4-c18c0c2fad72 button');\n",
              "      quickchartButtonEl.style.display =\n",
              "        google.colab.kernel.accessAllowed ? 'block' : 'none';\n",
              "    })();\n",
              "  </script>\n",
              "</div>\n",
              "    </div>\n",
              "  </div>\n"
            ]
          },
          "metadata": {},
          "execution_count": 7
        },
        {
          "output_type": "stream",
          "name": "stdout",
          "text": [
            "time: 26.9 ms (started: 2023-08-25 18:31:08 +00:00)\n"
          ]
        }
      ]
    },
    {
      "cell_type": "markdown",
      "source": [
        "## Dados X e y<hr style='border: 2px solid red;'>"
      ],
      "metadata": {
        "id": "uZGz4BtYdjVh"
      }
    },
    {
      "cell_type": "code",
      "source": [
        "X_raw= data_raw.drop(columns=['QTDPARTCES', 'ANO', 'OBT_NEONATAL'])\n",
        "y_raw= data_raw[\"OBT_NEONATAL\"]"
      ],
      "metadata": {
        "id": "1-2PYC5MC34J",
        "colab": {
          "base_uri": "https://localhost:8080/"
        },
        "outputId": "16913344-f78c-40cb-fe3c-eadf3d459dd7"
      },
      "execution_count": 8,
      "outputs": [
        {
          "output_type": "stream",
          "name": "stdout",
          "text": [
            "time: 20 ms (started: 2023-08-25 18:31:08 +00:00)\n"
          ]
        }
      ]
    },
    {
      "cell_type": "markdown",
      "source": [
        "## Dados desbalanceados<hr style='border: 2px solid red;'>"
      ],
      "metadata": {
        "id": "3Drr3PxE0Yz5"
      }
    },
    {
      "cell_type": "markdown",
      "source": [
        "https://imbalanced-learn.org/stable/introduction.html\n",
        "\n",
        "https://medium.com/data-hackers/como-lidar-com-dados-desbalanceados-em-problemas-de-classifica%C3%A7%C3%A3o-17c4d4357ef9\n",
        "\n",
        "https://medium.com/turing-talks/dados-desbalanceados-o-que-s%C3%A3o-e-como-evit%C3%A1-los-43df4f49732b\n",
        "\n",
        "https://www.teses.usp.br/teses/disponiveis/55/55134/tde-06012016-145045/publico/VictorHugoBarella_dissertacao_revisada.pdf\n",
        "\n",
        "https://www.hashtagtreinamentos.com/datasets-desbalanceados-ciencia-dados\n"
      ],
      "metadata": {
        "id": "I6m547Y64tQ5"
      }
    },
    {
      "cell_type": "code",
      "source": [
        "from imblearn.over_sampling import SMOTE"
      ],
      "metadata": {
        "id": "CBoyMJTI4_1K",
        "colab": {
          "base_uri": "https://localhost:8080/"
        },
        "outputId": "8ab46a8c-60bf-4628-e648-1726fc8806b6"
      },
      "execution_count": 9,
      "outputs": [
        {
          "output_type": "stream",
          "name": "stdout",
          "text": [
            "time: 423 ms (started: 2023-08-25 18:31:08 +00:00)\n"
          ]
        }
      ]
    },
    {
      "cell_type": "code",
      "source": [
        "ax = sns.countplot(x='OBT_NEONATAL', data=data_raw)"
      ],
      "metadata": {
        "colab": {
          "base_uri": "https://localhost:8080/",
          "height": 467
        },
        "id": "HOxndDsk3H7Z",
        "outputId": "33b8c704-fb76-4882-9760-5f331776bd3b"
      },
      "execution_count": 10,
      "outputs": [
        {
          "output_type": "display_data",
          "data": {
            "text/plain": [
              "<Figure size 640x480 with 1 Axes>"
            ],
            "image/png": "[encoded data removed]"
          },
          "metadata": {}
        },
        {
          "output_type": "stream",
          "name": "stdout",
          "text": [
            "time: 280 ms (started: 2023-08-25 18:31:08 +00:00)\n"
          ]
        }
      ]
    },
    {
      "cell_type": "markdown",
      "source": [
        "#### Oversampling Smote"
      ],
      "metadata": {
        "id": "M2fwZ_hil8sY"
      }
    },
    {
      "cell_type": "markdown",
      "source": [
        "https://arxiv.org/abs/1106.1813"
      ],
      "metadata": {
        "id": "JaDXEY_GuKzd"
      }
    },
    {
      "cell_type": "markdown",
      "source": [
        "Consiste em criar observações intermediárias entre dados parecidos"
      ],
      "metadata": {
        "id": "k9Oh2dhBmdWo"
      }
    },
    {
      "cell_type": "code",
      "source": [
        "smt = SMOTE(random_state=SEED)\n",
        "X_bal, y_bal = smt.fit_resample(X_raw, y_raw)"
      ],
      "metadata": {
        "id": "RvuOFAmR42aw",
        "colab": {
          "base_uri": "https://localhost:8080/"
        },
        "outputId": "e374e872-cb07-4b10-be30-778cc2e76a8f"
      },
      "execution_count": 11,
      "outputs": [
        {
          "output_type": "stream",
          "name": "stdout",
          "text": [
            "time: 601 ms (started: 2023-08-25 18:31:09 +00:00)\n"
          ]
        }
      ]
    },
    {
      "cell_type": "code",
      "source": [
        "data_bal = pd.concat([X_bal, y_bal], axis=1)"
      ],
      "metadata": {
        "id": "YoFdm3F042x5",
        "colab": {
          "base_uri": "https://localhost:8080/"
        },
        "outputId": "e689ca05-e2cd-45fb-8164-7f272c3c4159"
      },
      "execution_count": 12,
      "outputs": [
        {
          "output_type": "stream",
          "name": "stdout",
          "text": [
            "time: 49.6 ms (started: 2023-08-25 18:31:09 +00:00)\n"
          ]
        }
      ]
    },
    {
      "cell_type": "code",
      "source": [
        "ax = sns.countplot(x='OBT_NEONATAL', data=data_bal)"
      ],
      "metadata": {
        "colab": {
          "base_uri": "https://localhost:8080/",
          "height": 467
        },
        "id": "WFWfOdaT5Ld5",
        "outputId": "a94d033e-71ca-4b1e-e0de-dc0249df832d"
      },
      "execution_count": 13,
      "outputs": [
        {
          "output_type": "display_data",
          "data": {
            "text/plain": [
              "<Figure size 640x480 with 1 Axes>"
            ],
            "image/png": "[encoded data removed]"
          },
          "metadata": {}
        },
        {
          "output_type": "stream",
          "name": "stdout",
          "text": [
            "time: 210 ms (started: 2023-08-25 18:31:09 +00:00)\n"
          ]
        }
      ]
    },
    {
      "cell_type": "markdown",
      "source": [
        "##Dados de treino e de teste<hr style='border: 2px solid red;'>"
      ],
      "metadata": {
        "id": "0pTdw9yb3-gV"
      }
    },
    {
      "cell_type": "code",
      "source": [
        "from sklearn.model_selection import train_test_split"
      ],
      "metadata": {
        "id": "v9VTOQFs4Vhw",
        "colab": {
          "base_uri": "https://localhost:8080/"
        },
        "outputId": "1701ba04-b327-4b96-d528-b5bcdb45cfd5"
      },
      "execution_count": 14,
      "outputs": [
        {
          "output_type": "stream",
          "name": "stdout",
          "text": [
            "time: 379 µs (started: 2023-08-25 18:31:09 +00:00)\n"
          ]
        }
      ]
    },
    {
      "cell_type": "code",
      "source": [
        "X_treino, X_teste, y_treino, y_teste = train_test_split(X_bal, y_bal, test_size =0.3,\n",
        "                                                        random_state=SEED,\n",
        "                                                        stratify=y_bal)\n",
        "print(\"Treinaremos com %d elementos e testaremos com %d elementos\" % (len(X_treino), len(X_teste)))\n",
        "print()"
      ],
      "metadata": {
        "colab": {
          "base_uri": "https://localhost:8080/"
        },
        "id": "OBoj3dEaFePY",
        "outputId": "2490d5e9-5352-4b78-d321-1e253e3fd803"
      },
      "execution_count": 15,
      "outputs": [
        {
          "output_type": "stream",
          "name": "stdout",
          "text": [
            "Treinaremos com 264068 elementos e testaremos com 113172 elementos\n",
            "\n",
            "time: 237 ms (started: 2023-08-25 18:31:09 +00:00)\n"
          ]
        }
      ]
    },
    {
      "cell_type": "markdown",
      "source": [
        "### Base de treino normalizada"
      ],
      "metadata": {
        "id": "ItF_hqsipnsw"
      }
    },
    {
      "cell_type": "code",
      "source": [
        "from sklearn.preprocessing import StandardScaler"
      ],
      "metadata": {
        "id": "5xgqifU6qFVp",
        "colab": {
          "base_uri": "https://localhost:8080/"
        },
        "outputId": "06180859-d26e-45ce-a861-99da3d312390"
      },
      "execution_count": 16,
      "outputs": [
        {
          "output_type": "stream",
          "name": "stdout",
          "text": [
            "time: 433 µs (started: 2023-08-25 18:31:10 +00:00)\n"
          ]
        }
      ]
    },
    {
      "cell_type": "code",
      "source": [
        "scaler = scaler = StandardScaler()\n",
        "scaler.fit(X_treino)\n",
        "X_treino_norm = scaler.transform(X_treino)\n",
        "X_teste_norm = scaler.transform(X_teste)"
      ],
      "metadata": {
        "id": "jI5LHFzfp6VI",
        "colab": {
          "base_uri": "https://localhost:8080/"
        },
        "outputId": "2536c1ba-8676-45b9-9251-a669cbdc26ba"
      },
      "execution_count": 17,
      "outputs": [
        {
          "output_type": "stream",
          "name": "stdout",
          "text": [
            "time: 131 ms (started: 2023-08-25 18:31:10 +00:00)\n"
          ]
        }
      ]
    },
    {
      "cell_type": "markdown",
      "source": [
        "<font color=\"red\">*Dados categóricos???*</font>"
      ],
      "metadata": {
        "id": "_SRsyuJTiChx"
      }
    },
    {
      "cell_type": "markdown",
      "source": [
        "### Métodos auxiliares"
      ],
      "metadata": {
        "id": "S__8-pZs7HAu"
      }
    },
    {
      "cell_type": "code",
      "source": [
        "def imprimir_metricas(_nome_modelo, _predito):\n",
        "  print(\"A Acurácia do modelo {} foi {:.2f}%\".format(_nome_modelo, (accuracy_score(y_teste, _predito) * 100)))\n",
        "  print(\"A Precisão do modelo {} foi {:.2f}%\".format(_nome_modelo, (precision_score(y_teste, _predito) * 100)))\n",
        "  print(\"A Recall do modelo {} foi {:.2f}%\".format(_nome_modelo, (recall_score(y_teste, _predito) * 100)))\n",
        "  print(\"A F1 do modelo {} foi {:.2f}%\".format(_nome_modelo, (f1_score(y_teste, _predito) * 100)))\n",
        "  print()"
      ],
      "metadata": {
        "id": "zhdsb2AW7KNG",
        "outputId": "ff3a340b-774d-4ac4-d630-a6214bd70eac",
        "colab": {
          "base_uri": "https://localhost:8080/"
        }
      },
      "execution_count": 18,
      "outputs": [
        {
          "output_type": "stream",
          "name": "stdout",
          "text": [
            "time: 902 µs (started: 2023-08-25 18:31:10 +00:00)\n"
          ]
        }
      ]
    },
    {
      "cell_type": "code",
      "source": [
        "def imprime_metrica_cv(_nome_modelo, _results):\n",
        "    media = _results['test_score'].mean()\n",
        "    desvio_padrao = _results['test_score'].std()\n",
        "    ini = (media - 2 * desvio_padrao)*100\n",
        "    fim = (media + 2 * desvio_padrao) * 100\n",
        "    print(\"A Acurácia do modelo {} com Cross Validation foi  [{:.2f}%, {:.2f}%]\".format(_nome_modelo, ini, fim))\n",
        "    print()"
      ],
      "metadata": {
        "colab": {
          "base_uri": "https://localhost:8080/"
        },
        "id": "2q3UR7NS9yX0",
        "outputId": "fc82afc6-26fd-405b-c2c0-1d31d0e0c819"
      },
      "execution_count": 19,
      "outputs": [
        {
          "output_type": "stream",
          "name": "stdout",
          "text": [
            "time: 841 µs (started: 2023-08-25 18:31:10 +00:00)\n"
          ]
        }
      ]
    },
    {
      "cell_type": "markdown",
      "source": [
        "### <font style='font-size: 30px;'>Dummy Classifier Stratified</font>\n",
        "<hr style='border: 2px solid red;'>"
      ],
      "metadata": {
        "id": "Y9zME4Vos7Wg"
      }
    },
    {
      "cell_type": "code",
      "source": [
        "from sklearn.dummy import DummyClassifier"
      ],
      "metadata": {
        "id": "jiht0Hz-tJfR",
        "colab": {
          "base_uri": "https://localhost:8080/"
        },
        "outputId": "71f4af8d-2f77-4d53-9906-949169592397"
      },
      "execution_count": 20,
      "outputs": [
        {
          "output_type": "stream",
          "name": "stdout",
          "text": [
            "time: 476 µs (started: 2023-08-25 18:31:10 +00:00)\n"
          ]
        }
      ]
    },
    {
      "cell_type": "code",
      "source": [
        "modelo_dummy_stratified = DummyClassifier(strategy='stratified')\n",
        "modelo_dummy_stratified.fit(X_treino, y_treino)\n",
        "predito_ds = modelo_dummy_stratified.predict(X_teste)\n",
        "\n",
        "imprimir_metricas('Dummy Stratified', predito_ds)\n",
        "print()"
      ],
      "metadata": {
        "id": "R8LGbTiztBKZ",
        "colab": {
          "base_uri": "https://localhost:8080/"
        },
        "outputId": "4485396e-8e98-4aca-8208-3eb4647a8348"
      },
      "execution_count": 21,
      "outputs": [
        {
          "output_type": "stream",
          "name": "stdout",
          "text": [
            "A Acurácia do modelo Dummy Stratified foi 49.87%\n",
            "A Precisão do modelo Dummy Stratified foi 49.87%\n",
            "A Recall do modelo Dummy Stratified foi 49.90%\n",
            "A F1 do modelo Dummy Stratified foi 49.88%\n",
            "\n",
            "\n",
            "time: 187 ms (started: 2023-08-25 18:31:10 +00:00)\n"
          ]
        }
      ]
    },
    {
      "cell_type": "markdown",
      "source": [
        "### <font style='font-size: 30px;'>Dummy Classifier Most Frequence</font>\n",
        "<hr style='border: 2px solid red;'>"
      ],
      "metadata": {
        "id": "W4wGwV4K8ZNz"
      }
    },
    {
      "cell_type": "code",
      "source": [
        "modelo_dummy_mostfrequent = DummyClassifier(strategy=\"most_frequent\")\n",
        "modelo_dummy_mostfrequent.fit(X_treino, y_treino)\n",
        "predito_dmf = modelo_dummy_mostfrequent.predict(X_teste)\n",
        "\n",
        "imprimir_metricas('Dummy Most Frequent', predito_dmf)"
      ],
      "metadata": {
        "id": "ClFvCjagtGSw",
        "colab": {
          "base_uri": "https://localhost:8080/"
        },
        "outputId": "6f7a9470-8b2e-4687-bf81-d72a8ed6fdc4"
      },
      "execution_count": 22,
      "outputs": [
        {
          "output_type": "stream",
          "name": "stdout",
          "text": [
            "A Acurácia do modelo Dummy Most Frequent foi 50.00%\n",
            "A Precisão do modelo Dummy Most Frequent foi 0.00%\n",
            "A Recall do modelo Dummy Most Frequent foi 0.00%\n",
            "A F1 do modelo Dummy Most Frequent foi 0.00%\n",
            "\n",
            "time: 163 ms (started: 2023-08-25 18:31:10 +00:00)\n"
          ]
        },
        {
          "output_type": "stream",
          "name": "stderr",
          "text": [
            "/usr/local/lib/python3.10/dist-packages/sklearn/metrics/_classification.py:1344: UndefinedMetricWarning: Precision is ill-defined and being set to 0.0 due to no predicted samples. Use `zero_division` parameter to control this behavior.\n",
            "  _warn_prf(average, modifier, msg_start, len(result))\n"
          ]
        }
      ]
    },
    {
      "cell_type": "markdown",
      "source": [
        "### <font style='font-size: 30px;'>Modelo SVC</font>\n",
        "<hr style='border: 2px solid red;'>"
      ],
      "metadata": {
        "id": "qKZd1G3XgVcW"
      }
    },
    {
      "cell_type": "code",
      "source": [
        "from sklearn.svm import SVC"
      ],
      "metadata": {
        "id": "kmsmpRScgmKv",
        "colab": {
          "base_uri": "https://localhost:8080/"
        },
        "outputId": "4eb7a281-2b63-46e6-97f0-ebe98d837291"
      },
      "execution_count": 23,
      "outputs": [
        {
          "output_type": "stream",
          "name": "stdout",
          "text": [
            "time: 522 µs (started: 2023-08-25 18:31:10 +00:00)\n"
          ]
        }
      ]
    },
    {
      "cell_type": "code",
      "source": [
        "modelo_svc = SVC(gamma='auto', random_state = SEED)\n",
        "modelo_svc.fit(X_treino_norm, y_treino)\n",
        "predito_svc = modelo_svc.predict(X_teste_norm)\n",
        "\n",
        "imprimir_metricas('SVC', predito_svc)"
      ],
      "metadata": {
        "id": "VUCdSZaAgXGH",
        "colab": {
          "base_uri": "https://localhost:8080/"
        },
        "outputId": "5e5d4631-d6ae-4b5c-da12-3762afbf58e7"
      },
      "execution_count": 24,
      "outputs": [
        {
          "output_type": "stream",
          "name": "stdout",
          "text": [
            "A Acurácia do modelo SVC foi 97.88%\n",
            "A Precisão do modelo SVC foi 98.70%\n",
            "A Recall do modelo SVC foi 97.04%\n",
            "A F1 do modelo SVC foi 97.87%\n",
            "\n",
            "time: 11min (started: 2023-08-25 18:31:10 +00:00)\n"
          ]
        }
      ]
    },
    {
      "cell_type": "markdown",
      "source": [
        "### <font style='font-size: 30px;'>KNN</font>\n",
        "<hr style='border: 2px solid red;'>"
      ],
      "metadata": {
        "id": "YaHQGaWXIJpi"
      }
    },
    {
      "cell_type": "markdown",
      "source": [
        "https://scikit-learn.org/stable/modules/generated/sklearn.neighbors.KNeighborsClassifier.html\n",
        "\n",
        "https://scikit-learn.org/stable/modules/generated/sklearn.metrics.DistanceMetric.html#sklearn.metrics.DistanceMetric"
      ],
      "metadata": {
        "id": "AvXA7blNLncu"
      }
    },
    {
      "cell_type": "markdown",
      "source": [
        "<font color=\"red\">*Dados categóricos???*</font>"
      ],
      "metadata": {
        "id": "55_fTRVOi1UV"
      }
    },
    {
      "cell_type": "code",
      "source": [
        "from sklearn.neighbors import KNeighborsClassifier"
      ],
      "metadata": {
        "id": "Zo8cPJgLIZyz",
        "colab": {
          "base_uri": "https://localhost:8080/"
        },
        "outputId": "6dcff8fa-3ba2-4a69-c82e-1234f8db1510"
      },
      "execution_count": 25,
      "outputs": [
        {
          "output_type": "stream",
          "name": "stdout",
          "text": [
            "time: 485 µs (started: 2023-08-25 18:42:11 +00:00)\n"
          ]
        }
      ]
    },
    {
      "cell_type": "code",
      "source": [
        "modelo_knn_euc = KNeighborsClassifier(metric='euclidean')\n",
        "modelo_knn_euc.fit(X_treino_norm, y_treino)\n",
        "predito_knn_euc = modelo_knn_euc.predict(X_teste_norm)\n",
        "\n",
        "imprimir_metricas('KNN Euclidean', predito_knn_euc)"
      ],
      "metadata": {
        "id": "eGzzEYTMINB7",
        "colab": {
          "base_uri": "https://localhost:8080/"
        },
        "outputId": "cfacbadd-38cf-440b-b771-37120b2c1f4f"
      },
      "execution_count": 26,
      "outputs": [
        {
          "output_type": "stream",
          "name": "stdout",
          "text": [
            "A Acurácia do modelo KNN Euclidean foi 99.30%\n",
            "A Precisão do modelo KNN Euclidean foi 98.89%\n",
            "A Recall do modelo KNN Euclidean foi 99.72%\n",
            "A F1 do modelo KNN Euclidean foi 99.30%\n",
            "\n",
            "time: 3min 7s (started: 2023-08-25 18:42:11 +00:00)\n"
          ]
        }
      ]
    },
    {
      "cell_type": "code",
      "source": [
        "modelo_knn_man = KNeighborsClassifier(metric='manhattan')\n",
        "modelo_knn_man.fit(X_treino_norm, y_treino)\n",
        "predito_knn_man = modelo_knn_man.predict(X_teste_norm)\n",
        "\n",
        "imprimir_metricas('KNN Manhattan', predito_knn_man)"
      ],
      "metadata": {
        "id": "4MkMrbhWL4l7",
        "colab": {
          "base_uri": "https://localhost:8080/"
        },
        "outputId": "d92b020b-6aa2-467e-fbb6-cda9a9af4f58"
      },
      "execution_count": 27,
      "outputs": [
        {
          "output_type": "stream",
          "name": "stdout",
          "text": [
            "A Acurácia do modelo KNN Manhattan foi 99.52%\n",
            "A Precisão do modelo KNN Manhattan foi 99.30%\n",
            "A Recall do modelo KNN Manhattan foi 99.75%\n",
            "A F1 do modelo KNN Manhattan foi 99.52%\n",
            "\n",
            "time: 17min 58s (started: 2023-08-25 18:45:18 +00:00)\n"
          ]
        }
      ]
    },
    {
      "cell_type": "code",
      "source": [
        "modelo_knn_mi = KNeighborsClassifier(metric='minkowski')\n",
        "modelo_knn_mi.fit(X_treino_norm, y_treino)\n",
        "predito_knn_mi = modelo_knn_mi.predict(X_teste_norm)\n",
        "\n",
        "imprimir_metricas('KNN Minkowski', predito_knn_mi)"
      ],
      "metadata": {
        "id": "rwQSboHTND5D",
        "colab": {
          "base_uri": "https://localhost:8080/"
        },
        "outputId": "6410a10e-b619-4f38-a369-73a46f3ffb41"
      },
      "execution_count": 28,
      "outputs": [
        {
          "output_type": "stream",
          "name": "stdout",
          "text": [
            "A Acurácia do modelo KNN Minkowski foi 99.30%\n",
            "A Precisão do modelo KNN Minkowski foi 98.89%\n",
            "A Recall do modelo KNN Minkowski foi 99.72%\n",
            "A F1 do modelo KNN Minkowski foi 99.30%\n",
            "\n",
            "time: 3min 5s (started: 2023-08-25 19:03:17 +00:00)\n"
          ]
        }
      ]
    },
    {
      "cell_type": "code",
      "source": [
        "modelo_knn_ch = KNeighborsClassifier(metric='chebyshev')\n",
        "modelo_knn_ch.fit(X_treino_norm, y_treino)\n",
        "predito_knn_ch = modelo_knn_ch.predict(X_teste_norm)\n",
        "\n",
        "imprimir_metricas('KNN Chebyshev', predito_knn_ch)"
      ],
      "metadata": {
        "id": "DKsEsJAQOWZX",
        "colab": {
          "base_uri": "https://localhost:8080/"
        },
        "outputId": "d40a62bb-d30f-4fa9-b675-f0fde971b5d4"
      },
      "execution_count": 29,
      "outputs": [
        {
          "output_type": "stream",
          "name": "stdout",
          "text": [
            "A Acurácia do modelo KNN Chebyshev foi 98.98%\n",
            "A Precisão do modelo KNN Chebyshev foi 98.32%\n",
            "A Recall do modelo KNN Chebyshev foi 99.66%\n",
            "A F1 do modelo KNN Chebyshev foi 98.99%\n",
            "\n",
            "time: 14min 36s (started: 2023-08-25 19:06:22 +00:00)\n"
          ]
        }
      ]
    },
    {
      "cell_type": "markdown",
      "source": [
        "### <font style='font-size: 30px;'>Árvore de decisão</font>\n",
        "<hr style='border: 2px solid red;'>"
      ],
      "metadata": {
        "id": "yyMGto08trIA"
      }
    },
    {
      "cell_type": "markdown",
      "source": [
        "<font color=\"red\">*Definir profundidade*</font>"
      ],
      "metadata": {
        "id": "4lBz2WzCi9sP"
      }
    },
    {
      "cell_type": "code",
      "source": [
        "from sklearn.tree import DecisionTreeClassifier"
      ],
      "metadata": {
        "id": "7a2f9FyLzFwJ",
        "colab": {
          "base_uri": "https://localhost:8080/"
        },
        "outputId": "69ac6617-cb08-4a4b-f06a-9ac3831cdff2"
      },
      "execution_count": 30,
      "outputs": [
        {
          "output_type": "stream",
          "name": "stdout",
          "text": [
            "time: 737 µs (started: 2023-08-25 19:20:58 +00:00)\n"
          ]
        }
      ]
    },
    {
      "cell_type": "code",
      "source": [
        "modelo_dtc = DecisionTreeClassifier()\n",
        "modelo_dtc.fit(X_treino, y_treino)\n",
        "predito_dtc = modelo_dtc.predict(X_teste)\n",
        "\n",
        "imprimir_metricas('Decision Tree', predito_dtc)"
      ],
      "metadata": {
        "id": "mOQkXElJtvl4",
        "colab": {
          "base_uri": "https://localhost:8080/"
        },
        "outputId": "05c2bc85-0661-4427-c0be-607b310435ed"
      },
      "execution_count": 31,
      "outputs": [
        {
          "output_type": "stream",
          "name": "stdout",
          "text": [
            "A Acurácia do modelo Decision Tree foi 99.49%\n",
            "A Precisão do modelo Decision Tree foi 99.41%\n",
            "A Recall do modelo Decision Tree foi 99.57%\n",
            "A F1 do modelo Decision Tree foi 99.49%\n",
            "\n",
            "time: 2.44 s (started: 2023-08-25 19:20:58 +00:00)\n"
          ]
        }
      ]
    },
    {
      "cell_type": "markdown",
      "source": [
        "### <font style='font-size: 30px;'>Árvore de Decisão Cross Validate</font>\n",
        "<hr style='border: 2px solid red;'>"
      ],
      "metadata": {
        "id": "hOKUnrH3_dpi"
      }
    },
    {
      "cell_type": "code",
      "source": [
        "from sklearn.model_selection import cross_validate\n",
        "from sklearn.model_selection import StratifiedKFold"
      ],
      "metadata": {
        "colab": {
          "base_uri": "https://localhost:8080/"
        },
        "id": "kNTdslZv_XPg",
        "outputId": "50230b62-f1c5-47c6-b65c-6e5cfe77165f"
      },
      "execution_count": 32,
      "outputs": [
        {
          "output_type": "stream",
          "name": "stdout",
          "text": [
            "time: 433 µs (started: 2023-08-25 19:21:01 +00:00)\n"
          ]
        }
      ]
    },
    {
      "cell_type": "code",
      "source": [
        "cv = StratifiedKFold(n_splits = 10, shuffle=True)\n",
        "modelo_dtc_cv = DecisionTreeClassifier()\n",
        "results = cross_validate(modelo_dtc_cv, X_treino, y_treino, cv = cv, return_train_score=False)\n",
        "\n",
        "imprime_metrica_cv('Decision Tree', results)"
      ],
      "metadata": {
        "colab": {
          "base_uri": "https://localhost:8080/"
        },
        "id": "sHrwx1s8-0dl",
        "outputId": "14bc9961-f962-4faa-8cfb-6a62815b58e4"
      },
      "execution_count": 33,
      "outputs": [
        {
          "output_type": "stream",
          "name": "stdout",
          "text": [
            "A Acurácia do modelo Decision Tree com Cross Validation foi  [99.41%, 99.58%]\n",
            "\n",
            "time: 22.9 s (started: 2023-08-25 19:21:01 +00:00)\n"
          ]
        }
      ]
    },
    {
      "cell_type": "markdown",
      "source": [
        "### <font style='font-size: 30px;'>Random Forest</font>\n",
        "<hr style='border: 2px solid red;'>"
      ],
      "metadata": {
        "id": "XJUFSGynDjxF"
      }
    },
    {
      "cell_type": "markdown",
      "source": [
        "<font color=\"red\">*Definir estimadores*</font>"
      ],
      "metadata": {
        "id": "Did7j6vzjCw9"
      }
    },
    {
      "cell_type": "code",
      "source": [
        "from sklearn.ensemble import RandomForestClassifier"
      ],
      "metadata": {
        "id": "plwEWsr5Dnts",
        "colab": {
          "base_uri": "https://localhost:8080/"
        },
        "outputId": "f1ab9183-819a-4caf-c935-5c489398a990"
      },
      "execution_count": 34,
      "outputs": [
        {
          "output_type": "stream",
          "name": "stdout",
          "text": [
            "time: 478 µs (started: 2023-08-25 19:21:24 +00:00)\n"
          ]
        }
      ]
    },
    {
      "cell_type": "code",
      "source": [
        "modelo_rfc = RandomForestClassifier(n_estimators = 100)\n",
        "modelo_rfc.fit(X_treino, y_treino)\n",
        "predito_rfc = modelo_rfc.predict(X_teste)\n",
        "\n",
        "imprimir_metricas('Random Forest', predito_rfc)\n",
        "print()"
      ],
      "metadata": {
        "id": "h9CkJBzHDnwh",
        "colab": {
          "base_uri": "https://localhost:8080/"
        },
        "outputId": "d113f6c7-2e18-4584-bf15-32faab9e9468"
      },
      "execution_count": 35,
      "outputs": [
        {
          "output_type": "stream",
          "name": "stdout",
          "text": [
            "A Acurácia do modelo Random Forest foi 99.73%\n",
            "A Precisão do modelo Random Forest foi 99.83%\n",
            "A Recall do modelo Random Forest foi 99.64%\n",
            "A F1 do modelo Random Forest foi 99.73%\n",
            "\n",
            "\n",
            "time: 38 s (started: 2023-08-25 19:21:24 +00:00)\n"
          ]
        }
      ]
    },
    {
      "cell_type": "markdown",
      "source": [
        "### <font style='font-size: 30px;'>Random Forest Cross Validate</font>\n",
        "<hr style='border: 2px solid red;'>"
      ],
      "metadata": {
        "id": "TwtQ4zkfEcDB"
      }
    },
    {
      "cell_type": "code",
      "source": [
        "cv_rf = StratifiedKFold(n_splits = 10, shuffle=True)\n",
        "modelo_rf_cv = RandomForestClassifier(n_estimators = 100)\n",
        "results = cross_validate(modelo_rf_cv, X_treino, y_treino, cv = cv_rf, return_train_score=False)\n",
        "\n",
        "imprime_metrica_cv('Random Forest', results)"
      ],
      "metadata": {
        "colab": {
          "base_uri": "https://localhost:8080/"
        },
        "id": "oavfoDfoEgog",
        "outputId": "d568ac50-17a1-4004-c732-0f6ca6a82e29"
      },
      "execution_count": 36,
      "outputs": [
        {
          "output_type": "stream",
          "name": "stdout",
          "text": [
            "A Acurácia do modelo Random Forest com Cross Validation foi  [99.70%, 99.77%]\n",
            "\n",
            "time: 5min 30s (started: 2023-08-25 19:22:02 +00:00)\n"
          ]
        }
      ]
    },
    {
      "cell_type": "markdown",
      "source": [
        "## Validando modelos<hr style='border: 2px solid red;'>"
      ],
      "metadata": {
        "id": "yiB4rDjf4sVn"
      }
    },
    {
      "cell_type": "markdown",
      "source": [
        "https://medium.com/turing-talks/como-avaliar-seu-modelo-de-classifica%C3%A7%C3%A3o-acd2a03690e\n",
        "\n"
      ],
      "metadata": {
        "id": "cwfRlJ49rHdk"
      }
    },
    {
      "cell_type": "markdown",
      "source": [
        "### Matriz de Confusão"
      ],
      "metadata": {
        "id": "ZRqr5ZbJ8nxl"
      }
    },
    {
      "cell_type": "code",
      "source": [
        "from sklearn.metrics import confusion_matrix\n",
        "from sklearn import metrics"
      ],
      "metadata": {
        "id": "Pclv3Lkm8uYn",
        "colab": {
          "base_uri": "https://localhost:8080/"
        },
        "outputId": "0e146fd3-f5e3-4206-823b-f32d3fb72f44"
      },
      "execution_count": 37,
      "outputs": [
        {
          "output_type": "stream",
          "name": "stdout",
          "text": [
            "time: 586 µs (started: 2023-08-25 19:27:32 +00:00)\n"
          ]
        }
      ]
    },
    {
      "cell_type": "code",
      "source": [
        "fig, axes = plt.subplots(1, 2, figsize=(9, 3), sharey=True)\n",
        "fig.suptitle('Matriz de confusão do modelo Dummy')\n",
        "\n",
        "sns.heatmap(data=confusion_matrix(y_teste, predito_ds), annot = True, fmt = \"d\", ax=axes[0])\n",
        "axes[0].set(xlabel = \"Predição\", ylabel = \"Real\")\n",
        "axes[0].set(title='Stratified')\n",
        "\n",
        "sns.heatmap(confusion_matrix(y_teste, predito_dmf), annot = True, fmt = \"d\", ax=axes[1])\n",
        "axes[1].set(xlabel = \"Predição\", ylabel = \"Real\")\n",
        "axes[1].set(title='Mostfrequent')"
      ],
      "metadata": {
        "colab": {
          "base_uri": "https://localhost:8080/",
          "height": 377
        },
        "id": "1Mj14JAeHbnR",
        "outputId": "32f8330c-2dc8-4c4e-c996-081e8c2ce7fb"
      },
      "execution_count": 38,
      "outputs": [
        {
          "output_type": "execute_result",
          "data": {
            "text/plain": [
              "[Text(0.5, 1.0, 'Mostfrequent')]"
            ]
          },
          "metadata": {},
          "execution_count": 38
        },
        {
          "output_type": "display_data",
          "data": {
            "text/plain": [
              "<Figure size 900x300 with 4 Axes>"
            ],
            "image/png": "[encoded data removed]"
          },
          "metadata": {}
        },
        {
          "output_type": "stream",
          "name": "stdout",
          "text": [
            "time: 642 ms (started: 2023-08-25 19:27:32 +00:00)\n"
          ]
        }
      ]
    },
    {
      "cell_type": "code",
      "source": [
        "#from yellowbrick.classifier.rocauc import roc_auc\n",
        "\n",
        "#plt.figure(figsize=(9,3))\n",
        "#plt.title(\"Curva Roc para o modelo RandomForest\")\n",
        "#roc_auc(modelo_dummy_stratified, X_treino, y_treino, X_test=X_teste, y_test=y_teste)"
      ],
      "metadata": {
        "id": "mdsk_CVFUQtI",
        "colab": {
          "base_uri": "https://localhost:8080/"
        },
        "outputId": "ca3f9ef9-8126-4ad4-bd81-29e84ffdab7a"
      },
      "execution_count": 39,
      "outputs": [
        {
          "output_type": "stream",
          "name": "stdout",
          "text": [
            "time: 331 µs (started: 2023-08-25 19:27:33 +00:00)\n"
          ]
        }
      ]
    },
    {
      "cell_type": "code",
      "source": [
        "fig, axes = plt.subplots(1, 2, figsize=(9, 3), sharey=True)\n",
        "fig.suptitle('Curva ROC do modelo Dummy')\n",
        "\n",
        "y_pred_proba =  modelo_dummy_stratified.predict_proba(X_teste)[::,1]\n",
        "fpr, tpr, _ = metrics.roc_curve(y_teste,  y_pred_proba)\n",
        "auc = metrics.roc_auc_score(y_teste, y_pred_proba)\n",
        "axes[0].plot(fpr,tpr,label=\"data 1, auc=\"+str(auc))\n",
        "axes[0].plot([0, 1], [0, 1], color='red', lw=2, linestyle='--')\n",
        "axes[0].legend(loc=4)\n",
        "axes[0].set(title='Stratified')\n",
        "\n",
        "y_pred_proba =  modelo_dummy_mostfrequent.predict_proba(X_teste)[::,1]\n",
        "fpr, tpr, _ = metrics.roc_curve(y_teste,  y_pred_proba)\n",
        "auc = metrics.roc_auc_score(y_teste, y_pred_proba)\n",
        "axes[1].plot(fpr,tpr,label=\"data 1, auc=\"+str(auc))\n",
        "axes[1].plot([0, 1], [0, 1], color='red', lw=2, linestyle='--')\n",
        "axes[1].legend(loc=4)\n",
        "axes[1].set(title='Mostfrequent')"
      ],
      "metadata": {
        "id": "FxYzPvpkZOZF",
        "outputId": "5f91d409-95d0-4427-fd08-ebc442edcc35",
        "colab": {
          "base_uri": "https://localhost:8080/",
          "height": 357
        }
      },
      "execution_count": 40,
      "outputs": [
        {
          "output_type": "execute_result",
          "data": {
            "text/plain": [
              "[Text(0.5, 1.0, 'Mostfrequent')]"
            ]
          },
          "metadata": {},
          "execution_count": 40
        },
        {
          "output_type": "display_data",
          "data": {
            "text/plain": [
              "<Figure size 900x300 with 2 Axes>"
            ],
            "image/png": "[encoded data removed]"
          },
          "metadata": {}
        },
        {
          "output_type": "stream",
          "name": "stdout",
          "text": [
            "time: 732 ms (started: 2023-08-25 19:27:33 +00:00)\n"
          ]
        }
      ]
    },
    {
      "cell_type": "code",
      "source": [
        "fig, axes = plt.subplots(1, 2, figsize=(9, 3), sharey=True)\n",
        "fig.suptitle('SVC')\n",
        "\n",
        "sns.heatmap(data=confusion_matrix(y_teste, predito_svc), annot = True, fmt = \"d\", ax=axes[0])\n",
        "axes[0].set(xlabel = \"Predição\", ylabel = \"Real\")\n",
        "axes[0].set(title='Matriz de confusão')\n",
        "\n",
        "#y_pred_proba =  modelo_svc.predict_proba(X_teste_norm)[::,1]\n",
        "#fpr, tpr, _ = metrics.roc_curve(y_teste,  y_pred_proba)\n",
        "#auc = metrics.roc_auc_score(y_teste, y_pred_proba)\n",
        "#axes[1].plot(fpr,tpr,label=\"data 1, auc=\"+str(auc))\n",
        "#axes[1].plot([0, 1], [0, 1], color='red', lw=2, linestyle='--')\n",
        "#axes[1].legend(loc=4)\n",
        "#axes[1].set(title='Curva ROC')\n"
      ],
      "metadata": {
        "id": "BN-jn7M9dSlB",
        "outputId": "3482647a-ae7b-43f0-bf9d-0e4930db145d",
        "colab": {
          "base_uri": "https://localhost:8080/",
          "height": 377
        }
      },
      "execution_count": 41,
      "outputs": [
        {
          "output_type": "execute_result",
          "data": {
            "text/plain": [
              "[Text(0.5, 1.0, 'Matriz de confusão')]"
            ]
          },
          "metadata": {},
          "execution_count": 41
        },
        {
          "output_type": "display_data",
          "data": {
            "text/plain": [
              "<Figure size 900x300 with 3 Axes>"
            ],
            "image/png": "[encoded data removed]"
          },
          "metadata": {}
        },
        {
          "output_type": "stream",
          "name": "stdout",
          "text": [
            "time: 593 ms (started: 2023-08-25 19:27:34 +00:00)\n"
          ]
        }
      ]
    },
    {
      "cell_type": "code",
      "source": [
        "fig, axes = plt.subplots(1, 4, figsize=(20, 4), sharey=True)\n",
        "fig.suptitle('A matriz de confusão do modelo KNN')\n",
        "\n",
        "sns.heatmap(data=confusion_matrix(y_teste, predito_knn_euc), annot = True, fmt = \"d\", ax=axes[0])\n",
        "axes[0].set(xlabel = \"Predição\", ylabel = \"Real\")\n",
        "axes[0].set(title='Euclidiana')\n",
        "\n",
        "sns.heatmap(data=confusion_matrix(y_teste, predito_knn_man), annot = True, fmt = \"d\", ax=axes[1])\n",
        "axes[1].set(xlabel = \"Predição\", ylabel = \"Real\")\n",
        "axes[1].set(title='Manhattan')\n",
        "\n",
        "sns.heatmap(data=confusion_matrix(y_teste, predito_knn_mi), annot = True, fmt = \"d\", ax=axes[2])\n",
        "axes[2].set(xlabel = \"Predição\", ylabel = \"Real\")\n",
        "axes[2].set(title='Minkowski')\n",
        "\n",
        "sns.heatmap(data=confusion_matrix(y_teste, predito_knn_ch), annot = True, fmt = \"d\", ax=axes[3])\n",
        "axes[3].set(xlabel = \"Predição\", ylabel = \"Real\")\n",
        "axes[3].set(title='Chebyshev')"
      ],
      "metadata": {
        "id": "fT2XCGxydqBK",
        "colab": {
          "base_uri": "https://localhost:8080/",
          "height": 410
        },
        "outputId": "c7656c27-3140-44dd-b0db-382754f23be1"
      },
      "execution_count": 42,
      "outputs": [
        {
          "output_type": "execute_result",
          "data": {
            "text/plain": [
              "[Text(0.5, 1.0, 'Chebyshev')]"
            ]
          },
          "metadata": {},
          "execution_count": 42
        },
        {
          "output_type": "display_data",
          "data": {
            "text/plain": [
              "<Figure size 2000x400 with 8 Axes>"
            ],
            "image/png": "[encoded data removed]"
          },
          "metadata": {}
        },
        {
          "output_type": "stream",
          "name": "stdout",
          "text": [
            "time: 1.89 s (started: 2023-08-25 19:27:34 +00:00)\n"
          ]
        }
      ]
    },
    {
      "cell_type": "code",
      "source": [
        "fig, axes = plt.subplots(1, 4, figsize=(20, 4), sharey=True)\n",
        "fig.suptitle('A curva ROC do modelo KNN')\n",
        "\n",
        "y_pred_proba =  modelo_knn_euc.predict_proba(X_teste_norm)[::,1]\n",
        "fpr, tpr, _ = metrics.roc_curve(y_teste,  y_pred_proba)\n",
        "auc = metrics.roc_auc_score(y_teste, y_pred_proba)\n",
        "axes[0].plot(fpr,tpr,label=\"data 1, auc=\"+str(auc))\n",
        "axes[0].plot([0, 1], [0, 1], color='red', lw=2, linestyle='--')\n",
        "axes[0].legend(loc=4)\n",
        "axes[0].set(title='Euclidiana')\n",
        "\n",
        "y_pred_proba =  modelo_knn_man.predict_proba(X_teste_norm)[::,1]\n",
        "fpr, tpr, _ = metrics.roc_curve(y_teste,  y_pred_proba)\n",
        "auc = metrics.roc_auc_score(y_teste, y_pred_proba)\n",
        "axes[1].plot(fpr,tpr,label=\"data 1, auc=\"+str(auc))\n",
        "axes[1].plot([0, 1], [0, 1], color='red', lw=2, linestyle='--')\n",
        "axes[1].legend(loc=4)\n",
        "axes[1].set(title='Manhattan')\n",
        "\n",
        "y_pred_proba =  modelo_knn_mi.predict_proba(X_teste_norm)[::,1]\n",
        "fpr, tpr, _ = metrics.roc_curve(y_teste,  y_pred_proba)\n",
        "auc = metrics.roc_auc_score(y_teste, y_pred_proba)\n",
        "axes[2].plot(fpr,tpr,label=\"data 1, auc=\"+str(auc))\n",
        "axes[2].plot([0, 1], [0, 1], color='red', lw=2, linestyle='--')\n",
        "axes[2].legend(loc=4)\n",
        "axes[2].set(title='Minkowski')\n",
        "\n",
        "y_pred_proba =  modelo_knn_ch.predict_proba(X_teste_norm)[::,1]\n",
        "fpr, tpr, _ = metrics.roc_curve(y_teste,  y_pred_proba)\n",
        "auc = metrics.roc_auc_score(y_teste, y_pred_proba)\n",
        "axes[3].plot(fpr,tpr,label=\"data 1, auc=\"+str(auc))\n",
        "axes[3].plot([0, 1], [0, 1], color='red', lw=2, linestyle='--')\n",
        "axes[3].legend(loc=4)\n",
        "axes[3].set(title='Chebyshev')"
      ],
      "metadata": {
        "id": "yeGLFGjHd5jn",
        "outputId": "b6564c6f-7f33-4f2a-f155-f29d8ef67cda",
        "colab": {
          "base_uri": "https://localhost:8080/",
          "height": 399
        }
      },
      "execution_count": 43,
      "outputs": [
        {
          "output_type": "execute_result",
          "data": {
            "text/plain": [
              "[Text(0.5, 1.0, 'Chebyshev')]"
            ]
          },
          "metadata": {},
          "execution_count": 43
        },
        {
          "output_type": "display_data",
          "data": {
            "text/plain": [
              "<Figure size 2000x400 with 4 Axes>"
            ],
            "image/png": "[encoded data removed]"
          },
          "metadata": {}
        },
        {
          "output_type": "stream",
          "name": "stdout",
          "text": [
            "time: 38min 49s (started: 2023-08-25 19:27:36 +00:00)\n"
          ]
        }
      ]
    },
    {
      "cell_type": "code",
      "source": [
        "fig, axes = plt.subplots(1, 2, figsize=(9, 3), sharey=True)\n",
        "fig.suptitle('Matriz de confusão')\n",
        "\n",
        "ax = sns.heatmap(confusion_matrix(y_teste, predito_dtc), annot = True, fmt = \"d\", ax=axes[0])\n",
        "ax.set(xlabel = \"Predição\", ylabel = \"Real\")\n",
        "ax.set(title='Decision Tree')\n",
        "\n",
        "sns.heatmap(confusion_matrix(y_teste, predito_rfc), annot = True, fmt = \"d\", ax=axes[1])\n",
        "axes[1].set(xlabel = \"Predição\", ylabel = \"Real\")\n",
        "axes[1].set(title='Random Forest')"
      ],
      "metadata": {
        "id": "a8Iz5dpRWGto",
        "colab": {
          "base_uri": "https://localhost:8080/",
          "height": 377
        },
        "outputId": "ee71e146-b564-452c-c63f-3d12249417bb"
      },
      "execution_count": 44,
      "outputs": [
        {
          "output_type": "execute_result",
          "data": {
            "text/plain": [
              "[Text(0.5, 1.0, 'Random Forest')]"
            ]
          },
          "metadata": {},
          "execution_count": 44
        },
        {
          "output_type": "display_data",
          "data": {
            "text/plain": [
              "<Figure size 900x300 with 4 Axes>"
            ],
            "image/png": "[encoded data removed]"
          },
          "metadata": {}
        },
        {
          "output_type": "stream",
          "name": "stdout",
          "text": [
            "time: 619 ms (started: 2023-08-25 20:06:26 +00:00)\n"
          ]
        }
      ]
    },
    {
      "cell_type": "code",
      "source": [
        "fig, axes = plt.subplots(1, 2, figsize=(20, 4), sharey=True)\n",
        "fig.suptitle('A curva ROC do modelo Tree')\n",
        "\n",
        "y_pred_proba =  modelo_dtc.predict_proba(X_teste)[::,1]\n",
        "fpr, tpr, _ = metrics.roc_curve(y_teste,  y_pred_proba)\n",
        "auc = metrics.roc_auc_score(y_teste, y_pred_proba)\n",
        "axes[0].plot(fpr,tpr,label=\"data 1, auc=\"+str(auc))\n",
        "axes[0].plot([0, 1], [0, 1], color='red', lw=2, linestyle='--')\n",
        "axes[0].legend(loc=4)\n",
        "axes[0].set(title='Euclidiana')\n",
        "\n",
        "y_pred_proba =  modelo_rfc.predict_proba(X_teste)[::,1]\n",
        "fpr, tpr, _ = metrics.roc_curve(y_teste,  y_pred_proba)\n",
        "auc = metrics.roc_auc_score(y_teste, y_pred_proba)\n",
        "axes[1].plot(fpr,tpr,label=\"data 1, auc=\"+str(auc))\n",
        "axes[1].plot([0, 1], [0, 1], color='red', lw=2, linestyle='--')\n",
        "axes[1].legend(loc=4)\n",
        "axes[1].set(title='Manhattan')"
      ],
      "metadata": {
        "id": "JXVhYK4rk0uO",
        "outputId": "ec6e07be-47ed-4ab9-a2f2-32fc37fe475c",
        "colab": {
          "base_uri": "https://localhost:8080/",
          "height": 399
        }
      },
      "execution_count": 45,
      "outputs": [
        {
          "output_type": "execute_result",
          "data": {
            "text/plain": [
              "[Text(0.5, 1.0, 'Manhattan')]"
            ]
          },
          "metadata": {},
          "execution_count": 45
        },
        {
          "output_type": "display_data",
          "data": {
            "text/plain": [
              "<Figure size 2000x400 with 2 Axes>"
            ],
            "image/png": "[encoded data removed]"
          },
          "metadata": {}
        },
        {
          "output_type": "stream",
          "name": "stdout",
          "text": [
            "time: 3.01 s (started: 2023-08-25 20:06:27 +00:00)\n"
          ]
        }
      ]
    },
    {
      "cell_type": "markdown",
      "source": [
        "## Escolhendo o melhor modelo<hr style='border: 2px solid red;'>"
      ],
      "metadata": {
        "id": "_aQBxzNmCrU6"
      }
    },
    {
      "cell_type": "markdown",
      "source": [
        "**Métrica escolhida:**\n",
        "\n",
        "**Random Forest**\n",
        "\n",
        "Acurácia: 99.74%\n",
        "\n",
        "Precisão: 99.81%\n",
        "\n",
        "Recall: 99.67% < knn\n",
        "\n",
        "F1: 99.74%"
      ],
      "metadata": {
        "id": "HVfW-VdCuS9J"
      }
    },
    {
      "cell_type": "code",
      "source": [],
      "metadata": {
        "id": "OLGYwCDPhNvC",
        "colab": {
          "base_uri": "https://localhost:8080/"
        },
        "outputId": "d2c0a54b-781d-406f-aeb7-32bfe9312244"
      },
      "execution_count": 45,
      "outputs": [
        {
          "output_type": "stream",
          "name": "stdout",
          "text": [
            "time: 3.02 s (started: 2023-08-25 20:06:27 +00:00)\n"
          ]
        }
      ]
    }
  ]
}