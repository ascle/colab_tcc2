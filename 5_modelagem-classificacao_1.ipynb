{
  "nbformat": 4,
  "nbformat_minor": 0,
  "metadata": {
    "colab": {
      "provenance": [],
      "authorship_tag": "ABX9TyPtn19bDhPWydiTFDRsPL1/",
      "include_colab_link": true
    },
    "kernelspec": {
      "name": "python3",
      "display_name": "Python 3"
    },
    "language_info": {
      "name": "python"
    }
  },
  "cells": [
    {
      "cell_type": "markdown",
      "metadata": {
        "id": "view-in-github",
        "colab_type": "text"
      },
      "source": [
        "<a href=\"https://colab.research.google.com/github/ascle/colab_tcc2/blob/dev/5_modelagem-classificacao_1.ipynb\" target=\"_parent\"><img src=\"https://colab.research.google.com/assets/colab-badge.svg\" alt=\"Open In Colab\"/></a>"
      ]
    },
    {
      "cell_type": "markdown",
      "source": [
        "### Importando bibliotecas<hr style='border: 2px solid red;'>\n"
      ],
      "metadata": {
        "id": "Boq31Ihrg5nH"
      }
    },
    {
      "cell_type": "code",
      "execution_count": null,
      "metadata": {
        "id": "7o0jRmhPCoHv"
      },
      "outputs": [],
      "source": [
        "import pandas as pd\n",
        "import seaborn as sns\n",
        "import numpy as np\n",
        "import matplotlib.pyplot as plt"
      ]
    },
    {
      "cell_type": "markdown",
      "source": [
        "### Outras configurações<hr style='border: 2px solid red;'>\n",
        "\n"
      ],
      "metadata": {
        "id": "AkBgwd0UhFrw"
      }
    },
    {
      "cell_type": "code",
      "source": [
        "pd.set_option('display.max_columns', None)"
      ],
      "metadata": {
        "id": "0XUeMvn3g0MM"
      },
      "execution_count": null,
      "outputs": []
    },
    {
      "cell_type": "markdown",
      "source": [
        "### Conectando no ambiente que será utilizado<hr style='border: 2px solid red;'>\n"
      ],
      "metadata": {
        "id": "I5BaqyiBg-iC"
      }
    },
    {
      "cell_type": "code",
      "source": [
        "# Importando do Drive\n",
        "from google.colab import drive\n",
        "from os import chdir\n",
        "\n",
        "drive.mount('/content/drive', force_remount=True)\n",
        "chdir('/content/drive/MyDrive/UFS/tcc-2-ascle-ufs/bases/linkage_marco/')"
      ],
      "metadata": {
        "id": "2naC-Ovegurr",
        "colab": {
          "base_uri": "https://localhost:8080/"
        },
        "outputId": "86dc070a-d58f-4ed4-a973-2fb2ad5fa997"
      },
      "execution_count": null,
      "outputs": [
        {
          "output_type": "stream",
          "name": "stdout",
          "text": [
            "Mounted at /content/drive\n"
          ]
        }
      ]
    },
    {
      "cell_type": "markdown",
      "source": [
        "#### Leitura dos dados"
      ],
      "metadata": {
        "id": "cDpmZ-c7hCYk"
      }
    },
    {
      "cell_type": "code",
      "source": [
        "data_raw = pd.read_csv('dn_etl.csv', sep=';', low_memory=False)\n",
        "data_raw.sort_index(axis=1, inplace=True)"
      ],
      "metadata": {
        "id": "oVt8pUk4Ct1p"
      },
      "execution_count": null,
      "outputs": []
    },
    {
      "cell_type": "code",
      "source": [
        "data_raw.shape"
      ],
      "metadata": {
        "id": "oe54YoxZhYM-",
        "colab": {
          "base_uri": "https://localhost:8080/"
        },
        "outputId": "4a2626a6-f365-4f9d-d82a-a7837ffda7d8"
      },
      "execution_count": null,
      "outputs": [
        {
          "output_type": "execute_result",
          "data": {
            "text/plain": [
              "(192484, 24)"
            ]
          },
          "metadata": {},
          "execution_count": 5
        }
      ]
    },
    {
      "cell_type": "code",
      "source": [
        "data_raw.head()"
      ],
      "metadata": {
        "colab": {
          "base_uri": "https://localhost:8080/",
          "height": 270
        },
        "id": "Hy59bsliXbl3",
        "outputId": "1eab8580-5f30-4a6a-e0f8-4914c046c61c"
      },
      "execution_count": null,
      "outputs": [
        {
          "output_type": "execute_result",
          "data": {
            "text/plain": [
              "    ANO  APGAR1  APGAR5  CODANOMAL_QTD  CONSPRENAT  ESCMAEETL_VALOR  \\\n",
              "0  2015     2.0     4.0            0.0         5.0                1   \n",
              "1  2015     9.0    10.0            0.0         8.0                4   \n",
              "2  2015     7.0     8.0            0.0        10.0               11   \n",
              "3  2015     7.0     8.0            0.0         7.0                4   \n",
              "4  2015     9.0    10.0            0.0         3.0               11   \n",
              "\n",
              "   ESTCIVMAE_COMPANHEIRO  GRAVIDEZ_VALOR  LOCNASC_DOMICILIO  \\\n",
              "0                      0               1                  0   \n",
              "1                      1               1                  0   \n",
              "2                      1               1                  0   \n",
              "3                      0               1                  0   \n",
              "4                      0               1                  0   \n",
              "\n",
              "   LOCNASC_ESTAB_SAUDE  LOCNASC_HOSPITAL  LOCNASC_OUTROS  OBT_NEONATAL  \\\n",
              "0                    0                 1               0             0   \n",
              "1                    0                 1               0             0   \n",
              "2                    0                 1               0             0   \n",
              "3                    0                 1               0             0   \n",
              "4                    0                 1               0             0   \n",
              "\n",
              "   PARTO_CESAREO  PARTO_VAGINALL    PESO  QTDFILMORT  QTDPARTCES  SEMAGESTAC  \\\n",
              "0              1               0   820.0         1.0         NaN        26.0   \n",
              "1              1               0  4200.0         1.0         NaN        39.0   \n",
              "2              0               1  3700.0         0.0         0.0        40.0   \n",
              "3              0               1  3550.0         1.0         0.0        37.0   \n",
              "4              1               0  3800.0         0.0         NaN        39.0   \n",
              "\n",
              "   SEXO_FEM  SEXO_MASC  TPAPRESENT_CEFALICO  TPAPRESENT_PELVICO  \\\n",
              "0         0          1                    1                   0   \n",
              "1         0          1                    1                   0   \n",
              "2         1          0                    1                   0   \n",
              "3         0          1                    1                   0   \n",
              "4         1          0                    1                   0   \n",
              "\n",
              "   TPAPRESENT_TRANSVERSA  \n",
              "0                      0  \n",
              "1                      0  \n",
              "2                      0  \n",
              "3                      0  \n",
              "4                      0  "
            ],
            "text/html": [
              "\n",
              "\n",
              "  <div id=\"df-ce81a6e3-2a3e-4039-89af-2624eec9d5d1\">\n",
              "    <div class=\"colab-df-container\">\n",
              "      <div>\n",
              "<style scoped>\n",
              "    .dataframe tbody tr th:only-of-type {\n",
              "        vertical-align: middle;\n",
              "    }\n",
              "\n",
              "    .dataframe tbody tr th {\n",
              "        vertical-align: top;\n",
              "    }\n",
              "\n",
              "    .dataframe thead th {\n",
              "        text-align: right;\n",
              "    }\n",
              "</style>\n",
              "<table border=\"1\" class=\"dataframe\">\n",
              "  <thead>\n",
              "    <tr style=\"text-align: right;\">\n",
              "      <th></th>\n",
              "      <th>ANO</th>\n",
              "      <th>APGAR1</th>\n",
              "      <th>APGAR5</th>\n",
              "      <th>CODANOMAL_QTD</th>\n",
              "      <th>CONSPRENAT</th>\n",
              "      <th>ESCMAEETL_VALOR</th>\n",
              "      <th>ESTCIVMAE_COMPANHEIRO</th>\n",
              "      <th>GRAVIDEZ_VALOR</th>\n",
              "      <th>LOCNASC_DOMICILIO</th>\n",
              "      <th>LOCNASC_ESTAB_SAUDE</th>\n",
              "      <th>LOCNASC_HOSPITAL</th>\n",
              "      <th>LOCNASC_OUTROS</th>\n",
              "      <th>OBT_NEONATAL</th>\n",
              "      <th>PARTO_CESAREO</th>\n",
              "      <th>PARTO_VAGINALL</th>\n",
              "      <th>PESO</th>\n",
              "      <th>QTDFILMORT</th>\n",
              "      <th>QTDPARTCES</th>\n",
              "      <th>SEMAGESTAC</th>\n",
              "      <th>SEXO_FEM</th>\n",
              "      <th>SEXO_MASC</th>\n",
              "      <th>TPAPRESENT_CEFALICO</th>\n",
              "      <th>TPAPRESENT_PELVICO</th>\n",
              "      <th>TPAPRESENT_TRANSVERSA</th>\n",
              "    </tr>\n",
              "  </thead>\n",
              "  <tbody>\n",
              "    <tr>\n",
              "      <th>0</th>\n",
              "      <td>2015</td>\n",
              "      <td>2.0</td>\n",
              "      <td>4.0</td>\n",
              "      <td>0.0</td>\n",
              "      <td>5.0</td>\n",
              "      <td>1</td>\n",
              "      <td>0</td>\n",
              "      <td>1</td>\n",
              "      <td>0</td>\n",
              "      <td>0</td>\n",
              "      <td>1</td>\n",
              "      <td>0</td>\n",
              "      <td>0</td>\n",
              "      <td>1</td>\n",
              "      <td>0</td>\n",
              "      <td>820.0</td>\n",
              "      <td>1.0</td>\n",
              "      <td>NaN</td>\n",
              "      <td>26.0</td>\n",
              "      <td>0</td>\n",
              "      <td>1</td>\n",
              "      <td>1</td>\n",
              "      <td>0</td>\n",
              "      <td>0</td>\n",
              "    </tr>\n",
              "    <tr>\n",
              "      <th>1</th>\n",
              "      <td>2015</td>\n",
              "      <td>9.0</td>\n",
              "      <td>10.0</td>\n",
              "      <td>0.0</td>\n",
              "      <td>8.0</td>\n",
              "      <td>4</td>\n",
              "      <td>1</td>\n",
              "      <td>1</td>\n",
              "      <td>0</td>\n",
              "      <td>0</td>\n",
              "      <td>1</td>\n",
              "      <td>0</td>\n",
              "      <td>0</td>\n",
              "      <td>1</td>\n",
              "      <td>0</td>\n",
              "      <td>4200.0</td>\n",
              "      <td>1.0</td>\n",
              "      <td>NaN</td>\n",
              "      <td>39.0</td>\n",
              "      <td>0</td>\n",
              "      <td>1</td>\n",
              "      <td>1</td>\n",
              "      <td>0</td>\n",
              "      <td>0</td>\n",
              "    </tr>\n",
              "    <tr>\n",
              "      <th>2</th>\n",
              "      <td>2015</td>\n",
              "      <td>7.0</td>\n",
              "      <td>8.0</td>\n",
              "      <td>0.0</td>\n",
              "      <td>10.0</td>\n",
              "      <td>11</td>\n",
              "      <td>1</td>\n",
              "      <td>1</td>\n",
              "      <td>0</td>\n",
              "      <td>0</td>\n",
              "      <td>1</td>\n",
              "      <td>0</td>\n",
              "      <td>0</td>\n",
              "      <td>0</td>\n",
              "      <td>1</td>\n",
              "      <td>3700.0</td>\n",
              "      <td>0.0</td>\n",
              "      <td>0.0</td>\n",
              "      <td>40.0</td>\n",
              "      <td>1</td>\n",
              "      <td>0</td>\n",
              "      <td>1</td>\n",
              "      <td>0</td>\n",
              "      <td>0</td>\n",
              "    </tr>\n",
              "    <tr>\n",
              "      <th>3</th>\n",
              "      <td>2015</td>\n",
              "      <td>7.0</td>\n",
              "      <td>8.0</td>\n",
              "      <td>0.0</td>\n",
              "      <td>7.0</td>\n",
              "      <td>4</td>\n",
              "      <td>0</td>\n",
              "      <td>1</td>\n",
              "      <td>0</td>\n",
              "      <td>0</td>\n",
              "      <td>1</td>\n",
              "      <td>0</td>\n",
              "      <td>0</td>\n",
              "      <td>0</td>\n",
              "      <td>1</td>\n",
              "      <td>3550.0</td>\n",
              "      <td>1.0</td>\n",
              "      <td>0.0</td>\n",
              "      <td>37.0</td>\n",
              "      <td>0</td>\n",
              "      <td>1</td>\n",
              "      <td>1</td>\n",
              "      <td>0</td>\n",
              "      <td>0</td>\n",
              "    </tr>\n",
              "    <tr>\n",
              "      <th>4</th>\n",
              "      <td>2015</td>\n",
              "      <td>9.0</td>\n",
              "      <td>10.0</td>\n",
              "      <td>0.0</td>\n",
              "      <td>3.0</td>\n",
              "      <td>11</td>\n",
              "      <td>0</td>\n",
              "      <td>1</td>\n",
              "      <td>0</td>\n",
              "      <td>0</td>\n",
              "      <td>1</td>\n",
              "      <td>0</td>\n",
              "      <td>0</td>\n",
              "      <td>1</td>\n",
              "      <td>0</td>\n",
              "      <td>3800.0</td>\n",
              "      <td>0.0</td>\n",
              "      <td>NaN</td>\n",
              "      <td>39.0</td>\n",
              "      <td>1</td>\n",
              "      <td>0</td>\n",
              "      <td>1</td>\n",
              "      <td>0</td>\n",
              "      <td>0</td>\n",
              "    </tr>\n",
              "  </tbody>\n",
              "</table>\n",
              "</div>\n",
              "      <button class=\"colab-df-convert\" onclick=\"convertToInteractive('df-ce81a6e3-2a3e-4039-89af-2624eec9d5d1')\"\n",
              "              title=\"Convert this dataframe to an interactive table.\"\n",
              "              style=\"display:none;\">\n",
              "\n",
              "  <svg xmlns=\"http://www.w3.org/2000/svg\" height=\"24px\"viewBox=\"0 0 24 24\"\n",
              "       width=\"24px\">\n",
              "    <path d=\"M0 0h24v24H0V0z\" fill=\"none\"/>\n",
              "    <path d=\"M18.56 5.44l.94 2.06.94-2.06 2.06-.94-2.06-.94-.94-2.06-.94 2.06-2.06.94zm-11 1L8.5 8.5l.94-2.06 2.06-.94-2.06-.94L8.5 2.5l-.94 2.06-2.06.94zm10 10l.94 2.06.94-2.06 2.06-.94-2.06-.94-.94-2.06-.94 2.06-2.06.94z\"/><path d=\"M17.41 7.96l-1.37-1.37c-.4-.4-.92-.59-1.43-.59-.52 0-1.04.2-1.43.59L10.3 9.45l-7.72 7.72c-.78.78-.78 2.05 0 2.83L4 21.41c.39.39.9.59 1.41.59.51 0 1.02-.2 1.41-.59l7.78-7.78 2.81-2.81c.8-.78.8-2.07 0-2.86zM5.41 20L4 18.59l7.72-7.72 1.47 1.35L5.41 20z\"/>\n",
              "  </svg>\n",
              "      </button>\n",
              "\n",
              "\n",
              "\n",
              "    <div id=\"df-4953339b-0ab5-4f06-b617-1accbf23c2ad\">\n",
              "      <button class=\"colab-df-quickchart\" onclick=\"quickchart('df-4953339b-0ab5-4f06-b617-1accbf23c2ad')\"\n",
              "              title=\"Suggest charts.\"\n",
              "              style=\"display:none;\">\n",
              "\n",
              "<svg xmlns=\"http://www.w3.org/2000/svg\" height=\"24px\"viewBox=\"0 0 24 24\"\n",
              "     width=\"24px\">\n",
              "    <g>\n",
              "        <path d=\"M19 3H5c-1.1 0-2 .9-2 2v14c0 1.1.9 2 2 2h14c1.1 0 2-.9 2-2V5c0-1.1-.9-2-2-2zM9 17H7v-7h2v7zm4 0h-2V7h2v10zm4 0h-2v-4h2v4z\"/>\n",
              "    </g>\n",
              "</svg>\n",
              "      </button>\n",
              "    </div>\n",
              "\n",
              "<style>\n",
              "  .colab-df-quickchart {\n",
              "    background-color: #E8F0FE;\n",
              "    border: none;\n",
              "    border-radius: 50%;\n",
              "    cursor: pointer;\n",
              "    display: none;\n",
              "    fill: #1967D2;\n",
              "    height: 32px;\n",
              "    padding: 0 0 0 0;\n",
              "    width: 32px;\n",
              "  }\n",
              "\n",
              "  .colab-df-quickchart:hover {\n",
              "    background-color: #E2EBFA;\n",
              "    box-shadow: 0px 1px 2px rgba(60, 64, 67, 0.3), 0px 1px 3px 1px rgba(60, 64, 67, 0.15);\n",
              "    fill: #174EA6;\n",
              "  }\n",
              "\n",
              "  [theme=dark] .colab-df-quickchart {\n",
              "    background-color: #3B4455;\n",
              "    fill: #D2E3FC;\n",
              "  }\n",
              "\n",
              "  [theme=dark] .colab-df-quickchart:hover {\n",
              "    background-color: #434B5C;\n",
              "    box-shadow: 0px 1px 3px 1px rgba(0, 0, 0, 0.15);\n",
              "    filter: drop-shadow(0px 1px 2px rgba(0, 0, 0, 0.3));\n",
              "    fill: #FFFFFF;\n",
              "  }\n",
              "</style>\n",
              "\n",
              "    <script>\n",
              "      async function quickchart(key) {\n",
              "        const containerElement = document.querySelector('#' + key);\n",
              "        const charts = await google.colab.kernel.invokeFunction(\n",
              "            'suggestCharts', [key], {});\n",
              "      }\n",
              "    </script>\n",
              "\n",
              "      <script>\n",
              "\n",
              "function displayQuickchartButton(domScope) {\n",
              "  let quickchartButtonEl =\n",
              "    domScope.querySelector('#df-4953339b-0ab5-4f06-b617-1accbf23c2ad button.colab-df-quickchart');\n",
              "  quickchartButtonEl.style.display =\n",
              "    google.colab.kernel.accessAllowed ? 'block' : 'none';\n",
              "}\n",
              "\n",
              "        displayQuickchartButton(document);\n",
              "      </script>\n",
              "      <style>\n",
              "    .colab-df-container {\n",
              "      display:flex;\n",
              "      flex-wrap:wrap;\n",
              "      gap: 12px;\n",
              "    }\n",
              "\n",
              "    .colab-df-convert {\n",
              "      background-color: #E8F0FE;\n",
              "      border: none;\n",
              "      border-radius: 50%;\n",
              "      cursor: pointer;\n",
              "      display: none;\n",
              "      fill: #1967D2;\n",
              "      height: 32px;\n",
              "      padding: 0 0 0 0;\n",
              "      width: 32px;\n",
              "    }\n",
              "\n",
              "    .colab-df-convert:hover {\n",
              "      background-color: #E2EBFA;\n",
              "      box-shadow: 0px 1px 2px rgba(60, 64, 67, 0.3), 0px 1px 3px 1px rgba(60, 64, 67, 0.15);\n",
              "      fill: #174EA6;\n",
              "    }\n",
              "\n",
              "    [theme=dark] .colab-df-convert {\n",
              "      background-color: #3B4455;\n",
              "      fill: #D2E3FC;\n",
              "    }\n",
              "\n",
              "    [theme=dark] .colab-df-convert:hover {\n",
              "      background-color: #434B5C;\n",
              "      box-shadow: 0px 1px 3px 1px rgba(0, 0, 0, 0.15);\n",
              "      filter: drop-shadow(0px 1px 2px rgba(0, 0, 0, 0.3));\n",
              "      fill: #FFFFFF;\n",
              "    }\n",
              "  </style>\n",
              "\n",
              "      <script>\n",
              "        const buttonEl =\n",
              "          document.querySelector('#df-ce81a6e3-2a3e-4039-89af-2624eec9d5d1 button.colab-df-convert');\n",
              "        buttonEl.style.display =\n",
              "          google.colab.kernel.accessAllowed ? 'block' : 'none';\n",
              "\n",
              "        async function convertToInteractive(key) {\n",
              "          const element = document.querySelector('#df-ce81a6e3-2a3e-4039-89af-2624eec9d5d1');\n",
              "          const dataTable =\n",
              "            await google.colab.kernel.invokeFunction('convertToInteractive',\n",
              "                                                     [key], {});\n",
              "          if (!dataTable) return;\n",
              "\n",
              "          const docLinkHtml = 'Like what you see? Visit the ' +\n",
              "            '<a target=\"_blank\" href=https://colab.research.google.com/notebooks/data_table.ipynb>data table notebook</a>'\n",
              "            + ' to learn more about interactive tables.';\n",
              "          element.innerHTML = '';\n",
              "          dataTable['output_type'] = 'display_data';\n",
              "          await google.colab.output.renderOutput(dataTable, element);\n",
              "          const docLink = document.createElement('div');\n",
              "          docLink.innerHTML = docLinkHtml;\n",
              "          element.appendChild(docLink);\n",
              "        }\n",
              "      </script>\n",
              "    </div>\n",
              "  </div>\n"
            ]
          },
          "metadata": {},
          "execution_count": 6
        }
      ]
    },
    {
      "cell_type": "markdown",
      "source": [
        "## Dados X e y<hr style='border: 2px solid red;'>"
      ],
      "metadata": {
        "id": "uZGz4BtYdjVh"
      }
    },
    {
      "cell_type": "code",
      "source": [
        "X_raw= data_raw.drop(columns=['QTDPARTCES', 'ANO', 'OBT_NEONATAL'])\n",
        "y_raw= data_raw[\"OBT_NEONATAL\"]"
      ],
      "metadata": {
        "id": "1-2PYC5MC34J"
      },
      "execution_count": null,
      "outputs": []
    },
    {
      "cell_type": "markdown",
      "source": [
        "## Dados desbalanceados<hr style='border: 2px solid red;'>"
      ],
      "metadata": {
        "id": "3Drr3PxE0Yz5"
      }
    },
    {
      "cell_type": "markdown",
      "source": [
        "https://medium.com/data-hackers/como-lidar-com-dados-desbalanceados-em-problemas-de-classifica%C3%A7%C3%A3o-17c4d4357ef9"
      ],
      "metadata": {
        "id": "I6m547Y64tQ5"
      }
    },
    {
      "cell_type": "code",
      "source": [
        "from imblearn.over_sampling import SMOTE"
      ],
      "metadata": {
        "id": "CBoyMJTI4_1K"
      },
      "execution_count": null,
      "outputs": []
    },
    {
      "cell_type": "code",
      "source": [
        "ax = sns.countplot(x='OBT_NEONATAL', data=data_raw)"
      ],
      "metadata": {
        "colab": {
          "base_uri": "https://localhost:8080/",
          "height": 454
        },
        "id": "HOxndDsk3H7Z",
        "outputId": "0a061da3-2e61-4fcf-bdc3-cccdd713d8e9"
      },
      "execution_count": null,
      "outputs": [
        {
          "output_type": "display_data",
          "data": {
            "text/plain": [
              "<Figure size 640x480 with 1 Axes>"
            ],
            "image/png": "[encoded data removed]"
          },
          "metadata": {}
        }
      ]
    },
    {
      "cell_type": "code",
      "source": [
        "smt = SMOTE(random_state=123)\n",
        "X_bal, y_bal = smt.fit_resample(X_raw, y_raw)"
      ],
      "metadata": {
        "id": "RvuOFAmR42aw"
      },
      "execution_count": null,
      "outputs": []
    },
    {
      "cell_type": "code",
      "source": [
        "data_bal = pd.concat([X_bal, y_bal], axis=1)"
      ],
      "metadata": {
        "id": "YoFdm3F042x5"
      },
      "execution_count": null,
      "outputs": []
    },
    {
      "cell_type": "code",
      "source": [
        "ax = sns.countplot(x='OBT_NEONATAL', data=data_bal)"
      ],
      "metadata": {
        "colab": {
          "base_uri": "https://localhost:8080/",
          "height": 454
        },
        "id": "WFWfOdaT5Ld5",
        "outputId": "7180d06f-54e9-4ee8-cb7d-9ed954f612e2"
      },
      "execution_count": null,
      "outputs": [
        {
          "output_type": "display_data",
          "data": {
            "text/plain": [
              "<Figure size 640x480 with 1 Axes>"
            ],
            "image/png": "[encoded data removed]"
          },
          "metadata": {}
        }
      ]
    },
    {
      "cell_type": "markdown",
      "source": [
        "##Dados de treino e de teste<hr style='border: 2px solid red;'>"
      ],
      "metadata": {
        "id": "0pTdw9yb3-gV"
      }
    },
    {
      "cell_type": "code",
      "source": [
        "from sklearn.model_selection import train_test_split\n",
        "SEED = 20"
      ],
      "metadata": {
        "id": "v9VTOQFs4Vhw"
      },
      "execution_count": null,
      "outputs": []
    },
    {
      "cell_type": "code",
      "source": [
        "X_treino, X_teste, y_treino, y_teste = train_test_split(X_bal, y_bal, test_size =0.25,\n",
        "                                                        random_state=SEED,\n",
        "                                                        stratify=y_bal)\n",
        "print(\"Treinaremos com %d elementos e testaremos com %d elementos\" % (len(X_treino), len(X_teste)))"
      ],
      "metadata": {
        "colab": {
          "base_uri": "https://localhost:8080/"
        },
        "id": "OBoj3dEaFePY",
        "outputId": "623fed86-c3ca-406b-b334-a6eca4cb9810"
      },
      "execution_count": null,
      "outputs": [
        {
          "output_type": "stream",
          "name": "stdout",
          "text": [
            "Treinaremos com 286620 elementos e testaremos com 95540 elementos\n"
          ]
        }
      ]
    },
    {
      "cell_type": "markdown",
      "source": [
        "Base de treino normalizada"
      ],
      "metadata": {
        "id": "ItF_hqsipnsw"
      }
    },
    {
      "cell_type": "code",
      "source": [
        "from sklearn.preprocessing import StandardScaler"
      ],
      "metadata": {
        "id": "5xgqifU6qFVp"
      },
      "execution_count": null,
      "outputs": []
    },
    {
      "cell_type": "code",
      "source": [
        "scaler = scaler = StandardScaler()\n",
        "scaler.fit(X_treino)\n",
        "X_treino_norm = scaler.transform(X_treino)\n",
        "X_teste_norm = scaler.transform(X_teste)"
      ],
      "metadata": {
        "id": "jI5LHFzfp6VI"
      },
      "execution_count": null,
      "outputs": []
    },
    {
      "cell_type": "markdown",
      "source": [
        "### <font color='red' style='font-size: 30px;'>Dummy Classifier</font>\n",
        "<hr style='border: 2px solid red;'>"
      ],
      "metadata": {
        "id": "Y9zME4Vos7Wg"
      }
    },
    {
      "cell_type": "code",
      "source": [
        "from sklearn.dummy import DummyClassifier"
      ],
      "metadata": {
        "id": "jiht0Hz-tJfR"
      },
      "execution_count": null,
      "outputs": []
    },
    {
      "cell_type": "code",
      "source": [
        "modelo_dummy_stratified = DummyClassifier(strategy='stratified')\n",
        "modelo_dummy_stratified.fit(X_treino, y_treino)\n",
        "predito_ds = modelo_dummy_stratified.predict(X_teste)"
      ],
      "metadata": {
        "id": "R8LGbTiztBKZ"
      },
      "execution_count": null,
      "outputs": []
    },
    {
      "cell_type": "code",
      "source": [
        "modelo_dummy_mostfrequent = DummyClassifier(strategy=\"most_frequent\")\n",
        "modelo_dummy_mostfrequent.fit(X_treino, y_treino)\n",
        "predito_dmf = modelo_dummy_mostfrequent.predict(X_teste)"
      ],
      "metadata": {
        "id": "ClFvCjagtGSw"
      },
      "execution_count": null,
      "outputs": []
    },
    {
      "cell_type": "markdown",
      "source": [
        "### <font color='red' style='font-size: 30px;'>Modelo SVC</font>\n",
        "<hr style='border: 2px solid red;'>"
      ],
      "metadata": {
        "id": "qKZd1G3XgVcW"
      }
    },
    {
      "cell_type": "code",
      "source": [
        "from sklearn.svm import SVC"
      ],
      "metadata": {
        "id": "kmsmpRScgmKv"
      },
      "execution_count": null,
      "outputs": []
    },
    {
      "cell_type": "code",
      "source": [
        "modelo_svc = SVC(gamma='auto', random_state = SEED)\n",
        "modelo_svc.fit(X_treino_norm, y_treino)\n",
        "predito_svc = modelo_svc.predict(X_teste_norm)"
      ],
      "metadata": {
        "id": "VUCdSZaAgXGH"
      },
      "execution_count": null,
      "outputs": []
    },
    {
      "cell_type": "markdown",
      "source": [
        "### <font color='red' style='font-size: 30px;'>KNN</font>\n",
        "<hr style='border: 2px solid red;'>"
      ],
      "metadata": {
        "id": "YaHQGaWXIJpi"
      }
    },
    {
      "cell_type": "markdown",
      "source": [
        "https://scikit-learn.org/stable/modules/generated/sklearn.neighbors.KNeighborsClassifier.html\n",
        "\n",
        "https://scikit-learn.org/stable/modules/generated/sklearn.metrics.DistanceMetric.html#sklearn.metrics.DistanceMetric"
      ],
      "metadata": {
        "id": "AvXA7blNLncu"
      }
    },
    {
      "cell_type": "code",
      "source": [
        "from sklearn.neighbors import KNeighborsClassifier"
      ],
      "metadata": {
        "id": "Zo8cPJgLIZyz"
      },
      "execution_count": null,
      "outputs": []
    },
    {
      "cell_type": "code",
      "source": [
        "modelo_knn_euc = KNeighborsClassifier(metric='euclidean')\n",
        "modelo_knn_euc.fit(X_treino_norm, y_treino)\n",
        "predito_knn_euc = modelo_knn_euc.predict(X_teste_norm)"
      ],
      "metadata": {
        "id": "eGzzEYTMINB7"
      },
      "execution_count": null,
      "outputs": []
    },
    {
      "cell_type": "code",
      "source": [
        "modelo_knn_man = KNeighborsClassifier(metric='manhattan')\n",
        "modelo_knn_man.fit(X_treino_norm, y_treino)\n",
        "predito_knn_man = modelo_knn_man.predict(X_teste_norm)"
      ],
      "metadata": {
        "id": "4MkMrbhWL4l7"
      },
      "execution_count": null,
      "outputs": []
    },
    {
      "cell_type": "code",
      "source": [
        "modelo_knn_mi = KNeighborsClassifier(metric='minkowski')\n",
        "modelo_knn_mi.fit(X_treino_norm, y_treino)\n",
        "predito_knn_mi = modelo_knn_mi.predict(X_teste_norm)"
      ],
      "metadata": {
        "id": "rwQSboHTND5D"
      },
      "execution_count": null,
      "outputs": []
    },
    {
      "cell_type": "code",
      "source": [
        "modelo_knn_ch = KNeighborsClassifier(metric='chebyshev')\n",
        "modelo_knn_ch.fit(X_treino_norm, y_treino)\n",
        "predito_knn_ch = modelo_knn_ch.predict(X_teste_norm)"
      ],
      "metadata": {
        "id": "DKsEsJAQOWZX"
      },
      "execution_count": null,
      "outputs": []
    },
    {
      "cell_type": "markdown",
      "source": [
        "### <font color='red' style='font-size: 30px;'>Árvore de decisão</font>\n",
        "<hr style='border: 2px solid red;'>"
      ],
      "metadata": {
        "id": "yyMGto08trIA"
      }
    },
    {
      "cell_type": "code",
      "source": [
        "from sklearn.tree import DecisionTreeClassifier"
      ],
      "metadata": {
        "id": "7a2f9FyLzFwJ"
      },
      "execution_count": null,
      "outputs": []
    },
    {
      "cell_type": "code",
      "source": [
        "modelo_dtc = DecisionTreeClassifier()\n",
        "modelo_dtc.fit(X_treino, y_treino)\n",
        "predito_dtc = modelo_dtc.predict(X_teste)"
      ],
      "metadata": {
        "id": "mOQkXElJtvl4"
      },
      "execution_count": null,
      "outputs": []
    },
    {
      "cell_type": "markdown",
      "source": [
        "### <font color='red' style='font-size: 30px;'>Bernoulli Naive Beis</font>\n",
        "<hr style='border: 2px solid red;'>"
      ],
      "metadata": {
        "id": "iel9UKmY4SS2"
      }
    },
    {
      "cell_type": "code",
      "source": [
        "from sklearn.naive_bayes import BernoulliNB"
      ],
      "metadata": {
        "id": "egy9idt68H5q"
      },
      "execution_count": null,
      "outputs": []
    },
    {
      "cell_type": "code",
      "source": [
        "X_treino.head()"
      ],
      "metadata": {
        "colab": {
          "base_uri": "https://localhost:8080/",
          "height": 270
        },
        "id": "C2wuAVu14jE-",
        "outputId": "93269071-2c36-4d59-8ae4-9432a272613b"
      },
      "execution_count": null,
      "outputs": [
        {
          "output_type": "execute_result",
          "data": {
            "text/plain": [
              "          APGAR1     APGAR5  CODANOMAL_QTD  CONSPRENAT  ESCMAEETL_VALOR  \\\n",
              "273931  3.343596   6.312807       1.374385    6.374385                9   \n",
              "303220  7.787008   0.865223       0.000000    7.000000                8   \n",
              "284062  8.733192   8.866596       0.000000    5.966649               10   \n",
              "179182  9.000000  10.000000       0.000000    8.000000                8   \n",
              "141103  9.000000   9.000000       0.000000    9.000000               11   \n",
              "\n",
              "        ESTCIVMAE_COMPANHEIRO  GRAVIDEZ_VALOR  LOCNASC_DOMICILIO  \\\n",
              "273931                      0               1                  0   \n",
              "303220                      1               1                  0   \n",
              "284062                      0               1                  0   \n",
              "179182                      0               1                  0   \n",
              "141103                      0               1                  0   \n",
              "\n",
              "        LOCNASC_ESTAB_SAUDE  LOCNASC_HOSPITAL  LOCNASC_OUTROS  PARTO_CESAREO  \\\n",
              "273931                    0                 1               0              0   \n",
              "303220                    0                 1               0              0   \n",
              "284062                    0                 1               0              0   \n",
              "179182                    0                 1               0              1   \n",
              "141103                    0                 1               0              1   \n",
              "\n",
              "        PARTO_VAGINALL         PESO  QTDFILMORT  SEMAGESTAC  SEXO_FEM  \\\n",
              "273931               0  2383.969211    0.000000   35.092367         0   \n",
              "303220               1  2568.652231    0.000000   37.595669         1   \n",
              "284062               0  2265.300159    0.033351   35.000000         0   \n",
              "179182               0  3138.000000    1.000000   39.000000         1   \n",
              "141103               0  3470.000000    0.000000   39.000000         0   \n",
              "\n",
              "        SEXO_MASC  TPAPRESENT_CEFALICO  TPAPRESENT_PELVICO  \\\n",
              "273931          0                    1                   0   \n",
              "303220          0                    0                   0   \n",
              "284062          0                    1                   0   \n",
              "179182          0                    1                   0   \n",
              "141103          1                    1                   0   \n",
              "\n",
              "        TPAPRESENT_TRANSVERSA  \n",
              "273931                      0  \n",
              "303220                      0  \n",
              "284062                      0  \n",
              "179182                      0  \n",
              "141103                      0  "
            ],
            "text/html": [
              "\n",
              "\n",
              "  <div id=\"df-d1fdd221-643e-456b-b5db-cef611427d8a\">\n",
              "    <div class=\"colab-df-container\">\n",
              "      <div>\n",
              "<style scoped>\n",
              "    .dataframe tbody tr th:only-of-type {\n",
              "        vertical-align: middle;\n",
              "    }\n",
              "\n",
              "    .dataframe tbody tr th {\n",
              "        vertical-align: top;\n",
              "    }\n",
              "\n",
              "    .dataframe thead th {\n",
              "        text-align: right;\n",
              "    }\n",
              "</style>\n",
              "<table border=\"1\" class=\"dataframe\">\n",
              "  <thead>\n",
              "    <tr style=\"text-align: right;\">\n",
              "      <th></th>\n",
              "      <th>APGAR1</th>\n",
              "      <th>APGAR5</th>\n",
              "      <th>CODANOMAL_QTD</th>\n",
              "      <th>CONSPRENAT</th>\n",
              "      <th>ESCMAEETL_VALOR</th>\n",
              "      <th>ESTCIVMAE_COMPANHEIRO</th>\n",
              "      <th>GRAVIDEZ_VALOR</th>\n",
              "      <th>LOCNASC_DOMICILIO</th>\n",
              "      <th>LOCNASC_ESTAB_SAUDE</th>\n",
              "      <th>LOCNASC_HOSPITAL</th>\n",
              "      <th>LOCNASC_OUTROS</th>\n",
              "      <th>PARTO_CESAREO</th>\n",
              "      <th>PARTO_VAGINALL</th>\n",
              "      <th>PESO</th>\n",
              "      <th>QTDFILMORT</th>\n",
              "      <th>SEMAGESTAC</th>\n",
              "      <th>SEXO_FEM</th>\n",
              "      <th>SEXO_MASC</th>\n",
              "      <th>TPAPRESENT_CEFALICO</th>\n",
              "      <th>TPAPRESENT_PELVICO</th>\n",
              "      <th>TPAPRESENT_TRANSVERSA</th>\n",
              "    </tr>\n",
              "  </thead>\n",
              "  <tbody>\n",
              "    <tr>\n",
              "      <th>273931</th>\n",
              "      <td>3.343596</td>\n",
              "      <td>6.312807</td>\n",
              "      <td>1.374385</td>\n",
              "      <td>6.374385</td>\n",
              "      <td>9</td>\n",
              "      <td>0</td>\n",
              "      <td>1</td>\n",
              "      <td>0</td>\n",
              "      <td>0</td>\n",
              "      <td>1</td>\n",
              "      <td>0</td>\n",
              "      <td>0</td>\n",
              "      <td>0</td>\n",
              "      <td>2383.969211</td>\n",
              "      <td>0.000000</td>\n",
              "      <td>35.092367</td>\n",
              "      <td>0</td>\n",
              "      <td>0</td>\n",
              "      <td>1</td>\n",
              "      <td>0</td>\n",
              "      <td>0</td>\n",
              "    </tr>\n",
              "    <tr>\n",
              "      <th>303220</th>\n",
              "      <td>7.787008</td>\n",
              "      <td>0.865223</td>\n",
              "      <td>0.000000</td>\n",
              "      <td>7.000000</td>\n",
              "      <td>8</td>\n",
              "      <td>1</td>\n",
              "      <td>1</td>\n",
              "      <td>0</td>\n",
              "      <td>0</td>\n",
              "      <td>1</td>\n",
              "      <td>0</td>\n",
              "      <td>0</td>\n",
              "      <td>1</td>\n",
              "      <td>2568.652231</td>\n",
              "      <td>0.000000</td>\n",
              "      <td>37.595669</td>\n",
              "      <td>1</td>\n",
              "      <td>0</td>\n",
              "      <td>0</td>\n",
              "      <td>0</td>\n",
              "      <td>0</td>\n",
              "    </tr>\n",
              "    <tr>\n",
              "      <th>284062</th>\n",
              "      <td>8.733192</td>\n",
              "      <td>8.866596</td>\n",
              "      <td>0.000000</td>\n",
              "      <td>5.966649</td>\n",
              "      <td>10</td>\n",
              "      <td>0</td>\n",
              "      <td>1</td>\n",
              "      <td>0</td>\n",
              "      <td>0</td>\n",
              "      <td>1</td>\n",
              "      <td>0</td>\n",
              "      <td>0</td>\n",
              "      <td>0</td>\n",
              "      <td>2265.300159</td>\n",
              "      <td>0.033351</td>\n",
              "      <td>35.000000</td>\n",
              "      <td>0</td>\n",
              "      <td>0</td>\n",
              "      <td>1</td>\n",
              "      <td>0</td>\n",
              "      <td>0</td>\n",
              "    </tr>\n",
              "    <tr>\n",
              "      <th>179182</th>\n",
              "      <td>9.000000</td>\n",
              "      <td>10.000000</td>\n",
              "      <td>0.000000</td>\n",
              "      <td>8.000000</td>\n",
              "      <td>8</td>\n",
              "      <td>0</td>\n",
              "      <td>1</td>\n",
              "      <td>0</td>\n",
              "      <td>0</td>\n",
              "      <td>1</td>\n",
              "      <td>0</td>\n",
              "      <td>1</td>\n",
              "      <td>0</td>\n",
              "      <td>3138.000000</td>\n",
              "      <td>1.000000</td>\n",
              "      <td>39.000000</td>\n",
              "      <td>1</td>\n",
              "      <td>0</td>\n",
              "      <td>1</td>\n",
              "      <td>0</td>\n",
              "      <td>0</td>\n",
              "    </tr>\n",
              "    <tr>\n",
              "      <th>141103</th>\n",
              "      <td>9.000000</td>\n",
              "      <td>9.000000</td>\n",
              "      <td>0.000000</td>\n",
              "      <td>9.000000</td>\n",
              "      <td>11</td>\n",
              "      <td>0</td>\n",
              "      <td>1</td>\n",
              "      <td>0</td>\n",
              "      <td>0</td>\n",
              "      <td>1</td>\n",
              "      <td>0</td>\n",
              "      <td>1</td>\n",
              "      <td>0</td>\n",
              "      <td>3470.000000</td>\n",
              "      <td>0.000000</td>\n",
              "      <td>39.000000</td>\n",
              "      <td>0</td>\n",
              "      <td>1</td>\n",
              "      <td>1</td>\n",
              "      <td>0</td>\n",
              "      <td>0</td>\n",
              "    </tr>\n",
              "  </tbody>\n",
              "</table>\n",
              "</div>\n",
              "      <button class=\"colab-df-convert\" onclick=\"convertToInteractive('df-d1fdd221-643e-456b-b5db-cef611427d8a')\"\n",
              "              title=\"Convert this dataframe to an interactive table.\"\n",
              "              style=\"display:none;\">\n",
              "\n",
              "  <svg xmlns=\"http://www.w3.org/2000/svg\" height=\"24px\"viewBox=\"0 0 24 24\"\n",
              "       width=\"24px\">\n",
              "    <path d=\"M0 0h24v24H0V0z\" fill=\"none\"/>\n",
              "    <path d=\"M18.56 5.44l.94 2.06.94-2.06 2.06-.94-2.06-.94-.94-2.06-.94 2.06-2.06.94zm-11 1L8.5 8.5l.94-2.06 2.06-.94-2.06-.94L8.5 2.5l-.94 2.06-2.06.94zm10 10l.94 2.06.94-2.06 2.06-.94-2.06-.94-.94-2.06-.94 2.06-2.06.94z\"/><path d=\"M17.41 7.96l-1.37-1.37c-.4-.4-.92-.59-1.43-.59-.52 0-1.04.2-1.43.59L10.3 9.45l-7.72 7.72c-.78.78-.78 2.05 0 2.83L4 21.41c.39.39.9.59 1.41.59.51 0 1.02-.2 1.41-.59l7.78-7.78 2.81-2.81c.8-.78.8-2.07 0-2.86zM5.41 20L4 18.59l7.72-7.72 1.47 1.35L5.41 20z\"/>\n",
              "  </svg>\n",
              "      </button>\n",
              "\n",
              "\n",
              "\n",
              "    <div id=\"df-25a15c9f-60ce-4edd-a964-4af7848e4227\">\n",
              "      <button class=\"colab-df-quickchart\" onclick=\"quickchart('df-25a15c9f-60ce-4edd-a964-4af7848e4227')\"\n",
              "              title=\"Suggest charts.\"\n",
              "              style=\"display:none;\">\n",
              "\n",
              "<svg xmlns=\"http://www.w3.org/2000/svg\" height=\"24px\"viewBox=\"0 0 24 24\"\n",
              "     width=\"24px\">\n",
              "    <g>\n",
              "        <path d=\"M19 3H5c-1.1 0-2 .9-2 2v14c0 1.1.9 2 2 2h14c1.1 0 2-.9 2-2V5c0-1.1-.9-2-2-2zM9 17H7v-7h2v7zm4 0h-2V7h2v10zm4 0h-2v-4h2v4z\"/>\n",
              "    </g>\n",
              "</svg>\n",
              "      </button>\n",
              "    </div>\n",
              "\n",
              "<style>\n",
              "  .colab-df-quickchart {\n",
              "    background-color: #E8F0FE;\n",
              "    border: none;\n",
              "    border-radius: 50%;\n",
              "    cursor: pointer;\n",
              "    display: none;\n",
              "    fill: #1967D2;\n",
              "    height: 32px;\n",
              "    padding: 0 0 0 0;\n",
              "    width: 32px;\n",
              "  }\n",
              "\n",
              "  .colab-df-quickchart:hover {\n",
              "    background-color: #E2EBFA;\n",
              "    box-shadow: 0px 1px 2px rgba(60, 64, 67, 0.3), 0px 1px 3px 1px rgba(60, 64, 67, 0.15);\n",
              "    fill: #174EA6;\n",
              "  }\n",
              "\n",
              "  [theme=dark] .colab-df-quickchart {\n",
              "    background-color: #3B4455;\n",
              "    fill: #D2E3FC;\n",
              "  }\n",
              "\n",
              "  [theme=dark] .colab-df-quickchart:hover {\n",
              "    background-color: #434B5C;\n",
              "    box-shadow: 0px 1px 3px 1px rgba(0, 0, 0, 0.15);\n",
              "    filter: drop-shadow(0px 1px 2px rgba(0, 0, 0, 0.3));\n",
              "    fill: #FFFFFF;\n",
              "  }\n",
              "</style>\n",
              "\n",
              "    <script>\n",
              "      async function quickchart(key) {\n",
              "        const containerElement = document.querySelector('#' + key);\n",
              "        const charts = await google.colab.kernel.invokeFunction(\n",
              "            'suggestCharts', [key], {});\n",
              "      }\n",
              "    </script>\n",
              "\n",
              "      <script>\n",
              "\n",
              "function displayQuickchartButton(domScope) {\n",
              "  let quickchartButtonEl =\n",
              "    domScope.querySelector('#df-25a15c9f-60ce-4edd-a964-4af7848e4227 button.colab-df-quickchart');\n",
              "  quickchartButtonEl.style.display =\n",
              "    google.colab.kernel.accessAllowed ? 'block' : 'none';\n",
              "}\n",
              "\n",
              "        displayQuickchartButton(document);\n",
              "      </script>\n",
              "      <style>\n",
              "    .colab-df-container {\n",
              "      display:flex;\n",
              "      flex-wrap:wrap;\n",
              "      gap: 12px;\n",
              "    }\n",
              "\n",
              "    .colab-df-convert {\n",
              "      background-color: #E8F0FE;\n",
              "      border: none;\n",
              "      border-radius: 50%;\n",
              "      cursor: pointer;\n",
              "      display: none;\n",
              "      fill: #1967D2;\n",
              "      height: 32px;\n",
              "      padding: 0 0 0 0;\n",
              "      width: 32px;\n",
              "    }\n",
              "\n",
              "    .colab-df-convert:hover {\n",
              "      background-color: #E2EBFA;\n",
              "      box-shadow: 0px 1px 2px rgba(60, 64, 67, 0.3), 0px 1px 3px 1px rgba(60, 64, 67, 0.15);\n",
              "      fill: #174EA6;\n",
              "    }\n",
              "\n",
              "    [theme=dark] .colab-df-convert {\n",
              "      background-color: #3B4455;\n",
              "      fill: #D2E3FC;\n",
              "    }\n",
              "\n",
              "    [theme=dark] .colab-df-convert:hover {\n",
              "      background-color: #434B5C;\n",
              "      box-shadow: 0px 1px 3px 1px rgba(0, 0, 0, 0.15);\n",
              "      filter: drop-shadow(0px 1px 2px rgba(0, 0, 0, 0.3));\n",
              "      fill: #FFFFFF;\n",
              "    }\n",
              "  </style>\n",
              "\n",
              "      <script>\n",
              "        const buttonEl =\n",
              "          document.querySelector('#df-d1fdd221-643e-456b-b5db-cef611427d8a button.colab-df-convert');\n",
              "        buttonEl.style.display =\n",
              "          google.colab.kernel.accessAllowed ? 'block' : 'none';\n",
              "\n",
              "        async function convertToInteractive(key) {\n",
              "          const element = document.querySelector('#df-d1fdd221-643e-456b-b5db-cef611427d8a');\n",
              "          const dataTable =\n",
              "            await google.colab.kernel.invokeFunction('convertToInteractive',\n",
              "                                                     [key], {});\n",
              "          if (!dataTable) return;\n",
              "\n",
              "          const docLinkHtml = 'Like what you see? Visit the ' +\n",
              "            '<a target=\"_blank\" href=https://colab.research.google.com/notebooks/data_table.ipynb>data table notebook</a>'\n",
              "            + ' to learn more about interactive tables.';\n",
              "          element.innerHTML = '';\n",
              "          dataTable['output_type'] = 'display_data';\n",
              "          await google.colab.output.renderOutput(dataTable, element);\n",
              "          const docLink = document.createElement('div');\n",
              "          docLink.innerHTML = docLinkHtml;\n",
              "          element.appendChild(docLink);\n",
              "        }\n",
              "      </script>\n",
              "    </div>\n",
              "  </div>\n"
            ]
          },
          "metadata": {},
          "execution_count": 32
        }
      ]
    },
    {
      "cell_type": "code",
      "source": [
        "X_treino_bin, X_teste_bin, y_treino, y_teste = train_test_split(X_bal, y_bal, test_size =0.25, random_state=SEED, stratify=y_bal)"
      ],
      "metadata": {
        "id": "qWGR61OC4jIV"
      },
      "execution_count": null,
      "outputs": []
    },
    {
      "cell_type": "code",
      "source": [
        "mediana_apgar_1 = np.median(X_treino_bin['APGAR1'])\n",
        "mediana_apgar_5 = np.median(X_treino_bin['APGAR5'])\n",
        "mediana_codanomal = np.median(X_treino_bin['CODANOMAL_QTD'])\n",
        "mediana_consprenat = np.median(X_treino_bin['CONSPRENAT'])\n",
        "mediana_escmaetl = np.median(X_treino_bin['ESCMAEETL_VALOR'])\n",
        "mediana_peso = np.median(X_treino_bin['PESO'])\n",
        "mediana_qtdfilmort = np.median(X_treino_bin['QTDFILMORT'])\n",
        "mediana_semagest = np.median(X_treino_bin['SEMAGESTAC'])"
      ],
      "metadata": {
        "id": "IWEZXYXi4jUl"
      },
      "execution_count": null,
      "outputs": []
    },
    {
      "cell_type": "code",
      "source": [
        "X_treino_bin['APGAR1'] = X_treino_bin['APGAR1'].apply(lambda x: 1 if (x > mediana_apgar_1 ) else 0)\n",
        "X_treino_bin['APGAR5'] = X_treino_bin['APGAR5'].apply(lambda x: 1 if (x > mediana_apgar_5 ) else 0)\n",
        "X_treino_bin['CODANOMAL_QTD'] = X_treino_bin['CODANOMAL_QTD'].apply(lambda x: 1 if (x > mediana_codanomal ) else 0)\n",
        "X_treino_bin['CONSPRENAT'] = X_treino_bin['CONSPRENAT'].apply(lambda x: 1 if (x > mediana_consprenat ) else 0)\n",
        "X_treino_bin['ESCMAEETL_VALOR'] = X_treino_bin['ESCMAEETL_VALOR'].apply(lambda x: 1 if (x > mediana_escmaetl ) else 0)\n",
        "X_treino_bin['PESO'] = X_treino_bin['PESO'].apply(lambda x: 1 if (x > mediana_peso ) else 0)\n",
        "X_treino_bin['QTDFILMORT'] = X_treino_bin['QTDFILMORT'].apply(lambda x: 1 if (x > mediana_qtdfilmort ) else 0)\n",
        "X_treino_bin['SEMAGESTAC'] = X_treino_bin['SEMAGESTAC'].apply(lambda x: 1 if (x > mediana_semagest ) else 0)"
      ],
      "metadata": {
        "id": "wNAXAZGa7cMX"
      },
      "execution_count": null,
      "outputs": []
    },
    {
      "cell_type": "code",
      "source": [
        "modelo_bnb = BernoulliNB()\n",
        "modelo_bnb.fit(X_treino_bin, y_treino)\n",
        "predito_bnb = modelo_bnb.predict(X_teste_bin)"
      ],
      "metadata": {
        "id": "P4ROF4py72qG"
      },
      "execution_count": null,
      "outputs": []
    },
    {
      "cell_type": "markdown",
      "source": [
        "## Validando modelos<hr style='border: 2px solid red;'>"
      ],
      "metadata": {
        "id": "yiB4rDjf4sVn"
      }
    },
    {
      "cell_type": "markdown",
      "source": [
        "### Matriz de Confusão"
      ],
      "metadata": {
        "id": "ZRqr5ZbJ8nxl"
      }
    },
    {
      "cell_type": "code",
      "source": [
        "from sklearn.metrics import confusion_matrix"
      ],
      "metadata": {
        "id": "Pclv3Lkm8uYn"
      },
      "execution_count": null,
      "outputs": []
    },
    {
      "cell_type": "code",
      "source": [
        "fig, axes = plt.subplots(1, 2, figsize=(9, 3), sharey=True)\n",
        "fig.suptitle('Matriz de confusão do modelo Dummy')\n",
        "\n",
        "sns.heatmap(data=confusion_matrix(y_teste, predito_ds), annot = True, fmt = \"d\", ax=axes[0])\n",
        "axes[0].set(xlabel = \"Predição\", ylabel = \"Real\")\n",
        "axes[0].set(title='Stratified')\n",
        "\n",
        "sns.heatmap(confusion_matrix(y_teste, predito_dmf), annot = True, fmt = \"d\", ax=axes[1])\n",
        "axes[1].set(xlabel = \"Predição\", ylabel = \"Real\")\n",
        "axes[1].set(title='Mostfrequent')"
      ],
      "metadata": {
        "colab": {
          "base_uri": "https://localhost:8080/",
          "height": 359
        },
        "id": "1Mj14JAeHbnR",
        "outputId": "dc3082a5-b4de-494d-f548-9683781ecefd"
      },
      "execution_count": null,
      "outputs": [
        {
          "output_type": "execute_result",
          "data": {
            "text/plain": [
              "[Text(0.5, 1.0, 'Mostfrequent')]"
            ]
          },
          "metadata": {},
          "execution_count": 38
        },
        {
          "output_type": "display_data",
          "data": {
            "text/plain": [
              "<Figure size 900x300 with 4 Axes>"
            ],
            "image/png": "[encoded data removed]"
          },
          "metadata": {}
        }
      ]
    },
    {
      "cell_type": "code",
      "source": [
        "fig, axes = plt.subplots(1, 2, figsize=(9, 3), sharey=True)\n",
        "fig.suptitle('Matriz de confusão do modelo SVC')\n",
        "\n",
        "sns.heatmap(data=confusion_matrix(y_teste, predito_lsvc), annot = True, fmt = \"d\", ax=axes[0])\n",
        "axes[0].set(xlabel = \"Predição\", ylabel = \"Real\")\n",
        "axes[0].set(title='Linear')\n",
        "\n",
        "sns.heatmap(confusion_matrix(y_teste, predito_svc), annot = True, fmt = \"d\", ax=axes[1])\n",
        "axes[1].set(xlabel = \"Predição\", ylabel = \"Real\")\n",
        "axes[1].set(title='Não Linear')"
      ],
      "metadata": {
        "id": "BN-jn7M9dSlB",
        "outputId": "1380f514-7a15-4598-db6a-5bad6e67e303",
        "colab": {
          "base_uri": "https://localhost:8080/",
          "height": 359
        }
      },
      "execution_count": null,
      "outputs": [
        {
          "output_type": "execute_result",
          "data": {
            "text/plain": [
              "[Text(0.5, 1.0, 'Não Linear')]"
            ]
          },
          "metadata": {},
          "execution_count": 39
        },
        {
          "output_type": "display_data",
          "data": {
            "text/plain": [
              "<Figure size 900x300 with 4 Axes>"
            ],
            "image/png": "[encoded data removed]"
          },
          "metadata": {}
        }
      ]
    },
    {
      "cell_type": "code",
      "source": [
        "fig, axes = plt.subplots(1, 4, figsize=(20, 4), sharey=True)\n",
        "fig.suptitle('A matriz de confusão do modelo KNN')\n",
        "\n",
        "sns.heatmap(data=confusion_matrix(y_teste, predito_knn_euc), annot = True, fmt = \"d\", ax=axes[0])\n",
        "axes[0].set(xlabel = \"Predição\", ylabel = \"Real\")\n",
        "axes[0].set(title='Euclidiana')\n",
        "\n",
        "sns.heatmap(data=confusion_matrix(y_teste, predito_knn_man), annot = True, fmt = \"d\", ax=axes[1])\n",
        "axes[1].set(xlabel = \"Predição\", ylabel = \"Real\")\n",
        "axes[1].set(title='Manhattan')\n",
        "\n",
        "sns.heatmap(data=confusion_matrix(y_teste, predito_knn_mi), annot = True, fmt = \"d\", ax=axes[2])\n",
        "axes[2].set(xlabel = \"Predição\", ylabel = \"Real\")\n",
        "axes[2].set(title='Minkowski')\n",
        "\n",
        "sns.heatmap(data=confusion_matrix(y_teste, predito_knn_ch), annot = True, fmt = \"d\", ax=axes[3])\n",
        "axes[3].set(xlabel = \"Predição\", ylabel = \"Real\")\n",
        "axes[3].set(title='Chebyshev')"
      ],
      "metadata": {
        "id": "fT2XCGxydqBK",
        "outputId": "cf94c5c9-74b3-4b7f-d4ef-5a2995d2739c",
        "colab": {
          "base_uri": "https://localhost:8080/",
          "height": 446
        }
      },
      "execution_count": null,
      "outputs": [
        {
          "output_type": "execute_result",
          "data": {
            "text/plain": [
              "[Text(0.5, 1.0, 'Chebyshev')]"
            ]
          },
          "metadata": {},
          "execution_count": 52
        },
        {
          "output_type": "display_data",
          "data": {
            "text/plain": [
              "<Figure size 2000x400 with 8 Axes>"
            ],
            "image/png": "[encoded data removed]"
          },
          "metadata": {}
        }
      ]
    },
    {
      "cell_type": "code",
      "source": [
        "ax = sns.heatmap(confusion_matrix(y_teste, predito_dtc), annot = True, fmt = \"d\")\n",
        "ax.set(xlabel = \"Predição\", ylabel = \"Real\")\n",
        "ax.set(title='Matriz de confusão do modelo Decision Tree')"
      ],
      "metadata": {
        "id": "a8Iz5dpRWGto",
        "outputId": "22ed4bdc-2628-431c-9db8-7976a69a58d5",
        "colab": {
          "base_uri": "https://localhost:8080/",
          "height": 490
        }
      },
      "execution_count": null,
      "outputs": [
        {
          "output_type": "execute_result",
          "data": {
            "text/plain": [
              "[Text(0.5, 1.0, 'Matriz de confusão do modelo Decision Tree')]"
            ]
          },
          "metadata": {},
          "execution_count": 41
        },
        {
          "output_type": "display_data",
          "data": {
            "text/plain": [
              "<Figure size 640x480 with 2 Axes>"
            ],
            "image/png": "[encoded data removed]"
          },
          "metadata": {}
        }
      ]
    },
    {
      "cell_type": "code",
      "source": [
        "ax = sns.heatmap(confusion_matrix(y_teste, predito_bnb), annot = True, fmt = \"d\")\n",
        "ax.set(xlabel = \"Predição\", ylabel = \"Real\")\n",
        "ax.set(title='Matriz de confusão do modelo Bernoulli Naive Bayes')"
      ],
      "metadata": {
        "id": "ZZprWS7jWGwx",
        "outputId": "089d34cb-7702-4e61-b209-a48111d007ff",
        "colab": {
          "base_uri": "https://localhost:8080/",
          "height": 490
        }
      },
      "execution_count": null,
      "outputs": [
        {
          "output_type": "execute_result",
          "data": {
            "text/plain": [
              "[Text(0.5, 1.0, 'Matriz de confusão do modelo Bernoulli Naive Bayes')]"
            ]
          },
          "metadata": {},
          "execution_count": 42
        },
        {
          "output_type": "display_data",
          "data": {
            "text/plain": [
              "<Figure size 640x480 with 2 Axes>"
            ],
            "image/png": "[encoded data removed]"
          },
          "metadata": {}
        }
      ]
    },
    {
      "cell_type": "markdown",
      "source": [
        "### Acurácia"
      ],
      "metadata": {
        "id": "eqimbHDA8BNZ"
      }
    },
    {
      "cell_type": "markdown",
      "source": [
        "A acurácia é utilizada quando queremos saber a performance geral do modelo, isto é, dentre todas as classificações realizadas, quantas foram classificadas corretamente pelo modelo.\n",
        "\n",
        "A acurácia é uma boa indicação geral da performance do modelo. Mas, em algumas situações, como em modelos de identificação de fraudes, ela pode ser um pouco enganosa.\n",
        "\n",
        "A acurácia não é a melhor métrica para ser utilizada em situações que os Falsos Negativos são considerados mais prejudiciais que os Falsos Positivos. Em casos como esse, utilizamos a métrica chamada Recall ou, em português, sensibilidade."
      ],
      "metadata": {
        "id": "otaoNKEL4y8H"
      }
    },
    {
      "cell_type": "code",
      "source": [
        "from sklearn.metrics import accuracy_score"
      ],
      "metadata": {
        "id": "hDmjHXMgIqvw"
      },
      "execution_count": null,
      "outputs": []
    },
    {
      "cell_type": "code",
      "source": [
        "print(\"A acurácia do momelo dummy stratified foi %.2f%%\" % (accuracy_score(y_teste, predito_ds) * 100))\n",
        "print(\"A acurácia do momelo dummy mostfrequent foi %.2f%%\" % (accuracy_score(y_teste, predito_dmf) * 100))\n",
        "\n",
        "print(\"A acurácia do momelo Linear SVC foi %.2f%%\" % (accuracy_score(y_teste, predito_lsvc) * 100))\n",
        "print(\"A acurácia do modelo SVC foi %.2f%%\" % (accuracy_score(y_teste, predito_svc) * 100))\n",
        "\n",
        "print(\"A acurácia do modelo KNN Euclidiana foi %.2f%%\" % (accuracy_score(y_teste, predito_knn_euc) * 100))\n",
        "print(\"A acurácia do modelo KNN Manhattan foi %.2f%%\" % (accuracy_score(y_teste, predito_knn_man) * 100))\n",
        "print(\"A acurácia do modelo KNN Minkowski foi %.2f%%\" % (accuracy_score(y_teste, predito_knn_mi) * 100))\n",
        "print(\"A acurácia do modelo KNN Chebyshev foi %.2f%%\" % (accuracy_score(y_teste, predito_knn_ch) * 100))\n",
        "\n",
        "print(\"A acurácia do modelo Decision Tree foi %.2f%%\" % (accuracy_score(y_teste, predito_dtc) * 100))\n",
        "print(\"A acurácia do modelo Bernoulli Naive Bayes foi %.2f%%\" % (accuracy_score(y_teste, predito_bnb) * 100))"
      ],
      "metadata": {
        "id": "xN3QzHvg4uKg",
        "outputId": "16dfbac8-a4ef-409a-b33e-8a1816cd9f62",
        "colab": {
          "base_uri": "https://localhost:8080/"
        }
      },
      "execution_count": null,
      "outputs": [
        {
          "output_type": "stream",
          "name": "stdout",
          "text": [
            "A acurácia do momelo dummy stratified foi 50.24%\n",
            "A acurácia do momelo dummy mostfrequent foi 50.00%\n",
            "A acurácia do momelo Linear SVC foi 97.15%\n",
            "A acurácia do modelo SVC foi 97.92%\n",
            "A acurácia do modelo KNN Euclidiana foi 99.35%\n",
            "A acurácia do modelo KNN Manhattan foi 99.55%\n",
            "A acurácia do modelo KNN Minkowski foi 99.35%\n",
            "A acurácia do modelo KNN Chebyshev foi 99.01%\n",
            "A acurácia do modelo Decision Tree foi 99.56%\n",
            "A acurácia do modelo Bernoulli Naive Bayes foi 50.74%\n"
          ]
        }
      ]
    },
    {
      "cell_type": "markdown",
      "source": [
        "### Precisão"
      ],
      "metadata": {
        "id": "aTJbA-3Z6UjZ"
      }
    },
    {
      "cell_type": "markdown",
      "source": [
        " A Precisão calcula quantos verdadeiros positivos foram classificados de forma correta, foram preditos de forma correta.\n",
        "\n",
        " A precisão é utilizada quando queremos saber dentre todas as classificações de classe Positivo realizadas pelo modelo, quantas estão corretas.\n",
        "\n",
        " A precisão pode ser utilizada em situações em que os Falsos Positivos são mais prejudiciais que os Falsos Negativos. Por exemplo, em um modelo de classificação de um bom investimento."
      ],
      "metadata": {
        "id": "LsYomsW06ZWs"
      }
    },
    {
      "cell_type": "code",
      "source": [
        "from sklearn.metrics import precision_score"
      ],
      "metadata": {
        "id": "TT017i1SOOC0"
      },
      "execution_count": null,
      "outputs": []
    },
    {
      "cell_type": "code",
      "source": [
        "print(\"A Precisão do momelo dummy stratified foi %.2f%%\" % (precision_score(y_teste, predito_ds) * 100))\n",
        "print(\"A Precisão do momelo dummy mostfrequent foi %.2f%%\" % (precision_score(y_teste, predito_dmf) * 100))\n",
        "\n",
        "print(\"A Precisão do momelo Linear SVC foi %.2f%%\" % (precision_score(y_teste, predito_lsvc) * 100))\n",
        "print(\"A Precisão do modelo SVC foi %.2f%%\" % (precision_score(y_teste, predito_svc) * 100))\n",
        "\n",
        "print(\"A Precisão do modelo KNN Euclidiana foi %.2f%%\" % (precision_score(y_teste, predito_knn_euc) * 100))\n",
        "print(\"A Precisão do modelo KNN Manhattan foi %.2f%%\" % (precision_score(y_teste, predito_knn_man) * 100))\n",
        "print(\"A Precisão do modelo KNN Minkowski foi %.2f%%\" % (precision_score(y_teste, predito_knn_mi) * 100))\n",
        "print(\"A Precisão do modelo KNN Chebyshev foi %.2f%%\" % (precision_score(y_teste, predito_knn_ch) * 100))\n",
        "\n",
        "print(\"A Precisão do modelo Decision Tree foi %.2f%%\" % (precision_score(y_teste, predito_dtc) * 100))\n",
        "print(\"A Precisão do modelo Bernoulli Naive Bayes foi %.2f%%\" % (precision_score(y_teste, predito_bnb) * 100))"
      ],
      "metadata": {
        "id": "u4NfQ_ka6WFx",
        "outputId": "ffec1c97-e126-4c44-98b9-c76c3881ec76",
        "colab": {
          "base_uri": "https://localhost:8080/"
        }
      },
      "execution_count": null,
      "outputs": [
        {
          "output_type": "stream",
          "name": "stdout",
          "text": [
            "A Precisão do momelo dummy stratified foi 50.24%\n",
            "A Precisão do momelo dummy mostfrequent foi 0.00%\n",
            "A Precisão do momelo Linear SVC foi 98.37%\n",
            "A Precisão do modelo SVC foi 98.85%\n",
            "A Precisão do modelo KNN Euclidiana foi 98.98%\n"
          ]
        },
        {
          "output_type": "stream",
          "name": "stderr",
          "text": [
            "/usr/local/lib/python3.10/dist-packages/sklearn/metrics/_classification.py:1344: UndefinedMetricWarning: Precision is ill-defined and being set to 0.0 due to no predicted samples. Use `zero_division` parameter to control this behavior.\n",
            "  _warn_prf(average, modifier, msg_start, len(result))\n"
          ]
        },
        {
          "output_type": "stream",
          "name": "stdout",
          "text": [
            "A Precisão do modelo KNN Manhattan foi 99.34%\n",
            "A Precisão do modelo KNN Minkowski foi 98.98%\n",
            "A Precisão do modelo KNN Chebyshev foi 98.34%\n",
            "A Precisão do modelo Decision Tree foi 99.47%\n",
            "A Precisão do modelo Bernoulli Naive Bayes foi 99.72%\n"
          ]
        }
      ]
    },
    {
      "cell_type": "markdown",
      "source": [
        "## Escolhendo o melhor modelo<hr style='border: 2px solid red;'>"
      ],
      "metadata": {
        "id": "_aQBxzNmCrU6"
      }
    },
    {
      "cell_type": "code",
      "source": [],
      "metadata": {
        "id": "WwGGFyVrCt2y"
      },
      "execution_count": null,
      "outputs": []
    }
  ]
}