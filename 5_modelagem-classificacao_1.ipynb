{
  "nbformat": 4,
  "nbformat_minor": 0,
  "metadata": {
    "colab": {
      "provenance": [],
      "authorship_tag": "ABX9TyN7XMeX3mQEEIg3dOA/aUHv",
      "include_colab_link": true
    },
    "kernelspec": {
      "name": "python3",
      "display_name": "Python 3"
    },
    "language_info": {
      "name": "python"
    }
  },
  "cells": [
    {
      "cell_type": "markdown",
      "metadata": {
        "id": "view-in-github",
        "colab_type": "text"
      },
      "source": [
        "<a href=\"https://colab.research.google.com/github/ascle/colab_tcc2/blob/dev/5_modelagem-classificacao_1.ipynb\" target=\"_parent\"><img src=\"https://colab.research.google.com/assets/colab-badge.svg\" alt=\"Open In Colab\"/></a>"
      ]
    },
    {
      "cell_type": "markdown",
      "source": [
        "### Importando bibliotecas<hr style='border: 2px solid red;'>\n"
      ],
      "metadata": {
        "id": "Boq31Ihrg5nH"
      }
    },
    {
      "cell_type": "code",
      "execution_count": 1,
      "metadata": {
        "id": "7o0jRmhPCoHv"
      },
      "outputs": [],
      "source": [
        "import pandas as pd\n",
        "import numpy as np\n",
        "\n",
        "import matplotlib.pyplot as plt\n",
        "import seaborn as sns\n",
        "\n",
        "from sklearn.pipeline import make_pipeline\n",
        "from sklearn.preprocessing import StandardScaler\n",
        "\n",
        "from sklearn.metrics import accuracy_score\n",
        "from sklearn.metrics import precision_score\n",
        "from sklearn.metrics import recall_score\n",
        "from sklearn.metrics import f1_score"
      ]
    },
    {
      "cell_type": "markdown",
      "source": [
        "### Outras configurações<hr style='border: 2px solid red;'>\n",
        "\n"
      ],
      "metadata": {
        "id": "AkBgwd0UhFrw"
      }
    },
    {
      "cell_type": "code",
      "source": [
        "!pip install ipython-autotime\n",
        "pd.set_option('display.max_columns', None)\n",
        "%load_ext autotime\n",
        "\n",
        "SEED = 7\n",
        "np.random.seed(SEED)"
      ],
      "metadata": {
        "id": "0XUeMvn3g0MM",
        "colab": {
          "base_uri": "https://localhost:8080/"
        },
        "outputId": "a165d64c-b7c6-42cb-80a8-254e6bc38f96"
      },
      "execution_count": 2,
      "outputs": [
        {
          "output_type": "stream",
          "name": "stdout",
          "text": [
            "Collecting ipython-autotime\n",
            "  Downloading ipython_autotime-0.3.1-py2.py3-none-any.whl (6.8 kB)\n",
            "Requirement already satisfied: ipython in /usr/local/lib/python3.10/dist-packages (from ipython-autotime) (7.34.0)\n",
            "Requirement already satisfied: setuptools>=18.5 in /usr/local/lib/python3.10/dist-packages (from ipython->ipython-autotime) (67.7.2)\n",
            "Collecting jedi>=0.16 (from ipython->ipython-autotime)\n",
            "  Downloading jedi-0.19.0-py2.py3-none-any.whl (1.6 MB)\n",
            "\u001b[2K     \u001b[90m━━━━━━━━━━━━━━━━━━━━━━━━━━━━━━━━━━━━━━━━\u001b[0m \u001b[32m1.6/1.6 MB\u001b[0m \u001b[31m14.6 MB/s\u001b[0m eta \u001b[36m0:00:00\u001b[0m\n",
            "\u001b[?25hRequirement already satisfied: decorator in /usr/local/lib/python3.10/dist-packages (from ipython->ipython-autotime) (4.4.2)\n",
            "Requirement already satisfied: pickleshare in /usr/local/lib/python3.10/dist-packages (from ipython->ipython-autotime) (0.7.5)\n",
            "Requirement already satisfied: traitlets>=4.2 in /usr/local/lib/python3.10/dist-packages (from ipython->ipython-autotime) (5.7.1)\n",
            "Requirement already satisfied: prompt-toolkit!=3.0.0,!=3.0.1,<3.1.0,>=2.0.0 in /usr/local/lib/python3.10/dist-packages (from ipython->ipython-autotime) (3.0.39)\n",
            "Requirement already satisfied: pygments in /usr/local/lib/python3.10/dist-packages (from ipython->ipython-autotime) (2.16.1)\n",
            "Requirement already satisfied: backcall in /usr/local/lib/python3.10/dist-packages (from ipython->ipython-autotime) (0.2.0)\n",
            "Requirement already satisfied: matplotlib-inline in /usr/local/lib/python3.10/dist-packages (from ipython->ipython-autotime) (0.1.6)\n",
            "Requirement already satisfied: pexpect>4.3 in /usr/local/lib/python3.10/dist-packages (from ipython->ipython-autotime) (4.8.0)\n",
            "Requirement already satisfied: parso<0.9.0,>=0.8.3 in /usr/local/lib/python3.10/dist-packages (from jedi>=0.16->ipython->ipython-autotime) (0.8.3)\n",
            "Requirement already satisfied: ptyprocess>=0.5 in /usr/local/lib/python3.10/dist-packages (from pexpect>4.3->ipython->ipython-autotime) (0.7.0)\n",
            "Requirement already satisfied: wcwidth in /usr/local/lib/python3.10/dist-packages (from prompt-toolkit!=3.0.0,!=3.0.1,<3.1.0,>=2.0.0->ipython->ipython-autotime) (0.2.6)\n",
            "Installing collected packages: jedi, ipython-autotime\n",
            "Successfully installed ipython-autotime-0.3.1 jedi-0.19.0\n",
            "time: 516 µs (started: 2023-09-06 11:09:30 +00:00)\n"
          ]
        }
      ]
    },
    {
      "cell_type": "markdown",
      "source": [
        "### Conectando no ambiente que será utilizado<hr style='border: 2px solid red;'>\n"
      ],
      "metadata": {
        "id": "I5BaqyiBg-iC"
      }
    },
    {
      "cell_type": "code",
      "source": [
        "# Importando do Drive\n",
        "from google.colab import drive\n",
        "from os import chdir\n",
        "\n",
        "drive.mount('/content/drive', force_remount=True)\n",
        "chdir('/content/drive/MyDrive/UFS/tcc-2-ascle-ufs/bases/linkage_marco/')"
      ],
      "metadata": {
        "id": "2naC-Ovegurr",
        "colab": {
          "base_uri": "https://localhost:8080/"
        },
        "outputId": "16f3dcde-6e70-4735-af45-4864fc0ef4ce"
      },
      "execution_count": 3,
      "outputs": [
        {
          "output_type": "stream",
          "name": "stdout",
          "text": [
            "Mounted at /content/drive\n",
            "time: 22.8 s (started: 2023-09-06 11:09:30 +00:00)\n"
          ]
        }
      ]
    },
    {
      "cell_type": "markdown",
      "source": [
        "#### Leitura dos dados"
      ],
      "metadata": {
        "id": "cDpmZ-c7hCYk"
      }
    },
    {
      "cell_type": "code",
      "source": [
        "data_raw = pd.read_csv('dn_etl.csv', sep=';', low_memory=False)\n",
        "data_raw.sort_index(axis=1, inplace=True)"
      ],
      "metadata": {
        "id": "oVt8pUk4Ct1p",
        "colab": {
          "base_uri": "https://localhost:8080/"
        },
        "outputId": "6ecda73f-87d7-46be-b1dc-5be61a1ec4c4"
      },
      "execution_count": 4,
      "outputs": [
        {
          "output_type": "stream",
          "name": "stdout",
          "text": [
            "time: 2.14 s (started: 2023-09-06 11:09:54 +00:00)\n"
          ]
        }
      ]
    },
    {
      "cell_type": "code",
      "source": [
        "data_raw.shape"
      ],
      "metadata": {
        "id": "oe54YoxZhYM-",
        "colab": {
          "base_uri": "https://localhost:8080/"
        },
        "outputId": "1a7ffdf7-cce6-4bdd-e13c-ac3654bbbbe2"
      },
      "execution_count": 5,
      "outputs": [
        {
          "output_type": "execute_result",
          "data": {
            "text/plain": [
              "(190020, 24)"
            ]
          },
          "metadata": {},
          "execution_count": 5
        },
        {
          "output_type": "stream",
          "name": "stdout",
          "text": [
            "time: 6.63 ms (started: 2023-09-06 11:09:56 +00:00)\n"
          ]
        }
      ]
    },
    {
      "cell_type": "code",
      "source": [
        "data_raw.head()"
      ],
      "metadata": {
        "colab": {
          "base_uri": "https://localhost:8080/",
          "height": 244
        },
        "id": "Hy59bsliXbl3",
        "outputId": "0f7de94e-3253-480a-9988-0e23ccc8131d"
      },
      "execution_count": 6,
      "outputs": [
        {
          "output_type": "execute_result",
          "data": {
            "text/plain": [
              "    ANO  APGAR1  APGAR5  CODANOMAL_QTD  CONSPRENAT  ESCMAEETL_VALOR  \\\n",
              "0  2015     2.0     4.0            0.0         5.0                1   \n",
              "1  2015     9.0    10.0            0.0         8.0                4   \n",
              "2  2015     7.0     8.0            0.0        10.0               11   \n",
              "3  2015     7.0     8.0            0.0         7.0                4   \n",
              "4  2015     9.0    10.0            0.0         3.0               11   \n",
              "\n",
              "   ESTCIVMAE_COMPANHEIRO  GRAVIDEZ_VALOR  LOCNASC_DOMICILIO  \\\n",
              "0                      0               1                  0   \n",
              "1                      1               1                  0   \n",
              "2                      1               1                  0   \n",
              "3                      0               1                  0   \n",
              "4                      0               1                  0   \n",
              "\n",
              "   LOCNASC_ESTAB_SAUDE  LOCNASC_HOSPITAL  LOCNASC_OUTROS  OBT_NEONATAL  \\\n",
              "0                    0                 1               0             0   \n",
              "1                    0                 1               0             0   \n",
              "2                    0                 1               0             0   \n",
              "3                    0                 1               0             0   \n",
              "4                    0                 1               0             0   \n",
              "\n",
              "   PARTO_CESAREO  PARTO_VAGINALL    PESO  QTDFILMORT  QTDPARTCES  SEMAGESTAC  \\\n",
              "0              1               0   820.0         1.0         NaN        26.0   \n",
              "1              1               0  4200.0         1.0         NaN        39.0   \n",
              "2              0               1  3700.0         0.0         0.0        40.0   \n",
              "3              0               1  3550.0         1.0         0.0        37.0   \n",
              "4              1               0  3800.0         0.0         NaN        39.0   \n",
              "\n",
              "   SEXO_FEM  SEXO_MASC  TPAPRESENT_CEFALICO  TPAPRESENT_PELVICO  \\\n",
              "0         0          1                    1                   0   \n",
              "1         0          1                    1                   0   \n",
              "2         1          0                    1                   0   \n",
              "3         0          1                    1                   0   \n",
              "4         1          0                    1                   0   \n",
              "\n",
              "   TPAPRESENT_TRANSVERSA  \n",
              "0                      0  \n",
              "1                      0  \n",
              "2                      0  \n",
              "3                      0  \n",
              "4                      0  "
            ],
            "text/html": [
              "\n",
              "  <div id=\"df-ce3e429b-0245-4301-b22b-91a21616a82f\" class=\"colab-df-container\">\n",
              "    <div>\n",
              "<style scoped>\n",
              "    .dataframe tbody tr th:only-of-type {\n",
              "        vertical-align: middle;\n",
              "    }\n",
              "\n",
              "    .dataframe tbody tr th {\n",
              "        vertical-align: top;\n",
              "    }\n",
              "\n",
              "    .dataframe thead th {\n",
              "        text-align: right;\n",
              "    }\n",
              "</style>\n",
              "<table border=\"1\" class=\"dataframe\">\n",
              "  <thead>\n",
              "    <tr style=\"text-align: right;\">\n",
              "      <th></th>\n",
              "      <th>ANO</th>\n",
              "      <th>APGAR1</th>\n",
              "      <th>APGAR5</th>\n",
              "      <th>CODANOMAL_QTD</th>\n",
              "      <th>CONSPRENAT</th>\n",
              "      <th>ESCMAEETL_VALOR</th>\n",
              "      <th>ESTCIVMAE_COMPANHEIRO</th>\n",
              "      <th>GRAVIDEZ_VALOR</th>\n",
              "      <th>LOCNASC_DOMICILIO</th>\n",
              "      <th>LOCNASC_ESTAB_SAUDE</th>\n",
              "      <th>LOCNASC_HOSPITAL</th>\n",
              "      <th>LOCNASC_OUTROS</th>\n",
              "      <th>OBT_NEONATAL</th>\n",
              "      <th>PARTO_CESAREO</th>\n",
              "      <th>PARTO_VAGINALL</th>\n",
              "      <th>PESO</th>\n",
              "      <th>QTDFILMORT</th>\n",
              "      <th>QTDPARTCES</th>\n",
              "      <th>SEMAGESTAC</th>\n",
              "      <th>SEXO_FEM</th>\n",
              "      <th>SEXO_MASC</th>\n",
              "      <th>TPAPRESENT_CEFALICO</th>\n",
              "      <th>TPAPRESENT_PELVICO</th>\n",
              "      <th>TPAPRESENT_TRANSVERSA</th>\n",
              "    </tr>\n",
              "  </thead>\n",
              "  <tbody>\n",
              "    <tr>\n",
              "      <th>0</th>\n",
              "      <td>2015</td>\n",
              "      <td>2.0</td>\n",
              "      <td>4.0</td>\n",
              "      <td>0.0</td>\n",
              "      <td>5.0</td>\n",
              "      <td>1</td>\n",
              "      <td>0</td>\n",
              "      <td>1</td>\n",
              "      <td>0</td>\n",
              "      <td>0</td>\n",
              "      <td>1</td>\n",
              "      <td>0</td>\n",
              "      <td>0</td>\n",
              "      <td>1</td>\n",
              "      <td>0</td>\n",
              "      <td>820.0</td>\n",
              "      <td>1.0</td>\n",
              "      <td>NaN</td>\n",
              "      <td>26.0</td>\n",
              "      <td>0</td>\n",
              "      <td>1</td>\n",
              "      <td>1</td>\n",
              "      <td>0</td>\n",
              "      <td>0</td>\n",
              "    </tr>\n",
              "    <tr>\n",
              "      <th>1</th>\n",
              "      <td>2015</td>\n",
              "      <td>9.0</td>\n",
              "      <td>10.0</td>\n",
              "      <td>0.0</td>\n",
              "      <td>8.0</td>\n",
              "      <td>4</td>\n",
              "      <td>1</td>\n",
              "      <td>1</td>\n",
              "      <td>0</td>\n",
              "      <td>0</td>\n",
              "      <td>1</td>\n",
              "      <td>0</td>\n",
              "      <td>0</td>\n",
              "      <td>1</td>\n",
              "      <td>0</td>\n",
              "      <td>4200.0</td>\n",
              "      <td>1.0</td>\n",
              "      <td>NaN</td>\n",
              "      <td>39.0</td>\n",
              "      <td>0</td>\n",
              "      <td>1</td>\n",
              "      <td>1</td>\n",
              "      <td>0</td>\n",
              "      <td>0</td>\n",
              "    </tr>\n",
              "    <tr>\n",
              "      <th>2</th>\n",
              "      <td>2015</td>\n",
              "      <td>7.0</td>\n",
              "      <td>8.0</td>\n",
              "      <td>0.0</td>\n",
              "      <td>10.0</td>\n",
              "      <td>11</td>\n",
              "      <td>1</td>\n",
              "      <td>1</td>\n",
              "      <td>0</td>\n",
              "      <td>0</td>\n",
              "      <td>1</td>\n",
              "      <td>0</td>\n",
              "      <td>0</td>\n",
              "      <td>0</td>\n",
              "      <td>1</td>\n",
              "      <td>3700.0</td>\n",
              "      <td>0.0</td>\n",
              "      <td>0.0</td>\n",
              "      <td>40.0</td>\n",
              "      <td>1</td>\n",
              "      <td>0</td>\n",
              "      <td>1</td>\n",
              "      <td>0</td>\n",
              "      <td>0</td>\n",
              "    </tr>\n",
              "    <tr>\n",
              "      <th>3</th>\n",
              "      <td>2015</td>\n",
              "      <td>7.0</td>\n",
              "      <td>8.0</td>\n",
              "      <td>0.0</td>\n",
              "      <td>7.0</td>\n",
              "      <td>4</td>\n",
              "      <td>0</td>\n",
              "      <td>1</td>\n",
              "      <td>0</td>\n",
              "      <td>0</td>\n",
              "      <td>1</td>\n",
              "      <td>0</td>\n",
              "      <td>0</td>\n",
              "      <td>0</td>\n",
              "      <td>1</td>\n",
              "      <td>3550.0</td>\n",
              "      <td>1.0</td>\n",
              "      <td>0.0</td>\n",
              "      <td>37.0</td>\n",
              "      <td>0</td>\n",
              "      <td>1</td>\n",
              "      <td>1</td>\n",
              "      <td>0</td>\n",
              "      <td>0</td>\n",
              "    </tr>\n",
              "    <tr>\n",
              "      <th>4</th>\n",
              "      <td>2015</td>\n",
              "      <td>9.0</td>\n",
              "      <td>10.0</td>\n",
              "      <td>0.0</td>\n",
              "      <td>3.0</td>\n",
              "      <td>11</td>\n",
              "      <td>0</td>\n",
              "      <td>1</td>\n",
              "      <td>0</td>\n",
              "      <td>0</td>\n",
              "      <td>1</td>\n",
              "      <td>0</td>\n",
              "      <td>0</td>\n",
              "      <td>1</td>\n",
              "      <td>0</td>\n",
              "      <td>3800.0</td>\n",
              "      <td>0.0</td>\n",
              "      <td>NaN</td>\n",
              "      <td>39.0</td>\n",
              "      <td>1</td>\n",
              "      <td>0</td>\n",
              "      <td>1</td>\n",
              "      <td>0</td>\n",
              "      <td>0</td>\n",
              "    </tr>\n",
              "  </tbody>\n",
              "</table>\n",
              "</div>\n",
              "    <div class=\"colab-df-buttons\">\n",
              "\n",
              "  <div class=\"colab-df-container\">\n",
              "    <button class=\"colab-df-convert\" onclick=\"convertToInteractive('df-ce3e429b-0245-4301-b22b-91a21616a82f')\"\n",
              "            title=\"Convert this dataframe to an interactive table.\"\n",
              "            style=\"display:none;\">\n",
              "\n",
              "  <svg xmlns=\"http://www.w3.org/2000/svg\" height=\"24px\" viewBox=\"0 -960 960 960\">\n",
              "    <path d=\"M120-120v-720h720v720H120Zm60-500h600v-160H180v160Zm220 220h160v-160H400v160Zm0 220h160v-160H400v160ZM180-400h160v-160H180v160Zm440 0h160v-160H620v160ZM180-180h160v-160H180v160Zm440 0h160v-160H620v160Z\"/>\n",
              "  </svg>\n",
              "    </button>\n",
              "\n",
              "  <style>\n",
              "    .colab-df-container {\n",
              "      display:flex;\n",
              "      gap: 12px;\n",
              "    }\n",
              "\n",
              "    .colab-df-convert {\n",
              "      background-color: #E8F0FE;\n",
              "      border: none;\n",
              "      border-radius: 50%;\n",
              "      cursor: pointer;\n",
              "      display: none;\n",
              "      fill: #1967D2;\n",
              "      height: 32px;\n",
              "      padding: 0 0 0 0;\n",
              "      width: 32px;\n",
              "    }\n",
              "\n",
              "    .colab-df-convert:hover {\n",
              "      background-color: #E2EBFA;\n",
              "      box-shadow: 0px 1px 2px rgba(60, 64, 67, 0.3), 0px 1px 3px 1px rgba(60, 64, 67, 0.15);\n",
              "      fill: #174EA6;\n",
              "    }\n",
              "\n",
              "    .colab-df-buttons div {\n",
              "      margin-bottom: 4px;\n",
              "    }\n",
              "\n",
              "    [theme=dark] .colab-df-convert {\n",
              "      background-color: #3B4455;\n",
              "      fill: #D2E3FC;\n",
              "    }\n",
              "\n",
              "    [theme=dark] .colab-df-convert:hover {\n",
              "      background-color: #434B5C;\n",
              "      box-shadow: 0px 1px 3px 1px rgba(0, 0, 0, 0.15);\n",
              "      filter: drop-shadow(0px 1px 2px rgba(0, 0, 0, 0.3));\n",
              "      fill: #FFFFFF;\n",
              "    }\n",
              "  </style>\n",
              "\n",
              "    <script>\n",
              "      const buttonEl =\n",
              "        document.querySelector('#df-ce3e429b-0245-4301-b22b-91a21616a82f button.colab-df-convert');\n",
              "      buttonEl.style.display =\n",
              "        google.colab.kernel.accessAllowed ? 'block' : 'none';\n",
              "\n",
              "      async function convertToInteractive(key) {\n",
              "        const element = document.querySelector('#df-ce3e429b-0245-4301-b22b-91a21616a82f');\n",
              "        const dataTable =\n",
              "          await google.colab.kernel.invokeFunction('convertToInteractive',\n",
              "                                                    [key], {});\n",
              "        if (!dataTable) return;\n",
              "\n",
              "        const docLinkHtml = 'Like what you see? Visit the ' +\n",
              "          '<a target=\"_blank\" href=https://colab.research.google.com/notebooks/data_table.ipynb>data table notebook</a>'\n",
              "          + ' to learn more about interactive tables.';\n",
              "        element.innerHTML = '';\n",
              "        dataTable['output_type'] = 'display_data';\n",
              "        await google.colab.output.renderOutput(dataTable, element);\n",
              "        const docLink = document.createElement('div');\n",
              "        docLink.innerHTML = docLinkHtml;\n",
              "        element.appendChild(docLink);\n",
              "      }\n",
              "    </script>\n",
              "  </div>\n",
              "\n",
              "\n",
              "<div id=\"df-b980b59b-7c93-40dc-99ba-b3f9ed9f99ff\">\n",
              "  <button class=\"colab-df-quickchart\" onclick=\"quickchart('df-b980b59b-7c93-40dc-99ba-b3f9ed9f99ff')\"\n",
              "            title=\"Suggest charts.\"\n",
              "            style=\"display:none;\">\n",
              "\n",
              "<svg xmlns=\"http://www.w3.org/2000/svg\" height=\"24px\"viewBox=\"0 0 24 24\"\n",
              "     width=\"24px\">\n",
              "    <g>\n",
              "        <path d=\"M19 3H5c-1.1 0-2 .9-2 2v14c0 1.1.9 2 2 2h14c1.1 0 2-.9 2-2V5c0-1.1-.9-2-2-2zM9 17H7v-7h2v7zm4 0h-2V7h2v10zm4 0h-2v-4h2v4z\"/>\n",
              "    </g>\n",
              "</svg>\n",
              "  </button>\n",
              "\n",
              "<style>\n",
              "  .colab-df-quickchart {\n",
              "      --bg-color: #E8F0FE;\n",
              "      --fill-color: #1967D2;\n",
              "      --hover-bg-color: #E2EBFA;\n",
              "      --hover-fill-color: #174EA6;\n",
              "      --disabled-fill-color: #AAA;\n",
              "      --disabled-bg-color: #DDD;\n",
              "  }\n",
              "\n",
              "  [theme=dark] .colab-df-quickchart {\n",
              "      --bg-color: #3B4455;\n",
              "      --fill-color: #D2E3FC;\n",
              "      --hover-bg-color: #434B5C;\n",
              "      --hover-fill-color: #FFFFFF;\n",
              "      --disabled-bg-color: #3B4455;\n",
              "      --disabled-fill-color: #666;\n",
              "  }\n",
              "\n",
              "  .colab-df-quickchart {\n",
              "    background-color: var(--bg-color);\n",
              "    border: none;\n",
              "    border-radius: 50%;\n",
              "    cursor: pointer;\n",
              "    display: none;\n",
              "    fill: var(--fill-color);\n",
              "    height: 32px;\n",
              "    padding: 0;\n",
              "    width: 32px;\n",
              "  }\n",
              "\n",
              "  .colab-df-quickchart:hover {\n",
              "    background-color: var(--hover-bg-color);\n",
              "    box-shadow: 0 1px 2px rgba(60, 64, 67, 0.3), 0 1px 3px 1px rgba(60, 64, 67, 0.15);\n",
              "    fill: var(--button-hover-fill-color);\n",
              "  }\n",
              "\n",
              "  .colab-df-quickchart-complete:disabled,\n",
              "  .colab-df-quickchart-complete:disabled:hover {\n",
              "    background-color: var(--disabled-bg-color);\n",
              "    fill: var(--disabled-fill-color);\n",
              "    box-shadow: none;\n",
              "  }\n",
              "\n",
              "  .colab-df-spinner {\n",
              "    border: 2px solid var(--fill-color);\n",
              "    border-color: transparent;\n",
              "    border-bottom-color: var(--fill-color);\n",
              "    animation:\n",
              "      spin 1s steps(1) infinite;\n",
              "  }\n",
              "\n",
              "  @keyframes spin {\n",
              "    0% {\n",
              "      border-color: transparent;\n",
              "      border-bottom-color: var(--fill-color);\n",
              "      border-left-color: var(--fill-color);\n",
              "    }\n",
              "    20% {\n",
              "      border-color: transparent;\n",
              "      border-left-color: var(--fill-color);\n",
              "      border-top-color: var(--fill-color);\n",
              "    }\n",
              "    30% {\n",
              "      border-color: transparent;\n",
              "      border-left-color: var(--fill-color);\n",
              "      border-top-color: var(--fill-color);\n",
              "      border-right-color: var(--fill-color);\n",
              "    }\n",
              "    40% {\n",
              "      border-color: transparent;\n",
              "      border-right-color: var(--fill-color);\n",
              "      border-top-color: var(--fill-color);\n",
              "    }\n",
              "    60% {\n",
              "      border-color: transparent;\n",
              "      border-right-color: var(--fill-color);\n",
              "    }\n",
              "    80% {\n",
              "      border-color: transparent;\n",
              "      border-right-color: var(--fill-color);\n",
              "      border-bottom-color: var(--fill-color);\n",
              "    }\n",
              "    90% {\n",
              "      border-color: transparent;\n",
              "      border-bottom-color: var(--fill-color);\n",
              "    }\n",
              "  }\n",
              "</style>\n",
              "\n",
              "  <script>\n",
              "    async function quickchart(key) {\n",
              "      const quickchartButtonEl =\n",
              "        document.querySelector('#' + key + ' button');\n",
              "      quickchartButtonEl.disabled = true;  // To prevent multiple clicks.\n",
              "      quickchartButtonEl.classList.add('colab-df-spinner');\n",
              "      try {\n",
              "        const charts = await google.colab.kernel.invokeFunction(\n",
              "            'suggestCharts', [key], {});\n",
              "      } catch (error) {\n",
              "        console.error('Error during call to suggestCharts:', error);\n",
              "      }\n",
              "      quickchartButtonEl.classList.remove('colab-df-spinner');\n",
              "      quickchartButtonEl.classList.add('colab-df-quickchart-complete');\n",
              "    }\n",
              "    (() => {\n",
              "      let quickchartButtonEl =\n",
              "        document.querySelector('#df-b980b59b-7c93-40dc-99ba-b3f9ed9f99ff button');\n",
              "      quickchartButtonEl.style.display =\n",
              "        google.colab.kernel.accessAllowed ? 'block' : 'none';\n",
              "    })();\n",
              "  </script>\n",
              "</div>\n",
              "    </div>\n",
              "  </div>\n"
            ]
          },
          "metadata": {},
          "execution_count": 6
        },
        {
          "output_type": "stream",
          "name": "stdout",
          "text": [
            "time: 81 ms (started: 2023-09-06 11:09:56 +00:00)\n"
          ]
        }
      ]
    },
    {
      "cell_type": "markdown",
      "source": [
        "## Dados X e y<hr style='border: 2px solid red;'>"
      ],
      "metadata": {
        "id": "uZGz4BtYdjVh"
      }
    },
    {
      "cell_type": "code",
      "source": [
        "X_raw= data_raw.drop(columns=['QTDPARTCES', 'ANO', 'OBT_NEONATAL'])\n",
        "y_raw= data_raw[\"OBT_NEONATAL\"]"
      ],
      "metadata": {
        "id": "1-2PYC5MC34J",
        "colab": {
          "base_uri": "https://localhost:8080/"
        },
        "outputId": "b9b39406-3bb0-4b7e-f053-606fb7f7e632"
      },
      "execution_count": 7,
      "outputs": [
        {
          "output_type": "stream",
          "name": "stdout",
          "text": [
            "time: 35.4 ms (started: 2023-09-06 11:09:56 +00:00)\n"
          ]
        }
      ]
    },
    {
      "cell_type": "markdown",
      "source": [
        "## Dados desbalanceados<hr style='border: 2px solid red;'>"
      ],
      "metadata": {
        "id": "3Drr3PxE0Yz5"
      }
    },
    {
      "cell_type": "markdown",
      "source": [
        "https://imbalanced-learn.org/stable/introduction.html\n",
        "\n",
        "https://medium.com/data-hackers/como-lidar-com-dados-desbalanceados-em-problemas-de-classifica%C3%A7%C3%A3o-17c4d4357ef9\n",
        "\n",
        "https://medium.com/turing-talks/dados-desbalanceados-o-que-s%C3%A3o-e-como-evit%C3%A1-los-43df4f49732b\n",
        "\n",
        "https://www.teses.usp.br/teses/disponiveis/55/55134/tde-06012016-145045/publico/VictorHugoBarella_dissertacao_revisada.pdf\n",
        "\n",
        "https://www.hashtagtreinamentos.com/datasets-desbalanceados-ciencia-dados\n"
      ],
      "metadata": {
        "id": "I6m547Y64tQ5"
      }
    },
    {
      "cell_type": "code",
      "source": [
        "from imblearn.over_sampling import SMOTE"
      ],
      "metadata": {
        "id": "CBoyMJTI4_1K",
        "colab": {
          "base_uri": "https://localhost:8080/"
        },
        "outputId": "8421b62f-60f4-4f83-c836-a5cfdbfd40b1"
      },
      "execution_count": 8,
      "outputs": [
        {
          "output_type": "stream",
          "name": "stdout",
          "text": [
            "time: 664 ms (started: 2023-09-06 11:09:56 +00:00)\n"
          ]
        }
      ]
    },
    {
      "cell_type": "code",
      "source": [
        "ax = sns.countplot(x='OBT_NEONATAL', data=data_raw)"
      ],
      "metadata": {
        "colab": {
          "base_uri": "https://localhost:8080/",
          "height": 467
        },
        "id": "HOxndDsk3H7Z",
        "outputId": "9f94c884-4520-4c4c-ef60-981f082740cc"
      },
      "execution_count": 9,
      "outputs": [
        {
          "output_type": "display_data",
          "data": {
            "text/plain": [
              "<Figure size 640x480 with 1 Axes>"
            ],
            "image/png": "[encoded data removed]"
          },
          "metadata": {}
        },
        {
          "output_type": "stream",
          "name": "stdout",
          "text": [
            "time: 873 ms (started: 2023-09-06 11:09:57 +00:00)\n"
          ]
        }
      ]
    },
    {
      "cell_type": "markdown",
      "source": [
        "#### Oversampling Smote"
      ],
      "metadata": {
        "id": "M2fwZ_hil8sY"
      }
    },
    {
      "cell_type": "markdown",
      "source": [
        "https://arxiv.org/abs/1106.1813"
      ],
      "metadata": {
        "id": "JaDXEY_GuKzd"
      }
    },
    {
      "cell_type": "markdown",
      "source": [
        "Consiste em criar observações intermediárias entre dados parecidos"
      ],
      "metadata": {
        "id": "k9Oh2dhBmdWo"
      }
    },
    {
      "cell_type": "code",
      "source": [
        "smt = SMOTE(random_state=SEED)\n",
        "X_bal, y_bal = smt.fit_resample(X_raw, y_raw)"
      ],
      "metadata": {
        "id": "RvuOFAmR42aw",
        "colab": {
          "base_uri": "https://localhost:8080/"
        },
        "outputId": "4ff219c9-e2bb-4789-ca3c-5d99105e2eca"
      },
      "execution_count": 10,
      "outputs": [
        {
          "output_type": "stream",
          "name": "stdout",
          "text": [
            "time: 700 ms (started: 2023-09-06 11:10:12 +00:00)\n"
          ]
        }
      ]
    },
    {
      "cell_type": "code",
      "source": [
        "data_bal = pd.concat([X_bal, y_bal], axis=1)"
      ],
      "metadata": {
        "id": "YoFdm3F042x5",
        "colab": {
          "base_uri": "https://localhost:8080/"
        },
        "outputId": "c5ca979c-1ca0-459d-da77-a4567f688a92"
      },
      "execution_count": 11,
      "outputs": [
        {
          "output_type": "stream",
          "name": "stdout",
          "text": [
            "time: 68.8 ms (started: 2023-09-06 11:10:13 +00:00)\n"
          ]
        }
      ]
    },
    {
      "cell_type": "code",
      "source": [
        "ax = sns.countplot(x='OBT_NEONATAL', data=data_bal)"
      ],
      "metadata": {
        "colab": {
          "base_uri": "https://localhost:8080/",
          "height": 467
        },
        "id": "WFWfOdaT5Ld5",
        "outputId": "444f2b43-5798-479d-dccb-b0c26ad511e0"
      },
      "execution_count": 12,
      "outputs": [
        {
          "output_type": "display_data",
          "data": {
            "text/plain": [
              "<Figure size 640x480 with 1 Axes>"
            ],
            "image/png": "[encoded data removed]"
          },
          "metadata": {}
        },
        {
          "output_type": "stream",
          "name": "stdout",
          "text": [
            "time: 347 ms (started: 2023-09-06 11:10:14 +00:00)\n"
          ]
        }
      ]
    },
    {
      "cell_type": "markdown",
      "source": [
        "##Dados de treino e de teste<hr style='border: 2px solid red;'>"
      ],
      "metadata": {
        "id": "0pTdw9yb3-gV"
      }
    },
    {
      "cell_type": "code",
      "source": [
        "from sklearn.model_selection import train_test_split"
      ],
      "metadata": {
        "id": "v9VTOQFs4Vhw",
        "colab": {
          "base_uri": "https://localhost:8080/"
        },
        "outputId": "cbd7b522-3286-44aa-9fb7-3c1a7d86bf08"
      },
      "execution_count": 13,
      "outputs": [
        {
          "output_type": "stream",
          "name": "stdout",
          "text": [
            "time: 515 µs (started: 2023-09-06 11:10:19 +00:00)\n"
          ]
        }
      ]
    },
    {
      "cell_type": "code",
      "source": [
        "X_treino, X_teste, y_treino, y_teste = train_test_split(X_bal, y_bal, test_size =0.3,\n",
        "                                                        random_state=SEED,\n",
        "                                                        shuffle=True,\n",
        "                                                        stratify=y_bal)\n",
        "print(\"Treinaremos com %d elementos e testaremos com %d elementos\" % (len(X_treino), len(X_teste)))\n",
        "print()"
      ],
      "metadata": {
        "colab": {
          "base_uri": "https://localhost:8080/"
        },
        "id": "OBoj3dEaFePY",
        "outputId": "5fdcb5cc-4220-4e5a-bf7d-f9d0b1aec969"
      },
      "execution_count": 14,
      "outputs": [
        {
          "output_type": "stream",
          "name": "stdout",
          "text": [
            "Treinaremos com 264068 elementos e testaremos com 113172 elementos\n",
            "\n",
            "time: 1.48 s (started: 2023-09-06 11:10:20 +00:00)\n"
          ]
        }
      ]
    },
    {
      "cell_type": "markdown",
      "source": [
        "### Métodos auxiliares"
      ],
      "metadata": {
        "id": "S__8-pZs7HAu"
      }
    },
    {
      "cell_type": "code",
      "source": [
        "def imprimir_metricas(_nome_modelo, _predito):\n",
        "  print(\"A Acurácia do modelo {} foi {:.2f}%\".format(_nome_modelo, (accuracy_score(y_teste, _predito) * 100)))\n",
        "  print(\"A Precisão do modelo {} foi {:.2f}%\".format(_nome_modelo, (precision_score(y_teste, _predito) * 100)))\n",
        "  print(\"A Recall do modelo {} foi {:.2f}%\".format(_nome_modelo, (recall_score(y_teste, _predito) * 100)))\n",
        "  print(\"A F1 do modelo {} foi {:.2f}%\".format(_nome_modelo, (f1_score(y_teste, _predito) * 100)))\n",
        "  print()"
      ],
      "metadata": {
        "id": "zhdsb2AW7KNG",
        "outputId": "e48cef8e-9313-4d4d-8c74-ca6d495b3cc4",
        "colab": {
          "base_uri": "https://localhost:8080/"
        }
      },
      "execution_count": 15,
      "outputs": [
        {
          "output_type": "stream",
          "name": "stdout",
          "text": [
            "time: 6.6 ms (started: 2023-09-06 11:10:24 +00:00)\n"
          ]
        }
      ]
    },
    {
      "cell_type": "code",
      "source": [
        "def imprime_metrica_cv(_nome_modelo, _results):\n",
        "    media = _results['test_score'].mean()\n",
        "    desvio_padrao = _results['test_score'].std()\n",
        "    ini = (media - 2 * desvio_padrao)*100\n",
        "    fim = (media + 2 * desvio_padrao) * 100\n",
        "    print(\"A Sensibilidade do modelo {} com Cross Validation foi  [{:.2f}%, {:.2f}%]\".format(_nome_modelo, ini, fim))\n",
        "    print()"
      ],
      "metadata": {
        "colab": {
          "base_uri": "https://localhost:8080/"
        },
        "id": "2q3UR7NS9yX0",
        "outputId": "24d0cd90-27fe-4224-91c3-6ed25eef2c25"
      },
      "execution_count": 16,
      "outputs": [
        {
          "output_type": "stream",
          "name": "stdout",
          "text": [
            "time: 792 µs (started: 2023-09-06 11:10:26 +00:00)\n"
          ]
        }
      ]
    },
    {
      "cell_type": "code",
      "source": [
        "  def tab_treino_teste_cv(max_depth, results):\n",
        "    train_score = results['train_score'].mean() * 100\n",
        "    test_score = results['test_score'].mean() * 100\n",
        "    tabela = [max_depth, train_score, test_score]\n",
        "    return tabela"
      ],
      "metadata": {
        "id": "XmQjNTlSkK1j",
        "outputId": "d4258814-0595-4847-fcee-b28772406231",
        "colab": {
          "base_uri": "https://localhost:8080/"
        }
      },
      "execution_count": 17,
      "outputs": [
        {
          "output_type": "stream",
          "name": "stdout",
          "text": [
            "time: 830 µs (started: 2023-09-06 11:10:28 +00:00)\n"
          ]
        }
      ]
    },
    {
      "cell_type": "markdown",
      "source": [
        "## <font style='font-size: 30px;'>Modelos Simples</font>\n",
        "<hr style='border: 2px solid red;'>"
      ],
      "metadata": {
        "id": "NrK-xUQbhbQ2"
      }
    },
    {
      "cell_type": "markdown",
      "source": [
        "### Dummy Classifier Stratified\n",
        "<hr style='border: 2px solid red;'>"
      ],
      "metadata": {
        "id": "Y9zME4Vos7Wg"
      }
    },
    {
      "cell_type": "code",
      "source": [
        "from sklearn.dummy import DummyClassifier"
      ],
      "metadata": {
        "id": "jiht0Hz-tJfR",
        "colab": {
          "base_uri": "https://localhost:8080/"
        },
        "outputId": "a87c81ba-92cd-4221-ae77-15a6d7c1a8e0"
      },
      "execution_count": 20,
      "outputs": [
        {
          "output_type": "stream",
          "name": "stdout",
          "text": [
            "time: 572 µs (started: 2023-09-05 19:05:59 +00:00)\n"
          ]
        }
      ]
    },
    {
      "cell_type": "code",
      "source": [
        "modelo_dummy_stratified = DummyClassifier(strategy='stratified')\n",
        "modelo_dummy_stratified.fit(X_treino, y_treino)\n",
        "predito_ds = modelo_dummy_stratified.predict(X_teste)\n",
        "\n",
        "imprimir_metricas('Dummy Stratified', predito_ds)\n",
        "print()"
      ],
      "metadata": {
        "id": "R8LGbTiztBKZ",
        "colab": {
          "base_uri": "https://localhost:8080/"
        },
        "outputId": "84ffda65-7086-47c6-de8a-1b47f844a0fa"
      },
      "execution_count": 21,
      "outputs": [
        {
          "output_type": "stream",
          "name": "stdout",
          "text": [
            "A Acurácia do modelo Dummy Stratified foi 49.87%\n",
            "A Precisão do modelo Dummy Stratified foi 49.87%\n",
            "A Recall do modelo Dummy Stratified foi 49.90%\n",
            "A F1 do modelo Dummy Stratified foi 49.88%\n",
            "\n",
            "\n",
            "time: 153 ms (started: 2023-09-05 19:06:01 +00:00)\n"
          ]
        }
      ]
    },
    {
      "cell_type": "markdown",
      "source": [
        "### Dummy Classifier Most Frequence\n",
        "<hr style='border: 2px solid red;'>"
      ],
      "metadata": {
        "id": "W4wGwV4K8ZNz"
      }
    },
    {
      "cell_type": "code",
      "source": [
        "modelo_dummy_mostfrequent = DummyClassifier(strategy=\"most_frequent\")\n",
        "modelo_dummy_mostfrequent.fit(X_treino, y_treino)\n",
        "predito_dmf = modelo_dummy_mostfrequent.predict(X_teste)\n",
        "\n",
        "imprimir_metricas('Dummy Most Frequent', predito_dmf)"
      ],
      "metadata": {
        "id": "ClFvCjagtGSw",
        "colab": {
          "base_uri": "https://localhost:8080/"
        },
        "outputId": "4de68de9-91f4-4515-a25e-bd3e240e9494"
      },
      "execution_count": 22,
      "outputs": [
        {
          "output_type": "stream",
          "name": "stdout",
          "text": [
            "A Acurácia do modelo Dummy Most Frequent foi 50.00%\n",
            "A Precisão do modelo Dummy Most Frequent foi 0.00%\n",
            "A Recall do modelo Dummy Most Frequent foi 0.00%\n",
            "A F1 do modelo Dummy Most Frequent foi 0.00%\n",
            "\n",
            "time: 102 ms (started: 2023-09-05 19:06:03 +00:00)\n"
          ]
        },
        {
          "output_type": "stream",
          "name": "stderr",
          "text": [
            "/usr/local/lib/python3.10/dist-packages/sklearn/metrics/_classification.py:1344: UndefinedMetricWarning: Precision is ill-defined and being set to 0.0 due to no predicted samples. Use `zero_division` parameter to control this behavior.\n",
            "  _warn_prf(average, modifier, msg_start, len(result))\n"
          ]
        }
      ]
    },
    {
      "cell_type": "markdown",
      "source": [
        "### Modelo Gradiente Descendente\n",
        "<hr style='border: 2px solid red;'>"
      ],
      "metadata": {
        "id": "LjCatLHomj2w"
      }
    },
    {
      "cell_type": "code",
      "source": [
        "from sklearn.linear_model import SGDClassifier"
      ],
      "metadata": {
        "colab": {
          "base_uri": "https://localhost:8080/"
        },
        "id": "B6smUl1moy8h",
        "outputId": "46d2ba66-309b-42c5-e96d-21c9b6317330"
      },
      "execution_count": 18,
      "outputs": [
        {
          "output_type": "stream",
          "name": "stdout",
          "text": [
            "time: 569 µs (started: 2023-09-06 11:11:06 +00:00)\n"
          ]
        }
      ]
    },
    {
      "cell_type": "code",
      "source": [
        "pip_sgd = make_pipeline(StandardScaler(),\n",
        "                        SGDClassifier(max_iter=1000, tol=1e-3, random_state=SEED))\n",
        "pip_sgd.fit(X=X_treino, y=y_treino)\n",
        "predito_sgd = pip_sgd.predict(X_teste)\n",
        "\n",
        "imprimir_metricas('SGD', predito_sgd)"
      ],
      "metadata": {
        "colab": {
          "base_uri": "https://localhost:8080/"
        },
        "id": "N5qOuefxpIj1",
        "outputId": "dfaa2de7-306a-4038-e335-c3808336af81"
      },
      "execution_count": 20,
      "outputs": [
        {
          "output_type": "stream",
          "name": "stdout",
          "text": [
            "A Acurácia do modelo SGD foi 97.23%\n",
            "A Precisão do modelo SGD foi 98.38%\n",
            "A Recall do modelo SGD foi 96.04%\n",
            "A F1 do modelo SGD foi 97.20%\n",
            "\n",
            "time: 2.31 s (started: 2023-09-06 11:13:38 +00:00)\n"
          ]
        }
      ]
    },
    {
      "cell_type": "markdown",
      "source": [
        "### Modelo SVC\n",
        "<hr style='border: 2px solid red;'>"
      ],
      "metadata": {
        "id": "qKZd1G3XgVcW"
      }
    },
    {
      "cell_type": "code",
      "source": [
        "from sklearn.svm import SVC"
      ],
      "metadata": {
        "id": "kmsmpRScgmKv",
        "colab": {
          "base_uri": "https://localhost:8080/"
        },
        "outputId": "ad95ce77-0b20-41e8-e803-b90219700fd2"
      },
      "execution_count": 25,
      "outputs": [
        {
          "output_type": "stream",
          "name": "stdout",
          "text": [
            "time: 505 µs (started: 2023-09-05 19:06:13 +00:00)\n"
          ]
        }
      ]
    },
    {
      "cell_type": "code",
      "source": [
        "modelo_svc = make_pipeline(StandardScaler(), SVC(gamma='auto', random_state = SEED))\n",
        "modelo_svc.fit(X_treino, y_treino)\n",
        "predito_svc = modelo_svc.predict(X_teste)\n",
        "\n",
        "imprimir_metricas('SVC', predito_svc)"
      ],
      "metadata": {
        "id": "VUCdSZaAgXGH",
        "colab": {
          "base_uri": "https://localhost:8080/"
        },
        "outputId": "cedd0764-6906-43ac-cbce-4faa5616d340"
      },
      "execution_count": 26,
      "outputs": [
        {
          "output_type": "stream",
          "name": "stdout",
          "text": [
            "A Acurácia do modelo SVC foi 97.88%\n",
            "A Precisão do modelo SVC foi 98.70%\n",
            "A Recall do modelo SVC foi 97.04%\n",
            "A F1 do modelo SVC foi 97.87%\n",
            "\n",
            "time: 11min 8s (started: 2023-09-05 19:06:15 +00:00)\n"
          ]
        }
      ]
    },
    {
      "cell_type": "markdown",
      "source": [
        "### KNN</font>\n",
        "<hr style='border: 2px solid red;'>"
      ],
      "metadata": {
        "id": "YaHQGaWXIJpi"
      }
    },
    {
      "cell_type": "markdown",
      "source": [
        "https://scikit-learn.org/stable/modules/generated/sklearn.neighbors.KNeighborsClassifier.html\n",
        "\n",
        "https://scikit-learn.org/stable/modules/generated/sklearn.metrics.DistanceMetric.html#sklearn.metrics.DistanceMetric"
      ],
      "metadata": {
        "id": "AvXA7blNLncu"
      }
    },
    {
      "cell_type": "markdown",
      "source": [
        "<font color=\"red\">*Dados categóricos???*</font>"
      ],
      "metadata": {
        "id": "55_fTRVOi1UV"
      }
    },
    {
      "cell_type": "code",
      "source": [
        "from sklearn.neighbors import KNeighborsClassifier"
      ],
      "metadata": {
        "id": "Zo8cPJgLIZyz",
        "colab": {
          "base_uri": "https://localhost:8080/"
        },
        "outputId": "fe762858-4d54-45d7-9698-5467c0e4f360"
      },
      "execution_count": 25,
      "outputs": [
        {
          "output_type": "stream",
          "name": "stdout",
          "text": [
            "time: 508 µs (started: 2023-09-06 11:29:51 +00:00)\n"
          ]
        }
      ]
    },
    {
      "cell_type": "code",
      "source": [
        "modelo_knn_euc = make_pipeline(StandardScaler(), KNeighborsClassifier(metric='euclidean'))\n",
        "modelo_knn_euc.fit(X_treino, y_treino)\n",
        "predito_knn_euc = modelo_knn_euc.predict(X_teste)\n",
        "\n",
        "imprimir_metricas('KNN Euclidean', predito_knn_euc)"
      ],
      "metadata": {
        "id": "eGzzEYTMINB7",
        "colab": {
          "base_uri": "https://localhost:8080/"
        },
        "outputId": "ec52a3d3-5cbd-40cf-ac48-45e928f3db4a"
      },
      "execution_count": 28,
      "outputs": [
        {
          "output_type": "stream",
          "name": "stdout",
          "text": [
            "A Acurácia do modelo KNN Euclidean foi 99.30%\n",
            "A Precisão do modelo KNN Euclidean foi 98.89%\n",
            "A Recall do modelo KNN Euclidean foi 99.72%\n",
            "A F1 do modelo KNN Euclidean foi 99.30%\n",
            "\n",
            "time: 1min 54s (started: 2023-09-05 19:18:59 +00:00)\n"
          ]
        }
      ]
    },
    {
      "cell_type": "code",
      "source": [
        "modelo_knn_man = make_pipeline(StandardScaler(), KNeighborsClassifier(metric='manhattan'))\n",
        "modelo_knn_man.fit(X_treino, y_treino)\n",
        "predito_knn_man = modelo_knn_man.predict(X_teste)\n",
        "\n",
        "imprimir_metricas('KNN Manhattan', predito_knn_man)"
      ],
      "metadata": {
        "id": "4MkMrbhWL4l7",
        "colab": {
          "base_uri": "https://localhost:8080/"
        },
        "outputId": "4b2bc7ec-0779-4b00-8b8a-72e80464ae2f"
      },
      "execution_count": 29,
      "outputs": [
        {
          "output_type": "stream",
          "name": "stdout",
          "text": [
            "A Acurácia do modelo KNN Manhattan foi 99.52%\n",
            "A Precisão do modelo KNN Manhattan foi 99.30%\n",
            "A Recall do modelo KNN Manhattan foi 99.75%\n",
            "A F1 do modelo KNN Manhattan foi 99.52%\n",
            "\n",
            "time: 13min 2s (started: 2023-09-05 19:20:54 +00:00)\n"
          ]
        }
      ]
    },
    {
      "cell_type": "code",
      "source": [
        "modelo_knn_mi = make_pipeline(StandardScaler(), KNeighborsClassifier(metric='minkowski'))\n",
        "modelo_knn_mi.fit(X_treino, y_treino)\n",
        "predito_knn_mi = modelo_knn_mi.predict(X_teste)\n",
        "\n",
        "imprimir_metricas('KNN Minkowski', predito_knn_mi)"
      ],
      "metadata": {
        "id": "rwQSboHTND5D",
        "colab": {
          "base_uri": "https://localhost:8080/"
        },
        "outputId": "69c31275-8082-484e-928a-22284adda6d4"
      },
      "execution_count": 30,
      "outputs": [
        {
          "output_type": "stream",
          "name": "stdout",
          "text": [
            "A Acurácia do modelo KNN Minkowski foi 99.30%\n",
            "A Precisão do modelo KNN Minkowski foi 98.89%\n",
            "A Recall do modelo KNN Minkowski foi 99.72%\n",
            "A F1 do modelo KNN Minkowski foi 99.30%\n",
            "\n",
            "time: 2min 13s (started: 2023-09-05 19:33:57 +00:00)\n"
          ]
        }
      ]
    },
    {
      "cell_type": "code",
      "source": [
        "modelo_knn_ch = make_pipeline(StandardScaler(), KNeighborsClassifier(metric='chebyshev'))\n",
        "modelo_knn_ch.fit(X_treino, y_treino)\n",
        "predito_knn_ch = modelo_knn_ch.predict(X_teste)\n",
        "\n",
        "imprimir_metricas('KNN Chebyshev', predito_knn_ch)"
      ],
      "metadata": {
        "id": "DKsEsJAQOWZX",
        "colab": {
          "base_uri": "https://localhost:8080/"
        },
        "outputId": "2e6906b7-6c37-416a-9e06-3528b818826d"
      },
      "execution_count": 31,
      "outputs": [
        {
          "output_type": "stream",
          "name": "stdout",
          "text": [
            "A Acurácia do modelo KNN Chebyshev foi 98.98%\n",
            "A Precisão do modelo KNN Chebyshev foi 98.32%\n",
            "A Recall do modelo KNN Chebyshev foi 99.66%\n",
            "A F1 do modelo KNN Chebyshev foi 98.99%\n",
            "\n",
            "time: 8min 52s (started: 2023-09-05 19:36:10 +00:00)\n"
          ]
        }
      ]
    },
    {
      "cell_type": "markdown",
      "source": [
        "### Árvore de decisão\n",
        "<hr style='border: 2px solid red;'>"
      ],
      "metadata": {
        "id": "yyMGto08trIA"
      }
    },
    {
      "cell_type": "markdown",
      "source": [
        "<font color=\"red\">*Definir profundidade*</font>"
      ],
      "metadata": {
        "id": "4lBz2WzCi9sP"
      }
    },
    {
      "cell_type": "code",
      "source": [
        "from sklearn.tree import DecisionTreeClassifier"
      ],
      "metadata": {
        "id": "7a2f9FyLzFwJ",
        "colab": {
          "base_uri": "https://localhost:8080/"
        },
        "outputId": "1c95f84f-001a-4476-fad2-31601f3358bc"
      },
      "execution_count": 32,
      "outputs": [
        {
          "output_type": "stream",
          "name": "stdout",
          "text": [
            "time: 534 µs (started: 2023-09-05 19:47:25 +00:00)\n"
          ]
        }
      ]
    },
    {
      "cell_type": "code",
      "source": [
        "modelo_dtc = make_pipeline(DecisionTreeClassifier())\n",
        "modelo_dtc.fit(X_treino, y_treino)\n",
        "predito_dtc = modelo_dtc.predict(X_teste)\n",
        "\n",
        "imprimir_metricas('Decision Tree', predito_dtc)"
      ],
      "metadata": {
        "id": "mOQkXElJtvl4",
        "colab": {
          "base_uri": "https://localhost:8080/"
        },
        "outputId": "330a5a7f-831d-43a7-9f8d-21dfe3d9422f"
      },
      "execution_count": 33,
      "outputs": [
        {
          "output_type": "stream",
          "name": "stdout",
          "text": [
            "A Acurácia do modelo Decision Tree foi 99.49%\n",
            "A Precisão do modelo Decision Tree foi 99.41%\n",
            "A Recall do modelo Decision Tree foi 99.57%\n",
            "A F1 do modelo Decision Tree foi 99.49%\n",
            "\n",
            "time: 4.41 s (started: 2023-09-05 19:47:27 +00:00)\n"
          ]
        }
      ]
    },
    {
      "cell_type": "markdown",
      "source": [
        "### <font style='font-size: 30px;'>Random Forest</font>\n",
        "<hr style='border: 2px solid red;'>"
      ],
      "metadata": {
        "id": "XJUFSGynDjxF"
      }
    },
    {
      "cell_type": "code",
      "source": [
        "from sklearn.ensemble import RandomForestClassifier"
      ],
      "metadata": {
        "id": "plwEWsr5Dnts",
        "colab": {
          "base_uri": "https://localhost:8080/"
        },
        "outputId": "74e092f6-e0e5-4ac5-ea3e-86634ed1ddbf"
      },
      "execution_count": 34,
      "outputs": [
        {
          "output_type": "stream",
          "name": "stdout",
          "text": [
            "time: 539 µs (started: 2023-09-05 19:47:31 +00:00)\n"
          ]
        }
      ]
    },
    {
      "cell_type": "code",
      "source": [
        "modelo_rfc = make_pipeline(RandomForestClassifier(n_estimators = 100))\n",
        "modelo_rfc.fit(X_treino, y_treino)\n",
        "predito_rfc = modelo_rfc.predict(X_teste)\n",
        "\n",
        "imprimir_metricas('Random Forest', predito_rfc)\n",
        "print()"
      ],
      "metadata": {
        "id": "h9CkJBzHDnwh",
        "colab": {
          "base_uri": "https://localhost:8080/"
        },
        "outputId": "69d0c588-d399-4179-b145-818e67d7dee4"
      },
      "execution_count": 35,
      "outputs": [
        {
          "output_type": "stream",
          "name": "stdout",
          "text": [
            "A Acurácia do modelo Random Forest foi 99.73%\n",
            "A Precisão do modelo Random Forest foi 99.81%\n",
            "A Recall do modelo Random Forest foi 99.65%\n",
            "A F1 do modelo Random Forest foi 99.73%\n",
            "\n",
            "\n",
            "time: 42.4 s (started: 2023-09-05 19:47:31 +00:00)\n"
          ]
        }
      ]
    },
    {
      "cell_type": "markdown",
      "source": [
        "## Modelos Cross Validate"
      ],
      "metadata": {
        "id": "xNa0H9Qwh9pJ"
      }
    },
    {
      "cell_type": "code",
      "source": [
        "from sklearn.model_selection import cross_validate\n",
        "from sklearn.model_selection import cross_val_predict\n",
        "\n",
        "from sklearn.model_selection import StratifiedKFold\n",
        "\n",
        "from sklearn import metrics"
      ],
      "metadata": {
        "colab": {
          "base_uri": "https://localhost:8080/"
        },
        "id": "kNTdslZv_XPg",
        "outputId": "720e5dc3-a3e0-462a-92d4-d60780079cd6"
      },
      "execution_count": 31,
      "outputs": [
        {
          "output_type": "stream",
          "name": "stdout",
          "text": [
            "time: 918 µs (started: 2023-09-06 12:05:40 +00:00)\n"
          ]
        }
      ]
    },
    {
      "cell_type": "markdown",
      "source": [
        "### SGD Cross Validate\n",
        "<hr style='border: 2px solid red;'>"
      ],
      "metadata": {
        "id": "-bX87b8SMb9m"
      }
    },
    {
      "cell_type": "code",
      "source": [
        "cv = StratifiedKFold(n_splits = 10, shuffle=True)\n",
        "pip_sgd = make_pipeline(StandardScaler(),\n",
        "                        SGDClassifier(max_iter=1000, tol=1e-3, random_state=SEED))\n",
        "results = cross_validate(pip_sgd, X_treino, y_treino, cv = cv, scoring='recall',return_train_score=False)\n",
        "\n",
        "imprime_metrica_cv('Gradiente Descendente', results)"
      ],
      "metadata": {
        "colab": {
          "base_uri": "https://localhost:8080/"
        },
        "id": "XTQtZtNGMhBW",
        "outputId": "cd92a5c5-0820-4df1-9b08-37d44ae505ce"
      },
      "execution_count": 38,
      "outputs": [
        {
          "output_type": "stream",
          "name": "stdout",
          "text": [
            "A Sensibilidade do modelo Gradiente Descendente com Cross Validation foi  [95.48%, 96.25%]\n",
            "\n",
            "time: 8.44 s (started: 2023-09-06 12:36:12 +00:00)\n"
          ]
        }
      ]
    },
    {
      "cell_type": "code",
      "source": [
        "y_treino_predit = cross_val_predict(pip_sgd, X_treino, y_treino, cv = cv)\n",
        "ax = sns.heatmap(data=metrics.confusion_matrix(y_treino, y_treino_predit), annot = True, fmt = \"d\")\n",
        "ax.set(xlabel = \"Predição\", ylabel = \"Real\")\n",
        "ax.set(title='Confusion Matrix')"
      ],
      "metadata": {
        "id": "fz4pZTzQfcNG",
        "outputId": "7f58feee-07ae-4098-e4dd-43ac004582b4",
        "colab": {
          "base_uri": "https://localhost:8080/",
          "height": 508
        }
      },
      "execution_count": 48,
      "outputs": [
        {
          "output_type": "execute_result",
          "data": {
            "text/plain": [
              "[Text(0.5, 1.0, 'Confusion Matrix')]"
            ]
          },
          "metadata": {},
          "execution_count": 48
        },
        {
          "output_type": "display_data",
          "data": {
            "text/plain": [
              "<Figure size 640x480 with 2 Axes>"
            ],
            "image/png": "[encoded data removed]"
          },
          "metadata": {}
        },
        {
          "output_type": "stream",
          "name": "stdout",
          "text": [
            "time: 7.25 s (started: 2023-09-06 12:46:10 +00:00)\n"
          ]
        }
      ]
    },
    {
      "cell_type": "markdown",
      "source": [
        "### KNN Cross Validate\n",
        "<hr style='border: 2px solid red;'>"
      ],
      "metadata": {
        "id": "KIpNdKZPP6fT"
      }
    },
    {
      "cell_type": "code",
      "source": [
        "cv = StratifiedKFold(n_splits = 10, shuffle=True)\n",
        "pip_knn = make_pipeline(StandardScaler(),\n",
        "                        KNeighborsClassifier(metric='euclidean'))\n",
        "results = cross_validate(pip_knn, X_treino, y_treino, cv = cv, scoring='recall',return_train_score=False)\n",
        "\n",
        "imprime_metrica_cv('KNN', results)"
      ],
      "metadata": {
        "colab": {
          "base_uri": "https://localhost:8080/"
        },
        "id": "NVAIBahgP8-Q",
        "outputId": "b2e83efc-7cbb-4dbb-8d38-7c7fefbc6531"
      },
      "execution_count": 26,
      "outputs": [
        {
          "output_type": "stream",
          "name": "stdout",
          "text": [
            "A Sensibilidade do modelo KNN com Cross Validation foi  [99.61%, 99.80%]\n",
            "\n",
            "time: 6min 19s (started: 2023-09-06 11:29:58 +00:00)\n"
          ]
        }
      ]
    },
    {
      "cell_type": "code",
      "source": [
        "y_treino_predit = cross_val_predict(pip_knn, X_treino, y_treino, cv = cv)\n",
        "ax = sns.heatmap(data=metrics.confusion_matrix(y_treino, y_treino_predit), annot = True, fmt = \"d\")\n",
        "ax.set(xlabel = \"Predição\", ylabel = \"Real\")\n",
        "ax.set(title='Confusion Matrix')"
      ],
      "metadata": {
        "id": "cQYVdw18h5g_",
        "outputId": "cfa4a9e1-6893-4796-c86d-2288de8cd3c2",
        "colab": {
          "base_uri": "https://localhost:8080/",
          "height": 508
        }
      },
      "execution_count": 49,
      "outputs": [
        {
          "output_type": "execute_result",
          "data": {
            "text/plain": [
              "[Text(0.5, 1.0, 'Confusion Matrix')]"
            ]
          },
          "metadata": {},
          "execution_count": 49
        },
        {
          "output_type": "display_data",
          "data": {
            "text/plain": [
              "<Figure size 640x480 with 2 Axes>"
            ],
            "image/png": "[encoded data removed]"
          },
          "metadata": {}
        },
        {
          "output_type": "stream",
          "name": "stdout",
          "text": [
            "time: 6min 20s (started: 2023-09-06 12:46:46 +00:00)\n"
          ]
        }
      ]
    },
    {
      "cell_type": "markdown",
      "source": [
        "### Árvore de Decisão Cross Validate\n",
        "<hr style='border: 2px solid red;'>"
      ],
      "metadata": {
        "id": "hOKUnrH3_dpi"
      }
    },
    {
      "cell_type": "code",
      "source": [
        "from sklearn.tree import DecisionTreeClassifier"
      ],
      "metadata": {
        "id": "1mwwnwODlejm",
        "outputId": "62fea2e7-92df-4e50-dfd6-7d848da05572",
        "colab": {
          "base_uri": "https://localhost:8080/"
        }
      },
      "execution_count": 52,
      "outputs": [
        {
          "output_type": "stream",
          "name": "stdout",
          "text": [
            "time: 630 µs (started: 2023-09-06 13:02:06 +00:00)\n"
          ]
        }
      ]
    },
    {
      "cell_type": "code",
      "source": [
        "cv = StratifiedKFold(n_splits = 10, shuffle=True)\n",
        "modelo_dtc_cv = DecisionTreeClassifier()\n",
        "results = cross_validate(modelo_dtc_cv, X_treino, y_treino, cv = cv, scoring='recall',return_train_score=False)\n",
        "\n",
        "imprime_metrica_cv('Decision Tree', results)"
      ],
      "metadata": {
        "id": "FpzIBs8EoBvz",
        "outputId": "2722f732-3461-4e4f-905d-5bf4cb8a00dc",
        "colab": {
          "base_uri": "https://localhost:8080/"
        }
      },
      "execution_count": 53,
      "outputs": [
        {
          "output_type": "stream",
          "name": "stdout",
          "text": [
            "A Sensibilidade do modelo Decision Tree com Cross Validation foi  [99.46%, 99.70%]\n",
            "\n",
            "time: 28 s (started: 2023-09-06 13:02:09 +00:00)\n"
          ]
        }
      ]
    },
    {
      "cell_type": "code",
      "source": [
        "y_treino_predit = cross_val_predict(modelo_dtc_cv, X_treino, y_treino, cv = cv)\n",
        "ax = sns.heatmap(data=metrics.confusion_matrix(y_treino, y_treino_predit), annot = True, fmt = \"d\")\n",
        "ax.set(xlabel = \"Predição\", ylabel = \"Real\")\n",
        "ax.set(title='Confusion Matrix')"
      ],
      "metadata": {
        "id": "HZu9HHDIk16r",
        "outputId": "105577ef-0f69-4d29-f5e3-fa6f8c28775b",
        "colab": {
          "base_uri": "https://localhost:8080/",
          "height": 508
        }
      },
      "execution_count": 54,
      "outputs": [
        {
          "output_type": "execute_result",
          "data": {
            "text/plain": [
              "[Text(0.5, 1.0, 'Confusion Matrix')]"
            ]
          },
          "metadata": {},
          "execution_count": 54
        },
        {
          "output_type": "display_data",
          "data": {
            "text/plain": [
              "<Figure size 640x480 with 2 Axes>"
            ],
            "image/png": "[encoded data removed]"
          },
          "metadata": {}
        },
        {
          "output_type": "stream",
          "name": "stdout",
          "text": [
            "time: 25.4 s (started: 2023-09-06 13:02:47 +00:00)\n"
          ]
        }
      ]
    },
    {
      "cell_type": "markdown",
      "source": [
        "### <font style='font-size: 30px;'>Random Forest Cross Validate</font>\n",
        "<hr style='border: 2px solid red;'>"
      ],
      "metadata": {
        "id": "TwtQ4zkfEcDB"
      }
    },
    {
      "cell_type": "code",
      "source": [
        "from sklearn.ensemble import RandomForestClassifier"
      ],
      "metadata": {
        "id": "SHq7Cgq0l9J8",
        "outputId": "bbf54e4d-b733-40d8-a0f9-8d9669ab551d",
        "colab": {
          "base_uri": "https://localhost:8080/"
        }
      },
      "execution_count": 58,
      "outputs": [
        {
          "output_type": "stream",
          "name": "stdout",
          "text": [
            "time: 511 µs (started: 2023-09-06 13:04:55 +00:00)\n"
          ]
        }
      ]
    },
    {
      "cell_type": "code",
      "source": [
        "cv_rf = StratifiedKFold(n_splits = 10, shuffle=True)\n",
        "modelo_rf_cv = RandomForestClassifier(n_estimators = 100)\n",
        "results = cross_validate(modelo_rf_cv, X_treino, y_treino, cv = cv_rf, scoring='recall', return_train_score=False)\n",
        "\n",
        "imprime_metrica_cv('Random Forest', results)"
      ],
      "metadata": {
        "colab": {
          "base_uri": "https://localhost:8080/"
        },
        "id": "oavfoDfoEgog",
        "outputId": "e0461dc5-4cc4-431c-8f10-b32ef4ac214f"
      },
      "execution_count": 59,
      "outputs": [
        {
          "output_type": "stream",
          "name": "stdout",
          "text": [
            "A Sensibilidade do modelo Random Forest com Cross Validation foi  [99.56%, 99.78%]\n",
            "\n",
            "time: 6min 9s (started: 2023-09-06 13:04:58 +00:00)\n"
          ]
        }
      ]
    },
    {
      "cell_type": "code",
      "source": [
        "y_treino_predit = cross_val_predict(modelo_rf_cv, X_treino, y_treino, cv = cv)\n",
        "ax = sns.heatmap(data=metrics.confusion_matrix(y_treino, y_treino_predit), annot = True, fmt = \"d\")\n",
        "ax.set(xlabel = \"Predição\", ylabel = \"Real\")\n",
        "ax.set(title='Confusion Matrix')"
      ],
      "metadata": {
        "id": "WneU4XFpl2DU",
        "outputId": "35c0484f-8749-483c-f1ae-45bd75305695",
        "colab": {
          "base_uri": "https://localhost:8080/",
          "height": 508
        }
      },
      "execution_count": 60,
      "outputs": [
        {
          "output_type": "execute_result",
          "data": {
            "text/plain": [
              "[Text(0.5, 1.0, 'Confusion Matrix')]"
            ]
          },
          "metadata": {},
          "execution_count": 60
        },
        {
          "output_type": "display_data",
          "data": {
            "text/plain": [
              "<Figure size 640x480 with 2 Axes>"
            ],
            "image/png": "[encoded data removed]"
          },
          "metadata": {}
        },
        {
          "output_type": "stream",
          "name": "stdout",
          "text": [
            "time: 6min 6s (started: 2023-09-06 13:11:08 +00:00)\n"
          ]
        }
      ]
    },
    {
      "cell_type": "markdown",
      "source": [
        "## Modelos Hiper Parâmetros"
      ],
      "metadata": {
        "id": "WLzmdyadLA9e"
      }
    },
    {
      "cell_type": "markdown",
      "source": [
        "### <font style='font-size: 30px;'>Árvore de Decisão Cross Validate Max-depht</font>\n",
        "<hr style='border: 2px solid red;'>"
      ],
      "metadata": {
        "id": "CRH4WzyXlm5y"
      }
    },
    {
      "cell_type": "code",
      "source": [
        "def rodar_arvore_decisao(max_depth):\n",
        "  cv = StratifiedKFold(n_splits = 10, shuffle=True)\n",
        "  modelo_dtc_cv = DecisionTreeClassifier(max_depth=max_depth)\n",
        "  results = cross_validate(modelo_dtc_cv, X_treino, y_treino, cv = cv, scoring='recall', return_train_score=True)\n",
        "\n",
        "  return tab_treino_teste_cv(max_depth, results)"
      ],
      "metadata": {
        "colab": {
          "base_uri": "https://localhost:8080/"
        },
        "id": "sHrwx1s8-0dl",
        "outputId": "17fc98be-536c-41cc-968e-ca77dc0c719f"
      },
      "execution_count": 47,
      "outputs": [
        {
          "output_type": "stream",
          "name": "stdout",
          "text": [
            "time: 932 µs (started: 2023-09-05 20:09:52 +00:00)\n"
          ]
        }
      ]
    },
    {
      "cell_type": "code",
      "source": [
        "resultados = [rodar_arvore_decisao(i) for i in range (1, 24)]\n",
        "resultados = pd.DataFrame(resultados, columns = [\"max_depth\", \"train\", \"test\"])"
      ],
      "metadata": {
        "id": "hkMC4jXrnCTX",
        "outputId": "5603b838-e9bc-4180-be7c-3722a87fe653",
        "colab": {
          "base_uri": "https://localhost:8080/"
        }
      },
      "execution_count": 48,
      "outputs": [
        {
          "output_type": "stream",
          "name": "stdout",
          "text": [
            "time: 7min 1s (started: 2023-09-05 20:09:55 +00:00)\n"
          ]
        }
      ]
    },
    {
      "cell_type": "code",
      "source": [
        "sns.lineplot(x = \"max_depth\", y = \"train\", data = resultados)\n",
        "sns.lineplot(x = \"max_depth\", y = \"test\", data = resultados)\n",
        "plt.legend([\"train\", \"test\"])"
      ],
      "metadata": {
        "id": "ykhr-6k8rfgY",
        "outputId": "ed34f1fe-2583-4a2b-cfef-041372bc06bd",
        "colab": {
          "base_uri": "https://localhost:8080/",
          "height": 486
        }
      },
      "execution_count": 49,
      "outputs": [
        {
          "output_type": "execute_result",
          "data": {
            "text/plain": [
              "<matplotlib.legend.Legend at 0x780bc1841750>"
            ]
          },
          "metadata": {},
          "execution_count": 49
        },
        {
          "output_type": "display_data",
          "data": {
            "text/plain": [
              "<Figure size 640x480 with 1 Axes>"
            ],
            "image/png": "[encoded data removed]"
          },
          "metadata": {}
        },
        {
          "output_type": "stream",
          "name": "stdout",
          "text": [
            "time: 251 ms (started: 2023-09-05 20:16:57 +00:00)\n"
          ]
        }
      ]
    },
    {
      "cell_type": "markdown",
      "source": [
        "<font color=\"red\">*Definir estimadores*</font>"
      ],
      "metadata": {
        "id": "Did7j6vzjCw9"
      }
    },
    {
      "cell_type": "markdown",
      "source": [
        "### <font style='font-size: 30px;'>Random Forest Max deph</font>\n",
        "<hr style='border: 2px solid red;'>"
      ],
      "metadata": {
        "id": "_RxhihFbwyCu"
      }
    },
    {
      "cell_type": "code",
      "source": [
        "def rodar_random_forest(max_depth):\n",
        "  cv = StratifiedKFold(n_splits = 10, shuffle=True)\n",
        "  modelo_rf_cv = RandomForestClassifier(n_estimators = 100, max_depth=max_depth)\n",
        "  results = cross_validate(modelo_rf_cv, X_treino, y_treino, cv = cv, scoring='recall', return_train_score=True)\n",
        "\n",
        "  return tab_treino_teste_cv(max_depth, results)"
      ],
      "metadata": {
        "id": "0pM1_1I1wwH6",
        "outputId": "d4a7520e-f4fb-445d-800b-2be7338db87b",
        "colab": {
          "base_uri": "https://localhost:8080/"
        }
      },
      "execution_count": 51,
      "outputs": [
        {
          "output_type": "stream",
          "name": "stdout",
          "text": [
            "time: 741 µs (started: 2023-09-05 20:22:28 +00:00)\n"
          ]
        }
      ]
    },
    {
      "cell_type": "code",
      "source": [
        "resultados = [rodar_random_forest(i) for i in range (1, 24)]\n",
        "resultados = pd.DataFrame(resultados, columns = [\"max_depth\", \"train\", \"test\"])"
      ],
      "metadata": {
        "id": "PAfiD1PmxVo5",
        "outputId": "4487e248-2989-4341-a7c3-e14f9b50ded6",
        "colab": {
          "base_uri": "https://localhost:8080/"
        }
      },
      "execution_count": 52,
      "outputs": [
        {
          "output_type": "stream",
          "name": "stdout",
          "text": [
            "time: 1h 46min 37s (started: 2023-09-05 20:22:28 +00:00)\n"
          ]
        }
      ]
    },
    {
      "cell_type": "code",
      "source": [
        "sns.lineplot(x = \"max_depth\", y = \"train\", data = resultados)\n",
        "sns.lineplot(x = \"max_depth\", y = \"test\", data = resultados)\n",
        "plt.legend([\"train\", \"test\"])"
      ],
      "metadata": {
        "id": "Br4LngntQh0U",
        "outputId": "9bfe5f6a-1601-451c-a4e0-1e59b5e98b7c",
        "colab": {
          "base_uri": "https://localhost:8080/",
          "height": 486
        }
      },
      "execution_count": 53,
      "outputs": [
        {
          "output_type": "execute_result",
          "data": {
            "text/plain": [
              "<matplotlib.legend.Legend at 0x780bc1b2e380>"
            ]
          },
          "metadata": {},
          "execution_count": 53
        },
        {
          "output_type": "display_data",
          "data": {
            "text/plain": [
              "<Figure size 640x480 with 1 Axes>"
            ],
            "image/png": "[encoded data removed]"
          },
          "metadata": {}
        },
        {
          "output_type": "stream",
          "name": "stdout",
          "text": [
            "time: 322 ms (started: 2023-09-05 22:09:05 +00:00)\n"
          ]
        }
      ]
    },
    {
      "cell_type": "markdown",
      "source": [
        "## Escolhendo o melhor modelo<hr style='border: 2px solid red;'>"
      ],
      "metadata": {
        "id": "_aQBxzNmCrU6"
      }
    },
    {
      "cell_type": "markdown",
      "source": [
        "**Métrica escolhida:**\n",
        "\n",
        "**Random Forest**\n",
        "\n",
        "Acurácia: 99.74%\n",
        "\n",
        "Precisão: 99.81%\n",
        "\n",
        "Recall: 99.67% < knn\n",
        "\n",
        "F1: 99.74%"
      ],
      "metadata": {
        "id": "HVfW-VdCuS9J"
      }
    },
    {
      "cell_type": "code",
      "source": [],
      "metadata": {
        "id": "OLGYwCDPhNvC",
        "colab": {
          "base_uri": "https://localhost:8080/"
        },
        "outputId": "08b5628f-4799-441a-e5f8-eacd0d2beacd"
      },
      "execution_count": 53,
      "outputs": [
        {
          "output_type": "stream",
          "name": "stdout",
          "text": [
            "time: 2.38 s (started: 2023-09-05 17:49:23 +00:00)\n"
          ]
        }
      ]
    }
  ]
}